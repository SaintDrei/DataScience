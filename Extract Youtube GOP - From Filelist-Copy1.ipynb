{
 "cells": [
  {
   "cell_type": "code",
   "execution_count": 1,
   "metadata": {},
   "outputs": [
    {
     "data": {
      "text/plain": [
       "131072"
      ]
     },
     "execution_count": 1,
     "metadata": {},
     "output_type": "execute_result"
    }
   ],
   "source": [
    "from selenium import webdriver\n",
    "from selenium.webdriver.common.by import By\n",
    "from selenium.webdriver.support.ui import WebDriverWait\n",
    "from selenium.webdriver.support import expected_conditions as EC\n",
    "from selenium.webdriver.common.keys import Keys\n",
    "from selenium.webdriver.support.ui import Select\n",
    "from selenium.webdriver.common.action_chains import ActionChains\n",
    "import requests, re, json ,pprint\n",
    "from bs4 import BeautifulSoup\n",
    "import pandas as pd\n",
    "import urllib\n",
    "import urllib.request\n",
    "from selenium.webdriver.common.keys import Keys\n",
    "from IPython.display import Image\n",
    "from urllib.parse import urlparse\n",
    "from time import sleep\n",
    "import datetime\n",
    "import pytz # new import\n",
    "new_timezone = pytz.timezone(\"US/Eastern\")\n",
    "import spacy\n",
    "import en_core_web_sm\n",
    "import en_core_web_lg\n",
    "import en_vectors_web_lg\n",
    "import en_core_web_md\n",
    "import csv\n",
    "from dateparser.search import search_dates\n",
    "import arrow\n",
    "import datetime\n",
    "from selenium.webdriver.support import expected_conditions as EC\n",
    "import numpy as np\n",
    "import sys\n",
    "csv.field_size_limit(sys.maxsize)"
   ]
  },
  {
   "cell_type": "code",
   "execution_count": 2,
   "metadata": {},
   "outputs": [],
   "source": [
    "driver_path='./chromedriver'\n",
    "options = webdriver.ChromeOptions()\n",
    "options.add_argument('headless')   \n",
    "driver = webdriver.Chrome(driver_path,options=options)\n",
    "# driver = webdriver.Chrome('./chromedriver')\n",
    "driver.implicitly_wait(10)"
   ]
  },
  {
   "cell_type": "code",
   "execution_count": 3,
   "metadata": {},
   "outputs": [],
   "source": [
    "def reload_test_site():\n",
    "    my_url = 'https://www.youtube.com/watch?v=A1tqTQkC36A&amp;lc=Ugw0nq07e-G5JyUsl094AaABAg'\n",
    "    driver.get(my_url)\n",
    "    sleep(1)"
   ]
  },
  {
   "cell_type": "code",
   "execution_count": 4,
   "metadata": {},
   "outputs": [],
   "source": [
    "def get_driver(driver,my_url):\n",
    "#     my_url = 'https://www.youtube.com/watch?v=A1tqTQkC36A&amp;lc=Ugw0nq07e-G5JyUsl094AaABAg'\n",
    "    driver.get(my_url)\n",
    "    return driver\n",
    "#     sleep(1)"
   ]
  },
  {
   "cell_type": "markdown",
   "metadata": {
    "collapsed": true
   },
   "source": [
    "## Define User ID"
   ]
  },
  {
   "cell_type": "code",
   "execution_count": 5,
   "metadata": {},
   "outputs": [],
   "source": [
    "def extract_transcript(driver):\n",
    "    sleep(2)\n",
    "    driver.implicitly_wait(10)\n",
    "    test = driver.find_element_by_xpath(\"//button[@aria-label='More actions']\");\n",
    "    test.click()\n",
    "    driver.implicitly_wait(10)\n",
    "    test_out = driver.find_element_by_xpath('//yt-formatted-string[text() =\"Open transcript\"]')\n",
    "    test_out.click()\n",
    "    driver.implicitly_wait(10)\n",
    "    test_out = driver.find_element_by_xpath('//div[@id=\"body\"]/ytd-transcript-body-renderer')\n",
    "    test_body = test_out.text.encode('utf-8')    \n",
    "    \n",
    "    return test_body.decode('utf-8','ignore')"
   ]
  },
  {
   "cell_type": "markdown",
   "metadata": {},
   "source": [
    "## Extract from List of Videos"
   ]
  },
  {
   "cell_type": "code",
   "execution_count": 20,
   "metadata": {},
   "outputs": [
    {
     "name": "stdout",
     "output_type": "stream",
     "text": [
      "Copying gs://ytscrape/batch21_taylor.csv...\n",
      "| [1 files][113.8 MiB/113.8 MiB]                                                \n",
      "Operation completed over 1 objects/113.8 MiB.                                    \n",
      "Copying gs://yttranscript/transcript_batch21_taylor.csv...\n",
      "- [1 files][133.8 KiB/133.8 KiB]                                                \n",
      "Operation completed over 1 objects/133.8 KiB.                                    \n"
     ]
    }
   ],
   "source": [
    "#get file from cloud, skip if not necessary\n",
    "!gsutil cp gs://ytscrape/$csv_input ./\n",
    "!gsutil cp gs://yttranscript/$csv_output ./"
   ]
  },
  {
   "cell_type": "code",
   "execution_count": 92,
   "metadata": {},
   "outputs": [],
   "source": [
    "#define filename\n",
    "csv_input = 'tryguys_underwear.csv'\n",
    "csv_output = 'transcript_' + csv_input"
   ]
  },
  {
   "cell_type": "code",
   "execution_count": 93,
   "metadata": {},
   "outputs": [
    {
     "name": "stdout",
     "output_type": "stream",
     "text": [
      "tryguys_surgery.csv\n"
     ]
    }
   ],
   "source": [
    "%%bash -s \"$csv_input\" \n",
    "echo \"$1\"\n",
    "# head \"$1\"\n",
    "echo video_url > temp\n",
    "bash ./extract_unique_url.sh \"$1\" >> temp"
   ]
  },
  {
   "cell_type": "code",
   "execution_count": 94,
   "metadata": {},
   "outputs": [],
   "source": [
    "filenames = pd.read_csv(filepath_or_buffer='./temp',header='infer')\n",
    "vid_id_df =filenames.video_url.unique()"
   ]
  },
  {
   "cell_type": "code",
   "execution_count": 95,
   "metadata": {},
   "outputs": [
    {
     "data": {
      "text/plain": [
       "1"
      ]
     },
     "metadata": {},
     "output_type": "display_data"
    }
   ],
   "source": [
    "del filenames\n",
    "display(len(vid_id_df))"
   ]
  },
  {
   "cell_type": "code",
   "execution_count": 58,
   "metadata": {},
   "outputs": [
    {
     "name": "stdout",
     "output_type": "stream",
     "text": [
      "videos: 0, rows: 0\n"
     ]
    }
   ],
   "source": [
    "ctr = 0\n",
    "rows = 0\n",
    "\n",
    "csv.field_size_limit(sys.maxsize)\n",
    "with open(csv_output) as csvfile:\n",
    "    readCSV = csv.reader(csvfile, delimiter=',')\n",
    "    for row in readCSV:\n",
    "        if 'https' in row[0]:\n",
    "            rows += 1\n",
    "            ctr += row[0].count('https')\n",
    "\n",
    "print('videos: {}, rows: {}'.format(ctr, rows))"
   ]
  },
  {
   "cell_type": "code",
   "execution_count": 96,
   "metadata": {},
   "outputs": [
    {
     "name": "stdout",
     "output_type": "stream",
     "text": [
      "done\n"
     ]
    }
   ],
   "source": [
    "driver_path='./chromedriver'\n",
    "options = webdriver.ChromeOptions()\n",
    "options.add_argument('headless')   \n",
    "driver = webdriver.Chrome(driver_path,options=options)\n",
    "# driver = webdriver.Chrome('./chromedriver')\n",
    "driver.implicitly_wait(10)\n",
    "\n",
    "with open(csv_output, 'w', newline='') as csvfile:\n",
    "    fieldnames = ['url', 'transcript']\n",
    "    writer = csv.DictWriter(csvfile, fieldnames=fieldnames,\n",
    "            delimiter=',', quotechar='\"', quoting=csv.QUOTE_ALL)\n",
    "    writer.writeheader()\n",
    "    for urls in vid_id_df:\n",
    "        try:\n",
    "            driver.get(urls)\n",
    "            text = extract_transcript(driver)\n",
    "            x = {\"url\":urls,\"transcript\":text}\n",
    "            writer.writerow(x)\n",
    "        except:\n",
    "            pass\n",
    "print('done')"
   ]
  },
  {
   "cell_type": "code",
   "execution_count": 58,
   "metadata": {},
   "outputs": [
    {
     "name": "stdout",
     "output_type": "stream",
     "text": [
      "Copying file://transcript_batch8_maldonado.csv [Content-Type=text/csv]...\n",
      "Removing file://transcript_batch8_maldonado.csv...                              \n",
      "\n",
      "Operation completed over 1 objects/2.7 MiB.                                      \n"
     ]
    }
   ],
   "source": [
    "!gsutil mv $csv_output gs://yttranscript/"
   ]
  },
  {
   "cell_type": "code",
   "execution_count": 21,
   "metadata": {},
   "outputs": [
    {
     "data": {
      "text/plain": [
       "array([], dtype=object)"
      ]
     },
     "execution_count": 21,
     "metadata": {},
     "output_type": "execute_result"
    }
   ],
   "source": []
  },
  {
   "cell_type": "code",
   "execution_count": 50,
   "metadata": {},
   "outputs": [
    {
     "name": "stdout",
     "output_type": "stream",
     "text": [
      "Copying file://batch24_holiday.csv [Content-Type=text/csv]...\n",
      "==> NOTE: You are uploading one or more large file(s), which would run          \n",
      "significantly faster if you enable parallel composite uploads. This\n",
      "feature can be enabled by editing the\n",
      "\"parallel_composite_upload_threshold\" value in your .boto\n",
      "configuration file. However, note that if you do this large files will\n",
      "be uploaded as `composite objects\n",
      "<https://cloud.google.com/storage/docs/composite-objects>`_,which\n",
      "means that any user who downloads such objects will need to have a\n",
      "compiled crcmod installed (see \"gsutil help crcmod\"). This is because\n",
      "without a compiled crcmod, computing checksums on composite objects is\n",
      "so slow that gsutil disables downloads of composite objects.\n",
      "\n",
      "| [1 files][191.9 MiB/191.9 MiB]                                                \n",
      "Operation completed over 1 objects/191.9 MiB.                                    \n"
     ]
    }
   ],
   "source": [
    "!gsutil cp batch24* gs://ytscrape"
   ]
  },
  {
   "cell_type": "code",
   "execution_count": 70,
   "metadata": {},
   "outputs": [
    {
     "name": "stdout",
     "output_type": "stream",
     "text": [
      "Copying file://transcript_batch34_aylaststewart.csv [Content-Type=text/csv]...\n",
      "- [1 files][  4.3 MiB/  4.3 MiB]                                                \n",
      "Operation completed over 1 objects/4.3 MiB.                                      \n"
     ]
    }
   ],
   "source": [
    "!gsutil cp transcript_batch34* gs://yttranscript"
   ]
  },
  {
   "cell_type": "code",
   "execution_count": 46,
   "metadata": {},
   "outputs": [
    {
     "name": "stdout",
     "output_type": "stream",
     "text": [
      "Copying file://combine.sql [Content-Type=application/x-sql]...\n",
      "/ [1 files][  597.0 B/  597.0 B]                                                \n",
      "Operation completed over 1 objects/597.0 B.                                      \n"
     ]
    }
   ],
   "source": [
    "!gsutil cp combine.sql gs://ytscrape"
   ]
  },
  {
   "cell_type": "code",
   "execution_count": 94,
   "metadata": {},
   "outputs": [
    {
     "name": "stdout",
     "output_type": "stream",
     "text": [
      "Copying file://batch50_mouthybuddha-Copy1.csv [Content-Type=text/csv]...\n",
      "Removing file://batch50_mouthybuddha-Copy1.csv...                               \n",
      "Copying file://batch50_mouthybuddha.csv [Content-Type=text/csv]...\n",
      "Removing file://batch50_mouthybuddha.csv...                                     \n",
      "Copying file://batch50_styxhexen.csv [Content-Type=text/csv]...\n",
      "==> NOTE: You are uploading one or more large file(s), which would run          \n",
      "significantly faster if you enable parallel composite uploads. This\n",
      "feature can be enabled by editing the\n",
      "\"parallel_composite_upload_threshold\" value in your .boto\n",
      "configuration file. However, note that if you do this large files will\n",
      "be uploaded as `composite objects\n",
      "<https://cloud.google.com/storage/docs/composite-objects>`_,which\n",
      "means that any user who downloads such objects will need to have a\n",
      "compiled crcmod installed (see \"gsutil help crcmod\"). This is because\n",
      "without a compiled crcmod, computing checksums on composite objects is\n",
      "so slow that gsutil disables downloads of composite objects.\n",
      "\n",
      "Removing file://batch50_styxhexen.csv...MiB/s                                   \n",
      "Copying file://batch52_christopher.csv [Content-Type=text/csv]...\n",
      "Removing file://batch52_christopher.csv...B/s                                   \n",
      "\n",
      "==> NOTE: You are performing a sequence of gsutil operations that may\n",
      "run significantly faster if you instead use gsutil -m -o ... Please\n",
      "see the -m section under \"gsutil help options\" for further information\n",
      "about when gsutil -m can be advantageous.\n",
      "\n",
      "Copying file://batch53_pool.csv [Content-Type=text/csv]...\n",
      "Removing file://batch53_pool.csv...31.9 MiB/s                                   \n",
      "Copying file://batch54_pool2.csv [Content-Type=text/csv]...\n",
      "Removing file://batch54_pool2.csv...1.7 MiB/s                                   \n",
      "Copying file://batch55_pool3.csv [Content-Type=text/csv]...\n",
      "Removing file://batch55_pool3.csv...4.6 MiB/s                                   \n",
      "Copying file://batch56_millenialwoes2.csv [Content-Type=text/csv]...\n",
      "Removing file://batch56_millenialwoes2.csv...                                   \n",
      "Copying file://batch57_millenialwoes3.csv [Content-Type=text/csv]...\n",
      "Removing file://batch57_millenialwoes3.csv...                                   \n",
      "Copying file://batch58_fuentes.csv [Content-Type=text/csv]...\n",
      "Removing file://batch58_fuentes.csv....6 MiB/s                                  \n",
      "Copying file://batch59_spencer.csv [Content-Type=text/csv]...\n",
      "Removing file://batch59_spencer.csv....6 KiB/s                                  \n",
      "\n",
      "Operation completed over 11 objects/3.6 GiB.                                     \n"
     ]
    }
   ],
   "source": [
    "!gsutil mv batch5* gs://ytscrape"
   ]
  },
  {
   "cell_type": "code",
   "execution_count": null,
   "metadata": {},
   "outputs": [],
   "source": []
  }
 ],
 "metadata": {
  "kernelspec": {
   "display_name": "Python 3",
   "language": "python",
   "name": "python3"
  },
  "language_info": {
   "codemirror_mode": {
    "name": "ipython",
    "version": 3
   },
   "file_extension": ".py",
   "mimetype": "text/x-python",
   "name": "python",
   "nbconvert_exporter": "python",
   "pygments_lexer": "ipython3",
   "version": "3.7.0"
  },
  "widgets": {
   "state": {},
   "version": "1.1.2"
  }
 },
 "nbformat": 4,
 "nbformat_minor": 2
}
