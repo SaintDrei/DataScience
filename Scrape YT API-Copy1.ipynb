{
 "cells": [
  {
   "cell_type": "code",
   "execution_count": 257,
   "metadata": {},
   "outputs": [],
   "source": [
    "# Sample Python code for user authorization\n",
    "import os\n",
    "import google.oauth2.credentials\n",
    "from googleapiclient.discovery import build\n",
    "from googleapiclient.errors import HttpError\n",
    "from google_auth_oauthlib.flow import InstalledAppFlow\n",
    "from selenium import webdriver\n",
    "from selenium.webdriver.common.by import By\n",
    "from selenium.webdriver.support.ui import WebDriverWait\n",
    "from selenium.webdriver.support import expected_conditions as EC\n",
    "from selenium.webdriver.common.keys import Keys\n",
    "from selenium.webdriver.support.ui import Select\n",
    "from selenium.webdriver.common.action_chains import ActionChains\n",
    "import requests, re, json ,pprint\n",
    "from bs4 import BeautifulSoup\n",
    "import pandas as pd\n",
    "import urllib\n",
    "import urllib.request\n",
    "from selenium.webdriver.common.keys import Keys\n",
    "from IPython.display import Image\n",
    "from urllib.parse import urlparse\n",
    "from time import sleep\n",
    "import datetime\n",
    "import pytz # new import\n",
    "new_timezone = pytz.timezone(\"US/Eastern\")\n",
    "import spacy\n",
    "import en_core_web_sm\n",
    "import en_core_web_lg\n",
    "import en_vectors_web_lg\n",
    "import en_core_web_md\n",
    "\n",
    "from dateparser.search import search_dates\n",
    "import arrow\n",
    "import datetime\n",
    "import dateutil.parser\n"
   ]
  },
  {
   "cell_type": "code",
   "execution_count": null,
   "metadata": {},
   "outputs": [],
   "source": [
    "# The CLIENT_SECRETS_FILE variable specifies the name of a file that contains\n",
    "# the OAuth 2.0 information for this application, including its client_id and\n",
    "# client_secret.\n",
    "CLIENT_SECRETS_FILE = \"client_secret.json\"\n",
    "\n",
    "# This OAuth 2.0 access scope allows for full read/write access to the\n",
    "# authenticated user's account and requires requests to use an SSL connection.\n",
    "SCOPES = ['https://www.googleapis.com/auth/youtube.force-ssl']\n",
    "API_SERVICE_NAME = 'youtube'\n",
    "API_VERSION = 'v3'\n",
    "\n",
    "def get_authenticated_service():\n",
    "    flow = InstalledAppFlow.from_client_secrets_file(CLIENT_SECRETS_FILE, SCOPES)\n",
    "    credentials = flow.run_console()\n",
    "    return build(API_SERVICE_NAME, API_VERSION, credentials = credentials)"
   ]
  },
  {
   "cell_type": "code",
   "execution_count": null,
   "metadata": {},
   "outputs": [],
   "source": [
    "os.environ['OAUTHLIB_INSECURE_TRANSPORT'] = '1'\n",
    "service = get_authenticated_service()"
   ]
  },
  {
   "cell_type": "markdown",
   "metadata": {},
   "source": [
    "## Get Channel Playlists"
   ]
  },
  {
   "cell_type": "code",
   "execution_count": 154,
   "metadata": {},
   "outputs": [],
   "source": [
    "channel_title='The Daily Wire'"
   ]
  },
  {
   "cell_type": "code",
   "execution_count": 165,
   "metadata": {},
   "outputs": [],
   "source": [
    "result = service.search().list(\\\n",
    "q=channel_title,part='snippet',\n",
    "maxResults=5).execute()\n"
   ]
  },
  {
   "cell_type": "code",
   "execution_count": null,
   "metadata": {},
   "outputs": [],
   "source": [
    "for res in result['items']:\n",
    "    if(res['snippet']['title']==channel_title):\n",
    "        print(res['id']['channelId'])\n",
    "        channel_id = res['id']['channelId']"
   ]
  },
  {
   "cell_type": "code",
   "execution_count": 174,
   "metadata": {},
   "outputs": [],
   "source": [
    "def get_channel_id (channel_title='The Daily Wire'):\n",
    "    result = service.search().list(\n",
    "        q=channel_title,part='snippet',\n",
    "        maxResults=5).execute()\n",
    "    for res in result['items']:\n",
    "        if(res['snippet']['title']==channel_title):\n",
    "            print(res['id']['channelId'])\n",
    "            channel_id = res['id']['channelId'] \n",
    "            break\n",
    "    return channel_id\n",
    "    "
   ]
  },
  {
   "cell_type": "code",
   "execution_count": 176,
   "metadata": {},
   "outputs": [
    {
     "name": "stdout",
     "output_type": "stream",
     "text": [
      "UCaeO5vkdj5xOQHp4UmIN6dw\n"
     ]
    }
   ],
   "source": [
    "channel_id = get_channel_id('The Daily Wire')"
   ]
  },
  {
   "cell_type": "markdown",
   "metadata": {},
   "source": [
    "## Get Playlists from Channel"
   ]
  },
  {
   "cell_type": "code",
   "execution_count": 177,
   "metadata": {},
   "outputs": [],
   "source": [
    "result = service.playlists().list(\\\n",
    "id=channel_id,part='snippet,contentDetails').execute()"
   ]
  },
  {
   "cell_type": "code",
   "execution_count": 151,
   "metadata": {},
   "outputs": [],
   "source": [
    "result = service.channels().list(\\\n",
    "forUsername='TheDailyWire',part='snippet,contentDetails').execute()"
   ]
  },
  {
   "cell_type": "code",
   "execution_count": 152,
   "metadata": {},
   "outputs": [
    {
     "data": {
      "text/plain": [
       "dict"
      ]
     },
     "execution_count": 152,
     "metadata": {},
     "output_type": "execute_result"
    }
   ],
   "source": [
    "type(result)"
   ]
  },
  {
   "cell_type": "code",
   "execution_count": 178,
   "metadata": {},
   "outputs": [
    {
     "data": {
      "text/plain": [
       "{'kind': 'youtube#channelListResponse',\n",
       " 'etag': '\"XI7nbFXulYBIpL0ayR_gDh3eu1k/Wb5B6B-VIFoX1WtR1bh7fWSJFA4\"',\n",
       " 'pageInfo': {'totalResults': 1, 'resultsPerPage': 1},\n",
       " 'items': [{'kind': 'youtube#channel',\n",
       "   'etag': '\"XI7nbFXulYBIpL0ayR_gDh3eu1k/fQCr1MmK1yfYSnA6Sa3yZkB2Uac\"',\n",
       "   'id': 'UCaeO5vkdj5xOQHp4UmIN6dw',\n",
       "   'snippet': {'title': 'The Daily Wire',\n",
       "    'description': 'The Daily Wire is a politically conservative news and opinion website featuring daily podcasts by Andrew Klavan, Michael Knowles, and Editor-In-Chief Ben Shapiro. The Daily Wire YouTube channel live streams all episodes of each podcast every weekday. Here you will also catch special videos and series from each host!\\n\\nBen Shapiro: Mon-Fri 12:00pm Eastern / 9:00am Pacific \\nAndrew Klavan: Mon-Thurs 1:15pm Eastern / 10:15am Pacific \\nMichael Knowles: Mon-Thurs 3:30pm Eastern / 12:30pm Pacific',\n",
       "    'customUrl': 'thedailywire',\n",
       "    'publishedAt': '2015-08-20T21:50:06.000Z',\n",
       "    'thumbnails': {'default': {'url': 'https://yt3.ggpht.com/a-/AN66SAzmoabi_CtoNo2jybBY0KnJDdi820u6TabloQ=s88-mo-c-c0xffffffff-rj-k-no',\n",
       "      'width': 88,\n",
       "      'height': 88},\n",
       "     'medium': {'url': 'https://yt3.ggpht.com/a-/AN66SAzmoabi_CtoNo2jybBY0KnJDdi820u6TabloQ=s240-mo-c-c0xffffffff-rj-k-no',\n",
       "      'width': 240,\n",
       "      'height': 240},\n",
       "     'high': {'url': 'https://yt3.ggpht.com/a-/AN66SAzmoabi_CtoNo2jybBY0KnJDdi820u6TabloQ=s800-mo-c-c0xffffffff-rj-k-no',\n",
       "      'width': 800,\n",
       "      'height': 800}},\n",
       "    'localized': {'title': 'The Daily Wire',\n",
       "     'description': 'The Daily Wire is a politically conservative news and opinion website featuring daily podcasts by Andrew Klavan, Michael Knowles, and Editor-In-Chief Ben Shapiro. The Daily Wire YouTube channel live streams all episodes of each podcast every weekday. Here you will also catch special videos and series from each host!\\n\\nBen Shapiro: Mon-Fri 12:00pm Eastern / 9:00am Pacific \\nAndrew Klavan: Mon-Thurs 1:15pm Eastern / 10:15am Pacific \\nMichael Knowles: Mon-Thurs 3:30pm Eastern / 12:30pm Pacific'},\n",
       "    'country': 'US'},\n",
       "   'contentDetails': {'relatedPlaylists': {'uploads': 'UUaeO5vkdj5xOQHp4UmIN6dw',\n",
       "     'watchHistory': 'HL',\n",
       "     'watchLater': 'WL'}}}]}"
      ]
     },
     "execution_count": 178,
     "metadata": {},
     "output_type": "execute_result"
    }
   ],
   "source": [
    "result"
   ]
  },
  {
   "cell_type": "code",
   "execution_count": null,
   "metadata": {},
   "outputs": [],
   "source": [
    "dd"
   ]
  },
  {
   "cell_type": "code",
   "execution_count": 5,
   "metadata": {},
   "outputs": [],
   "source": [
    "playlist_list = result['items'][0]['contentDetails']['relatedPlaylists']['uploads']"
   ]
  },
  {
   "cell_type": "code",
   "execution_count": 7,
   "metadata": {},
   "outputs": [],
   "source": [
    "test_pl = playlist_list"
   ]
  },
  {
   "cell_type": "code",
   "execution_count": null,
   "metadata": {},
   "outputs": [],
   "source": [
    "test_pl"
   ]
  },
  {
   "cell_type": "code",
   "execution_count": 145,
   "metadata": {},
   "outputs": [],
   "source": [
    "channel_id = 'UCnQC_G5Xsjhp9fEJKuIcrSw'\n",
    "channel_result = 1"
   ]
  },
  {
   "cell_type": "code",
   "execution_count": 146,
   "metadata": {},
   "outputs": [],
   "source": [
    "result = service.channels().list(\\\n",
    "id=channel_id,part='snippet,contentDetails').execute()"
   ]
  },
  {
   "cell_type": "code",
   "execution_count": 179,
   "metadata": {},
   "outputs": [
    {
     "data": {
      "text/plain": [
       "{'kind': 'youtube#channelListResponse',\n",
       " 'etag': '\"XI7nbFXulYBIpL0ayR_gDh3eu1k/Wb5B6B-VIFoX1WtR1bh7fWSJFA4\"',\n",
       " 'pageInfo': {'totalResults': 1, 'resultsPerPage': 1},\n",
       " 'items': [{'kind': 'youtube#channel',\n",
       "   'etag': '\"XI7nbFXulYBIpL0ayR_gDh3eu1k/fQCr1MmK1yfYSnA6Sa3yZkB2Uac\"',\n",
       "   'id': 'UCaeO5vkdj5xOQHp4UmIN6dw',\n",
       "   'snippet': {'title': 'The Daily Wire',\n",
       "    'description': 'The Daily Wire is a politically conservative news and opinion website featuring daily podcasts by Andrew Klavan, Michael Knowles, and Editor-In-Chief Ben Shapiro. The Daily Wire YouTube channel live streams all episodes of each podcast every weekday. Here you will also catch special videos and series from each host!\\n\\nBen Shapiro: Mon-Fri 12:00pm Eastern / 9:00am Pacific \\nAndrew Klavan: Mon-Thurs 1:15pm Eastern / 10:15am Pacific \\nMichael Knowles: Mon-Thurs 3:30pm Eastern / 12:30pm Pacific',\n",
       "    'customUrl': 'thedailywire',\n",
       "    'publishedAt': '2015-08-20T21:50:06.000Z',\n",
       "    'thumbnails': {'default': {'url': 'https://yt3.ggpht.com/a-/AN66SAzmoabi_CtoNo2jybBY0KnJDdi820u6TabloQ=s88-mo-c-c0xffffffff-rj-k-no',\n",
       "      'width': 88,\n",
       "      'height': 88},\n",
       "     'medium': {'url': 'https://yt3.ggpht.com/a-/AN66SAzmoabi_CtoNo2jybBY0KnJDdi820u6TabloQ=s240-mo-c-c0xffffffff-rj-k-no',\n",
       "      'width': 240,\n",
       "      'height': 240},\n",
       "     'high': {'url': 'https://yt3.ggpht.com/a-/AN66SAzmoabi_CtoNo2jybBY0KnJDdi820u6TabloQ=s800-mo-c-c0xffffffff-rj-k-no',\n",
       "      'width': 800,\n",
       "      'height': 800}},\n",
       "    'localized': {'title': 'The Daily Wire',\n",
       "     'description': 'The Daily Wire is a politically conservative news and opinion website featuring daily podcasts by Andrew Klavan, Michael Knowles, and Editor-In-Chief Ben Shapiro. The Daily Wire YouTube channel live streams all episodes of each podcast every weekday. Here you will also catch special videos and series from each host!\\n\\nBen Shapiro: Mon-Fri 12:00pm Eastern / 9:00am Pacific \\nAndrew Klavan: Mon-Thurs 1:15pm Eastern / 10:15am Pacific \\nMichael Knowles: Mon-Thurs 3:30pm Eastern / 12:30pm Pacific'},\n",
       "    'country': 'US'},\n",
       "   'contentDetails': {'relatedPlaylists': {'uploads': 'UUaeO5vkdj5xOQHp4UmIN6dw',\n",
       "     'watchHistory': 'HL',\n",
       "     'watchLater': 'WL'}}}]}"
      ]
     },
     "execution_count": 179,
     "metadata": {},
     "output_type": "execute_result"
    }
   ],
   "source": [
    "result"
   ]
  },
  {
   "cell_type": "code",
   "execution_count": null,
   "metadata": {},
   "outputs": [],
   "source": [
    "playlist_result = service.playlists().list(\\\n",
    "channelId=channel_id,part='snippet,contentDetails',\\\n",
    "maxResults=50).execute()"
   ]
  },
  {
   "cell_type": "code",
   "execution_count": 191,
   "metadata": {},
   "outputs": [],
   "source": [
    "series = 'The Ben Shapiro Show'                        "
   ]
  },
  {
   "cell_type": "code",
   "execution_count": 210,
   "metadata": {},
   "outputs": [
    {
     "name": "stdout",
     "output_type": "stream",
     "text": [
      "The Ben Shapiro Show\n",
      "PLlVjFVMet3OXfEi7b2w50OUc7QMnpfKqK\n"
     ]
    }
   ],
   "source": [
    "for playlist in playlist_result['items']:\n",
    "#     print(playlist['snippet']['title'])\n",
    "    if playlist['snippet']['title']==series:\n",
    "        print(series)\n",
    "        print(playlist['id'])\n",
    "        \n",
    "        playlist_id = playlist['id']\n",
    "        video_count = playlist['contentDetails']['itemCount']\n",
    "        break"
   ]
  },
  {
   "cell_type": "code",
   "execution_count": 214,
   "metadata": {},
   "outputs": [
    {
     "data": {
      "text/plain": [
       "584"
      ]
     },
     "execution_count": 214,
     "metadata": {},
     "output_type": "execute_result"
    }
   ],
   "source": [
    "video_count\n"
   ]
  },
  {
   "cell_type": "markdown",
   "metadata": {},
   "source": [
    "## Get videos in playlist"
   ]
  },
  {
   "cell_type": "code",
   "execution_count": 216,
   "metadata": {},
   "outputs": [],
   "source": [
    "max_results = 50"
   ]
  },
  {
   "cell_type": "code",
   "execution_count": 218,
   "metadata": {},
   "outputs": [
    {
     "name": "stdout",
     "output_type": "stream",
     "text": [
      "0 50\n",
      "50 100\n",
      "100 150\n",
      "150 200\n",
      "200 250\n",
      "250 300\n",
      "300 350\n",
      "350 400\n",
      "400 450\n",
      "450 500\n",
      "500 550\n",
      "550 600\n"
     ]
    }
   ],
   "source": [
    "for i in range(int(video_count/max_results) +1):\n",
    "    print(i*max_results, (i+1)*max_results)"
   ]
  },
  {
   "cell_type": "code",
   "execution_count": 223,
   "metadata": {},
   "outputs": [],
   "source": [
    "result_vids = service.playlistItems().list(\\\n",
    "playlistId=playlist_id,part='snippet,contentDetails',\\\n",
    "maxResults=max_results).execute()\n",
    "                                           "
   ]
  },
  {
   "cell_type": "code",
   "execution_count": 248,
   "metadata": {},
   "outputs": [
    {
     "data": {
      "text/plain": [
       "{'kind': 'youtube#playlistItemListResponse',\n",
       " 'etag': '\"XI7nbFXulYBIpL0ayR_gDh3eu1k/f6aXRVPg4Rdzb9TmJSyJC_ltZ0Q\"',\n",
       " 'nextPageToken': 'CDIQAA',\n",
       " 'pageInfo': {'totalResults': 584, 'resultsPerPage': 50},\n",
       " 'items': [{'kind': 'youtube#playlistItem',\n",
       "   'etag': '\"XI7nbFXulYBIpL0ayR_gDh3eu1k/RWmqNj5suosE8XQRghMqYORBm8Q\"',\n",
       "   'id': 'UExsVmpGVk1ldDNPWGZFaTdiMnc1ME9VYzdRTW5wZktxSy43MkY4RkQwRjY3MEQ5MzVB',\n",
       "   'snippet': {'publishedAt': '2018-12-07T19:25:55.000Z',\n",
       "    'channelId': 'UCaeO5vkdj5xOQHp4UmIN6dw',\n",
       "    'title': 'Shot Through The Hart | The Ben Shapiro Show Ep. 675',\n",
       "    'description': 'Kevin Hart loses his Oscar gig, Democrats fulminate over voter fraud in North Carolina, and we check the mailbag.\\n\\nTo watch the full show live, become a premium subscriber. Join the team!\\xa0https://www.dailywire.com/subscribe\\nLike this video?\\xa0For more Ben Shapiro and Daily Wire content, subscribe to this channel and the Ben Shapiro YouTube channel\\xa0youtube.com/c/benshapiro\\xa0and ring the bell for notifications so you never miss a story!',\n",
       "    'thumbnails': {'default': {'url': 'https://i.ytimg.com/vi/CjO_RFABRPY/default.jpg',\n",
       "      'width': 120,\n",
       "      'height': 90},\n",
       "     'medium': {'url': 'https://i.ytimg.com/vi/CjO_RFABRPY/mqdefault.jpg',\n",
       "      'width': 320,\n",
       "      'height': 180},\n",
       "     'high': {'url': 'https://i.ytimg.com/vi/CjO_RFABRPY/hqdefault.jpg',\n",
       "      'width': 480,\n",
       "      'height': 360},\n",
       "     'standard': {'url': 'https://i.ytimg.com/vi/CjO_RFABRPY/sddefault.jpg',\n",
       "      'width': 640,\n",
       "      'height': 480},\n",
       "     'maxres': {'url': 'https://i.ytimg.com/vi/CjO_RFABRPY/maxresdefault.jpg',\n",
       "      'width': 1280,\n",
       "      'height': 720}},\n",
       "    'channelTitle': 'The Daily Wire',\n",
       "    'playlistId': 'PLlVjFVMet3OXfEi7b2w50OUc7QMnpfKqK',\n",
       "    'position': 0,\n",
       "    'resourceId': {'kind': 'youtube#video', 'videoId': 'CjO_RFABRPY'}},\n",
       "   'contentDetails': {'videoId': 'CjO_RFABRPY',\n",
       "    'videoPublishedAt': '2018-12-07T19:40:22.000Z'}},\n",
       "  {'kind': 'youtube#playlistItem',\n",
       "   'etag': '\"XI7nbFXulYBIpL0ayR_gDh3eu1k/2FVf_ylZqTdNRXzfDKdpy2A-t58\"',\n",
       "   'id': 'UExsVmpGVk1ldDNPWGZFaTdiMnc1ME9VYzdRTW5wZktxSy5GQ0E5OTk1MzM0OEMzOENE',\n",
       "   'snippet': {'publishedAt': '2018-12-06T20:33:33.000Z',\n",
       "    'channelId': 'UCaeO5vkdj5xOQHp4UmIN6dw',\n",
       "    'title': 'Remembering HW | The Ben Shapiro Show Ep. 674',\n",
       "    'description': 'Washington DC gathers to mourn Bush 41, we explore Bush 41’s political legacy, and the radical Left gains steam among the Democratic intelligentsia.\\n\\nTo watch the full show live, become a premium subscriber. Join the team!\\xa0https://www.dailywire.com/subscribe\\nLike this video?\\xa0For more Ben Shapiro and Daily Wire content, subscribe to this channel and the Ben Shapiro YouTube channel\\xa0youtube.com/c/benshapiro\\xa0and ring the bell for notifications so you never miss a story!',\n",
       "    'thumbnails': {'default': {'url': 'https://i.ytimg.com/vi/pmQsoau3sNE/default.jpg',\n",
       "      'width': 120,\n",
       "      'height': 90},\n",
       "     'medium': {'url': 'https://i.ytimg.com/vi/pmQsoau3sNE/mqdefault.jpg',\n",
       "      'width': 320,\n",
       "      'height': 180},\n",
       "     'high': {'url': 'https://i.ytimg.com/vi/pmQsoau3sNE/hqdefault.jpg',\n",
       "      'width': 480,\n",
       "      'height': 360},\n",
       "     'standard': {'url': 'https://i.ytimg.com/vi/pmQsoau3sNE/sddefault.jpg',\n",
       "      'width': 640,\n",
       "      'height': 480},\n",
       "     'maxres': {'url': 'https://i.ytimg.com/vi/pmQsoau3sNE/maxresdefault.jpg',\n",
       "      'width': 1280,\n",
       "      'height': 720}},\n",
       "    'channelTitle': 'The Daily Wire',\n",
       "    'playlistId': 'PLlVjFVMet3OXfEi7b2w50OUc7QMnpfKqK',\n",
       "    'position': 1,\n",
       "    'resourceId': {'kind': 'youtube#video', 'videoId': 'pmQsoau3sNE'}},\n",
       "   'contentDetails': {'videoId': 'pmQsoau3sNE',\n",
       "    'videoPublishedAt': '2018-12-06T20:33:31.000Z'}},\n",
       "  {'kind': 'youtube#playlistItem',\n",
       "   'etag': '\"XI7nbFXulYBIpL0ayR_gDh3eu1k/NTRiBvMv44nTP3CGpuSzzpk6q7g\"',\n",
       "   'id': 'UExsVmpGVk1ldDNPWGZFaTdiMnc1ME9VYzdRTW5wZktxSy5FNEM4OThENjlGNTBCMTlG',\n",
       "   'snippet': {'publishedAt': '2018-12-06T21:14:48.000Z',\n",
       "    'channelId': 'UCaeO5vkdj5xOQHp4UmIN6dw',\n",
       "    'title': 'Remembering HW | The Ben Shapiro Show Ep. 674',\n",
       "    'description': 'Washington DC gathers to mourn Bush 41, we explore Bush 41’s political legacy, and the radical Left gains steam among the Democratic intelligentsia.\\n\\nTo watch the full show live, become a premium subscriber. Join the team!\\xa0https://www.dailywire.com/subscribe\\nLike this video?\\xa0For more Ben Shapiro and Daily Wire content, subscribe to this channel and the Ben Shapiro\\xa0YouTube\\xa0channel\\xa0youtube.com/c/benshapiro\\xa0and ring the bell for notifications so you never miss a story!',\n",
       "    'thumbnails': {'default': {'url': 'https://i.ytimg.com/vi/HYaW_fzoIiU/default.jpg',\n",
       "      'width': 120,\n",
       "      'height': 90},\n",
       "     'medium': {'url': 'https://i.ytimg.com/vi/HYaW_fzoIiU/mqdefault.jpg',\n",
       "      'width': 320,\n",
       "      'height': 180},\n",
       "     'high': {'url': 'https://i.ytimg.com/vi/HYaW_fzoIiU/hqdefault.jpg',\n",
       "      'width': 480,\n",
       "      'height': 360}},\n",
       "    'channelTitle': 'The Daily Wire',\n",
       "    'playlistId': 'PLlVjFVMet3OXfEi7b2w50OUc7QMnpfKqK',\n",
       "    'position': 2,\n",
       "    'resourceId': {'kind': 'youtube#video', 'videoId': 'HYaW_fzoIiU'}},\n",
       "   'contentDetails': {'videoId': 'HYaW_fzoIiU',\n",
       "    'videoPublishedAt': '2018-12-06T17:35:25.000Z'}},\n",
       "  {'kind': 'youtube#playlistItem',\n",
       "   'etag': '\"XI7nbFXulYBIpL0ayR_gDh3eu1k/znz72OaqFzd0kbHSUU6AGCyJ4YA\"',\n",
       "   'id': 'UExsVmpGVk1ldDNPWGZFaTdiMnc1ME9VYzdRTW5wZktxSy40QTRDMjY0RTNGMzVENTk5',\n",
       "   'snippet': {'publishedAt': '2018-12-05T19:32:37.000Z',\n",
       "    'channelId': 'UCaeO5vkdj5xOQHp4UmIN6dw',\n",
       "    'title': 'In Like Flynn | The Ben Shapiro Show Ep. 673',\n",
       "    'description': 'Former national security adviser Mike Flynn receives no jail time, the stock market dives, and we bid a fond farewell to Michael Avenatti.\\n\\nTo watch the full show live, become a premium subscriber. Join the team!\\xa0https://www.dailywire.com/subscribe\\nLike this video?\\xa0For more Ben Shapiro and Daily Wire content, subscribe to this channel and the Ben Shapiro YouTube channel\\xa0youtube.com/c/benshapiro\\xa0and ring the bell for notifications so you never miss a story!',\n",
       "    'thumbnails': {'default': {'url': 'https://i.ytimg.com/vi/4pUX8fnKnWE/default.jpg',\n",
       "      'width': 120,\n",
       "      'height': 90},\n",
       "     'medium': {'url': 'https://i.ytimg.com/vi/4pUX8fnKnWE/mqdefault.jpg',\n",
       "      'width': 320,\n",
       "      'height': 180},\n",
       "     'high': {'url': 'https://i.ytimg.com/vi/4pUX8fnKnWE/hqdefault.jpg',\n",
       "      'width': 480,\n",
       "      'height': 360},\n",
       "     'standard': {'url': 'https://i.ytimg.com/vi/4pUX8fnKnWE/sddefault.jpg',\n",
       "      'width': 640,\n",
       "      'height': 480},\n",
       "     'maxres': {'url': 'https://i.ytimg.com/vi/4pUX8fnKnWE/maxresdefault.jpg',\n",
       "      'width': 1280,\n",
       "      'height': 720}},\n",
       "    'channelTitle': 'The Daily Wire',\n",
       "    'playlistId': 'PLlVjFVMet3OXfEi7b2w50OUc7QMnpfKqK',\n",
       "    'position': 3,\n",
       "    'resourceId': {'kind': 'youtube#video', 'videoId': '4pUX8fnKnWE'}},\n",
       "   'contentDetails': {'videoId': '4pUX8fnKnWE',\n",
       "    'videoPublishedAt': '2018-12-05T19:45:53.000Z'}},\n",
       "  {'kind': 'youtube#playlistItem',\n",
       "   'etag': '\"XI7nbFXulYBIpL0ayR_gDh3eu1k/g6OaVs0TCpy-CfQyRtEUFcE5YSE\"',\n",
       "   'id': 'UExsVmpGVk1ldDNPWGZFaTdiMnc1ME9VYzdRTW5wZktxSy5ENDc4RDE2ODFDREYyQUUw',\n",
       "   'snippet': {'publishedAt': '2018-12-04T18:49:00.000Z',\n",
       "    'channelId': 'UCaeO5vkdj5xOQHp4UmIN6dw',\n",
       "    'title': 'No Crimes And Misdemeanors | The Ben Shapiro Show Ep. 672',\n",
       "    'description': 'What happens if the Mueller report comes up empty? Plus, we recap the HW Bush tribute ceremony, and discuss whether gender reveal parties are cisnormative.\\n\\nTo watch the full show live, become a premium subscriber. Join the team!\\xa0https://www.dailywire.com/subscribe\\nLike this video?\\xa0For more Ben Shapiro and Daily Wire content, subscribe to this channel and the Ben Shapiro YouTube channel\\xa0youtube.com/c/benshapiro\\xa0and ring the bell for notifications so you never miss a story!',\n",
       "    'thumbnails': {'default': {'url': 'https://i.ytimg.com/vi/AFmrc_Lrv4s/default.jpg',\n",
       "      'width': 120,\n",
       "      'height': 90},\n",
       "     'medium': {'url': 'https://i.ytimg.com/vi/AFmrc_Lrv4s/mqdefault.jpg',\n",
       "      'width': 320,\n",
       "      'height': 180},\n",
       "     'high': {'url': 'https://i.ytimg.com/vi/AFmrc_Lrv4s/hqdefault.jpg',\n",
       "      'width': 480,\n",
       "      'height': 360},\n",
       "     'standard': {'url': 'https://i.ytimg.com/vi/AFmrc_Lrv4s/sddefault.jpg',\n",
       "      'width': 640,\n",
       "      'height': 480},\n",
       "     'maxres': {'url': 'https://i.ytimg.com/vi/AFmrc_Lrv4s/maxresdefault.jpg',\n",
       "      'width': 1280,\n",
       "      'height': 720}},\n",
       "    'channelTitle': 'The Daily Wire',\n",
       "    'playlistId': 'PLlVjFVMet3OXfEi7b2w50OUc7QMnpfKqK',\n",
       "    'position': 4,\n",
       "    'resourceId': {'kind': 'youtube#video', 'videoId': 'AFmrc_Lrv4s'}},\n",
       "   'contentDetails': {'videoId': 'AFmrc_Lrv4s',\n",
       "    'videoPublishedAt': '2018-12-04T18:59:09.000Z'}},\n",
       "  {'kind': 'youtube#playlistItem',\n",
       "   'etag': '\"XI7nbFXulYBIpL0ayR_gDh3eu1k/7CGT5qa6GV8accV9tyulnPEU7qY\"',\n",
       "   'id': 'UExsVmpGVk1ldDNPWGZFaTdiMnc1ME9VYzdRTW5wZktxSy4xRTVDQkE0OURCOTZEMEY0',\n",
       "   'snippet': {'publishedAt': '2018-12-03T19:25:25.000Z',\n",
       "    'channelId': 'UCaeO5vkdj5xOQHp4UmIN6dw',\n",
       "    'title': 'Goodbye, 41 | The Ben Shapiro Show Ep. 671',\n",
       "    'description': 'George H.W. Bush passes away, Russiagate continues to unfold, and Paris bursts into flame.\\n\\nTo watch the full show live, become a premium subscriber. Join the team!\\xa0https://www.dailywire.com/subscribe\\nLike this video?\\xa0For more Ben Shapiro and Daily Wire content, subscribe to this channel and the Ben Shapiro YouTube channel\\xa0youtube.com/c/benshapiro\\xa0and ring the bell for notifications so you never miss a story!',\n",
       "    'thumbnails': {'default': {'url': 'https://i.ytimg.com/vi/RS2pt6QnJWc/default.jpg',\n",
       "      'width': 120,\n",
       "      'height': 90},\n",
       "     'medium': {'url': 'https://i.ytimg.com/vi/RS2pt6QnJWc/mqdefault.jpg',\n",
       "      'width': 320,\n",
       "      'height': 180},\n",
       "     'high': {'url': 'https://i.ytimg.com/vi/RS2pt6QnJWc/hqdefault.jpg',\n",
       "      'width': 480,\n",
       "      'height': 360},\n",
       "     'standard': {'url': 'https://i.ytimg.com/vi/RS2pt6QnJWc/sddefault.jpg',\n",
       "      'width': 640,\n",
       "      'height': 480},\n",
       "     'maxres': {'url': 'https://i.ytimg.com/vi/RS2pt6QnJWc/maxresdefault.jpg',\n",
       "      'width': 1280,\n",
       "      'height': 720}},\n",
       "    'channelTitle': 'The Daily Wire',\n",
       "    'playlistId': 'PLlVjFVMet3OXfEi7b2w50OUc7QMnpfKqK',\n",
       "    'position': 5,\n",
       "    'resourceId': {'kind': 'youtube#video', 'videoId': 'RS2pt6QnJWc'}},\n",
       "   'contentDetails': {'videoId': 'RS2pt6QnJWc',\n",
       "    'videoPublishedAt': '2018-12-03T19:39:06.000Z'}},\n",
       "  {'kind': 'youtube#playlistItem',\n",
       "   'etag': '\"XI7nbFXulYBIpL0ayR_gDh3eu1k/xH4vjIy6wQHPRqY6d6qJ1FJs3eY\"',\n",
       "   'id': 'UExsVmpGVk1ldDNPWGZFaTdiMnc1ME9VYzdRTW5wZktxSy5BMjIxMjQ4MTYyMzQwNEYw',\n",
       "   'snippet': {'publishedAt': '2018-11-30T20:18:37.000Z',\n",
       "    'channelId': 'UCaeO5vkdj5xOQHp4UmIN6dw',\n",
       "    'title': 'Russian Roulette | The Ben Shapiro Show Ep. 670',\n",
       "    'description': 'New revelations from the Mueller investigation, an anti-Semitic CNN commentator gets the boot, and we check the mailbag!\\n\\nTo watch the full show live, become a premium subscriber. Join the team!\\xa0https://www.dailywire.com/subscribe\\nLike this video?\\xa0For more Ben Shapiro and Daily Wire content, subscribe to this channel and the Ben Shapiro YouTube channel\\xa0youtube.com/c/benshapiro\\xa0and ring the bell for notifications so you never miss a story!',\n",
       "    'thumbnails': {'default': {'url': 'https://i.ytimg.com/vi/FtSCjF0fSAc/default.jpg',\n",
       "      'width': 120,\n",
       "      'height': 90},\n",
       "     'medium': {'url': 'https://i.ytimg.com/vi/FtSCjF0fSAc/mqdefault.jpg',\n",
       "      'width': 320,\n",
       "      'height': 180},\n",
       "     'high': {'url': 'https://i.ytimg.com/vi/FtSCjF0fSAc/hqdefault.jpg',\n",
       "      'width': 480,\n",
       "      'height': 360},\n",
       "     'standard': {'url': 'https://i.ytimg.com/vi/FtSCjF0fSAc/sddefault.jpg',\n",
       "      'width': 640,\n",
       "      'height': 480},\n",
       "     'maxres': {'url': 'https://i.ytimg.com/vi/FtSCjF0fSAc/maxresdefault.jpg',\n",
       "      'width': 1280,\n",
       "      'height': 720}},\n",
       "    'channelTitle': 'The Daily Wire',\n",
       "    'playlistId': 'PLlVjFVMet3OXfEi7b2w50OUc7QMnpfKqK',\n",
       "    'position': 6,\n",
       "    'resourceId': {'kind': 'youtube#video', 'videoId': 'FtSCjF0fSAc'}},\n",
       "   'contentDetails': {'videoId': 'FtSCjF0fSAc',\n",
       "    'videoPublishedAt': '2018-11-30T20:31:37.000Z'}},\n",
       "  {'kind': 'youtube#playlistItem',\n",
       "   'etag': '\"XI7nbFXulYBIpL0ayR_gDh3eu1k/yGecvyyLkot58fx4ry6fGed4maE\"',\n",
       "   'id': 'UExsVmpGVk1ldDNPWGZFaTdiMnc1ME9VYzdRTW5wZktxSy5FQTRFNDMxRTY3NUZEODEz',\n",
       "   'snippet': {'publishedAt': '2018-11-29T21:27:02.000Z',\n",
       "    'channelId': 'UCaeO5vkdj5xOQHp4UmIN6dw',\n",
       "    'title': 'The ‘Real’ Jews | The Ben Shapiro Show Ep. 669',\n",
       "    'description': 'A CNN commentator calls for the elimination of the Jews from the Middle East, the Mueller investigation gets even more complex, and a new study suggests white Leftists pander to minorities.\\n\\nTo watch the full show live, become a premium subscriber. Join the team!\\xa0https://www.dailywire.com/subscribe\\nLike this video?\\xa0For more Ben Shapiro and Daily Wire content, subscribe to this channel and the Ben Shapiro YouTube channel\\xa0youtube.com/c/benshapiro\\xa0and ring the bell for notifications so you never miss a story!',\n",
       "    'thumbnails': {'default': {'url': 'https://i.ytimg.com/vi/g11FIyEisnU/default.jpg',\n",
       "      'width': 120,\n",
       "      'height': 90},\n",
       "     'medium': {'url': 'https://i.ytimg.com/vi/g11FIyEisnU/mqdefault.jpg',\n",
       "      'width': 320,\n",
       "      'height': 180},\n",
       "     'high': {'url': 'https://i.ytimg.com/vi/g11FIyEisnU/hqdefault.jpg',\n",
       "      'width': 480,\n",
       "      'height': 360},\n",
       "     'standard': {'url': 'https://i.ytimg.com/vi/g11FIyEisnU/sddefault.jpg',\n",
       "      'width': 640,\n",
       "      'height': 480},\n",
       "     'maxres': {'url': 'https://i.ytimg.com/vi/g11FIyEisnU/maxresdefault.jpg',\n",
       "      'width': 1280,\n",
       "      'height': 720}},\n",
       "    'channelTitle': 'The Daily Wire',\n",
       "    'playlistId': 'PLlVjFVMet3OXfEi7b2w50OUc7QMnpfKqK',\n",
       "    'position': 7,\n",
       "    'resourceId': {'kind': 'youtube#video', 'videoId': 'g11FIyEisnU'}},\n",
       "   'contentDetails': {'videoId': 'g11FIyEisnU',\n",
       "    'videoPublishedAt': '2018-11-29T21:27:01.000Z'}},\n",
       "  {'kind': 'youtube#playlistItem',\n",
       "   'etag': '\"XI7nbFXulYBIpL0ayR_gDh3eu1k/Aqxy06Xrzte91308fX3W5NbPb4Q\"',\n",
       "   'id': 'UExsVmpGVk1ldDNPWGZFaTdiMnc1ME9VYzdRTW5wZktxSy45NjlCRTc1MjgwOEVFNUJC',\n",
       "   'snippet': {'publishedAt': '2018-11-28T20:12:09.000Z',\n",
       "    'channelId': 'UCaeO5vkdj5xOQHp4UmIN6dw',\n",
       "    'title': 'Mulling Over Mueller | The Ben Shapiro Show Ep. 668',\n",
       "    'description': 'Will Trump pardon Manafort? Will Mueller indict Trump’s buddies? Will you drive a car in 10 years?\\n\\n\\nTo watch the full show live, become a premium subscriber. Join the team!\\xa0https://www.dailywire.com/subscribe\\nLike this video?\\xa0For more Ben Shapiro and Daily Wire content, subscribe to this channel and the Daily Wire YouTube channel\\xa0youtube.com/c/thedailywire\\xa0and ring the bell for notifications so you never miss a story!',\n",
       "    'thumbnails': {'default': {'url': 'https://i.ytimg.com/vi/x63bfkA_DH8/default.jpg',\n",
       "      'width': 120,\n",
       "      'height': 90},\n",
       "     'medium': {'url': 'https://i.ytimg.com/vi/x63bfkA_DH8/mqdefault.jpg',\n",
       "      'width': 320,\n",
       "      'height': 180},\n",
       "     'high': {'url': 'https://i.ytimg.com/vi/x63bfkA_DH8/hqdefault.jpg',\n",
       "      'width': 480,\n",
       "      'height': 360},\n",
       "     'standard': {'url': 'https://i.ytimg.com/vi/x63bfkA_DH8/sddefault.jpg',\n",
       "      'width': 640,\n",
       "      'height': 480},\n",
       "     'maxres': {'url': 'https://i.ytimg.com/vi/x63bfkA_DH8/maxresdefault.jpg',\n",
       "      'width': 1280,\n",
       "      'height': 720}},\n",
       "    'channelTitle': 'The Daily Wire',\n",
       "    'playlistId': 'PLlVjFVMet3OXfEi7b2w50OUc7QMnpfKqK',\n",
       "    'position': 8,\n",
       "    'resourceId': {'kind': 'youtube#video', 'videoId': 'x63bfkA_DH8'}},\n",
       "   'contentDetails': {'videoId': 'x63bfkA_DH8',\n",
       "    'videoPublishedAt': '2018-11-28T20:12:08.000Z'}},\n",
       "  {'kind': 'youtube#playlistItem',\n",
       "   'etag': '\"XI7nbFXulYBIpL0ayR_gDh3eu1k/4jaJUCH_68qbSm9PooIz84Pep9Y\"',\n",
       "   'id': 'UExsVmpGVk1ldDNPWGZFaTdiMnc1ME9VYzdRTW5wZktxSy5DRTQ1Q0M2QjNFNkU3MDhG',\n",
       "   'snippet': {'publishedAt': '2018-11-28T00:22:00.000Z',\n",
       "    'channelId': 'UCaeO5vkdj5xOQHp4UmIN6dw',\n",
       "    'title': 'The Politics Of Crisis | The Ben Shapiro Show Ep. 667',\n",
       "    'description': 'The Left ignores the situation on the border and goes full alarmist about global warming.\\n\\nTo watch the full show live, become a premium subscriber. Join the team! https://www.dailywire.com/subscribe\\n\\nLike this video? For more Ben Shapiro and Daily Wire content, subscribe to this channel and the Ben Shapiro YouTube channel youtube.com/c/benshapiro and ring the bell for notifications so you never miss a story!',\n",
       "    'thumbnails': {'default': {'url': 'https://i.ytimg.com/vi/DWIwJdNFF8w/default.jpg',\n",
       "      'width': 120,\n",
       "      'height': 90},\n",
       "     'medium': {'url': 'https://i.ytimg.com/vi/DWIwJdNFF8w/mqdefault.jpg',\n",
       "      'width': 320,\n",
       "      'height': 180},\n",
       "     'high': {'url': 'https://i.ytimg.com/vi/DWIwJdNFF8w/hqdefault.jpg',\n",
       "      'width': 480,\n",
       "      'height': 360},\n",
       "     'standard': {'url': 'https://i.ytimg.com/vi/DWIwJdNFF8w/sddefault.jpg',\n",
       "      'width': 640,\n",
       "      'height': 480},\n",
       "     'maxres': {'url': 'https://i.ytimg.com/vi/DWIwJdNFF8w/maxresdefault.jpg',\n",
       "      'width': 1280,\n",
       "      'height': 720}},\n",
       "    'channelTitle': 'The Daily Wire',\n",
       "    'playlistId': 'PLlVjFVMet3OXfEi7b2w50OUc7QMnpfKqK',\n",
       "    'position': 9,\n",
       "    'resourceId': {'kind': 'youtube#video', 'videoId': 'DWIwJdNFF8w'}},\n",
       "   'contentDetails': {'videoId': 'DWIwJdNFF8w',\n",
       "    'videoPublishedAt': '2018-11-28T00:37:56.000Z'}},\n",
       "  {'kind': 'youtube#playlistItem',\n",
       "   'etag': '\"XI7nbFXulYBIpL0ayR_gDh3eu1k/rU9PoC1aXxj6qwJ_DPu_m5wimlE\"',\n",
       "   'id': 'UExsVmpGVk1ldDNPWGZFaTdiMnc1ME9VYzdRTW5wZktxSy5DNzIxODM3Rjg5MDVDMURE',\n",
       "   'snippet': {'publishedAt': '2018-11-26T20:59:48.000Z',\n",
       "    'channelId': 'UCaeO5vkdj5xOQHp4UmIN6dw',\n",
       "    'title': 'Saying The Unsayable | The Ben Shapiro Show Ep. 666',\n",
       "    'description': 'The caravan reaches the border, and all hell breaks loose; Twitter moves to ban science; and the Russians get aggressive with the Ukrainians.\\n\\nTo watch the full show live, become a premium subscriber. Join the team!\\xa0https://www.dailywire.com/subscribe\\nLike this video?\\xa0For more Ben Shapiro and Daily Wire content, subscribe to this channel and the Ben Shapiro YouTube channel\\xa0youtube.com/c/benshapiro\\xa0and ring the bell for notifications so you never miss a story!',\n",
       "    'thumbnails': {'default': {'url': 'https://i.ytimg.com/vi/Gp52T1dg658/default.jpg',\n",
       "      'width': 120,\n",
       "      'height': 90},\n",
       "     'medium': {'url': 'https://i.ytimg.com/vi/Gp52T1dg658/mqdefault.jpg',\n",
       "      'width': 320,\n",
       "      'height': 180},\n",
       "     'high': {'url': 'https://i.ytimg.com/vi/Gp52T1dg658/hqdefault.jpg',\n",
       "      'width': 480,\n",
       "      'height': 360},\n",
       "     'standard': {'url': 'https://i.ytimg.com/vi/Gp52T1dg658/sddefault.jpg',\n",
       "      'width': 640,\n",
       "      'height': 480},\n",
       "     'maxres': {'url': 'https://i.ytimg.com/vi/Gp52T1dg658/maxresdefault.jpg',\n",
       "      'width': 1280,\n",
       "      'height': 720}},\n",
       "    'channelTitle': 'The Daily Wire',\n",
       "    'playlistId': 'PLlVjFVMet3OXfEi7b2w50OUc7QMnpfKqK',\n",
       "    'position': 10,\n",
       "    'resourceId': {'kind': 'youtube#video', 'videoId': 'Gp52T1dg658'}},\n",
       "   'contentDetails': {'videoId': 'Gp52T1dg658',\n",
       "    'videoPublishedAt': '2018-11-26T21:12:19.000Z'}},\n",
       "  {'kind': 'youtube#playlistItem',\n",
       "   'etag': '\"XI7nbFXulYBIpL0ayR_gDh3eu1k/yucqulBHTK9lUHkipcn6sMOWLNU\"',\n",
       "   'id': 'UExsVmpGVk1ldDNPWGZFaTdiMnc1ME9VYzdRTW5wZktxSy4zM0RDMjc1NUJCOTk3QTc4',\n",
       "   'snippet': {'publishedAt': '2018-11-21T20:20:50.000Z',\n",
       "    'channelId': 'UCaeO5vkdj5xOQHp4UmIN6dw',\n",
       "    'title': 'La Di Da Di, We Like To Saudi | The Ben Shapiro Show Ep. 665',\n",
       "    'description': 'President Trump comes out strongly in favor of the Saudis after their alleged murder of a dissident, Trump submits his written answers to the Mueller investigation, and Barack Obama goes off on the Republicans.\\n\\nTo watch the full show live, become a premium subscriber. Join the team!\\xa0https://www.dailywire.com/subscribe\\nLike this video?\\xa0For more Ben Shapiro and Daily Wire content, subscribe to this channel and the Ben Shapiro YouTube channel\\xa0youtube.com/c/benshapiro\\xa0and ring the bell for notifications so you never miss a story!',\n",
       "    'thumbnails': {'default': {'url': 'https://i.ytimg.com/vi/EC7MkwbMtnY/default.jpg',\n",
       "      'width': 120,\n",
       "      'height': 90},\n",
       "     'medium': {'url': 'https://i.ytimg.com/vi/EC7MkwbMtnY/mqdefault.jpg',\n",
       "      'width': 320,\n",
       "      'height': 180},\n",
       "     'high': {'url': 'https://i.ytimg.com/vi/EC7MkwbMtnY/hqdefault.jpg',\n",
       "      'width': 480,\n",
       "      'height': 360},\n",
       "     'standard': {'url': 'https://i.ytimg.com/vi/EC7MkwbMtnY/sddefault.jpg',\n",
       "      'width': 640,\n",
       "      'height': 480},\n",
       "     'maxres': {'url': 'https://i.ytimg.com/vi/EC7MkwbMtnY/maxresdefault.jpg',\n",
       "      'width': 1280,\n",
       "      'height': 720}},\n",
       "    'channelTitle': 'The Daily Wire',\n",
       "    'playlistId': 'PLlVjFVMet3OXfEi7b2w50OUc7QMnpfKqK',\n",
       "    'position': 11,\n",
       "    'resourceId': {'kind': 'youtube#video', 'videoId': 'EC7MkwbMtnY'}},\n",
       "   'contentDetails': {'videoId': 'EC7MkwbMtnY',\n",
       "    'videoPublishedAt': '2018-11-21T20:33:49.000Z'}},\n",
       "  {'kind': 'youtube#playlistItem',\n",
       "   'etag': '\"XI7nbFXulYBIpL0ayR_gDh3eu1k/gRWN6UYhUOp_tU6Lc4gUMpv7_ns\"',\n",
       "   'id': 'UExsVmpGVk1ldDNPWGZFaTdiMnc1ME9VYzdRTW5wZktxSy4yNkEyQjg1MjMxRjZEMThC',\n",
       "   'snippet': {'publishedAt': '2018-11-20T20:20:50.000Z',\n",
       "    'channelId': 'UCaeO5vkdj5xOQHp4UmIN6dw',\n",
       "    'title': 'Hillary’s Email Revenge | Ep. 664',\n",
       "    'description': 'The New York Times asks if Jared and Ivanka are bad Jews, Rolling Stone wonders whether social justice can save astrology, and Democrats are undermining election results.',\n",
       "    'thumbnails': {'default': {'url': 'https://i.ytimg.com/vi/Y3YIUtA3_hI/default.jpg',\n",
       "      'width': 120,\n",
       "      'height': 90},\n",
       "     'medium': {'url': 'https://i.ytimg.com/vi/Y3YIUtA3_hI/mqdefault.jpg',\n",
       "      'width': 320,\n",
       "      'height': 180},\n",
       "     'high': {'url': 'https://i.ytimg.com/vi/Y3YIUtA3_hI/hqdefault.jpg',\n",
       "      'width': 480,\n",
       "      'height': 360},\n",
       "     'standard': {'url': 'https://i.ytimg.com/vi/Y3YIUtA3_hI/sddefault.jpg',\n",
       "      'width': 640,\n",
       "      'height': 480},\n",
       "     'maxres': {'url': 'https://i.ytimg.com/vi/Y3YIUtA3_hI/maxresdefault.jpg',\n",
       "      'width': 1280,\n",
       "      'height': 720}},\n",
       "    'channelTitle': 'The Daily Wire',\n",
       "    'playlistId': 'PLlVjFVMet3OXfEi7b2w50OUc7QMnpfKqK',\n",
       "    'position': 12,\n",
       "    'resourceId': {'kind': 'youtube#video', 'videoId': 'Y3YIUtA3_hI'}},\n",
       "   'contentDetails': {'videoId': 'Y3YIUtA3_hI',\n",
       "    'videoPublishedAt': '2018-11-20T20:34:55.000Z'}},\n",
       "  {'kind': 'youtube#playlistItem',\n",
       "   'etag': '\"XI7nbFXulYBIpL0ayR_gDh3eu1k/9YRwXHTLEe1FELX94fSqCFQugNI\"',\n",
       "   'id': 'UExsVmpGVk1ldDNPWGZFaTdiMnc1ME9VYzdRTW5wZktxSy40RTg2QTYzQzU0QkNFMDdB',\n",
       "   'snippet': {'publishedAt': '2018-11-19T21:34:23.000Z',\n",
       "    'channelId': 'UCaeO5vkdj5xOQHp4UmIN6dw',\n",
       "    'title': 'The New York Slimes | The Ben Shapiro Show Ep. 663',\n",
       "    'description': 'The New York Times asks if Jared and Ivanka are bad Jews, Rolling Stone wonders whether social justice can save astrology, and Democrats are undermining election results.\\n\\nTo watch the full show live, become a premium subscriber. Join the team!\\xa0https://www.dailywire.com/subscribe\\nLike this video?\\xa0For more Ben Shapiro and Daily Wire content, subscribe to this channel and the Ben Shapiro YouTube channel\\xa0youtube.com/c/benshapiro\\xa0and ring the bell for notifications so you never miss a story!',\n",
       "    'thumbnails': {'default': {'url': 'https://i.ytimg.com/vi/8kmIEthE13A/default.jpg',\n",
       "      'width': 120,\n",
       "      'height': 90},\n",
       "     'medium': {'url': 'https://i.ytimg.com/vi/8kmIEthE13A/mqdefault.jpg',\n",
       "      'width': 320,\n",
       "      'height': 180},\n",
       "     'high': {'url': 'https://i.ytimg.com/vi/8kmIEthE13A/hqdefault.jpg',\n",
       "      'width': 480,\n",
       "      'height': 360},\n",
       "     'standard': {'url': 'https://i.ytimg.com/vi/8kmIEthE13A/sddefault.jpg',\n",
       "      'width': 640,\n",
       "      'height': 480},\n",
       "     'maxres': {'url': 'https://i.ytimg.com/vi/8kmIEthE13A/maxresdefault.jpg',\n",
       "      'width': 1280,\n",
       "      'height': 720}},\n",
       "    'channelTitle': 'The Daily Wire',\n",
       "    'playlistId': 'PLlVjFVMet3OXfEi7b2w50OUc7QMnpfKqK',\n",
       "    'position': 13,\n",
       "    'resourceId': {'kind': 'youtube#video', 'videoId': '8kmIEthE13A'}},\n",
       "   'contentDetails': {'videoId': '8kmIEthE13A',\n",
       "    'videoPublishedAt': '2018-11-19T21:54:33.000Z'}},\n",
       "  {'kind': 'youtube#playlistItem',\n",
       "   'etag': '\"XI7nbFXulYBIpL0ayR_gDh3eu1k/pbDN_JkKshBiDlq81W8Hxq47xy8\"',\n",
       "   'id': 'UExsVmpGVk1ldDNPWGZFaTdiMnc1ME9VYzdRTW5wZktxSy5FQzgxQkIyOEMzRUYwN0VC',\n",
       "   'snippet': {'publishedAt': '2018-11-16T21:07:56.000Z',\n",
       "    'channelId': 'UCaeO5vkdj5xOQHp4UmIN6dw',\n",
       "    'title': 'Sunday Special Ep 28: Stephen Harper',\n",
       "    'description': 'Former Canadian Prime Minister Stephen Harper joins Ben to discuss the rise of populism in the U.S. and Canada, the real problem with illegal immigration, and why Donald Trump may just know a thing or two about China and free trade.\\n\\n\\nSubscribe to the Daily Wire to watch the bonus question!\\xa0https://bit.ly/2q0wopL\\n\\nCheck Ben out on:\\nDaily Wire website:\\xa0www.dailywire.com\\nFacebook:\\xa0https://www.facebook.com/officialbenshapiro\\nTwitter:\\xa0https://twitter.com/benshapiro\\nInstagram: @officialbenshapiro\\n\\xa0\\nCheck Stephen Harper out on:\\nFacebook:\\xa0https://www.facebook.com/RtHonStephenHarper/\\nTwitter:https://twitter.com/stephenharper\\nInstagram:\\xa0@StephenHarper',\n",
       "    'thumbnails': {'default': {'url': 'https://i.ytimg.com/vi/nVNw03gyLmk/default.jpg',\n",
       "      'width': 120,\n",
       "      'height': 90},\n",
       "     'medium': {'url': 'https://i.ytimg.com/vi/nVNw03gyLmk/mqdefault.jpg',\n",
       "      'width': 320,\n",
       "      'height': 180},\n",
       "     'high': {'url': 'https://i.ytimg.com/vi/nVNw03gyLmk/hqdefault.jpg',\n",
       "      'width': 480,\n",
       "      'height': 360},\n",
       "     'standard': {'url': 'https://i.ytimg.com/vi/nVNw03gyLmk/sddefault.jpg',\n",
       "      'width': 640,\n",
       "      'height': 480},\n",
       "     'maxres': {'url': 'https://i.ytimg.com/vi/nVNw03gyLmk/maxresdefault.jpg',\n",
       "      'width': 1280,\n",
       "      'height': 720}},\n",
       "    'channelTitle': 'The Daily Wire',\n",
       "    'playlistId': 'PLlVjFVMet3OXfEi7b2w50OUc7QMnpfKqK',\n",
       "    'position': 14,\n",
       "    'resourceId': {'kind': 'youtube#video', 'videoId': 'nVNw03gyLmk'}},\n",
       "   'contentDetails': {'videoId': 'nVNw03gyLmk',\n",
       "    'videoPublishedAt': '2018-11-18T13:00:10.000Z'}},\n",
       "  {'kind': 'youtube#playlistItem',\n",
       "   'etag': '\"XI7nbFXulYBIpL0ayR_gDh3eu1k/qCSyPTLoJnoCYSd5K76hqPNacIQ\"',\n",
       "   'id': 'UExsVmpGVk1ldDNPWGZFaTdiMnc1ME9VYzdRTW5wZktxSy4wRTMyNkVDNDQxQzA2MkZC',\n",
       "   'snippet': {'publishedAt': '2018-11-16T20:47:44.000Z',\n",
       "    'channelId': 'UCaeO5vkdj5xOQHp4UmIN6dw',\n",
       "    'title': 'The Florida Project | The Ben Shapiro Show Ep. 662',\n",
       "    'description': 'Florida’s recount continues to befuddle, the West hits a sex recession, and we check the mailbag.\\n\\nTo watch the full show live, become a premium subscriber. Join the team!\\xa0https://www.dailywire.com/subscribe\\nLike this video?\\xa0For more Ben Shapiro and Daily Wire content, subscribe to this channel and the Ben Shapiro YouTube channel\\xa0youtube.com/c/benshapiro\\xa0and ring the bell for notifications so you never miss a story!',\n",
       "    'thumbnails': {'default': {'url': 'https://i.ytimg.com/vi/xPRBdZUu0OQ/default.jpg',\n",
       "      'width': 120,\n",
       "      'height': 90},\n",
       "     'medium': {'url': 'https://i.ytimg.com/vi/xPRBdZUu0OQ/mqdefault.jpg',\n",
       "      'width': 320,\n",
       "      'height': 180},\n",
       "     'high': {'url': 'https://i.ytimg.com/vi/xPRBdZUu0OQ/hqdefault.jpg',\n",
       "      'width': 480,\n",
       "      'height': 360},\n",
       "     'standard': {'url': 'https://i.ytimg.com/vi/xPRBdZUu0OQ/sddefault.jpg',\n",
       "      'width': 640,\n",
       "      'height': 480},\n",
       "     'maxres': {'url': 'https://i.ytimg.com/vi/xPRBdZUu0OQ/maxresdefault.jpg',\n",
       "      'width': 1280,\n",
       "      'height': 720}},\n",
       "    'channelTitle': 'The Daily Wire',\n",
       "    'playlistId': 'PLlVjFVMet3OXfEi7b2w50OUc7QMnpfKqK',\n",
       "    'position': 15,\n",
       "    'resourceId': {'kind': 'youtube#video', 'videoId': 'xPRBdZUu0OQ'}},\n",
       "   'contentDetails': {'videoId': 'xPRBdZUu0OQ',\n",
       "    'videoPublishedAt': '2018-11-16T20:57:49.000Z'}},\n",
       "  {'kind': 'youtube#playlistItem',\n",
       "   'etag': '\"XI7nbFXulYBIpL0ayR_gDh3eu1k/TGVxS_hE3HFzgPkVv8CHFHJqiLA\"',\n",
       "   'id': 'UExsVmpGVk1ldDNPWGZFaTdiMnc1ME9VYzdRTW5wZktxSy5FNTQ3RDFEREI3QzUzOUJC',\n",
       "   'snippet': {'publishedAt': '2018-11-15T20:10:56.000Z',\n",
       "    'channelId': 'UCaeO5vkdj5xOQHp4UmIN6dw',\n",
       "    'title': 'To Have And Avenatti | The Ben Shapiro Show Ep. 661',\n",
       "    'description': 'Michael Avenatti finds himself on the wrong side of the law, Democrats and Republicans argue over voter fraud, and the first wave of migrants hits the American border.\\n\\nTo watch the full show live, become a premium subscriber. Join the team!\\xa0https://www.dailywire.com/subscribe\\nLike this video?\\xa0For more Ben Shapiro and Daily Wire content, subscribe to this channel and the Ben Shapiro YouTube channel\\xa0youtube.com/c/benshapiro\\xa0and ring the bell for notifications so you never miss a story!',\n",
       "    'thumbnails': {'default': {'url': 'https://i.ytimg.com/vi/iZNJhr2qry0/default.jpg',\n",
       "      'width': 120,\n",
       "      'height': 90},\n",
       "     'medium': {'url': 'https://i.ytimg.com/vi/iZNJhr2qry0/mqdefault.jpg',\n",
       "      'width': 320,\n",
       "      'height': 180},\n",
       "     'high': {'url': 'https://i.ytimg.com/vi/iZNJhr2qry0/hqdefault.jpg',\n",
       "      'width': 480,\n",
       "      'height': 360},\n",
       "     'standard': {'url': 'https://i.ytimg.com/vi/iZNJhr2qry0/sddefault.jpg',\n",
       "      'width': 640,\n",
       "      'height': 480},\n",
       "     'maxres': {'url': 'https://i.ytimg.com/vi/iZNJhr2qry0/maxresdefault.jpg',\n",
       "      'width': 1280,\n",
       "      'height': 720}},\n",
       "    'channelTitle': 'The Daily Wire',\n",
       "    'playlistId': 'PLlVjFVMet3OXfEi7b2w50OUc7QMnpfKqK',\n",
       "    'position': 16,\n",
       "    'resourceId': {'kind': 'youtube#video', 'videoId': 'iZNJhr2qry0'}},\n",
       "   'contentDetails': {'videoId': 'iZNJhr2qry0',\n",
       "    'videoPublishedAt': '2018-11-15T20:10:55.000Z'}},\n",
       "  {'kind': 'youtube#playlistItem',\n",
       "   'etag': '\"XI7nbFXulYBIpL0ayR_gDh3eu1k/33Tqt0kC7phTvDALiMZdxRPHEw8\"',\n",
       "   'id': 'UExsVmpGVk1ldDNPWGZFaTdiMnc1ME9VYzdRTW5wZktxSy5BRjNGOEYwNzI0NUNDMzJE',\n",
       "   'snippet': {'publishedAt': '2018-11-14T21:37:11.000Z',\n",
       "    'channelId': 'UCaeO5vkdj5xOQHp4UmIN6dw',\n",
       "    'title': 'Congress Will Be Fun! | The Ben Shapiro Show Ep. 660',\n",
       "    'description': 'Alexandria Ocasio-Cortez makes her presence known, big Democratic cities engage in big crony capitalism, and the Mueller investigation heats up again.\\n\\nTo watch the full show live, become a premium subscriber. Join the team!\\xa0https://www.dailywire.com/subscribe\\nLike this video?\\xa0For more Ben Shapiro and Daily Wire content, subscribe to this channel and the Ben Shapiro YouTube channel\\xa0youtube.com/c/benshapiro\\xa0and ring the bell for notifications so you never miss a story!',\n",
       "    'thumbnails': {'default': {'url': 'https://i.ytimg.com/vi/whGSgJuLMfQ/default.jpg',\n",
       "      'width': 120,\n",
       "      'height': 90},\n",
       "     'medium': {'url': 'https://i.ytimg.com/vi/whGSgJuLMfQ/mqdefault.jpg',\n",
       "      'width': 320,\n",
       "      'height': 180},\n",
       "     'high': {'url': 'https://i.ytimg.com/vi/whGSgJuLMfQ/hqdefault.jpg',\n",
       "      'width': 480,\n",
       "      'height': 360},\n",
       "     'standard': {'url': 'https://i.ytimg.com/vi/whGSgJuLMfQ/sddefault.jpg',\n",
       "      'width': 640,\n",
       "      'height': 480},\n",
       "     'maxres': {'url': 'https://i.ytimg.com/vi/whGSgJuLMfQ/maxresdefault.jpg',\n",
       "      'width': 1280,\n",
       "      'height': 720}},\n",
       "    'channelTitle': 'The Daily Wire',\n",
       "    'playlistId': 'PLlVjFVMet3OXfEi7b2w50OUc7QMnpfKqK',\n",
       "    'position': 17,\n",
       "    'resourceId': {'kind': 'youtube#video', 'videoId': 'whGSgJuLMfQ'}},\n",
       "   'contentDetails': {'videoId': 'whGSgJuLMfQ',\n",
       "    'videoPublishedAt': '2018-11-14T21:42:12.000Z'}},\n",
       "  {'kind': 'youtube#playlistItem',\n",
       "   'etag': '\"XI7nbFXulYBIpL0ayR_gDh3eu1k/sGfjebhGaUjkEb0UmAhqaUHacg8\"',\n",
       "   'id': 'UExsVmpGVk1ldDNPWGZFaTdiMnc1ME9VYzdRTW5wZktxSy44MjlEMzMwNUQ1OTJFNTFE',\n",
       "   'snippet': {'publishedAt': '2018-11-13T19:37:41.000Z',\n",
       "    'channelId': 'UCaeO5vkdj5xOQHp4UmIN6dw',\n",
       "    'title': 'Welcome To The Jungle | The Ben Shapiro Show Ep. 659',\n",
       "    'description': 'Amazon turns heads by selecting New York and DC as its new second headquarters, the Florida recount efforts get uglier, and President Trump goes after the French.\\n\\nTo watch the full show live, become a premium subscriber. Join the team!\\xa0https://www.dailywire.com/subscribe\\nLike this video?\\xa0For more Ben Shapiro and Daily Wire content, subscribe to this channel and the Ben Shapiro YouTube channel\\xa0youtube.com/c/benshapiro\\xa0and ring the bell for notifications so you never miss a story!',\n",
       "    'thumbnails': {'default': {'url': 'https://i.ytimg.com/vi/RQbwhkIPD9A/default.jpg',\n",
       "      'width': 120,\n",
       "      'height': 90},\n",
       "     'medium': {'url': 'https://i.ytimg.com/vi/RQbwhkIPD9A/mqdefault.jpg',\n",
       "      'width': 320,\n",
       "      'height': 180},\n",
       "     'high': {'url': 'https://i.ytimg.com/vi/RQbwhkIPD9A/hqdefault.jpg',\n",
       "      'width': 480,\n",
       "      'height': 360},\n",
       "     'standard': {'url': 'https://i.ytimg.com/vi/RQbwhkIPD9A/sddefault.jpg',\n",
       "      'width': 640,\n",
       "      'height': 480},\n",
       "     'maxres': {'url': 'https://i.ytimg.com/vi/RQbwhkIPD9A/maxresdefault.jpg',\n",
       "      'width': 1280,\n",
       "      'height': 720}},\n",
       "    'channelTitle': 'The Daily Wire',\n",
       "    'playlistId': 'PLlVjFVMet3OXfEi7b2w50OUc7QMnpfKqK',\n",
       "    'position': 18,\n",
       "    'resourceId': {'kind': 'youtube#video', 'videoId': 'RQbwhkIPD9A'}},\n",
       "   'contentDetails': {'videoId': 'RQbwhkIPD9A',\n",
       "    'videoPublishedAt': '2018-11-13T19:48:52.000Z'}},\n",
       "  {'kind': 'youtube#playlistItem',\n",
       "   'etag': '\"XI7nbFXulYBIpL0ayR_gDh3eu1k/DzMovcXmsC-yAVK3yFC_eLOO78A\"',\n",
       "   'id': 'UExsVmpGVk1ldDNPWGZFaTdiMnc1ME9VYzdRTW5wZktxSy4zNEExNDdDRjNCMkE3QzFF',\n",
       "   'snippet': {'publishedAt': '2018-11-12T22:37:15.000Z',\n",
       "    'channelId': 'UCaeO5vkdj5xOQHp4UmIN6dw',\n",
       "    'title': 'The Future Of Politics | The Ben Shapiro Show Ep. 658',\n",
       "    'description': 'The French Prime Minister attacks President Trump abroad, Democrats prepare to take power, and Republicans struggle for a message.\\n\\nTo watch the full show live, become a premium subscriber. Join the team!\\xa0https://www.dailywire.com/subscribe\\nLike this video?\\xa0For more Ben Shapiro and Daily Wire content, subscribe to this channel and the Ben Shapiro YouTube channel\\xa0youtube.com/c/benshapiro\\xa0and ring the bell for notifications so you never miss a story!',\n",
       "    'thumbnails': {'default': {'url': 'https://i.ytimg.com/vi/pM8yHL-lrC8/default.jpg',\n",
       "      'width': 120,\n",
       "      'height': 90},\n",
       "     'medium': {'url': 'https://i.ytimg.com/vi/pM8yHL-lrC8/mqdefault.jpg',\n",
       "      'width': 320,\n",
       "      'height': 180},\n",
       "     'high': {'url': 'https://i.ytimg.com/vi/pM8yHL-lrC8/hqdefault.jpg',\n",
       "      'width': 480,\n",
       "      'height': 360},\n",
       "     'standard': {'url': 'https://i.ytimg.com/vi/pM8yHL-lrC8/sddefault.jpg',\n",
       "      'width': 640,\n",
       "      'height': 480},\n",
       "     'maxres': {'url': 'https://i.ytimg.com/vi/pM8yHL-lrC8/maxresdefault.jpg',\n",
       "      'width': 1280,\n",
       "      'height': 720}},\n",
       "    'channelTitle': 'The Daily Wire',\n",
       "    'playlistId': 'PLlVjFVMet3OXfEi7b2w50OUc7QMnpfKqK',\n",
       "    'position': 19,\n",
       "    'resourceId': {'kind': 'youtube#video', 'videoId': 'pM8yHL-lrC8'}},\n",
       "   'contentDetails': {'videoId': 'pM8yHL-lrC8',\n",
       "    'videoPublishedAt': '2018-11-12T22:47:45.000Z'}},\n",
       "  {'kind': 'youtube#playlistItem',\n",
       "   'etag': '\"XI7nbFXulYBIpL0ayR_gDh3eu1k/yFmETz3hwKpzLiF_M7ErBSjc0aY\"',\n",
       "   'id': 'UExsVmpGVk1ldDNPWGZFaTdiMnc1ME9VYzdRTW5wZktxSy42RDY4MUYzQUUzNjI0QkQw',\n",
       "   'snippet': {'publishedAt': '2018-11-09T20:38:15.000Z',\n",
       "    'channelId': 'UCaeO5vkdj5xOQHp4UmIN6dw',\n",
       "    'title': 'The Slow Wave | The Ben Shapiro Show Ep. 657',\n",
       "    'description': 'Democrats gain late – seriously late – ground on Republicans, everyone revs up for 2020, and we check the mailbag!\\n\\nTo watch the full show live, become a premium subscriber. Join the team!\\xa0https://www.dailywire.com/subscribe\\nLike this video?\\xa0For more Ben Shapiro and Daily Wire content, subscribe to this channel and the Ben Shapiro YouTube channel\\xa0youtube.com/c/benshapiro\\xa0and ring the bell for notifications so you never miss a story!',\n",
       "    'thumbnails': {'default': {'url': 'https://i.ytimg.com/vi/60CQs9LKW1I/default.jpg',\n",
       "      'width': 120,\n",
       "      'height': 90},\n",
       "     'medium': {'url': 'https://i.ytimg.com/vi/60CQs9LKW1I/mqdefault.jpg',\n",
       "      'width': 320,\n",
       "      'height': 180},\n",
       "     'high': {'url': 'https://i.ytimg.com/vi/60CQs9LKW1I/hqdefault.jpg',\n",
       "      'width': 480,\n",
       "      'height': 360},\n",
       "     'standard': {'url': 'https://i.ytimg.com/vi/60CQs9LKW1I/sddefault.jpg',\n",
       "      'width': 640,\n",
       "      'height': 480},\n",
       "     'maxres': {'url': 'https://i.ytimg.com/vi/60CQs9LKW1I/maxresdefault.jpg',\n",
       "      'width': 1280,\n",
       "      'height': 720}},\n",
       "    'channelTitle': 'The Daily Wire',\n",
       "    'playlistId': 'PLlVjFVMet3OXfEi7b2w50OUc7QMnpfKqK',\n",
       "    'position': 20,\n",
       "    'resourceId': {'kind': 'youtube#video', 'videoId': '60CQs9LKW1I'}},\n",
       "   'contentDetails': {'videoId': '60CQs9LKW1I',\n",
       "    'videoPublishedAt': '2018-11-09T20:51:48.000Z'}},\n",
       "  {'kind': 'youtube#playlistItem',\n",
       "   'etag': '\"XI7nbFXulYBIpL0ayR_gDh3eu1k/JXv6T80BSjf031RbRp5Gxy-m0vg\"',\n",
       "   'id': 'UExsVmpGVk1ldDNPWGZFaTdiMnc1ME9VYzdRTW5wZktxSy5EOEQwNjk3Qzg3MDUwODA2',\n",
       "   'snippet': {'publishedAt': '2018-11-08T19:49:08.000Z',\n",
       "    'channelId': 'UCaeO5vkdj5xOQHp4UmIN6dw',\n",
       "    'title': 'The Day After | The Ben Shapiro Show Ep. 656',\n",
       "    'description': 'President Trump enters into wild battle with the media, Attorney General Jeff Sessions is out, and the Left’s intersectional rage cannot be stifled.\\n\\nTo watch the full show live, become a premium subscriber. Join the team!\\xa0https://www.dailywire.com/subscribe\\nLike this video?\\xa0For more Ben Shapiro and Daily Wire content, subscribe to this channel and the Ben Shapiro YouTube channel\\xa0youtube.com/c/benshapiro\\xa0and ring the bell for notifications so you never miss a story!',\n",
       "    'thumbnails': {'default': {'url': 'https://i.ytimg.com/vi/d39dQdj0WaI/default.jpg',\n",
       "      'width': 120,\n",
       "      'height': 90},\n",
       "     'medium': {'url': 'https://i.ytimg.com/vi/d39dQdj0WaI/mqdefault.jpg',\n",
       "      'width': 320,\n",
       "      'height': 180},\n",
       "     'high': {'url': 'https://i.ytimg.com/vi/d39dQdj0WaI/hqdefault.jpg',\n",
       "      'width': 480,\n",
       "      'height': 360},\n",
       "     'standard': {'url': 'https://i.ytimg.com/vi/d39dQdj0WaI/sddefault.jpg',\n",
       "      'width': 640,\n",
       "      'height': 480},\n",
       "     'maxres': {'url': 'https://i.ytimg.com/vi/d39dQdj0WaI/maxresdefault.jpg',\n",
       "      'width': 1280,\n",
       "      'height': 720}},\n",
       "    'channelTitle': 'The Daily Wire',\n",
       "    'playlistId': 'PLlVjFVMet3OXfEi7b2w50OUc7QMnpfKqK',\n",
       "    'position': 21,\n",
       "    'resourceId': {'kind': 'youtube#video', 'videoId': 'd39dQdj0WaI'}},\n",
       "   'contentDetails': {'videoId': 'd39dQdj0WaI',\n",
       "    'videoPublishedAt': '2018-11-08T19:59:29.000Z'}},\n",
       "  {'kind': 'youtube#playlistItem',\n",
       "   'etag': '\"XI7nbFXulYBIpL0ayR_gDh3eu1k/fw-hwTp1RwQrUud4IEJslL7hyrQ\"',\n",
       "   'id': 'UExsVmpGVk1ldDNPWGZFaTdiMnc1ME9VYzdRTW5wZktxSy43NEQ2OTM1MTY3ODBGQjYz',\n",
       "   'snippet': {'publishedAt': '2018-11-07T20:51:21.000Z',\n",
       "    'channelId': 'UCaeO5vkdj5xOQHp4UmIN6dw',\n",
       "    'title': 'The Great Divide | The Ben Shapiro Show Ep. 655',\n",
       "    'description': 'Republicans gain in the Senate, Democrats win the House, and Election 2020 begins!\\n\\nTo watch the full show live, become a premium subscriber. Join the team!\\xa0https://www.dailywire.com/subscribe\\nLike this video?\\xa0For more Ben Shapiro and Daily Wire content, subscribe to this channel and the Ben Shapiro YouTube channel\\xa0youtube.com/c/benshapiro\\xa0and ring the bell for notifications so you never miss a story!',\n",
       "    'thumbnails': {'default': {'url': 'https://i.ytimg.com/vi/su1w59l8nJQ/default.jpg',\n",
       "      'width': 120,\n",
       "      'height': 90},\n",
       "     'medium': {'url': 'https://i.ytimg.com/vi/su1w59l8nJQ/mqdefault.jpg',\n",
       "      'width': 320,\n",
       "      'height': 180},\n",
       "     'high': {'url': 'https://i.ytimg.com/vi/su1w59l8nJQ/hqdefault.jpg',\n",
       "      'width': 480,\n",
       "      'height': 360},\n",
       "     'standard': {'url': 'https://i.ytimg.com/vi/su1w59l8nJQ/sddefault.jpg',\n",
       "      'width': 640,\n",
       "      'height': 480},\n",
       "     'maxres': {'url': 'https://i.ytimg.com/vi/su1w59l8nJQ/maxresdefault.jpg',\n",
       "      'width': 1280,\n",
       "      'height': 720}},\n",
       "    'channelTitle': 'The Daily Wire',\n",
       "    'playlistId': 'PLlVjFVMet3OXfEi7b2w50OUc7QMnpfKqK',\n",
       "    'position': 22,\n",
       "    'resourceId': {'kind': 'youtube#video', 'videoId': 'su1w59l8nJQ'}},\n",
       "   'contentDetails': {'videoId': 'su1w59l8nJQ',\n",
       "    'videoPublishedAt': '2018-11-07T21:03:25.000Z'}},\n",
       "  {'kind': 'youtube#playlistItem',\n",
       "   'etag': '\"XI7nbFXulYBIpL0ayR_gDh3eu1k/j50jDkdqs_GkOZSz_myP-3kWz-0\"',\n",
       "   'id': 'UExsVmpGVk1ldDNPWGZFaTdiMnc1ME9VYzdRTW5wZktxSy45RjFFRDA0ODEyRjNBMDYy',\n",
       "   'snippet': {'publishedAt': '2018-11-06T22:22:16.000Z',\n",
       "    'channelId': 'UCaeO5vkdj5xOQHp4UmIN6dw',\n",
       "    'title': 'So It Begins | The Ben Shapiro Show Ep. 654',\n",
       "    'description': 'President Trump pitches his record, Democrats pitch Trump’s racism, and the media push themselves as Election Day arrives!\\n\\nTo watch the full show live, become a premium subscriber. Join the team!\\xa0https://www.dailywire.com/subscribe\\nLike this video?\\xa0For more Ben Shapiro and Daily Wire content, subscribe to this channel and the Ben Shapiro YouTube channel\\xa0youtube.com/c/benshapiro\\xa0and ring the bell for notifications so you never miss a story!\\n\\n==============================================================',\n",
       "    'thumbnails': {'default': {'url': 'https://i.ytimg.com/vi/6SQlmhZ9f8M/default.jpg',\n",
       "      'width': 120,\n",
       "      'height': 90},\n",
       "     'medium': {'url': 'https://i.ytimg.com/vi/6SQlmhZ9f8M/mqdefault.jpg',\n",
       "      'width': 320,\n",
       "      'height': 180},\n",
       "     'high': {'url': 'https://i.ytimg.com/vi/6SQlmhZ9f8M/hqdefault.jpg',\n",
       "      'width': 480,\n",
       "      'height': 360},\n",
       "     'standard': {'url': 'https://i.ytimg.com/vi/6SQlmhZ9f8M/sddefault.jpg',\n",
       "      'width': 640,\n",
       "      'height': 480},\n",
       "     'maxres': {'url': 'https://i.ytimg.com/vi/6SQlmhZ9f8M/maxresdefault.jpg',\n",
       "      'width': 1280,\n",
       "      'height': 720}},\n",
       "    'channelTitle': 'The Daily Wire',\n",
       "    'playlistId': 'PLlVjFVMet3OXfEi7b2w50OUc7QMnpfKqK',\n",
       "    'position': 23,\n",
       "    'resourceId': {'kind': 'youtube#video', 'videoId': '6SQlmhZ9f8M'}},\n",
       "   'contentDetails': {'videoId': '6SQlmhZ9f8M',\n",
       "    'videoPublishedAt': '2018-11-06T21:15:11.000Z'}},\n",
       "  {'kind': 'youtube#playlistItem',\n",
       "   'etag': '\"XI7nbFXulYBIpL0ayR_gDh3eu1k/407DVA1otilEoz9d4lZlVUjazpc\"',\n",
       "   'id': 'UExsVmpGVk1ldDNPWGZFaTdiMnc1ME9VYzdRTW5wZktxSy5FNkMxMDc0MzI3QzBFRTU2',\n",
       "   'snippet': {'publishedAt': '2018-11-05T21:08:07.000Z',\n",
       "    'channelId': 'UCaeO5vkdj5xOQHp4UmIN6dw',\n",
       "    'title': 'One Day More | The Ben Shapiro Show Ep. 653',\n",
       "    'description': 'One day until the 2018 midterms, both parties make their closing arguments; we take a look at the latest outbreak of anti-Semitism; and Gloria Steinem and Barbra Streisand are back.\\n\\nTo watch the full show live, become a premium subscriber. Join the team!\\xa0https://www.dailywire.com/subscribe\\nLike this video?\\xa0For more Ben Shapiro and Daily Wire content, subscribe to this channel and the Ben Shapiro YouTube channel\\xa0youtube.com/c/benshapiro\\xa0and ring the bell for notifications so you never miss a story!',\n",
       "    'thumbnails': {'default': {'url': 'https://i.ytimg.com/vi/A1tqTQkC36A/default.jpg',\n",
       "      'width': 120,\n",
       "      'height': 90},\n",
       "     'medium': {'url': 'https://i.ytimg.com/vi/A1tqTQkC36A/mqdefault.jpg',\n",
       "      'width': 320,\n",
       "      'height': 180},\n",
       "     'high': {'url': 'https://i.ytimg.com/vi/A1tqTQkC36A/hqdefault.jpg',\n",
       "      'width': 480,\n",
       "      'height': 360},\n",
       "     'standard': {'url': 'https://i.ytimg.com/vi/A1tqTQkC36A/sddefault.jpg',\n",
       "      'width': 640,\n",
       "      'height': 480},\n",
       "     'maxres': {'url': 'https://i.ytimg.com/vi/A1tqTQkC36A/maxresdefault.jpg',\n",
       "      'width': 1280,\n",
       "      'height': 720}},\n",
       "    'channelTitle': 'The Daily Wire',\n",
       "    'playlistId': 'PLlVjFVMet3OXfEi7b2w50OUc7QMnpfKqK',\n",
       "    'position': 24,\n",
       "    'resourceId': {'kind': 'youtube#video', 'videoId': 'A1tqTQkC36A'}},\n",
       "   'contentDetails': {'videoId': 'A1tqTQkC36A',\n",
       "    'videoPublishedAt': '2018-11-05T21:25:32.000Z'}},\n",
       "  {'kind': 'youtube#playlistItem',\n",
       "   'etag': '\"XI7nbFXulYBIpL0ayR_gDh3eu1k/aBtPUps4fg99ik2ecIpwqsaDcv4\"',\n",
       "   'id': 'UExsVmpGVk1ldDNPWGZFaTdiMnc1ME9VYzdRTW5wZktxSy4yRTZCRTM0NURFNzhFNUZB',\n",
       "   'snippet': {'publishedAt': '2018-11-02T21:16:51.000Z',\n",
       "    'channelId': 'UCaeO5vkdj5xOQHp4UmIN6dw',\n",
       "    'title': 'Sunday\\xa0Special\\xa0Ep 26:\\xa0Tucker Carlson',\n",
       "    'description': 'Tucker Carlson, Fox News host and author of \"Ship of Fools\",\\xa0joins Ben to discuss the social impact of rapid technological advances, what role government should or shouldn\\'t play in the economy, and how both Donald Trump and Bernie Sanders are able to appeal to the same voters.\\n\\nSubscribe to the Daily Wire to watch the bonus question!\\xa0https://bit.ly/2q0wopL\\n\\nCheck Ben out on:\\nDaily Wire website:\\xa0www.dailywire.com\\nFacebook:\\xa0https://www.facebook.com/officialbenshapiro\\nTwitter:\\xa0https://twitter.com/benshapiro\\nInstagram: officialbenshapiro\\n\\xa0\\nCheck\\xa0Tucker Carlson\\xa0out on:\\nFacebook:\\xa0https://www.facebook.com/tuckercarlsonFOX/\\nTwitter:\\xa0https://twitter.co\\nm/TuckerCarlson\\nInstagram:\\xa0@tuckercarlsontonight',\n",
       "    'thumbnails': {'default': {'url': 'https://i.ytimg.com/vi/Bh8vqof9hAk/default.jpg',\n",
       "      'width': 120,\n",
       "      'height': 90},\n",
       "     'medium': {'url': 'https://i.ytimg.com/vi/Bh8vqof9hAk/mqdefault.jpg',\n",
       "      'width': 320,\n",
       "      'height': 180},\n",
       "     'high': {'url': 'https://i.ytimg.com/vi/Bh8vqof9hAk/hqdefault.jpg',\n",
       "      'width': 480,\n",
       "      'height': 360},\n",
       "     'standard': {'url': 'https://i.ytimg.com/vi/Bh8vqof9hAk/sddefault.jpg',\n",
       "      'width': 640,\n",
       "      'height': 480},\n",
       "     'maxres': {'url': 'https://i.ytimg.com/vi/Bh8vqof9hAk/maxresdefault.jpg',\n",
       "      'width': 1280,\n",
       "      'height': 720}},\n",
       "    'channelTitle': 'The Daily Wire',\n",
       "    'playlistId': 'PLlVjFVMet3OXfEi7b2w50OUc7QMnpfKqK',\n",
       "    'position': 25,\n",
       "    'resourceId': {'kind': 'youtube#video', 'videoId': 'Bh8vqof9hAk'}},\n",
       "   'contentDetails': {'videoId': 'Bh8vqof9hAk',\n",
       "    'videoPublishedAt': '2018-11-04T14:00:03.000Z'}},\n",
       "  {'kind': 'youtube#playlistItem',\n",
       "   'etag': '\"XI7nbFXulYBIpL0ayR_gDh3eu1k/B4EF60XLhir-C0LQvZfKMmZLvhA\"',\n",
       "   'id': 'UExsVmpGVk1ldDNPWGZFaTdiMnc1ME9VYzdRTW5wZktxSy45MDgyNjY2MzMwMEFGRDI5',\n",
       "   'snippet': {'publishedAt': '2018-11-02T21:41:16.000Z',\n",
       "    'channelId': 'UCaeO5vkdj5xOQHp4UmIN6dw',\n",
       "    'title': 'The Final Countdown | The Ben Shapiro Show Ep. 652',\n",
       "    'description': 'Four days until Election Day, we assess the state of the race; President Trump goes off on illegal immigration; and we check the mailbag.\\n\\nTo watch the full show live, become a premium subscriber. Join the team!\\xa0https://www.dailywire.com/subscribe\\nLike this video?\\xa0For more Ben Shapiro and Daily Wire content, subscribe to this channel and the Ben Shapiro YouTube channel\\xa0youtube.com/c/benshapiro\\xa0and ring the bell for notifications so you never miss a story!',\n",
       "    'thumbnails': {'default': {'url': 'https://i.ytimg.com/vi/96GFbE-gyto/default.jpg',\n",
       "      'width': 120,\n",
       "      'height': 90},\n",
       "     'medium': {'url': 'https://i.ytimg.com/vi/96GFbE-gyto/mqdefault.jpg',\n",
       "      'width': 320,\n",
       "      'height': 180},\n",
       "     'high': {'url': 'https://i.ytimg.com/vi/96GFbE-gyto/hqdefault.jpg',\n",
       "      'width': 480,\n",
       "      'height': 360},\n",
       "     'standard': {'url': 'https://i.ytimg.com/vi/96GFbE-gyto/sddefault.jpg',\n",
       "      'width': 640,\n",
       "      'height': 480},\n",
       "     'maxres': {'url': 'https://i.ytimg.com/vi/96GFbE-gyto/maxresdefault.jpg',\n",
       "      'width': 1280,\n",
       "      'height': 720}},\n",
       "    'channelTitle': 'The Daily Wire',\n",
       "    'playlistId': 'PLlVjFVMet3OXfEi7b2w50OUc7QMnpfKqK',\n",
       "    'position': 26,\n",
       "    'resourceId': {'kind': 'youtube#video', 'videoId': '96GFbE-gyto'}},\n",
       "   'contentDetails': {'videoId': '96GFbE-gyto',\n",
       "    'videoPublishedAt': '2018-11-02T21:51:22.000Z'}},\n",
       "  {'kind': 'youtube#playlistItem',\n",
       "   'etag': '\"XI7nbFXulYBIpL0ayR_gDh3eu1k/F1WXCWv2Fko6_Su6elHB9I3VqF8\"',\n",
       "   'id': 'UExsVmpGVk1ldDNPWGZFaTdiMnc1ME9VYzdRTW5wZktxSy4yRTVFMEFEOEExQkE2MTA2',\n",
       "   'snippet': {'publishedAt': '2018-11-01T18:12:55.000Z',\n",
       "    'channelId': 'UCaeO5vkdj5xOQHp4UmIN6dw',\n",
       "    'title': 'CARAVAN DOWN BY THE RIVER | The Ben Shapiro Show Ep. 651',\n",
       "    'description': 'President Trump makes his closing argument, Democrats play the racism card, and we talk about Halloween costumes.\\n\\nTo watch the full show live, become a premium subscriber. Join the team!\\xa0https://www.dailywire.com/subscribe\\nLike this video?\\xa0For more Ben Shapiro and Daily Wire content, subscribe to this channel and the Ben Shapiro YouTube channel\\xa0youtube.com/c/benshapiro\\xa0and ring the bell for notifications so you never miss a story!',\n",
       "    'thumbnails': {'default': {'url': 'https://i.ytimg.com/vi/_ar2pwByYus/default.jpg',\n",
       "      'width': 120,\n",
       "      'height': 90},\n",
       "     'medium': {'url': 'https://i.ytimg.com/vi/_ar2pwByYus/mqdefault.jpg',\n",
       "      'width': 320,\n",
       "      'height': 180},\n",
       "     'high': {'url': 'https://i.ytimg.com/vi/_ar2pwByYus/hqdefault.jpg',\n",
       "      'width': 480,\n",
       "      'height': 360},\n",
       "     'standard': {'url': 'https://i.ytimg.com/vi/_ar2pwByYus/sddefault.jpg',\n",
       "      'width': 640,\n",
       "      'height': 480},\n",
       "     'maxres': {'url': 'https://i.ytimg.com/vi/_ar2pwByYus/maxresdefault.jpg',\n",
       "      'width': 1280,\n",
       "      'height': 720}},\n",
       "    'channelTitle': 'The Daily Wire',\n",
       "    'playlistId': 'PLlVjFVMet3OXfEi7b2w50OUc7QMnpfKqK',\n",
       "    'position': 27,\n",
       "    'resourceId': {'kind': 'youtube#video', 'videoId': '_ar2pwByYus'}},\n",
       "   'contentDetails': {'videoId': '_ar2pwByYus',\n",
       "    'videoPublishedAt': '2018-11-01T18:21:17.000Z'}},\n",
       "  {'kind': 'youtube#playlistItem',\n",
       "   'etag': '\"XI7nbFXulYBIpL0ayR_gDh3eu1k/oxCLhyywigsuD_BHHlegGBtsWdw\"',\n",
       "   'id': 'UExsVmpGVk1ldDNPWGZFaTdiMnc1ME9VYzdRTW5wZktxSy5BRjY5MUE1RTNBRkREQzFC',\n",
       "   'snippet': {'publishedAt': '2018-10-31T18:13:45.000Z',\n",
       "    'channelId': 'UCaeO5vkdj5xOQHp4UmIN6dw',\n",
       "    'title': 'Ye, Verily Ye | The Ben Shapiro Show Ep. 650',\n",
       "    'description': 'We lived by the Kanye, we died by the Kanye; a plot to target Robert Mueller spirals out of control; and polarization continues over the Pittsburgh anti-Semitic shooting.\\n\\nTo watch the full show live, become a premium subscriber. Join the team!\\xa0https://www.dailywire.com/subscribe\\nLike this video?\\xa0For more Ben Shapiro and Daily Wire content, subscribe to this channel and the Ben Shapiro YouTube channel\\xa0youtube.com/c/benshapiro\\xa0and ring the bell for notifications so you never miss a story!',\n",
       "    'thumbnails': {'default': {'url': 'https://i.ytimg.com/vi/O4rgBVqnutw/default.jpg',\n",
       "      'width': 120,\n",
       "      'height': 90},\n",
       "     'medium': {'url': 'https://i.ytimg.com/vi/O4rgBVqnutw/mqdefault.jpg',\n",
       "      'width': 320,\n",
       "      'height': 180},\n",
       "     'high': {'url': 'https://i.ytimg.com/vi/O4rgBVqnutw/hqdefault.jpg',\n",
       "      'width': 480,\n",
       "      'height': 360},\n",
       "     'standard': {'url': 'https://i.ytimg.com/vi/O4rgBVqnutw/sddefault.jpg',\n",
       "      'width': 640,\n",
       "      'height': 480},\n",
       "     'maxres': {'url': 'https://i.ytimg.com/vi/O4rgBVqnutw/maxresdefault.jpg',\n",
       "      'width': 1280,\n",
       "      'height': 720}},\n",
       "    'channelTitle': 'The Daily Wire',\n",
       "    'playlistId': 'PLlVjFVMet3OXfEi7b2w50OUc7QMnpfKqK',\n",
       "    'position': 28,\n",
       "    'resourceId': {'kind': 'youtube#video', 'videoId': 'O4rgBVqnutw'}},\n",
       "   'contentDetails': {'videoId': 'O4rgBVqnutw',\n",
       "    'videoPublishedAt': '2018-10-31T18:25:38.000Z'}},\n",
       "  {'kind': 'youtube#playlistItem',\n",
       "   'etag': '\"XI7nbFXulYBIpL0ayR_gDh3eu1k/UaboAHTDZU8e_V0JdiLJie0pYIM\"',\n",
       "   'id': 'UExsVmpGVk1ldDNPWGZFaTdiMnc1ME9VYzdRTW5wZktxSy5GNzQ2Q0EzRDA2RDU0OUU3',\n",
       "   'snippet': {'publishedAt': '2018-10-30T18:22:20.000Z',\n",
       "    'channelId': 'UCaeO5vkdj5xOQHp4UmIN6dw',\n",
       "    'title': 'The Knowledge Of Good And Evil | The Ben Shapiro Show Ep. 649',\n",
       "    'description': 'We investigate the nature of anti-Semitism, talk about the relationship between rhetoric and violence, and examine the Trump/Media War.\\n\\nTo watch the full show live, become a premium subscriber. Join the team!\\xa0https://www.dailywire.com/subscribe\\nLike this video?\\xa0For more Ben Shapiro and Daily Wire content, subscribe to this channel and the Ben Shapiro YouTube channel\\xa0youtube.com/c/benshapiro\\xa0and ring the bell for notifications so you never miss a story!',\n",
       "    'thumbnails': {'default': {'url': 'https://i.ytimg.com/vi/vkWV9g-RXmA/default.jpg',\n",
       "      'width': 120,\n",
       "      'height': 90},\n",
       "     'medium': {'url': 'https://i.ytimg.com/vi/vkWV9g-RXmA/mqdefault.jpg',\n",
       "      'width': 320,\n",
       "      'height': 180},\n",
       "     'high': {'url': 'https://i.ytimg.com/vi/vkWV9g-RXmA/hqdefault.jpg',\n",
       "      'width': 480,\n",
       "      'height': 360},\n",
       "     'standard': {'url': 'https://i.ytimg.com/vi/vkWV9g-RXmA/sddefault.jpg',\n",
       "      'width': 640,\n",
       "      'height': 480},\n",
       "     'maxres': {'url': 'https://i.ytimg.com/vi/vkWV9g-RXmA/maxresdefault.jpg',\n",
       "      'width': 1280,\n",
       "      'height': 720}},\n",
       "    'channelTitle': 'The Daily Wire',\n",
       "    'playlistId': 'PLlVjFVMet3OXfEi7b2w50OUc7QMnpfKqK',\n",
       "    'position': 29,\n",
       "    'resourceId': {'kind': 'youtube#video', 'videoId': 'vkWV9g-RXmA'}},\n",
       "   'contentDetails': {'videoId': 'vkWV9g-RXmA',\n",
       "    'videoPublishedAt': '2018-10-30T18:32:20.000Z'}},\n",
       "  {'kind': 'youtube#playlistItem',\n",
       "   'etag': '\"XI7nbFXulYBIpL0ayR_gDh3eu1k/acLvOOUVjA4CcGcovqE5-BXHFBE\"',\n",
       "   'id': 'UExsVmpGVk1ldDNPWGZFaTdiMnc1ME9VYzdRTW5wZktxSy4yNkE5QUNGQTVDQzc4NEZB',\n",
       "   'snippet': {'publishedAt': '2018-10-29T18:03:07.000Z',\n",
       "    'channelId': 'UCaeO5vkdj5xOQHp4UmIN6dw',\n",
       "    'title': 'The Tree Of Life | The Ben Shapiro Show Ep. 648',\n",
       "    'description': 'The worst anti-Semitic shooting in American history rocks the country, the Left blame Trump, and a populist wins a shocking victory in Brazil.\\n\\nTo watch the full show live, become a premium subscriber. Join the team!\\xa0https://www.dailywire.com/subscribe\\nLike this video?\\xa0For more Ben Shapiro and Daily Wire content, subscribe to this channel and the Ben Shapiro YouTube channel\\xa0youtube.com/c/benshapiro\\xa0and ring the bell for notifications so you never miss a story!',\n",
       "    'thumbnails': {'default': {'url': 'https://i.ytimg.com/vi/FeO8SPxdvyU/default.jpg',\n",
       "      'width': 120,\n",
       "      'height': 90},\n",
       "     'medium': {'url': 'https://i.ytimg.com/vi/FeO8SPxdvyU/mqdefault.jpg',\n",
       "      'width': 320,\n",
       "      'height': 180},\n",
       "     'high': {'url': 'https://i.ytimg.com/vi/FeO8SPxdvyU/hqdefault.jpg',\n",
       "      'width': 480,\n",
       "      'height': 360},\n",
       "     'standard': {'url': 'https://i.ytimg.com/vi/FeO8SPxdvyU/sddefault.jpg',\n",
       "      'width': 640,\n",
       "      'height': 480},\n",
       "     'maxres': {'url': 'https://i.ytimg.com/vi/FeO8SPxdvyU/maxresdefault.jpg',\n",
       "      'width': 1280,\n",
       "      'height': 720}},\n",
       "    'channelTitle': 'The Daily Wire',\n",
       "    'playlistId': 'PLlVjFVMet3OXfEi7b2w50OUc7QMnpfKqK',\n",
       "    'position': 30,\n",
       "    'resourceId': {'kind': 'youtube#video', 'videoId': 'FeO8SPxdvyU'}},\n",
       "   'contentDetails': {'videoId': 'FeO8SPxdvyU',\n",
       "    'videoPublishedAt': '2018-10-29T18:08:11.000Z'}},\n",
       "  {'kind': 'youtube#playlistItem',\n",
       "   'etag': '\"XI7nbFXulYBIpL0ayR_gDh3eu1k/W3H5yG7mTfj1fGMF4G004k6xfDg\"',\n",
       "   'id': 'UExsVmpGVk1ldDNPWGZFaTdiMnc1ME9VYzdRTW5wZktxSy43RUQ0OENDRUFGNjEwNTlD',\n",
       "   'snippet': {'publishedAt': '2018-10-26T15:46:40.000Z',\n",
       "    'channelId': 'UCaeO5vkdj5xOQHp4UmIN6dw',\n",
       "    'title': 'Sunday\\xa0Special\\xa0Ep 25:\\xa0Scott Adams',\n",
       "    'description': 'Scott Adams, the creator of Dilbert and author of \"Win Bigly,\" joins Ben Shapiro to share his insights on Donald Trump, why he thinks the President is such an effective communicator, and which Democrats could be a serious threat in 2020.\\n\\n\\nSubscribe to the Daily Wire to watch the bonus question!\\xa0https://bit.ly/2q0wopL\\n\\nCheck Ben out on:\\nDaily Wire website:\\xa0www.dailywire.com\\nFacebook:\\xa0https://www.facebook.com/officialbenshapiro\\nTwitter:\\xa0https://twitter.com/benshapiro\\nInstagram: officialbenshapiro\\n\\xa0\\nCheck\\xa0Scott Adams\\xa0out on:\\nTwitter:\\xa0https://twitter.com/ScottAdamsSays',\n",
       "    'thumbnails': {'default': {'url': 'https://i.ytimg.com/vi/4_dwx7p8eCc/default.jpg',\n",
       "      'width': 120,\n",
       "      'height': 90},\n",
       "     'medium': {'url': 'https://i.ytimg.com/vi/4_dwx7p8eCc/mqdefault.jpg',\n",
       "      'width': 320,\n",
       "      'height': 180},\n",
       "     'high': {'url': 'https://i.ytimg.com/vi/4_dwx7p8eCc/hqdefault.jpg',\n",
       "      'width': 480,\n",
       "      'height': 360},\n",
       "     'standard': {'url': 'https://i.ytimg.com/vi/4_dwx7p8eCc/sddefault.jpg',\n",
       "      'width': 640,\n",
       "      'height': 480},\n",
       "     'maxres': {'url': 'https://i.ytimg.com/vi/4_dwx7p8eCc/maxresdefault.jpg',\n",
       "      'width': 1280,\n",
       "      'height': 720}},\n",
       "    'channelTitle': 'The Daily Wire',\n",
       "    'playlistId': 'PLlVjFVMet3OXfEi7b2w50OUc7QMnpfKqK',\n",
       "    'position': 31,\n",
       "    'resourceId': {'kind': 'youtube#video', 'videoId': '4_dwx7p8eCc'}},\n",
       "   'contentDetails': {'videoId': '4_dwx7p8eCc',\n",
       "    'videoPublishedAt': '2018-10-28T12:19:09.000Z'}},\n",
       "  {'kind': 'youtube#playlistItem',\n",
       "   'etag': '\"XI7nbFXulYBIpL0ayR_gDh3eu1k/Ys_OUHzhd9EPhPfWnb5lycMprEs\"',\n",
       "   'id': 'UExsVmpGVk1ldDNPWGZFaTdiMnc1ME9VYzdRTW5wZktxSy42NTU3MUQxMEE0NTMxREEy',\n",
       "   'snippet': {'publishedAt': '2018-10-26T20:36:14.000Z',\n",
       "    'channelId': 'UCaeO5vkdj5xOQHp4UmIN6dw',\n",
       "    'title': 'Mail Bomber Identified: A Crazy Person | The Ben Shapiro Show Ep. 647',\n",
       "    'description': 'The authorities arrest the alleged mail bomber, the media demonstrate that they have no intention of abandoning their bias, and we check the mailbag.\\n\\nTo watch the full show live, become a premium subscriber. Join the team!\\xa0https://www.dailywire.com/subscribe\\nLike this video?\\xa0For more Ben Shapiro and Daily Wire content, subscribe to this channel and the Ben Shapiro YouTube channel\\xa0youtube.com/c/benshapiro\\xa0and ring the bell for notifications so you never miss a story!',\n",
       "    'thumbnails': {'default': {'url': 'https://i.ytimg.com/vi/IV6zw82YrlM/default.jpg',\n",
       "      'width': 120,\n",
       "      'height': 90},\n",
       "     'medium': {'url': 'https://i.ytimg.com/vi/IV6zw82YrlM/mqdefault.jpg',\n",
       "      'width': 320,\n",
       "      'height': 180},\n",
       "     'high': {'url': 'https://i.ytimg.com/vi/IV6zw82YrlM/hqdefault.jpg',\n",
       "      'width': 480,\n",
       "      'height': 360},\n",
       "     'standard': {'url': 'https://i.ytimg.com/vi/IV6zw82YrlM/sddefault.jpg',\n",
       "      'width': 640,\n",
       "      'height': 480},\n",
       "     'maxres': {'url': 'https://i.ytimg.com/vi/IV6zw82YrlM/maxresdefault.jpg',\n",
       "      'width': 1280,\n",
       "      'height': 720}},\n",
       "    'channelTitle': 'The Daily Wire',\n",
       "    'playlistId': 'PLlVjFVMet3OXfEi7b2w50OUc7QMnpfKqK',\n",
       "    'position': 32,\n",
       "    'resourceId': {'kind': 'youtube#video', 'videoId': 'IV6zw82YrlM'}},\n",
       "   'contentDetails': {'videoId': 'IV6zw82YrlM',\n",
       "    'videoPublishedAt': '2018-10-26T20:50:24.000Z'}},\n",
       "  {'kind': 'youtube#playlistItem',\n",
       "   'etag': '\"XI7nbFXulYBIpL0ayR_gDh3eu1k/32GKsSam02QKlKIeeIMmwLCcciY\"',\n",
       "   'id': 'UExsVmpGVk1ldDNPWGZFaTdiMnc1ME9VYzdRTW5wZktxSy4wQTUyMDI4MTNCQkM2RkZF',\n",
       "   'snippet': {'publishedAt': '2018-10-25T18:22:01.000Z',\n",
       "    'channelId': 'UCaeO5vkdj5xOQHp4UmIN6dw',\n",
       "    'title': 'The Great Leap Backward | The Ben Shapiro Show Ep. 646',\n",
       "    'description': 'As the nation reels from a spate of attempted mail bombings, Democrats and the media blame Trump; Trump fights back; and the stock market tumbles.\\n\\nTo watch the full show live, become a premium subscriber. Join the team!\\xa0https://www.dailywire.com/subscribe\\nLike this video?\\xa0For more Ben Shapiro and Daily Wire content, subscribe to this channel and the Ben Shapiro YouTube channel\\xa0youtube.com/c/benshapiro\\xa0and ring the bell for notifications so you never miss a story!',\n",
       "    'thumbnails': {'default': {'url': 'https://i.ytimg.com/vi/UibdfEbZNSU/default.jpg',\n",
       "      'width': 120,\n",
       "      'height': 90},\n",
       "     'medium': {'url': 'https://i.ytimg.com/vi/UibdfEbZNSU/mqdefault.jpg',\n",
       "      'width': 320,\n",
       "      'height': 180},\n",
       "     'high': {'url': 'https://i.ytimg.com/vi/UibdfEbZNSU/hqdefault.jpg',\n",
       "      'width': 480,\n",
       "      'height': 360},\n",
       "     'standard': {'url': 'https://i.ytimg.com/vi/UibdfEbZNSU/sddefault.jpg',\n",
       "      'width': 640,\n",
       "      'height': 480},\n",
       "     'maxres': {'url': 'https://i.ytimg.com/vi/UibdfEbZNSU/maxresdefault.jpg',\n",
       "      'width': 1280,\n",
       "      'height': 720}},\n",
       "    'channelTitle': 'The Daily Wire',\n",
       "    'playlistId': 'PLlVjFVMet3OXfEi7b2w50OUc7QMnpfKqK',\n",
       "    'position': 33,\n",
       "    'resourceId': {'kind': 'youtube#video', 'videoId': 'UibdfEbZNSU'}},\n",
       "   'contentDetails': {'videoId': 'UibdfEbZNSU',\n",
       "    'videoPublishedAt': '2018-10-25T18:29:26.000Z'}},\n",
       "  {'kind': 'youtube#playlistItem',\n",
       "   'etag': '\"XI7nbFXulYBIpL0ayR_gDh3eu1k/N0pFv0Nym6znkIrNXnSwB4qnVUs\"',\n",
       "   'id': 'UExsVmpGVk1ldDNPWGZFaTdiMnc1ME9VYzdRTW5wZktxSy45NzlEQTJENUEyOUE3REFG',\n",
       "   'snippet': {'publishedAt': '2018-10-24T18:21:43.000Z',\n",
       "    'channelId': 'UCaeO5vkdj5xOQHp4UmIN6dw',\n",
       "    'title': 'The Question Of Motives | The Ben Shapiro Show Ep. 645',\n",
       "    'description': 'Megyn Kelly gets into hot water for ill-advised comments about Halloween costumes, President Trump comes under fire for stating that he’s a nationalist, and the caravan controversy continues.\\n\\nTo watch the full show live, become a premium subscriber. Join the team!\\xa0https://www.dailywire.com/subscribe\\nLike this video?\\xa0For more Ben Shapiro and Daily Wire content, subscribe to this channel and the Ben Shapiro YouTube channel\\xa0youtube.com/c/benshapiro\\xa0and ring the bell for notifications so you never miss a story!',\n",
       "    'thumbnails': {'default': {'url': 'https://i.ytimg.com/vi/0Uj1PfMA8yk/default.jpg',\n",
       "      'width': 120,\n",
       "      'height': 90},\n",
       "     'medium': {'url': 'https://i.ytimg.com/vi/0Uj1PfMA8yk/mqdefault.jpg',\n",
       "      'width': 320,\n",
       "      'height': 180},\n",
       "     'high': {'url': 'https://i.ytimg.com/vi/0Uj1PfMA8yk/hqdefault.jpg',\n",
       "      'width': 480,\n",
       "      'height': 360},\n",
       "     'standard': {'url': 'https://i.ytimg.com/vi/0Uj1PfMA8yk/sddefault.jpg',\n",
       "      'width': 640,\n",
       "      'height': 480},\n",
       "     'maxres': {'url': 'https://i.ytimg.com/vi/0Uj1PfMA8yk/maxresdefault.jpg',\n",
       "      'width': 1280,\n",
       "      'height': 720}},\n",
       "    'channelTitle': 'The Daily Wire',\n",
       "    'playlistId': 'PLlVjFVMet3OXfEi7b2w50OUc7QMnpfKqK',\n",
       "    'position': 34,\n",
       "    'resourceId': {'kind': 'youtube#video', 'videoId': '0Uj1PfMA8yk'}},\n",
       "   'contentDetails': {'videoId': '0Uj1PfMA8yk',\n",
       "    'videoPublishedAt': '2018-10-24T18:29:35.000Z'}},\n",
       "  {'kind': 'youtube#playlistItem',\n",
       "   'etag': '\"XI7nbFXulYBIpL0ayR_gDh3eu1k/kl-wi7HSNZs_WEz8YQVdtGKNB84\"',\n",
       "   'id': 'UExsVmpGVk1ldDNPWGZFaTdiMnc1ME9VYzdRTW5wZktxSy41M0I1MTE3REEwNkZEMDIw',\n",
       "   'snippet': {'publishedAt': '2018-10-23T18:31:13.000Z',\n",
       "    'channelId': 'UCaeO5vkdj5xOQHp4UmIN6dw',\n",
       "    'title': 'The New Democratic Agenda | The Ben Shapiro Show Ep. 644',\n",
       "    'description': 'Barack Obama’s back with his take on 2018, Hillary Clinton learns to love federalism, and the anti-science agenda takes center stage.\\n\\nTo watch the full show live, become a premium subscriber. Join the team!\\xa0https://www.dailywire.com/subscribe\\nLike this video?\\xa0For more Ben Shapiro and Daily Wire content, subscribe to this channel and the Ben Shapiro YouTube channel\\xa0youtube.com/c/benshapiro\\xa0and ring the bell for notifications so you never miss a story!',\n",
       "    'thumbnails': {'default': {'url': 'https://i.ytimg.com/vi/b8ia9IYTY78/default.jpg',\n",
       "      'width': 120,\n",
       "      'height': 90},\n",
       "     'medium': {'url': 'https://i.ytimg.com/vi/b8ia9IYTY78/mqdefault.jpg',\n",
       "      'width': 320,\n",
       "      'height': 180},\n",
       "     'high': {'url': 'https://i.ytimg.com/vi/b8ia9IYTY78/hqdefault.jpg',\n",
       "      'width': 480,\n",
       "      'height': 360},\n",
       "     'standard': {'url': 'https://i.ytimg.com/vi/b8ia9IYTY78/sddefault.jpg',\n",
       "      'width': 640,\n",
       "      'height': 480},\n",
       "     'maxres': {'url': 'https://i.ytimg.com/vi/b8ia9IYTY78/maxresdefault.jpg',\n",
       "      'width': 1280,\n",
       "      'height': 720}},\n",
       "    'channelTitle': 'The Daily Wire',\n",
       "    'playlistId': 'PLlVjFVMet3OXfEi7b2w50OUc7QMnpfKqK',\n",
       "    'position': 35,\n",
       "    'resourceId': {'kind': 'youtube#video', 'videoId': 'b8ia9IYTY78'}},\n",
       "   'contentDetails': {'videoId': 'b8ia9IYTY78',\n",
       "    'videoPublishedAt': '2018-10-23T18:44:00.000Z'}},\n",
       "  {'kind': 'youtube#playlistItem',\n",
       "   'etag': '\"XI7nbFXulYBIpL0ayR_gDh3eu1k/S_RBXWOi1pmrMqySsmdPVqWNpng\"',\n",
       "   'id': 'UExsVmpGVk1ldDNPWGZFaTdiMnc1ME9VYzdRTW5wZktxSy4zREU5RTk2QUMzMERDOTdD',\n",
       "   'snippet': {'publishedAt': '2018-10-22T18:49:16.000Z',\n",
       "    'channelId': 'UCaeO5vkdj5xOQHp4UmIN6dw',\n",
       "    'title': 'The Republicans’ Best Friend | The Ben Shapiro Show Ep. 643',\n",
       "    'description': 'President Trump’s approval rating jumps, migrants approach the southern border, and the Left goes ballistic over the Department of Education’s approach to sex and gender.\\n\\nTo watch the full show live, become a premium subscriber. Join the team!\\xa0https://www.dailywire.com/subscribe\\nLike this video?\\xa0For more Ben Shapiro and Daily Wire content, subscribe to this channel and the Ben Shapiro YouTube channel\\xa0youtube.com/c/benshapiro\\xa0and ring the bell for notifications so you never miss a story!',\n",
       "    'thumbnails': {'default': {'url': 'https://i.ytimg.com/vi/5GmUQj22sjI/default.jpg',\n",
       "      'width': 120,\n",
       "      'height': 90},\n",
       "     'medium': {'url': 'https://i.ytimg.com/vi/5GmUQj22sjI/mqdefault.jpg',\n",
       "      'width': 320,\n",
       "      'height': 180},\n",
       "     'high': {'url': 'https://i.ytimg.com/vi/5GmUQj22sjI/hqdefault.jpg',\n",
       "      'width': 480,\n",
       "      'height': 360},\n",
       "     'standard': {'url': 'https://i.ytimg.com/vi/5GmUQj22sjI/sddefault.jpg',\n",
       "      'width': 640,\n",
       "      'height': 480},\n",
       "     'maxres': {'url': 'https://i.ytimg.com/vi/5GmUQj22sjI/maxresdefault.jpg',\n",
       "      'width': 1280,\n",
       "      'height': 720}},\n",
       "    'channelTitle': 'The Daily Wire',\n",
       "    'playlistId': 'PLlVjFVMet3OXfEi7b2w50OUc7QMnpfKqK',\n",
       "    'position': 36,\n",
       "    'resourceId': {'kind': 'youtube#video', 'videoId': '5GmUQj22sjI'}},\n",
       "   'contentDetails': {'videoId': '5GmUQj22sjI',\n",
       "    'videoPublishedAt': '2018-10-22T18:51:14.000Z'}},\n",
       "  {'kind': 'youtube#playlistItem',\n",
       "   'etag': '\"XI7nbFXulYBIpL0ayR_gDh3eu1k/VIetY_TW449FkJ0OwIh4JBhshc4\"',\n",
       "   'id': 'UExsVmpGVk1ldDNPWGZFaTdiMnc1ME9VYzdRTW5wZktxSy41QTI4RTRDNjFGRjEzQkVC',\n",
       "   'snippet': {'publishedAt': '2018-10-19T22:46:04.000Z',\n",
       "    'channelId': 'UCaeO5vkdj5xOQHp4UmIN6dw',\n",
       "    'title': 'Sunday\\xa0Special\\xa0Ep 24:\\xa0Andrew Klavan',\n",
       "    'description': 'Author, screenwriter, and Daily Wire host\\xa0Andrew\\xa0Klavan\\xa0joins me to discuss the craft of writing novels, how he went from being \"intellectually agnostic\" to deeply religious, and why he decided to out himself as a conservative Christian in Hollywood.\\n\\nSubscribe to the Daily Wire to watch the bonus question!\\xa0https://bit.ly/2q0wopL\\nCheck out Andrew Klavan\\'s fictional podcast Another Kingdom here:\\xa0https://bit.ly/2S0BzTf\\n\\nCheck Ben out on:\\nDaily Wire website:\\xa0www.dailywire.com\\nFacebook:\\xa0https://www.facebook.com/officialbenshapiro\\nTwitter:\\xa0https://twitter.com/benshapiro\\nInstagram: officialbenshapiro\\n\\xa0\\nCheck\\xa0Andrew Klavan\\xa0out on:\\nTwitter:\\xa0https://twitter.com/andrewklavan\\nFacebook:\\xa0https://www.facebook.com/aklavan/\\nYouTube:\\xa0https://www.youtube.com/channel/UCyhEZKz-LOwgktptEOh6_Iw\\nInstagram: theandrewklavan',\n",
       "    'thumbnails': {'default': {'url': 'https://i.ytimg.com/vi/9VEiR3GTFd0/default.jpg',\n",
       "      'width': 120,\n",
       "      'height': 90},\n",
       "     'medium': {'url': 'https://i.ytimg.com/vi/9VEiR3GTFd0/mqdefault.jpg',\n",
       "      'width': 320,\n",
       "      'height': 180},\n",
       "     'high': {'url': 'https://i.ytimg.com/vi/9VEiR3GTFd0/hqdefault.jpg',\n",
       "      'width': 480,\n",
       "      'height': 360},\n",
       "     'standard': {'url': 'https://i.ytimg.com/vi/9VEiR3GTFd0/sddefault.jpg',\n",
       "      'width': 640,\n",
       "      'height': 480},\n",
       "     'maxres': {'url': 'https://i.ytimg.com/vi/9VEiR3GTFd0/maxresdefault.jpg',\n",
       "      'width': 1280,\n",
       "      'height': 720}},\n",
       "    'channelTitle': 'The Daily Wire',\n",
       "    'playlistId': 'PLlVjFVMet3OXfEi7b2w50OUc7QMnpfKqK',\n",
       "    'position': 37,\n",
       "    'resourceId': {'kind': 'youtube#video', 'videoId': '9VEiR3GTFd0'}},\n",
       "   'contentDetails': {'videoId': '9VEiR3GTFd0',\n",
       "    'videoPublishedAt': '2018-10-21T12:00:01.000Z'}},\n",
       "  {'kind': 'youtube#playlistItem',\n",
       "   'etag': '\"XI7nbFXulYBIpL0ayR_gDh3eu1k/pfrPqwX-4AXwZ40fSh5eJmlvH24\"',\n",
       "   'id': 'UExsVmpGVk1ldDNPWGZFaTdiMnc1ME9VYzdRTW5wZktxSy41RDk5QUEyN0Q3NUUwMzM1',\n",
       "   'snippet': {'publishedAt': '2018-10-19T18:23:28.000Z',\n",
       "    'channelId': 'UCaeO5vkdj5xOQHp4UmIN6dw',\n",
       "    'title': 'The She-Woman Men Haters Club | The Ben Shapiro Show Ep. 642',\n",
       "    'description': 'Radical feminists unveil their agenda, President Trump lauds violence, and we check the mailbag.\\n\\nTo watch the full show live, become a premium subscriber. Join the team!\\xa0https://www.dailywire.com/subscribe\\nLike this video?\\xa0For more Ben Shapiro and Daily Wire content, subscribe to this channel and the Ben Shapiro YouTube channel\\xa0youtube.com/c/benshapiro\\xa0and ring the bell for notifications so you never miss a story!',\n",
       "    'thumbnails': {'default': {'url': 'https://i.ytimg.com/vi/XO2SzWJ-VGI/default.jpg',\n",
       "      'width': 120,\n",
       "      'height': 90},\n",
       "     'medium': {'url': 'https://i.ytimg.com/vi/XO2SzWJ-VGI/mqdefault.jpg',\n",
       "      'width': 320,\n",
       "      'height': 180},\n",
       "     'high': {'url': 'https://i.ytimg.com/vi/XO2SzWJ-VGI/hqdefault.jpg',\n",
       "      'width': 480,\n",
       "      'height': 360},\n",
       "     'standard': {'url': 'https://i.ytimg.com/vi/XO2SzWJ-VGI/sddefault.jpg',\n",
       "      'width': 640,\n",
       "      'height': 480},\n",
       "     'maxres': {'url': 'https://i.ytimg.com/vi/XO2SzWJ-VGI/maxresdefault.jpg',\n",
       "      'width': 1280,\n",
       "      'height': 720}},\n",
       "    'channelTitle': 'The Daily Wire',\n",
       "    'playlistId': 'PLlVjFVMet3OXfEi7b2w50OUc7QMnpfKqK',\n",
       "    'position': 38,\n",
       "    'resourceId': {'kind': 'youtube#video', 'videoId': 'XO2SzWJ-VGI'}},\n",
       "   'contentDetails': {'videoId': 'XO2SzWJ-VGI',\n",
       "    'videoPublishedAt': '2018-10-19T18:24:09.000Z'}},\n",
       "  {'kind': 'youtube#playlistItem',\n",
       "   'etag': '\"XI7nbFXulYBIpL0ayR_gDh3eu1k/XETvsX9jjYL2ToWa589_e6MZx9o\"',\n",
       "   'id': 'UExsVmpGVk1ldDNPWGZFaTdiMnc1ME9VYzdRTW5wZktxSy45Rjk4MTYwNkM1RTk5QTNG',\n",
       "   'snippet': {'publishedAt': '2018-10-18T18:45:50.000Z',\n",
       "    'channelId': 'UCaeO5vkdj5xOQHp4UmIN6dw',\n",
       "    'title': 'The Attack On Capitalism | The Ben Shapiro Show Ep. 641',\n",
       "    'description': 'The attack on capitalism ramps up, scientists fear the alt-right, and the media can’t get over horseface.\\n\\nTo watch the full show live, become a premium subscriber. Join the team!\\xa0https://www.dailywire.com/subscribe\\nLike this video?\\xa0For more Ben Shapiro and Daily Wire content, subscribe to this channel and the Ben Shapiro YouTube channel\\xa0youtube.com/c/benshapiro\\xa0and ring the bell for notifications so you never miss a story!',\n",
       "    'thumbnails': {'default': {'url': 'https://i.ytimg.com/vi/JnLaPahzQT8/default.jpg',\n",
       "      'width': 120,\n",
       "      'height': 90},\n",
       "     'medium': {'url': 'https://i.ytimg.com/vi/JnLaPahzQT8/mqdefault.jpg',\n",
       "      'width': 320,\n",
       "      'height': 180},\n",
       "     'high': {'url': 'https://i.ytimg.com/vi/JnLaPahzQT8/hqdefault.jpg',\n",
       "      'width': 480,\n",
       "      'height': 360},\n",
       "     'standard': {'url': 'https://i.ytimg.com/vi/JnLaPahzQT8/sddefault.jpg',\n",
       "      'width': 640,\n",
       "      'height': 480},\n",
       "     'maxres': {'url': 'https://i.ytimg.com/vi/JnLaPahzQT8/maxresdefault.jpg',\n",
       "      'width': 1280,\n",
       "      'height': 720}},\n",
       "    'channelTitle': 'The Daily Wire',\n",
       "    'playlistId': 'PLlVjFVMet3OXfEi7b2w50OUc7QMnpfKqK',\n",
       "    'position': 39,\n",
       "    'resourceId': {'kind': 'youtube#video', 'videoId': 'JnLaPahzQT8'}},\n",
       "   'contentDetails': {'videoId': 'JnLaPahzQT8',\n",
       "    'videoPublishedAt': '2018-10-18T18:52:56.000Z'}},\n",
       "  {'kind': 'youtube#playlistItem',\n",
       "   'etag': '\"XI7nbFXulYBIpL0ayR_gDh3eu1k/IuFEeP9LDCr70JsOEhmV_TiIaLg\"',\n",
       "   'id': 'UExsVmpGVk1ldDNPWGZFaTdiMnc1ME9VYzdRTW5wZktxSy42QjkxQzlGNTZERTRFODZE',\n",
       "   'snippet': {'publishedAt': '2018-10-17T18:25:58.000Z',\n",
       "    'channelId': 'UCaeO5vkdj5xOQHp4UmIN6dw',\n",
       "    'title': 'The Saudi Conundrum | The Ben Shapiro Show Ep. 640',\n",
       "    'description': 'President Trump struggles to deal with the fallout from the alleged Saudi murder of a dissident, and Trump battles it out with Stormy Daniels.\\n\\nTo watch the full show live, become a premium subscriber. Join the team!\\xa0https://www.dailywire.com/subscribe\\nLike this video?\\xa0For more Ben Shapiro and Daily Wire content, subscribe to this channel and the Ben Shapiro YouTube channel\\xa0youtube.com/c/benshapiro\\xa0and ring the bell for notifications so you never miss a story!',\n",
       "    'thumbnails': {'default': {'url': 'https://i.ytimg.com/vi/x2CqEeeyktA/default.jpg',\n",
       "      'width': 120,\n",
       "      'height': 90},\n",
       "     'medium': {'url': 'https://i.ytimg.com/vi/x2CqEeeyktA/mqdefault.jpg',\n",
       "      'width': 320,\n",
       "      'height': 180},\n",
       "     'high': {'url': 'https://i.ytimg.com/vi/x2CqEeeyktA/hqdefault.jpg',\n",
       "      'width': 480,\n",
       "      'height': 360},\n",
       "     'standard': {'url': 'https://i.ytimg.com/vi/x2CqEeeyktA/sddefault.jpg',\n",
       "      'width': 640,\n",
       "      'height': 480},\n",
       "     'maxres': {'url': 'https://i.ytimg.com/vi/x2CqEeeyktA/maxresdefault.jpg',\n",
       "      'width': 1280,\n",
       "      'height': 720}},\n",
       "    'channelTitle': 'The Daily Wire',\n",
       "    'playlistId': 'PLlVjFVMet3OXfEi7b2w50OUc7QMnpfKqK',\n",
       "    'position': 40,\n",
       "    'resourceId': {'kind': 'youtube#video', 'videoId': 'x2CqEeeyktA'}},\n",
       "   'contentDetails': {'videoId': 'x2CqEeeyktA',\n",
       "    'videoPublishedAt': '2018-10-17T18:45:56.000Z'}},\n",
       "  {'kind': 'youtube#playlistItem',\n",
       "   'etag': '\"XI7nbFXulYBIpL0ayR_gDh3eu1k/47dvGac6U00ydF_Nydi4lBxKyE4\"',\n",
       "   'id': 'UExsVmpGVk1ldDNPWGZFaTdiMnc1ME9VYzdRTW5wZktxSy45NkIxMzI2NUNCREVDNDg4',\n",
       "   'snippet': {'publishedAt': '2018-10-16T18:12:59.000Z',\n",
       "    'channelId': 'UCaeO5vkdj5xOQHp4UmIN6dw',\n",
       "    'title': 'The Sad Story Of Fauxcahontas | The Ben Shapiro Show Ep. 639',\n",
       "    'description': 'Elizabeth Warren’s Native American tale collapses, Democratic candidates reveal their radicalism, and Michael Avenatti has a bad day.\\n\\nTo watch the full show live, become a premium subscriber. Join the team!\\xa0https://www.dailywire.com/subscribe\\nLike this video?\\xa0For more Ben Shapiro and Daily Wire content, subscribe to this channel and the Ben Shapiro YouTube channel\\xa0youtube.com/c/benshapiro\\xa0and ring the bell for notifications so you never miss a story!',\n",
       "    'thumbnails': {'default': {'url': 'https://i.ytimg.com/vi/qlUL1XL_TEE/default.jpg',\n",
       "      'width': 120,\n",
       "      'height': 90},\n",
       "     'medium': {'url': 'https://i.ytimg.com/vi/qlUL1XL_TEE/mqdefault.jpg',\n",
       "      'width': 320,\n",
       "      'height': 180},\n",
       "     'high': {'url': 'https://i.ytimg.com/vi/qlUL1XL_TEE/hqdefault.jpg',\n",
       "      'width': 480,\n",
       "      'height': 360},\n",
       "     'standard': {'url': 'https://i.ytimg.com/vi/qlUL1XL_TEE/sddefault.jpg',\n",
       "      'width': 640,\n",
       "      'height': 480},\n",
       "     'maxres': {'url': 'https://i.ytimg.com/vi/qlUL1XL_TEE/maxresdefault.jpg',\n",
       "      'width': 1280,\n",
       "      'height': 720}},\n",
       "    'channelTitle': 'The Daily Wire',\n",
       "    'playlistId': 'PLlVjFVMet3OXfEi7b2w50OUc7QMnpfKqK',\n",
       "    'position': 41,\n",
       "    'resourceId': {'kind': 'youtube#video', 'videoId': 'qlUL1XL_TEE'}},\n",
       "   'contentDetails': {'videoId': 'qlUL1XL_TEE',\n",
       "    'videoPublishedAt': '2018-10-16T18:21:19.000Z'}},\n",
       "  {'kind': 'youtube#playlistItem',\n",
       "   'etag': '\"XI7nbFXulYBIpL0ayR_gDh3eu1k/Othg7FFfsSPxhrv4UfwLX4jkPSg\"',\n",
       "   'id': 'UExsVmpGVk1ldDNPWGZFaTdiMnc1ME9VYzdRTW5wZktxSy5EMTU2MDBCREJEMEM1MDA4',\n",
       "   'snippet': {'publishedAt': '2018-10-15T18:49:26.000Z',\n",
       "    'channelId': 'UCaeO5vkdj5xOQHp4UmIN6dw',\n",
       "    'title': 'The Real Bitter Clingers | The Ben Shapiro Show Ep. 638',\n",
       "    'description': 'The media give Trump reason to question “fake news,” brawls between the Proud Boys and Antifa break out in Portland and New York, and Hillary sounds off again.\\n\\nTo watch the full show live, become a premium subscriber. Join the team!\\xa0https://www.dailywire.com/subscribe\\nLike this video?\\xa0For more Ben Shapiro and Daily Wire content, subscribe to this channel and the Ben Shapiro YouTube channel\\xa0youtube.com/c/benshapiro\\xa0and ring the bell for notifications so you never miss a story!',\n",
       "    'thumbnails': {'default': {'url': 'https://i.ytimg.com/vi/-UCV7waGt80/default.jpg',\n",
       "      'width': 120,\n",
       "      'height': 90},\n",
       "     'medium': {'url': 'https://i.ytimg.com/vi/-UCV7waGt80/mqdefault.jpg',\n",
       "      'width': 320,\n",
       "      'height': 180},\n",
       "     'high': {'url': 'https://i.ytimg.com/vi/-UCV7waGt80/hqdefault.jpg',\n",
       "      'width': 480,\n",
       "      'height': 360},\n",
       "     'standard': {'url': 'https://i.ytimg.com/vi/-UCV7waGt80/sddefault.jpg',\n",
       "      'width': 640,\n",
       "      'height': 480},\n",
       "     'maxres': {'url': 'https://i.ytimg.com/vi/-UCV7waGt80/maxresdefault.jpg',\n",
       "      'width': 1280,\n",
       "      'height': 720}},\n",
       "    'channelTitle': 'The Daily Wire',\n",
       "    'playlistId': 'PLlVjFVMet3OXfEi7b2w50OUc7QMnpfKqK',\n",
       "    'position': 42,\n",
       "    'resourceId': {'kind': 'youtube#video', 'videoId': '-UCV7waGt80'}},\n",
       "   'contentDetails': {'videoId': '-UCV7waGt80',\n",
       "    'videoPublishedAt': '2018-10-15T18:50:52.000Z'}},\n",
       "  {'kind': 'youtube#playlistItem',\n",
       "   'etag': '\"XI7nbFXulYBIpL0ayR_gDh3eu1k/COrGkkBx4-AdWva7IMnqdC6unkQ\"',\n",
       "   'id': 'UExsVmpGVk1ldDNPWGZFaTdiMnc1ME9VYzdRTW5wZktxSy4zOUZDNjQyRjc5RDhEQzU0',\n",
       "   'snippet': {'publishedAt': '2018-10-12T16:54:14.000Z',\n",
       "    'channelId': 'UCaeO5vkdj5xOQHp4UmIN6dw',\n",
       "    'title': 'Sunday\\xa0Special\\xa0Ep 23:\\xa0Jocko Willink',\n",
       "    'description': 'Podcaster, author, and retired Navy SEAL Jocko Willink joins me to discuss his remarkable journey from combat warrior to leadership expert and entrepreneur, what civilians can learn from the military, and whether he thinks compulsory service would be a good or bad thing for society and the military.\\n\\n\\nCheck Ben out on:\\nDaily Wire website:\\xa0www.dailywire.com\\nFacebook:\\xa0https://www.facebook.com/officialbenshapiro\\nTwitter:\\xa0https://twitter.com/benshapiro\\nInstagram: officialbenshapiro\\n\\xa0\\nCheck\\xa0Jocko Willink\\xa0out on:\\nTwitter:\\xa0https://twitter.com/jockowillink\\nYouTube:\\xa0https://www.youtube.com/channel/UCkqcY4CAuBFNFho6JgygCnA',\n",
       "    'thumbnails': {'default': {'url': 'https://i.ytimg.com/vi/c-jMzfoO_pU/default.jpg',\n",
       "      'width': 120,\n",
       "      'height': 90},\n",
       "     'medium': {'url': 'https://i.ytimg.com/vi/c-jMzfoO_pU/mqdefault.jpg',\n",
       "      'width': 320,\n",
       "      'height': 180},\n",
       "     'high': {'url': 'https://i.ytimg.com/vi/c-jMzfoO_pU/hqdefault.jpg',\n",
       "      'width': 480,\n",
       "      'height': 360},\n",
       "     'standard': {'url': 'https://i.ytimg.com/vi/c-jMzfoO_pU/sddefault.jpg',\n",
       "      'width': 640,\n",
       "      'height': 480},\n",
       "     'maxres': {'url': 'https://i.ytimg.com/vi/c-jMzfoO_pU/maxresdefault.jpg',\n",
       "      'width': 1280,\n",
       "      'height': 720}},\n",
       "    'channelTitle': 'The Daily Wire',\n",
       "    'playlistId': 'PLlVjFVMet3OXfEi7b2w50OUc7QMnpfKqK',\n",
       "    'position': 43,\n",
       "    'resourceId': {'kind': 'youtube#video', 'videoId': 'c-jMzfoO_pU'}},\n",
       "   'contentDetails': {'videoId': 'c-jMzfoO_pU',\n",
       "    'videoPublishedAt': '2018-10-14T12:00:02.000Z'}},\n",
       "  {'kind': 'youtube#playlistItem',\n",
       "   'etag': '\"XI7nbFXulYBIpL0ayR_gDh3eu1k/jUHKsb6kJEae3hBwrNe5yACfMgo\"',\n",
       "   'id': 'UExsVmpGVk1ldDNPWGZFaTdiMnc1ME9VYzdRTW5wZktxSy5CMkMxNkZEQkI0M0U4RDVD',\n",
       "   'snippet': {'publishedAt': '2018-10-12T18:07:31.000Z',\n",
       "    'channelId': 'UCaeO5vkdj5xOQHp4UmIN6dw',\n",
       "    'title': 'How The West Was Won | The Ben Shapiro Show Ep. 637',\n",
       "    'description': 'Kanye visits the White House, the press lose their minds, and we check the mailbag!\\n\\nTo watch the full show live, become a premium subscriber. Join the team!\\xa0https://www.dailywire.com/subscribe\\nLike this video?\\xa0For more Ben Shapiro and Daily Wire content, subscribe to this channel and the Ben Shapiro YouTube channel\\xa0youtube.com/c/benshapiro\\xa0and ring the bell for notifications so you never miss a story!',\n",
       "    'thumbnails': {'default': {'url': 'https://i.ytimg.com/vi/S6iNZJ0j1Bc/default.jpg',\n",
       "      'width': 120,\n",
       "      'height': 90},\n",
       "     'medium': {'url': 'https://i.ytimg.com/vi/S6iNZJ0j1Bc/mqdefault.jpg',\n",
       "      'width': 320,\n",
       "      'height': 180},\n",
       "     'high': {'url': 'https://i.ytimg.com/vi/S6iNZJ0j1Bc/hqdefault.jpg',\n",
       "      'width': 480,\n",
       "      'height': 360},\n",
       "     'standard': {'url': 'https://i.ytimg.com/vi/S6iNZJ0j1Bc/sddefault.jpg',\n",
       "      'width': 640,\n",
       "      'height': 480},\n",
       "     'maxres': {'url': 'https://i.ytimg.com/vi/S6iNZJ0j1Bc/maxresdefault.jpg',\n",
       "      'width': 1280,\n",
       "      'height': 720}},\n",
       "    'channelTitle': 'The Daily Wire',\n",
       "    'playlistId': 'PLlVjFVMet3OXfEi7b2w50OUc7QMnpfKqK',\n",
       "    'position': 44,\n",
       "    'resourceId': {'kind': 'youtube#video', 'videoId': 'S6iNZJ0j1Bc'}},\n",
       "   'contentDetails': {'videoId': 'S6iNZJ0j1Bc',\n",
       "    'videoPublishedAt': '2018-10-12T18:24:12.000Z'}},\n",
       "  {'kind': 'youtube#playlistItem',\n",
       "   'etag': '\"XI7nbFXulYBIpL0ayR_gDh3eu1k/qI_ilclZqPKuIsbCssfPhdRDaXg\"',\n",
       "   'id': 'UExsVmpGVk1ldDNPWGZFaTdiMnc1ME9VYzdRTW5wZktxSy5DQUFDNEM3QTc0MEFENDdC',\n",
       "   'snippet': {'publishedAt': '2018-10-11T18:31:56.000Z',\n",
       "    'channelId': 'UCaeO5vkdj5xOQHp4UmIN6dw',\n",
       "    'title': 'Screaming To Victory | The Ben Shapiro Show Ep. 636',\n",
       "    'description': 'Democrats double down on the screeching rhetoric, Google is trying to usher in an era of “civility,” and the Saudis are in hot water.\\n\\nTo watch the full show live, become a premium subscriber. Join the team!\\xa0https://www.dailywire.com/subscribe\\nLike this video?\\xa0For more Ben Shapiro and Daily Wire content, subscribe to this channel and the Ben Shapiro YouTube channel\\xa0youtube.com/c/benshapiro\\xa0and ring the bell for notifications so you never miss a story!',\n",
       "    'thumbnails': {'default': {'url': 'https://i.ytimg.com/vi/WCnjPhoqvdA/default.jpg',\n",
       "      'width': 120,\n",
       "      'height': 90},\n",
       "     'medium': {'url': 'https://i.ytimg.com/vi/WCnjPhoqvdA/mqdefault.jpg',\n",
       "      'width': 320,\n",
       "      'height': 180},\n",
       "     'high': {'url': 'https://i.ytimg.com/vi/WCnjPhoqvdA/hqdefault.jpg',\n",
       "      'width': 480,\n",
       "      'height': 360}},\n",
       "    'channelTitle': 'The Daily Wire',\n",
       "    'playlistId': 'PLlVjFVMet3OXfEi7b2w50OUc7QMnpfKqK',\n",
       "    'position': 45,\n",
       "    'resourceId': {'kind': 'youtube#video', 'videoId': 'WCnjPhoqvdA'}},\n",
       "   'contentDetails': {'videoId': 'WCnjPhoqvdA',\n",
       "    'videoPublishedAt': '2018-10-11T18:31:54.000Z'}},\n",
       "  {'kind': 'youtube#playlistItem',\n",
       "   'etag': '\"XI7nbFXulYBIpL0ayR_gDh3eu1k/lwlkui1Bn27RvGI05RtopI7rmNc\"',\n",
       "   'id': 'UExsVmpGVk1ldDNPWGZFaTdiMnc1ME9VYzdRTW5wZktxSy43NTE0OTlBQUVGODc5RUFE',\n",
       "   'snippet': {'publishedAt': '2018-10-10T18:19:09.000Z',\n",
       "    'channelId': 'UCaeO5vkdj5xOQHp4UmIN6dw',\n",
       "    'title': 'The End Of Civility | The Ben Shapiro Show Ep. 635',\n",
       "    'description': 'Hillary tries to lead the Resistance, Kanye goes to the White House, and we tell the tale of James, a student at University of California-Davis.\\n\\nTo watch the full show live, become a premium subscriber. Join the team!\\xa0https://www.dailywire.com/subscribe\\nLike this video?\\xa0For more Ben Shapiro and Daily Wire content, subscribe to this channel and the Ben Shapiro YouTube channel\\xa0youtube.com/c/benshapiro\\xa0and ring the bell for notifications so you never miss a story!',\n",
       "    'thumbnails': {'default': {'url': 'https://i.ytimg.com/vi/VRxe6qAqToc/default.jpg',\n",
       "      'width': 120,\n",
       "      'height': 90},\n",
       "     'medium': {'url': 'https://i.ytimg.com/vi/VRxe6qAqToc/mqdefault.jpg',\n",
       "      'width': 320,\n",
       "      'height': 180},\n",
       "     'high': {'url': 'https://i.ytimg.com/vi/VRxe6qAqToc/hqdefault.jpg',\n",
       "      'width': 480,\n",
       "      'height': 360},\n",
       "     'standard': {'url': 'https://i.ytimg.com/vi/VRxe6qAqToc/sddefault.jpg',\n",
       "      'width': 640,\n",
       "      'height': 480},\n",
       "     'maxres': {'url': 'https://i.ytimg.com/vi/VRxe6qAqToc/maxresdefault.jpg',\n",
       "      'width': 1280,\n",
       "      'height': 720}},\n",
       "    'channelTitle': 'The Daily Wire',\n",
       "    'playlistId': 'PLlVjFVMet3OXfEi7b2w50OUc7QMnpfKqK',\n",
       "    'position': 46,\n",
       "    'resourceId': {'kind': 'youtube#video', 'videoId': 'VRxe6qAqToc'}},\n",
       "   'contentDetails': {'videoId': 'VRxe6qAqToc',\n",
       "    'videoPublishedAt': '2018-10-10T18:32:25.000Z'}},\n",
       "  {'kind': 'youtube#playlistItem',\n",
       "   'etag': '\"XI7nbFXulYBIpL0ayR_gDh3eu1k/x3J_zoKDAYV9Z_CKCVhwbGxiD-Y\"',\n",
       "   'id': 'UExsVmpGVk1ldDNPWGZFaTdiMnc1ME9VYzdRTW5wZktxSy40M0I1Q0JCOEFGRUQ4OTBF',\n",
       "   'snippet': {'publishedAt': '2018-10-09T20:29:46.000Z',\n",
       "    'channelId': 'UCaeO5vkdj5xOQHp4UmIN6dw',\n",
       "    'title': 'We’re Never Ever Ever…Getting Back Together | The Ben Shapiro Show Ep. 634',\n",
       "    'description': 'Nikki Haley quits, the UN makes a catastrophic prediction regarding global warming, and Trump goes after Taylor Swift.\\n\\nTo watch the full show live, become a premium subscriber. Join the team!\\xa0https://www.dailywire.com/subscribe\\nLike this video?\\xa0For more Ben Shapiro and Daily Wire content, subscribe to this channel and the Ben Shapiro YouTube channel\\xa0youtube.com/c/benshapiro\\xa0and ring the bell for notifications so you never miss a story!',\n",
       "    'thumbnails': {'default': {'url': 'https://i.ytimg.com/vi/HQXUXcK2vvk/default.jpg',\n",
       "      'width': 120,\n",
       "      'height': 90},\n",
       "     'medium': {'url': 'https://i.ytimg.com/vi/HQXUXcK2vvk/mqdefault.jpg',\n",
       "      'width': 320,\n",
       "      'height': 180},\n",
       "     'high': {'url': 'https://i.ytimg.com/vi/HQXUXcK2vvk/hqdefault.jpg',\n",
       "      'width': 480,\n",
       "      'height': 360},\n",
       "     'standard': {'url': 'https://i.ytimg.com/vi/HQXUXcK2vvk/sddefault.jpg',\n",
       "      'width': 640,\n",
       "      'height': 480},\n",
       "     'maxres': {'url': 'https://i.ytimg.com/vi/HQXUXcK2vvk/maxresdefault.jpg',\n",
       "      'width': 1280,\n",
       "      'height': 720}},\n",
       "    'channelTitle': 'The Daily Wire',\n",
       "    'playlistId': 'PLlVjFVMet3OXfEi7b2w50OUc7QMnpfKqK',\n",
       "    'position': 47,\n",
       "    'resourceId': {'kind': 'youtube#video', 'videoId': 'HQXUXcK2vvk'}},\n",
       "   'contentDetails': {'videoId': 'HQXUXcK2vvk',\n",
       "    'videoPublishedAt': '2018-10-09T20:41:40.000Z'}},\n",
       "  {'kind': 'youtube#playlistItem',\n",
       "   'etag': '\"XI7nbFXulYBIpL0ayR_gDh3eu1k/2bWKcTwDol2LyI1-BbrD3bt4PCg\"',\n",
       "   'id': 'UExsVmpGVk1ldDNPWGZFaTdiMnc1ME9VYzdRTW5wZktxSy42RkU0NDE4REJCRTMxQURD',\n",
       "   'snippet': {'publishedAt': '2018-10-08T19:15:13.000Z',\n",
       "    'channelId': 'UCaeO5vkdj5xOQHp4UmIN6dw',\n",
       "    'title': 'The Day After | The Ben Shapiro Show Ep. 633',\n",
       "    'description': 'As Brett Kavanaugh takes his seat on the Supreme Court, the Left copes in mature, considered fashion…or not.\\n\\nTo watch the full show live, become a premium subscriber. Join the team!\\xa0https://www.dailywire.com/subscribe\\nLike this video?\\xa0For more Ben Shapiro and Daily Wire content, subscribe to this channel and the Ben Shapiro YouTube channel\\xa0youtube.com/c/benshapiro\\xa0and ring the bell for notifications so you never miss a story!',\n",
       "    'thumbnails': {'default': {'url': 'https://i.ytimg.com/vi/1BhTlC4BTJo/default.jpg',\n",
       "      'width': 120,\n",
       "      'height': 90},\n",
       "     'medium': {'url': 'https://i.ytimg.com/vi/1BhTlC4BTJo/mqdefault.jpg',\n",
       "      'width': 320,\n",
       "      'height': 180},\n",
       "     'high': {'url': 'https://i.ytimg.com/vi/1BhTlC4BTJo/hqdefault.jpg',\n",
       "      'width': 480,\n",
       "      'height': 360},\n",
       "     'standard': {'url': 'https://i.ytimg.com/vi/1BhTlC4BTJo/sddefault.jpg',\n",
       "      'width': 640,\n",
       "      'height': 480},\n",
       "     'maxres': {'url': 'https://i.ytimg.com/vi/1BhTlC4BTJo/maxresdefault.jpg',\n",
       "      'width': 1280,\n",
       "      'height': 720}},\n",
       "    'channelTitle': 'The Daily Wire',\n",
       "    'playlistId': 'PLlVjFVMet3OXfEi7b2w50OUc7QMnpfKqK',\n",
       "    'position': 48,\n",
       "    'resourceId': {'kind': 'youtube#video', 'videoId': '1BhTlC4BTJo'}},\n",
       "   'contentDetails': {'videoId': '1BhTlC4BTJo',\n",
       "    'videoPublishedAt': '2018-10-08T19:30:53.000Z'}},\n",
       "  {'kind': 'youtube#playlistItem',\n",
       "   'etag': '\"XI7nbFXulYBIpL0ayR_gDh3eu1k/P3IlYdDiPFB0Ew--bNZ7cTMW_2w\"',\n",
       "   'id': 'UExsVmpGVk1ldDNPWGZFaTdiMnc1ME9VYzdRTW5wZktxSy5GNEUxRjk0NTE2RDgyMDk3',\n",
       "   'snippet': {'publishedAt': '2018-10-05T19:55:59.000Z',\n",
       "    'channelId': 'UCaeO5vkdj5xOQHp4UmIN6dw',\n",
       "    'title': 'The Greatest Whine Of All | The Ben Shapiro Show Ep. 632',\n",
       "    'description': 'As Kavanaugh’s vote approaches, Leftists take to the streets; Kavanaugh defends himself; and Chuck Grassley unleashes.\\n\\nTo watch the full show live, become a premium subscriber. Join the team!\\xa0https://www.dailywire.com/subscribe\\nLike this video?\\xa0For more Ben Shapiro and Daily Wire content, subscribe to this channel and the Ben Shapiro YouTube channel\\xa0youtube.com/c/benshapiro\\xa0and ring the bell for notifications so you never miss a story!',\n",
       "    'thumbnails': {'default': {'url': 'https://i.ytimg.com/vi/niHoDx5axU8/default.jpg',\n",
       "      'width': 120,\n",
       "      'height': 90},\n",
       "     'medium': {'url': 'https://i.ytimg.com/vi/niHoDx5axU8/mqdefault.jpg',\n",
       "      'width': 320,\n",
       "      'height': 180},\n",
       "     'high': {'url': 'https://i.ytimg.com/vi/niHoDx5axU8/hqdefault.jpg',\n",
       "      'width': 480,\n",
       "      'height': 360},\n",
       "     'standard': {'url': 'https://i.ytimg.com/vi/niHoDx5axU8/sddefault.jpg',\n",
       "      'width': 640,\n",
       "      'height': 480},\n",
       "     'maxres': {'url': 'https://i.ytimg.com/vi/niHoDx5axU8/maxresdefault.jpg',\n",
       "      'width': 1280,\n",
       "      'height': 720}},\n",
       "    'channelTitle': 'The Daily Wire',\n",
       "    'playlistId': 'PLlVjFVMet3OXfEi7b2w50OUc7QMnpfKqK',\n",
       "    'position': 49,\n",
       "    'resourceId': {'kind': 'youtube#video', 'videoId': 'niHoDx5axU8'}},\n",
       "   'contentDetails': {'videoId': 'niHoDx5axU8',\n",
       "    'videoPublishedAt': '2018-10-05T20:12:29.000Z'}}]}"
      ]
     },
     "execution_count": 248,
     "metadata": {},
     "output_type": "execute_result"
    }
   ],
   "source": [
    "\n",
    "result_vids"
   ]
  },
  {
   "cell_type": "code",
   "execution_count": null,
   "metadata": {},
   "outputs": [
    {
     "data": {
      "text/plain": [
       "'Russian Roulette | The Ben Shapiro Show Ep. 670'"
      ]
     },
     "metadata": {},
     "output_type": "display_data"
    },
    {
     "data": {
      "text/plain": [
       "1100"
      ]
     },
     "metadata": {},
     "output_type": "display_data"
    },
    {
     "data": {
      "text/plain": [
       "'The ‘Real’ Jews | The Ben Shapiro Show Ep. 669'"
      ]
     },
     "metadata": {},
     "output_type": "display_data"
    },
    {
     "data": {
      "text/plain": [
       "1100"
      ]
     },
     "metadata": {},
     "output_type": "display_data"
    },
    {
     "data": {
      "text/plain": [
       "'Mulling Over Mueller | The Ben Shapiro Show Ep. 668'"
      ]
     },
     "metadata": {},
     "output_type": "display_data"
    },
    {
     "data": {
      "text/plain": [
       "1100"
      ]
     },
     "metadata": {},
     "output_type": "display_data"
    },
    {
     "data": {
      "text/plain": [
       "'The Politics Of Crisis | The Ben Shapiro Show Ep. 667'"
      ]
     },
     "metadata": {},
     "output_type": "display_data"
    },
    {
     "data": {
      "text/plain": [
       "1100"
      ]
     },
     "metadata": {},
     "output_type": "display_data"
    },
    {
     "data": {
      "text/plain": [
       "'Saying The Unsayable | The Ben Shapiro Show Ep. 666'"
      ]
     },
     "metadata": {},
     "output_type": "display_data"
    },
    {
     "data": {
      "text/plain": [
       "1100"
      ]
     },
     "metadata": {},
     "output_type": "display_data"
    },
    {
     "data": {
      "text/plain": [
       "'La Di Da Di, We Like To Saudi | The Ben Shapiro Show Ep. 665'"
      ]
     },
     "metadata": {},
     "output_type": "display_data"
    },
    {
     "data": {
      "text/plain": [
       "1100"
      ]
     },
     "metadata": {},
     "output_type": "display_data"
    },
    {
     "data": {
      "text/plain": [
       "'Hillary’s Email Revenge | Ep. 664'"
      ]
     },
     "metadata": {},
     "output_type": "display_data"
    },
    {
     "data": {
      "text/plain": [
       "1100"
      ]
     },
     "metadata": {},
     "output_type": "display_data"
    },
    {
     "data": {
      "text/plain": [
       "'The New York Slimes | The Ben Shapiro Show Ep. 663'"
      ]
     },
     "metadata": {},
     "output_type": "display_data"
    },
    {
     "data": {
      "text/plain": [
       "1100"
      ]
     },
     "metadata": {},
     "output_type": "display_data"
    },
    {
     "data": {
      "text/plain": [
       "'Sunday Special Ep 28: Stephen Harper'"
      ]
     },
     "metadata": {},
     "output_type": "display_data"
    },
    {
     "data": {
      "text/plain": [
       "1100"
      ]
     },
     "metadata": {},
     "output_type": "display_data"
    },
    {
     "data": {
      "text/plain": [
       "'The Florida Project | The Ben Shapiro Show Ep. 662'"
      ]
     },
     "metadata": {},
     "output_type": "display_data"
    },
    {
     "data": {
      "text/plain": [
       "1100"
      ]
     },
     "metadata": {},
     "output_type": "display_data"
    },
    {
     "data": {
      "text/plain": [
       "'To Have And Avenatti | The Ben Shapiro Show Ep. 661'"
      ]
     },
     "metadata": {},
     "output_type": "display_data"
    },
    {
     "data": {
      "text/plain": [
       "1100"
      ]
     },
     "metadata": {},
     "output_type": "display_data"
    },
    {
     "data": {
      "text/plain": [
       "'Congress Will Be Fun! | The Ben Shapiro Show Ep. 660'"
      ]
     },
     "metadata": {},
     "output_type": "display_data"
    },
    {
     "data": {
      "text/plain": [
       "1100"
      ]
     },
     "metadata": {},
     "output_type": "display_data"
    },
    {
     "data": {
      "text/plain": [
       "'Welcome To The Jungle | The Ben Shapiro Show Ep. 659'"
      ]
     },
     "metadata": {},
     "output_type": "display_data"
    },
    {
     "data": {
      "text/plain": [
       "1100"
      ]
     },
     "metadata": {},
     "output_type": "display_data"
    },
    {
     "data": {
      "text/plain": [
       "'The Future Of Politics | The Ben Shapiro Show Ep. 658'"
      ]
     },
     "metadata": {},
     "output_type": "display_data"
    },
    {
     "data": {
      "text/plain": [
       "1100"
      ]
     },
     "metadata": {},
     "output_type": "display_data"
    },
    {
     "data": {
      "text/plain": [
       "'The Slow Wave | The Ben Shapiro Show Ep. 657'"
      ]
     },
     "metadata": {},
     "output_type": "display_data"
    },
    {
     "data": {
      "text/plain": [
       "1100"
      ]
     },
     "metadata": {},
     "output_type": "display_data"
    },
    {
     "data": {
      "text/plain": [
       "'The Day After | The Ben Shapiro Show Ep. 656'"
      ]
     },
     "metadata": {},
     "output_type": "display_data"
    },
    {
     "data": {
      "text/plain": [
       "1100"
      ]
     },
     "metadata": {},
     "output_type": "display_data"
    },
    {
     "data": {
      "text/plain": [
       "'The Great Divide | The Ben Shapiro Show Ep. 655'"
      ]
     },
     "metadata": {},
     "output_type": "display_data"
    },
    {
     "data": {
      "text/plain": [
       "1100"
      ]
     },
     "metadata": {},
     "output_type": "display_data"
    },
    {
     "data": {
      "text/plain": [
       "'So It Begins | The Ben Shapiro Show Ep. 654'"
      ]
     },
     "metadata": {},
     "output_type": "display_data"
    },
    {
     "data": {
      "text/plain": [
       "1100"
      ]
     },
     "metadata": {},
     "output_type": "display_data"
    },
    {
     "data": {
      "text/plain": [
       "'One Day More | The Ben Shapiro Show Ep. 653'"
      ]
     },
     "metadata": {},
     "output_type": "display_data"
    },
    {
     "data": {
      "text/plain": [
       "1100"
      ]
     },
     "metadata": {},
     "output_type": "display_data"
    },
    {
     "data": {
      "text/plain": [
       "'Sunday\\xa0Special\\xa0Ep 26:\\xa0Tucker Carlson'"
      ]
     },
     "metadata": {},
     "output_type": "display_data"
    },
    {
     "data": {
      "text/plain": [
       "1100"
      ]
     },
     "metadata": {},
     "output_type": "display_data"
    },
    {
     "data": {
      "text/plain": [
       "'The Final Countdown | The Ben Shapiro Show Ep. 652'"
      ]
     },
     "metadata": {},
     "output_type": "display_data"
    },
    {
     "data": {
      "text/plain": [
       "1100"
      ]
     },
     "metadata": {},
     "output_type": "display_data"
    },
    {
     "data": {
      "text/plain": [
       "'CARAVAN DOWN BY THE RIVER | The Ben Shapiro Show Ep. 651'"
      ]
     },
     "metadata": {},
     "output_type": "display_data"
    },
    {
     "data": {
      "text/plain": [
       "1100"
      ]
     },
     "metadata": {},
     "output_type": "display_data"
    },
    {
     "data": {
      "text/plain": [
       "'Ye, Verily Ye | The Ben Shapiro Show Ep. 650'"
      ]
     },
     "metadata": {},
     "output_type": "display_data"
    },
    {
     "data": {
      "text/plain": [
       "1100"
      ]
     },
     "metadata": {},
     "output_type": "display_data"
    },
    {
     "data": {
      "text/plain": [
       "'The Knowledge Of Good And Evil | The Ben Shapiro Show Ep. 649'"
      ]
     },
     "metadata": {},
     "output_type": "display_data"
    },
    {
     "data": {
      "text/plain": [
       "1100"
      ]
     },
     "metadata": {},
     "output_type": "display_data"
    },
    {
     "data": {
      "text/plain": [
       "'The Tree Of Life | The Ben Shapiro Show Ep. 648'"
      ]
     },
     "metadata": {},
     "output_type": "display_data"
    },
    {
     "data": {
      "text/plain": [
       "1100"
      ]
     },
     "metadata": {},
     "output_type": "display_data"
    },
    {
     "data": {
      "text/plain": [
       "'Sunday\\xa0Special\\xa0Ep 25:\\xa0Scott Adams'"
      ]
     },
     "metadata": {},
     "output_type": "display_data"
    },
    {
     "data": {
      "text/plain": [
       "1100"
      ]
     },
     "metadata": {},
     "output_type": "display_data"
    },
    {
     "data": {
      "text/plain": [
       "'Mail Bomber Identified: A Crazy Person | The Ben Shapiro Show Ep. 647'"
      ]
     },
     "metadata": {},
     "output_type": "display_data"
    },
    {
     "data": {
      "text/plain": [
       "1100"
      ]
     },
     "metadata": {},
     "output_type": "display_data"
    },
    {
     "data": {
      "text/plain": [
       "'The Great Leap Backward | The Ben Shapiro Show Ep. 646'"
      ]
     },
     "metadata": {},
     "output_type": "display_data"
    },
    {
     "data": {
      "text/plain": [
       "1100"
      ]
     },
     "metadata": {},
     "output_type": "display_data"
    },
    {
     "data": {
      "text/plain": [
       "'The Question Of Motives | The Ben Shapiro Show Ep. 645'"
      ]
     },
     "metadata": {},
     "output_type": "display_data"
    },
    {
     "data": {
      "text/plain": [
       "1100"
      ]
     },
     "metadata": {},
     "output_type": "display_data"
    },
    {
     "data": {
      "text/plain": [
       "'The New Democratic Agenda | The Ben Shapiro Show Ep. 644'"
      ]
     },
     "metadata": {},
     "output_type": "display_data"
    },
    {
     "data": {
      "text/plain": [
       "1100"
      ]
     },
     "metadata": {},
     "output_type": "display_data"
    },
    {
     "data": {
      "text/plain": [
       "'The Republicans’ Best Friend | The Ben Shapiro Show Ep. 643'"
      ]
     },
     "metadata": {},
     "output_type": "display_data"
    },
    {
     "data": {
      "text/plain": [
       "1100"
      ]
     },
     "metadata": {},
     "output_type": "display_data"
    },
    {
     "data": {
      "text/plain": [
       "'Sunday\\xa0Special\\xa0Ep 24:\\xa0Andrew Klavan'"
      ]
     },
     "metadata": {},
     "output_type": "display_data"
    },
    {
     "data": {
      "text/plain": [
       "1100"
      ]
     },
     "metadata": {},
     "output_type": "display_data"
    },
    {
     "data": {
      "text/plain": [
       "'The She-Woman Men Haters Club | The Ben Shapiro Show Ep. 642'"
      ]
     },
     "metadata": {},
     "output_type": "display_data"
    },
    {
     "data": {
      "text/plain": [
       "1100"
      ]
     },
     "metadata": {},
     "output_type": "display_data"
    },
    {
     "data": {
      "text/plain": [
       "'The Attack On Capitalism | The Ben Shapiro Show Ep. 641'"
      ]
     },
     "metadata": {},
     "output_type": "display_data"
    },
    {
     "data": {
      "text/plain": [
       "1100"
      ]
     },
     "metadata": {},
     "output_type": "display_data"
    },
    {
     "data": {
      "text/plain": [
       "'The Saudi Conundrum | The Ben Shapiro Show Ep. 640'"
      ]
     },
     "metadata": {},
     "output_type": "display_data"
    },
    {
     "data": {
      "text/plain": [
       "1100"
      ]
     },
     "metadata": {},
     "output_type": "display_data"
    },
    {
     "data": {
      "text/plain": [
       "'The Sad Story Of Fauxcahontas | The Ben Shapiro Show Ep. 639'"
      ]
     },
     "metadata": {},
     "output_type": "display_data"
    },
    {
     "data": {
      "text/plain": [
       "1100"
      ]
     },
     "metadata": {},
     "output_type": "display_data"
    },
    {
     "data": {
      "text/plain": [
       "'The Real Bitter Clingers | The Ben Shapiro Show Ep. 638'"
      ]
     },
     "metadata": {},
     "output_type": "display_data"
    },
    {
     "data": {
      "text/plain": [
       "1100"
      ]
     },
     "metadata": {},
     "output_type": "display_data"
    },
    {
     "data": {
      "text/plain": [
       "'Sunday\\xa0Special\\xa0Ep 23:\\xa0Jocko Willink'"
      ]
     },
     "metadata": {},
     "output_type": "display_data"
    },
    {
     "data": {
      "text/plain": [
       "1100"
      ]
     },
     "metadata": {},
     "output_type": "display_data"
    },
    {
     "data": {
      "text/plain": [
       "'How The West Was Won | The Ben Shapiro Show Ep. 637'"
      ]
     },
     "metadata": {},
     "output_type": "display_data"
    },
    {
     "data": {
      "text/plain": [
       "1100"
      ]
     },
     "metadata": {},
     "output_type": "display_data"
    },
    {
     "data": {
      "text/plain": [
       "'Screaming To Victory | The Ben Shapiro Show Ep. 636'"
      ]
     },
     "metadata": {},
     "output_type": "display_data"
    },
    {
     "data": {
      "text/plain": [
       "1100"
      ]
     },
     "metadata": {},
     "output_type": "display_data"
    },
    {
     "data": {
      "text/plain": [
       "'The End Of Civility | The Ben Shapiro Show Ep. 635'"
      ]
     },
     "metadata": {},
     "output_type": "display_data"
    },
    {
     "data": {
      "text/plain": [
       "1100"
      ]
     },
     "metadata": {},
     "output_type": "display_data"
    },
    {
     "data": {
      "text/plain": [
       "'We’re Never Ever Ever…Getting Back Together | The Ben Shapiro Show Ep. 634'"
      ]
     },
     "metadata": {},
     "output_type": "display_data"
    },
    {
     "data": {
      "text/plain": [
       "1100"
      ]
     },
     "metadata": {},
     "output_type": "display_data"
    },
    {
     "data": {
      "text/plain": [
       "'The Day After | The Ben Shapiro Show Ep. 633'"
      ]
     },
     "metadata": {},
     "output_type": "display_data"
    },
    {
     "data": {
      "text/plain": [
       "1100"
      ]
     },
     "metadata": {},
     "output_type": "display_data"
    },
    {
     "data": {
      "text/plain": [
       "'The Greatest Whine Of All | The Ben Shapiro Show Ep. 632'"
      ]
     },
     "metadata": {},
     "output_type": "display_data"
    },
    {
     "data": {
      "text/plain": [
       "1100"
      ]
     },
     "metadata": {},
     "output_type": "display_data"
    },
    {
     "data": {
      "text/plain": [
       "'The Kavanaugh-calypse Approacheth | The Ben Shapiro Show Ep. 631'"
      ]
     },
     "metadata": {},
     "output_type": "display_data"
    },
    {
     "data": {
      "text/plain": [
       "1100"
      ]
     },
     "metadata": {},
     "output_type": "display_data"
    },
    {
     "data": {
      "text/plain": [
       "'Did The Kavanaugh Allegations Just Implode? | The Ben Shapiro Show Ep. 630'"
      ]
     },
     "metadata": {},
     "output_type": "display_data"
    },
    {
     "data": {
      "text/plain": [
       "1100"
      ]
     },
     "metadata": {},
     "output_type": "display_data"
    },
    {
     "data": {
      "text/plain": [
       "'The Kavanaugh Comeback | The Ben Shapiro Show Ep. 629'"
      ]
     },
     "metadata": {},
     "output_type": "display_data"
    },
    {
     "data": {
      "text/plain": [
       "1100"
      ]
     },
     "metadata": {},
     "output_type": "display_data"
    },
    {
     "data": {
      "text/plain": [
       "'The Big Day | The Ben Shapiro Show Ep. 628'"
      ]
     },
     "metadata": {},
     "output_type": "display_data"
    },
    {
     "data": {
      "text/plain": [
       "1100"
      ]
     },
     "metadata": {},
     "output_type": "display_data"
    },
    {
     "data": {
      "text/plain": [
       "'Insanity *Intensifies* | The Ben Shapiro Show Ep. 627'"
      ]
     },
     "metadata": {},
     "output_type": "display_data"
    },
    {
     "data": {
      "text/plain": [
       "1100"
      ]
     },
     "metadata": {},
     "output_type": "display_data"
    },
    {
     "data": {
      "text/plain": [
       "'The Kavanaugh Showdown | The Ben Shapiro Show Ep. 624'"
      ]
     },
     "metadata": {},
     "output_type": "display_data"
    },
    {
     "data": {
      "text/plain": [
       "1100"
      ]
     },
     "metadata": {},
     "output_type": "display_data"
    },
    {
     "data": {
      "text/plain": [
       "'The Kavanaugh #MeToo Moment | The Ben Shapiro Show Ep. 623'"
      ]
     },
     "metadata": {},
     "output_type": "display_data"
    },
    {
     "data": {
      "text/plain": [
       "1100"
      ]
     },
     "metadata": {},
     "output_type": "display_data"
    },
    {
     "data": {
      "text/plain": [
       "'Sunday\\xa0Special\\xa0Ep 19: Steven Crowder'"
      ]
     },
     "metadata": {},
     "output_type": "display_data"
    },
    {
     "data": {
      "text/plain": [
       "1100"
      ]
     },
     "metadata": {},
     "output_type": "display_data"
    },
    {
     "data": {
      "text/plain": [
       "'The Dirtiest Trick In The Book | The Ben Shapiro Show Ep. 622'"
      ]
     },
     "metadata": {},
     "output_type": "display_data"
    },
    {
     "data": {
      "text/plain": [
       "1100"
      ]
     },
     "metadata": {},
     "output_type": "display_data"
    },
    {
     "data": {
      "text/plain": [
       "'Getting Googly-Eyed Over Google | The Ben Shapiro Show Ep. 621'"
      ]
     },
     "metadata": {},
     "output_type": "display_data"
    },
    {
     "data": {
      "text/plain": [
       "1100"
      ]
     },
     "metadata": {},
     "output_type": "display_data"
    },
    {
     "data": {
      "text/plain": [
       "'Is Rhetoric Dangerous? | The Ben Shapiro Show Ep. 620'"
      ]
     },
     "metadata": {},
     "output_type": "display_data"
    },
    {
     "data": {
      "text/plain": [
       "1100"
      ]
     },
     "metadata": {},
     "output_type": "display_data"
    },
    {
     "data": {
      "text/plain": [
       "'Sunday\\xa0Special\\xa0Ep 18: Christina Hoff Sommers'"
      ]
     },
     "metadata": {},
     "output_type": "display_data"
    },
    {
     "data": {
      "text/plain": [
       "1100"
      ]
     },
     "metadata": {},
     "output_type": "display_data"
    },
    {
     "data": {
      "text/plain": [
       "'American Grandstand | The Ben Shapiro Show Ep. 619'"
      ]
     },
     "metadata": {},
     "output_type": "display_data"
    },
    {
     "data": {
      "text/plain": [
       "1100"
      ]
     },
     "metadata": {},
     "output_type": "display_data"
    },
    {
     "data": {
      "text/plain": [
       "'The Molehunt Is On! | The Ben Shapiro Show Ep. 618'"
      ]
     },
     "metadata": {},
     "output_type": "display_data"
    },
    {
     "data": {
      "text/plain": [
       "1100"
      ]
     },
     "metadata": {},
     "output_type": "display_data"
    },
    {
     "data": {
      "text/plain": [
       "'Twist And Shout…About Kavanaugh | The Ben Shapiro Show Ep. 617'"
      ]
     },
     "metadata": {},
     "output_type": "display_data"
    },
    {
     "data": {
      "text/plain": [
       "1100"
      ]
     },
     "metadata": {},
     "output_type": "display_data"
    },
    {
     "data": {
      "text/plain": [
       "'The Anti-Trump Culture War | The Ben Shapiro Show Ep. 616'"
      ]
     },
     "metadata": {},
     "output_type": "display_data"
    },
    {
     "data": {
      "text/plain": [
       "1100"
      ]
     },
     "metadata": {},
     "output_type": "display_data"
    },
    {
     "data": {
      "text/plain": [
       "'Sunday\\xa0Special\\xa0Ep 17: Edward Feser'"
      ]
     },
     "metadata": {},
     "output_type": "display_data"
    },
    {
     "data": {
      "text/plain": [
       "1100"
      ]
     },
     "metadata": {},
     "output_type": "display_data"
    },
    {
     "data": {
      "text/plain": [
       "'Canadian On The Moon | The Ben Shapiro Show Ep. 615'"
      ]
     },
     "metadata": {},
     "output_type": "display_data"
    },
    {
     "data": {
      "text/plain": [
       "1100"
      ]
     },
     "metadata": {},
     "output_type": "display_data"
    },
    {
     "data": {
      "text/plain": [
       "'Crying Wolf About Dog Whistles | The Ben Shapiro Show Ep. 614'"
      ]
     },
     "metadata": {},
     "output_type": "display_data"
    },
    {
     "data": {
      "text/plain": [
       "1100"
      ]
     },
     "metadata": {},
     "output_type": "display_data"
    },
    {
     "data": {
      "text/plain": [
       "'The Worst Headline Of The Month | The Ben Shapiro Show Ep. 613'"
      ]
     },
     "metadata": {},
     "output_type": "display_data"
    },
    {
     "data": {
      "text/plain": [
       "1100"
      ]
     },
     "metadata": {},
     "output_type": "display_data"
    },
    {
     "data": {
      "text/plain": [
       "'The Democratic Platform | The Ben Shapiro Show Ep. 612'"
      ]
     },
     "metadata": {},
     "output_type": "display_data"
    },
    {
     "data": {
      "text/plain": [
       "1100"
      ]
     },
     "metadata": {},
     "output_type": "display_data"
    },
    {
     "data": {
      "text/plain": [
       "'Goodbye To A Hero | The Ben Shapiro Show Ep. 611'"
      ]
     },
     "metadata": {},
     "output_type": "display_data"
    },
    {
     "data": {
      "text/plain": [
       "1100"
      ]
     },
     "metadata": {},
     "output_type": "display_data"
    },
    {
     "data": {
      "text/plain": [
       "'Sunday\\xa0Special\\xa0Ep 16: Clay Travis'"
      ]
     },
     "metadata": {},
     "output_type": "display_data"
    },
    {
     "data": {
      "text/plain": [
       "1100"
      ]
     },
     "metadata": {},
     "output_type": "display_data"
    },
    {
     "data": {
      "text/plain": [
       "'The Actual Big Issue | The Ben Shapiro Show Ep. 610'"
      ]
     },
     "metadata": {},
     "output_type": "display_data"
    },
    {
     "data": {
      "text/plain": [
       "1100"
      ]
     },
     "metadata": {},
     "output_type": "display_data"
    },
    {
     "data": {
      "text/plain": [
       "'The Day After | The Ben Shapiro Show Ep. 609'"
      ]
     },
     "metadata": {},
     "output_type": "display_data"
    },
    {
     "data": {
      "text/plain": [
       "1100"
      ]
     },
     "metadata": {},
     "output_type": "display_data"
    },
    {
     "data": {
      "text/plain": [
       "'It’s Apocalypse Day! | The Ben Shapiro Show Ep. 608'"
      ]
     },
     "metadata": {},
     "output_type": "display_data"
    },
    {
     "data": {
      "text/plain": [
       "1100"
      ]
     },
     "metadata": {},
     "output_type": "display_data"
    },
    {
     "data": {
      "text/plain": [
       "'The Democratic Elitism Problem | The Ben Shapiro Show Ep. 607'"
      ]
     },
     "metadata": {},
     "output_type": "display_data"
    },
    {
     "data": {
      "text/plain": [
       "1100"
      ]
     },
     "metadata": {},
     "output_type": "display_data"
    },
    {
     "data": {
      "text/plain": [
       "'The Giuliani Problem | The Ben Shapiro Show Ep. 606'"
      ]
     },
     "metadata": {},
     "output_type": "display_data"
    },
    {
     "data": {
      "text/plain": [
       "1100"
      ]
     },
     "metadata": {},
     "output_type": "display_data"
    },
    {
     "data": {
      "text/plain": [
       "'The Colluding Press | The Ben Shapiro Show Ep. 605'"
      ]
     },
     "metadata": {},
     "output_type": "display_data"
    },
    {
     "data": {
      "text/plain": [
       "1100"
      ]
     },
     "metadata": {},
     "output_type": "display_data"
    },
    {
     "data": {
      "text/plain": [
       "'The Rise Of The Socialists | The Ben Shapiro Show Ep. 604'"
      ]
     },
     "metadata": {},
     "output_type": "display_data"
    },
    {
     "data": {
      "text/plain": [
       "1100"
      ]
     },
     "metadata": {},
     "output_type": "display_data"
    },
    {
     "data": {
      "text/plain": [
       "'The Alt-Right Fizzle | The Ben Shapiro Show Ep. 601'"
      ]
     },
     "metadata": {},
     "output_type": "display_data"
    },
    {
     "data": {
      "text/plain": [
       "1100"
      ]
     },
     "metadata": {},
     "output_type": "display_data"
    },
    {
     "data": {
      "text/plain": [
       "'Sunday\\xa0Special\\xa0Ep 14: Tai Lopez'"
      ]
     },
     "metadata": {},
     "output_type": "display_data"
    },
    {
     "data": {
      "text/plain": [
       "1100"
      ]
     },
     "metadata": {},
     "output_type": "display_data"
    },
    {
     "data": {
      "text/plain": [
       "'Oh My, Omarosa | The Ben Shapiro Show Ep. 599'"
      ]
     },
     "metadata": {},
     "output_type": "display_data"
    },
    {
     "data": {
      "text/plain": [
       "1100"
      ]
     },
     "metadata": {},
     "output_type": "display_data"
    },
    {
     "data": {
      "text/plain": [
       "'Is The Blue Wave Coming? | The Ben Shapiro Show Ep. 598'"
      ]
     },
     "metadata": {},
     "output_type": "display_data"
    },
    {
     "data": {
      "text/plain": [
       "1100"
      ]
     },
     "metadata": {},
     "output_type": "display_data"
    },
    {
     "data": {
      "text/plain": [
       "'The Self-Pitying Media | The Ben Shapiro Show Ep. 597'"
      ]
     },
     "metadata": {},
     "output_type": "display_data"
    },
    {
     "data": {
      "text/plain": [
       "1100"
      ]
     },
     "metadata": {},
     "output_type": "display_data"
    },
    {
     "data": {
      "text/plain": [
       "'An Epic Trump Tweetstorm | The Ben Shapiro Show Ep. 596'"
      ]
     },
     "metadata": {},
     "output_type": "display_data"
    },
    {
     "data": {
      "text/plain": [
       "1100"
      ]
     },
     "metadata": {},
     "output_type": "display_data"
    },
    {
     "data": {
      "text/plain": [
       "'Sunday\\xa0Special\\xa0Ep 13: David Mamet'"
      ]
     },
     "metadata": {},
     "output_type": "display_data"
    },
    {
     "data": {
      "text/plain": [
       "1100"
      ]
     },
     "metadata": {},
     "output_type": "display_data"
    },
    {
     "data": {
      "text/plain": [
       "'Why Don’t People Trust The Media? | The Ben Shapiro Show Ep. 595'"
      ]
     },
     "metadata": {},
     "output_type": "display_data"
    },
    {
     "data": {
      "text/plain": [
       "1100"
      ]
     },
     "metadata": {},
     "output_type": "display_data"
    },
    {
     "data": {
      "text/plain": [
       "'The Seductiveness Of Power | The Ben Shapiro Show Ep. 594'"
      ]
     },
     "metadata": {},
     "output_type": "display_data"
    },
    {
     "data": {
      "text/plain": [
       "1100"
      ]
     },
     "metadata": {},
     "output_type": "display_data"
    },
    {
     "data": {
      "text/plain": [
       "'Ben Shapiro Debunks 3D-Gun Printing Myth'"
      ]
     },
     "metadata": {},
     "output_type": "display_data"
    },
    {
     "data": {
      "text/plain": [
       "1100"
      ]
     },
     "metadata": {},
     "output_type": "display_data"
    },
    {
     "data": {
      "text/plain": [
       "'Is The Second Civil War Coming? | The Ben Shapiro Show Ep. 593'"
      ]
     },
     "metadata": {},
     "output_type": "display_data"
    },
    {
     "data": {
      "text/plain": [
       "1100"
      ]
     },
     "metadata": {},
     "output_type": "display_data"
    },
    {
     "data": {
      "text/plain": [
       "'Hath Not A Giuliani Eyes? | The Ben Shapiro Show Ep. 592'"
      ]
     },
     "metadata": {},
     "output_type": "display_data"
    },
    {
     "data": {
      "text/plain": [
       "1100"
      ]
     },
     "metadata": {},
     "output_type": "display_data"
    },
    {
     "data": {
      "text/plain": [
       "'Path To 2018 | The Ben Shapiro Show Ep. 591'"
      ]
     },
     "metadata": {},
     "output_type": "display_data"
    },
    {
     "data": {
      "text/plain": [
       "1100"
      ]
     },
     "metadata": {},
     "output_type": "display_data"
    },
    {
     "data": {
      "text/plain": [
       "'The Wrongthink Police | The Ben Shapiro Show Ep. 590'"
      ]
     },
     "metadata": {},
     "output_type": "display_data"
    },
    {
     "data": {
      "text/plain": [
       "1100"
      ]
     },
     "metadata": {},
     "output_type": "display_data"
    },
    {
     "data": {
      "text/plain": [
       "'The Wrongthink Police | The Ben Shapiro Show Ep. 590'"
      ]
     },
     "metadata": {},
     "output_type": "display_data"
    },
    {
     "data": {
      "text/plain": [
       "1100"
      ]
     },
     "metadata": {},
     "output_type": "display_data"
    },
    {
     "data": {
      "text/plain": [
       "'Good Trump, Bad Trump | The Ben Shapiro Show Ep. 589'"
      ]
     },
     "metadata": {},
     "output_type": "display_data"
    },
    {
     "data": {
      "text/plain": [
       "1100"
      ]
     },
     "metadata": {},
     "output_type": "display_data"
    },
    {
     "data": {
      "text/plain": [
       "'The Tale Of The Tape | The Ben Shapiro Show Ep. 588'"
      ]
     },
     "metadata": {},
     "output_type": "display_data"
    },
    {
     "data": {
      "text/plain": [
       "1100"
      ]
     },
     "metadata": {},
     "output_type": "display_data"
    },
    {
     "data": {
      "text/plain": [
       "'Of Virtue Signaling And Vice | The Ben Shapiro Show Ep. 587'"
      ]
     },
     "metadata": {},
     "output_type": "display_data"
    },
    {
     "data": {
      "text/plain": [
       "1100"
      ]
     },
     "metadata": {},
     "output_type": "display_data"
    },
    {
     "data": {
      "text/plain": [
       "'Trump vs. The Intelligence Community | The Ben Shapiro Show Ep. 585'"
      ]
     },
     "metadata": {},
     "output_type": "display_data"
    },
    {
     "data": {
      "text/plain": [
       "1100"
      ]
     },
     "metadata": {},
     "output_type": "display_data"
    },
    {
     "data": {
      "text/plain": [
       "'Being Nice Is Against The Rules | The Ben Shapiro Show Ep. 584'"
      ]
     },
     "metadata": {},
     "output_type": "display_data"
    },
    {
     "data": {
      "text/plain": [
       "1100"
      ]
     },
     "metadata": {},
     "output_type": "display_data"
    },
    {
     "data": {
      "text/plain": [
       "'Is Honesty Dead? | The Ben Shapiro Show Ep. 583'"
      ]
     },
     "metadata": {},
     "output_type": "display_data"
    },
    {
     "data": {
      "text/plain": [
       "1100"
      ]
     },
     "metadata": {},
     "output_type": "display_data"
    },
    {
     "data": {
      "text/plain": [
       "'The Russian Connection | The Ben Shapiro Show Ep. 582'"
      ]
     },
     "metadata": {},
     "output_type": "display_data"
    },
    {
     "data": {
      "text/plain": [
       "1100"
      ]
     },
     "metadata": {},
     "output_type": "display_data"
    },
    {
     "data": {
      "text/plain": [
       "'To Russia, With Love | The Ben Shapiro Show Ep. 581'"
      ]
     },
     "metadata": {},
     "output_type": "display_data"
    },
    {
     "data": {
      "text/plain": [
       "1100"
      ]
     },
     "metadata": {},
     "output_type": "display_data"
    },
    {
     "data": {
      "text/plain": [
       "'Thunder Strzok | The Ben Shapiro Show Ep. 580'"
      ]
     },
     "metadata": {},
     "output_type": "display_data"
    },
    {
     "data": {
      "text/plain": [
       "1100"
      ]
     },
     "metadata": {},
     "output_type": "display_data"
    },
    {
     "data": {
      "text/plain": [
       "'It’s A Trumpnato! | The Ben Shapiro Show Ep. 579'"
      ]
     },
     "metadata": {},
     "output_type": "display_data"
    },
    {
     "data": {
      "text/plain": [
       "1100"
      ]
     },
     "metadata": {},
     "output_type": "display_data"
    },
    {
     "data": {
      "text/plain": [
       "'Trump Swings At NATO | The Ben Shapiro Show Ep. 578'"
      ]
     },
     "metadata": {},
     "output_type": "display_data"
    },
    {
     "data": {
      "text/plain": [
       "1100"
      ]
     },
     "metadata": {},
     "output_type": "display_data"
    },
    {
     "data": {
      "text/plain": [
       "'Kavanaugh, Kava-yes! | The Ben Shapiro Show Ep. 577'"
      ]
     },
     "metadata": {},
     "output_type": "display_data"
    },
    {
     "data": {
      "text/plain": [
       "1100"
      ]
     },
     "metadata": {},
     "output_type": "display_data"
    },
    {
     "data": {
      "text/plain": [
       "'It’s The Supreme Day | The Ben Shapiro Show Ep. 576'"
      ]
     },
     "metadata": {},
     "output_type": "display_data"
    },
    {
     "data": {
      "text/plain": [
       "1100"
      ]
     },
     "metadata": {},
     "output_type": "display_data"
    },
    {
     "data": {
      "text/plain": [
       "'Goodbye To Pruitt | The Ben Shapiro Show Ep. 575'"
      ]
     },
     "metadata": {},
     "output_type": "display_data"
    },
    {
     "data": {
      "text/plain": [
       "1100"
      ]
     },
     "metadata": {},
     "output_type": "display_data"
    },
    {
     "data": {
      "text/plain": [
       "'Is The Left Creating A New Agenda? | The Ben Shapiro Show Ep. 574'"
      ]
     },
     "metadata": {},
     "output_type": "display_data"
    },
    {
     "data": {
      "text/plain": [
       "1100"
      ]
     },
     "metadata": {},
     "output_type": "display_data"
    },
    {
     "data": {
      "text/plain": [
       "'Are You Proud To Be An American? | The Ben Shapiro Show Ep. 573'"
      ]
     },
     "metadata": {},
     "output_type": "display_data"
    },
    {
     "data": {
      "text/plain": [
       "1100"
      ]
     },
     "metadata": {},
     "output_type": "display_data"
    },
    {
     "data": {
      "text/plain": [
       "'So Much Earth-Shattering Bravery | The Ben Shapiro Show Ep. 572'"
      ]
     },
     "metadata": {},
     "output_type": "display_data"
    },
    {
     "data": {
      "text/plain": [
       "1100"
      ]
     },
     "metadata": {},
     "output_type": "display_data"
    },
    {
     "data": {
      "text/plain": [
       "'You’re Blaming The Wrong People | The Ben Shapiro Show Ep. 571'"
      ]
     },
     "metadata": {},
     "output_type": "display_data"
    },
    {
     "data": {
      "text/plain": [
       "1100"
      ]
     },
     "metadata": {},
     "output_type": "display_data"
    },
    {
     "data": {
      "text/plain": [
       "'The Biggest Move In A Generation | The Ben Shapiro Show Ep. 570'"
      ]
     },
     "metadata": {},
     "output_type": "display_data"
    },
    {
     "data": {
      "text/plain": [
       "1100"
      ]
     },
     "metadata": {},
     "output_type": "display_data"
    },
    {
     "data": {
      "text/plain": [
       "'The Democrats Swing Far Left | The Ben Shapiro Show Ep. 569'"
      ]
     },
     "metadata": {},
     "output_type": "display_data"
    },
    {
     "data": {
      "text/plain": [
       "1100"
      ]
     },
     "metadata": {},
     "output_type": "display_data"
    },
    {
     "data": {
      "text/plain": [
       "'The Rise Of The Mobocracy | The Ben Shapiro Show Ep. 568'"
      ]
     },
     "metadata": {},
     "output_type": "display_data"
    },
    {
     "data": {
      "text/plain": [
       "1100"
      ]
     },
     "metadata": {},
     "output_type": "display_data"
    },
    {
     "data": {
      "text/plain": [
       "'Burning The Social Fabric | The Ben Shapiro Show Ep. 567'"
      ]
     },
     "metadata": {},
     "output_type": "display_data"
    },
    {
     "data": {
      "text/plain": [
       "1100"
      ]
     },
     "metadata": {},
     "output_type": "display_data"
    },
    {
     "data": {
      "text/plain": [
       "'I Really Don’t Care, Do U? | The Ben Shapiro Show Ep. 566'"
      ]
     },
     "metadata": {},
     "output_type": "display_data"
    },
    {
     "data": {
      "text/plain": [
       "1100"
      ]
     },
     "metadata": {},
     "output_type": "display_data"
    },
    {
     "data": {
      "text/plain": [
       "'The Great Reversal | The Ben Shapiro Show Ep. 565'"
      ]
     },
     "metadata": {},
     "output_type": "display_data"
    },
    {
     "data": {
      "text/plain": [
       "1100"
      ]
     },
     "metadata": {},
     "output_type": "display_data"
    },
    {
     "data": {
      "text/plain": [
       "'The Time Of Feelings | The Ben Shapiro Show Ep. 564'"
      ]
     },
     "metadata": {},
     "output_type": "display_data"
    },
    {
     "data": {
      "text/plain": [
       "1100"
      ]
     },
     "metadata": {},
     "output_type": "display_data"
    },
    {
     "data": {
      "text/plain": [
       "'The Immigration Wars Heat Up | The Ben Shapiro Show Ep. 563'"
      ]
     },
     "metadata": {},
     "output_type": "display_data"
    },
    {
     "data": {
      "text/plain": [
       "1100"
      ]
     },
     "metadata": {},
     "output_type": "display_data"
    },
    {
     "data": {
      "text/plain": [
       "'Is Trump Tearing Children From Their Parents? | The Ben Shapiro Show Ep. 562'"
      ]
     },
     "metadata": {},
     "output_type": "display_data"
    },
    {
     "data": {
      "text/plain": [
       "1100"
      ]
     },
     "metadata": {},
     "output_type": "display_data"
    },
    {
     "data": {
      "text/plain": [
       "'What In The World? | The Ben Shapiro Show Ep. 561'"
      ]
     },
     "metadata": {},
     "output_type": "display_data"
    },
    {
     "data": {
      "text/plain": [
       "1100"
      ]
     },
     "metadata": {},
     "output_type": "display_data"
    },
    {
     "data": {
      "text/plain": [
       "\"The FBI's Big Booboo | The Ben Shapiro Show Ep. 560\""
      ]
     },
     "metadata": {},
     "output_type": "display_data"
    },
    {
     "data": {
      "text/plain": [
       "1100"
      ]
     },
     "metadata": {},
     "output_type": "display_data"
    },
    {
     "data": {
      "text/plain": [
       "'Don’t Eat The Homophobic Chicken | The Ben Shapiro Show Ep. 559'"
      ]
     },
     "metadata": {},
     "output_type": "display_data"
    },
    {
     "data": {
      "text/plain": [
       "1100"
      ]
     },
     "metadata": {},
     "output_type": "display_data"
    },
    {
     "data": {
      "text/plain": [
       "'The Big Meeting | The Ben Shapiro Show Ep. 558'"
      ]
     },
     "metadata": {},
     "output_type": "display_data"
    },
    {
     "data": {
      "text/plain": [
       "1100"
      ]
     },
     "metadata": {},
     "output_type": "display_data"
    },
    {
     "data": {
      "text/plain": [
       "'The Art Of The Deal | The Ben Shapiro Show Ep. 557'"
      ]
     },
     "metadata": {},
     "output_type": "display_data"
    },
    {
     "data": {
      "text/plain": [
       "1100"
      ]
     },
     "metadata": {},
     "output_type": "display_data"
    },
    {
     "data": {
      "text/plain": [
       "'The Suicide Epidemic | The Ben Shapiro Show Ep. 556'"
      ]
     },
     "metadata": {},
     "output_type": "display_data"
    },
    {
     "data": {
      "text/plain": [
       "1100"
      ]
     },
     "metadata": {},
     "output_type": "display_data"
    },
    {
     "data": {
      "text/plain": [
       "'The Kim Kardashian Pardon | The Ben Shapiro Show Ep. 555'"
      ]
     },
     "metadata": {},
     "output_type": "display_data"
    },
    {
     "data": {
      "text/plain": [
       "1100"
      ]
     },
     "metadata": {},
     "output_type": "display_data"
    },
    {
     "data": {
      "text/plain": [
       "'The Coming Apocalypse Nobody Cares About | The Ben Shapiro Show Ep. 554'"
      ]
     },
     "metadata": {},
     "output_type": "display_data"
    },
    {
     "data": {
      "text/plain": [
       "1100"
      ]
     },
     "metadata": {},
     "output_type": "display_data"
    },
    {
     "data": {
      "text/plain": [
       "'Sit, Eagle, Sit | The Ben Shapiro Show Ep. 553'"
      ]
     },
     "metadata": {},
     "output_type": "display_data"
    },
    {
     "data": {
      "text/plain": [
       "1100"
      ]
     },
     "metadata": {},
     "output_type": "display_data"
    },
    {
     "data": {
      "text/plain": [
       "'The Tide Goes Out On The Blue Wave | The Ben Shapiro Show Ep. 552'"
      ]
     },
     "metadata": {},
     "output_type": "display_data"
    },
    {
     "data": {
      "text/plain": [
       "1100"
      ]
     },
     "metadata": {},
     "output_type": "display_data"
    },
    {
     "data": {
      "text/plain": [
       "'To Bee Or Not To Bee | The Ben Shapiro Show Ep. 551'"
      ]
     },
     "metadata": {},
     "output_type": "display_data"
    },
    {
     "data": {
      "text/plain": [
       "1100"
      ]
     },
     "metadata": {},
     "output_type": "display_data"
    },
    {
     "data": {
      "text/plain": [
       "'The Saddest Story Ever Told | The Ben Shapiro Show Ep. 550'"
      ]
     },
     "metadata": {},
     "output_type": "display_data"
    },
    {
     "data": {
      "text/plain": [
       "1100"
      ]
     },
     "metadata": {},
     "output_type": "display_data"
    },
    {
     "data": {
      "text/plain": [
       "'Goodbye, Roseanne | The Ben Shapiro Show Ep. 549'"
      ]
     },
     "metadata": {},
     "output_type": "display_data"
    },
    {
     "data": {
      "text/plain": [
       "1100"
      ]
     },
     "metadata": {},
     "output_type": "display_data"
    },
    {
     "data": {
      "text/plain": [
       "'The West’s Suicide Note | The Ben Shapiro Show Ep. 548'"
      ]
     },
     "metadata": {},
     "output_type": "display_data"
    },
    {
     "data": {
      "text/plain": [
       "1100"
      ]
     },
     "metadata": {},
     "output_type": "display_data"
    },
    {
     "data": {
      "text/plain": [
       "'Remember Our Soldiers | The Ben Shapiro Show Ep. 547'"
      ]
     },
     "metadata": {},
     "output_type": "display_data"
    },
    {
     "data": {
      "text/plain": [
       "1100"
      ]
     },
     "metadata": {},
     "output_type": "display_data"
    },
    {
     "data": {
      "text/plain": [
       "'Hollywood’s God Is Gross | The Ben Shapiro Show Ep. 546'"
      ]
     },
     "metadata": {},
     "output_type": "display_data"
    },
    {
     "data": {
      "text/plain": [
       "1100"
      ]
     },
     "metadata": {},
     "output_type": "display_data"
    },
    {
     "data": {
      "text/plain": [
       "'The Kneel Strong-Arm | The Ben Shapiro Show Ep. 545'"
      ]
     },
     "metadata": {},
     "output_type": "display_data"
    },
    {
     "data": {
      "text/plain": [
       "1100"
      ]
     },
     "metadata": {},
     "output_type": "display_data"
    },
    {
     "data": {
      "text/plain": [
       "'The Power Of Being A Jerk | The Ben Shapiro Show Ep. 544'"
      ]
     },
     "metadata": {},
     "output_type": "display_data"
    },
    {
     "data": {
      "text/plain": [
       "1100"
      ]
     },
     "metadata": {},
     "output_type": "display_data"
    },
    {
     "data": {
      "text/plain": [
       "'The Spy Who Hated Me | The Ben Shapiro Show Ep. 543'"
      ]
     },
     "metadata": {},
     "output_type": "display_data"
    },
    {
     "data": {
      "text/plain": [
       "1100"
      ]
     },
     "metadata": {},
     "output_type": "display_data"
    },
    {
     "data": {
      "text/plain": [
       "'Is It Mueller Time? | The Ben Shapiro Show Ep. 542'"
      ]
     },
     "metadata": {},
     "output_type": "display_data"
    },
    {
     "data": {
      "text/plain": [
       "1100"
      ]
     },
     "metadata": {},
     "output_type": "display_data"
    },
    {
     "data": {
      "text/plain": [
       "'How the Media Are Turning America Trumpy | The Ben Shapiro Show Ep. 541'"
      ]
     },
     "metadata": {},
     "output_type": "display_data"
    },
    {
     "data": {
      "text/plain": [
       "1100"
      ]
     },
     "metadata": {},
     "output_type": "display_data"
    },
    {
     "data": {
      "text/plain": [
       "'Why The Media Get Gaza Wrong | The Ben Shapiro Show Ep. 540'"
      ]
     },
     "metadata": {},
     "output_type": "display_data"
    },
    {
     "data": {
      "text/plain": [
       "1100"
      ]
     },
     "metadata": {},
     "output_type": "display_data"
    },
    {
     "data": {
      "text/plain": [
       "\"The Media's Blood Libel | The Ben Shapiro Show Ep. 539\""
      ]
     },
     "metadata": {},
     "output_type": "display_data"
    },
    {
     "data": {
      "text/plain": [
       "1100"
      ]
     },
     "metadata": {},
     "output_type": "display_data"
    },
    {
     "data": {
      "text/plain": [
       "'If I Forget You, O Jerusalem | The Ben Shapiro Show Ep. 538'"
      ]
     },
     "metadata": {},
     "output_type": "display_data"
    },
    {
     "data": {
      "text/plain": [
       "1100"
      ]
     },
     "metadata": {},
     "output_type": "display_data"
    },
    {
     "data": {
      "text/plain": [
       "'Delusional Democrats’ Failing Foreign Policy | The Ben Shapiro Show Ep. 537'"
      ]
     },
     "metadata": {},
     "output_type": "display_data"
    },
    {
     "data": {
      "text/plain": [
       "1100"
      ]
     },
     "metadata": {},
     "output_type": "display_data"
    },
    {
     "data": {
      "text/plain": [
       "'The Iranian War | The Ben Shapiro Show Ep. 536'"
      ]
     },
     "metadata": {},
     "output_type": "display_data"
    },
    {
     "data": {
      "text/plain": [
       "1100"
      ]
     },
     "metadata": {},
     "output_type": "display_data"
    },
    {
     "data": {
      "text/plain": [
       "'Ep. 535 - Trump Wrecks Obama’s Legacy | The Ben Shapiro Show Ep. 535'"
      ]
     },
     "metadata": {},
     "output_type": "display_data"
    },
    {
     "data": {
      "text/plain": [
       "1100"
      ]
     },
     "metadata": {},
     "output_type": "display_data"
    },
    {
     "data": {
      "text/plain": [
       "'Schneiderman On The Schneid | The Ben Shapiro Show Ep. 534'"
      ]
     },
     "metadata": {},
     "output_type": "display_data"
    },
    {
     "data": {
      "text/plain": [
       "1100"
      ]
     },
     "metadata": {},
     "output_type": "display_data"
    },
    {
     "data": {
      "text/plain": [
       "'The Media’s Big Boo Boo | The Ben Shapiro Show Ep. 532'"
      ]
     },
     "metadata": {},
     "output_type": "display_data"
    },
    {
     "data": {
      "text/plain": [
       "1100"
      ]
     },
     "metadata": {},
     "output_type": "display_data"
    },
    {
     "data": {
      "text/plain": [
       "'Stormy Weather | The Ben Shapiro Show Ep. 531'"
      ]
     },
     "metadata": {},
     "output_type": "display_data"
    },
    {
     "data": {
      "text/plain": [
       "1100"
      ]
     },
     "metadata": {},
     "output_type": "display_data"
    },
    {
     "data": {
      "text/plain": [
       "'Pod Save The Iran Deal | The Ben Shapiro Show Ep. 530'"
      ]
     },
     "metadata": {},
     "output_type": "display_data"
    },
    {
     "data": {
      "text/plain": [
       "1100"
      ]
     },
     "metadata": {},
     "output_type": "display_data"
    },
    {
     "data": {
      "text/plain": [
       "'Revenge Of The Mossad | The Ben Shapiro Show Ep. 529'"
      ]
     },
     "metadata": {},
     "output_type": "display_data"
    },
    {
     "data": {
      "text/plain": [
       "1100"
      ]
     },
     "metadata": {},
     "output_type": "display_data"
    },
    {
     "data": {
      "text/plain": [
       "'The White House Correspondents’ Dog’s Breakfast | The Ben Shapiro Show Ep. 528'"
      ]
     },
     "metadata": {},
     "output_type": "display_data"
    },
    {
     "data": {
      "text/plain": [
       "1100"
      ]
     },
     "metadata": {},
     "output_type": "display_data"
    },
    {
     "data": {
      "text/plain": [
       "'Murder Is Not Dying With Dignity | The Ben Shapiro Show Ep. 527'"
      ]
     },
     "metadata": {},
     "output_type": "display_data"
    },
    {
     "data": {
      "text/plain": [
       "1100"
      ]
     },
     "metadata": {},
     "output_type": "display_data"
    },
    {
     "data": {
      "text/plain": [
       "'Murder Is Not Dying With Dignity | The Ben Shapiro Show Ep. 527'"
      ]
     },
     "metadata": {},
     "output_type": "display_data"
    },
    {
     "data": {
      "text/plain": [
       "1100"
      ]
     },
     "metadata": {},
     "output_type": "display_data"
    },
    {
     "data": {
      "text/plain": [
       "'Make Rap Great Again | The Ben Shapiro Show Ep. 526'"
      ]
     },
     "metadata": {},
     "output_type": "display_data"
    },
    {
     "data": {
      "text/plain": [
       "1100"
      ]
     },
     "metadata": {},
     "output_type": "display_data"
    },
    {
     "data": {
      "text/plain": [
       "'Kanye Believe It? | The Ben Shapiro Show Ep. 525'"
      ]
     },
     "metadata": {},
     "output_type": "display_data"
    },
    {
     "data": {
      "text/plain": [
       "1100"
      ]
     },
     "metadata": {},
     "output_type": "display_data"
    },
    {
     "data": {
      "text/plain": [
       "'When Tyranny Leads To Death | The Ben Shapiro Show Ep. 524'"
      ]
     },
     "metadata": {},
     "output_type": "display_data"
    },
    {
     "data": {
      "text/plain": [
       "1100"
      ]
     },
     "metadata": {},
     "output_type": "display_data"
    },
    {
     "data": {
      "text/plain": [
       "'The Worst Arguments For Gun Control | The Ben Shapiro Show Ep. 523'"
      ]
     },
     "metadata": {},
     "output_type": "display_data"
    },
    {
     "data": {
      "text/plain": [
       "1100"
      ]
     },
     "metadata": {},
     "output_type": "display_data"
    },
    {
     "data": {
      "text/plain": [
       "'The Comey Memos | The Ben Shapiro Show Ep. 522'"
      ]
     },
     "metadata": {},
     "output_type": "display_data"
    },
    {
     "data": {
      "text/plain": [
       "1100"
      ]
     },
     "metadata": {},
     "output_type": "display_data"
    },
    {
     "data": {
      "text/plain": [
       "'Is Starbucks Racist? | The Ben Shapiro Show Ep. 521'"
      ]
     },
     "metadata": {},
     "output_type": "display_data"
    },
    {
     "data": {
      "text/plain": [
       "1100"
      ]
     },
     "metadata": {},
     "output_type": "display_data"
    },
    {
     "data": {
      "text/plain": [
       "'Thank You, Barbara Bush |The Ben Shapiro Show Ep. 520'"
      ]
     },
     "metadata": {},
     "output_type": "display_data"
    },
    {
     "data": {
      "text/plain": [
       "1100"
      ]
     },
     "metadata": {},
     "output_type": "display_data"
    },
    {
     "data": {
      "text/plain": [
       "'Cohen’s Big Day | The Ben Shapiro Show Ep. 519'"
      ]
     },
     "metadata": {},
     "output_type": "display_data"
    },
    {
     "data": {
      "text/plain": [
       "1100"
      ]
     },
     "metadata": {},
     "output_type": "display_data"
    },
    {
     "data": {
      "text/plain": [
       "'The Full Comey | The Ben Shapiro Show Ep. 518'"
      ]
     },
     "metadata": {},
     "output_type": "display_data"
    },
    {
     "data": {
      "text/plain": [
       "1100"
      ]
     },
     "metadata": {},
     "output_type": "display_data"
    },
    {
     "data": {
      "text/plain": [
       "'Come-y On Already | The Ben Shapiro Show Ep. 517'"
      ]
     },
     "metadata": {},
     "output_type": "display_data"
    },
    {
     "data": {
      "text/plain": [
       "1100"
      ]
     },
     "metadata": {},
     "output_type": "display_data"
    },
    {
     "data": {
      "text/plain": [
       "'Crisis Point | The Ben Shapiro Show Ep. 516'"
      ]
     },
     "metadata": {},
     "output_type": "display_data"
    },
    {
     "data": {
      "text/plain": [
       "1100"
      ]
     },
     "metadata": {},
     "output_type": "display_data"
    },
    {
     "data": {
      "text/plain": [
       "'Paul Ryan Exits | The Ben Shapiro Show Ep. 515'"
      ]
     },
     "metadata": {},
     "output_type": "display_data"
    },
    {
     "data": {
      "text/plain": [
       "1100"
      ]
     },
     "metadata": {},
     "output_type": "display_data"
    },
    {
     "data": {
      "text/plain": [
       "'The Great Raid | The Ben Shapiro Show Ep. 514'"
      ]
     },
     "metadata": {},
     "output_type": "display_data"
    },
    {
     "data": {
      "text/plain": [
       "1100"
      ]
     },
     "metadata": {},
     "output_type": "display_data"
    },
    {
     "data": {
      "text/plain": [
       "'The Situation In Syria | The Ben Shapiro Show Ep. 513'"
      ]
     },
     "metadata": {},
     "output_type": "display_data"
    },
    {
     "data": {
      "text/plain": [
       "1100"
      ]
     },
     "metadata": {},
     "output_type": "display_data"
    },
    {
     "data": {
      "text/plain": [
       "'The Radical Left Rises | The Ben Shapiro Show Ep. 512'"
      ]
     },
     "metadata": {},
     "output_type": "display_data"
    },
    {
     "data": {
      "text/plain": [
       "1100"
      ]
     },
     "metadata": {},
     "output_type": "display_data"
    },
    {
     "data": {
      "text/plain": [
       "'What Was MLK’s Legacy? | The Ben Shapiro Show Ep. 511'"
      ]
     },
     "metadata": {},
     "output_type": "display_data"
    },
    {
     "data": {
      "text/plain": [
       "1100"
      ]
     },
     "metadata": {},
     "output_type": "display_data"
    },
    {
     "data": {
      "text/plain": [
       "'Trouble At YouTube | The Ben Shapiro Show Ep. 510'"
      ]
     },
     "metadata": {},
     "output_type": "display_data"
    },
    {
     "data": {
      "text/plain": [
       "1100"
      ]
     },
     "metadata": {},
     "output_type": "display_data"
    },
    {
     "data": {
      "text/plain": [
       "'Standing Up To The Outrage Police | The Ben Shapiro Show Ep. 509'"
      ]
     },
     "metadata": {},
     "output_type": "display_data"
    },
    {
     "data": {
      "text/plain": [
       "1100"
      ]
     },
     "metadata": {},
     "output_type": "display_data"
    },
    {
     "data": {
      "text/plain": [
       "'The Media’s Self-Defeating War | The Ben Shapiro Show Ep. 508'"
      ]
     },
     "metadata": {},
     "output_type": "display_data"
    },
    {
     "data": {
      "text/plain": [
       "1100"
      ]
     },
     "metadata": {},
     "output_type": "display_data"
    },
    {
     "data": {
      "text/plain": [
       "'Conservatives Not Welcome | The Ben Shapiro Show Ep. 507'"
      ]
     },
     "metadata": {},
     "output_type": "display_data"
    },
    {
     "data": {
      "text/plain": [
       "1100"
      ]
     },
     "metadata": {},
     "output_type": "display_data"
    },
    {
     "data": {
      "text/plain": [
       "'The Media Goes Hogg Wild | The Ben Shapiro Show Ep. 506'"
      ]
     },
     "metadata": {},
     "output_type": "display_data"
    },
    {
     "data": {
      "text/plain": [
       "1100"
      ]
     },
     "metadata": {},
     "output_type": "display_data"
    },
    {
     "data": {
      "text/plain": [
       "'Roseanne Is Back! | The Ben Shapiro Show Ep. 505'"
      ]
     },
     "metadata": {},
     "output_type": "display_data"
    },
    {
     "data": {
      "text/plain": [
       "1100"
      ]
     },
     "metadata": {},
     "output_type": "display_data"
    },
    {
     "data": {
      "text/plain": [
       "'Are Victims Sacrosanct? | The Ben Shapiro Show Ep. 504'"
      ]
     },
     "metadata": {},
     "output_type": "display_data"
    },
    {
     "data": {
      "text/plain": [
       "1100"
      ]
     },
     "metadata": {},
     "output_type": "display_data"
    },
    {
     "data": {
      "text/plain": [
       "'Children, Scandals, and Tariffs, Oh My! | The Ben Shapiro Show  Ep. 503'"
      ]
     },
     "metadata": {},
     "output_type": "display_data"
    },
    {
     "data": {
      "text/plain": [
       "1100"
      ]
     },
     "metadata": {},
     "output_type": "display_data"
    },
    {
     "data": {
      "text/plain": [
       "'McMaster’s Boltin’, Bolton’s Master | The Ben Shapiro Show Ep. 502'"
      ]
     },
     "metadata": {},
     "output_type": "display_data"
    },
    {
     "data": {
      "text/plain": [
       "1100"
      ]
     },
     "metadata": {},
     "output_type": "display_data"
    },
    {
     "data": {
      "text/plain": [
       "'Facebook On The Hot Seat | The Ben Shapiro Show Ep. 501'"
      ]
     },
     "metadata": {},
     "output_type": "display_data"
    },
    {
     "data": {
      "text/plain": [
       "1100"
      ]
     },
     "metadata": {},
     "output_type": "display_data"
    },
    {
     "data": {
      "text/plain": [
       "'Is America Punishing Young Black Boys? | The Ben Shapiro Show Ep. 500'"
      ]
     },
     "metadata": {},
     "output_type": "display_data"
    },
    {
     "data": {
      "text/plain": [
       "1100"
      ]
     },
     "metadata": {},
     "output_type": "display_data"
    },
    {
     "data": {
      "text/plain": [
       "\"The Left's Great Social Media Scam | The Ben Shapiro Show Ep. 499\""
      ]
     },
     "metadata": {},
     "output_type": "display_data"
    },
    {
     "data": {
      "text/plain": [
       "1100"
      ]
     },
     "metadata": {},
     "output_type": "display_data"
    },
    {
     "data": {
      "text/plain": [
       "'Is A Constitutional Crisis Coming? | The Ben Shapiro Show Ep. 498'"
      ]
     },
     "metadata": {},
     "output_type": "display_data"
    },
    {
     "data": {
      "text/plain": [
       "1100"
      ]
     },
     "metadata": {},
     "output_type": "display_data"
    },
    {
     "data": {
      "text/plain": [
       "'Does The Free Market Work? | The Ben Shapiro Show Ep. 497'"
      ]
     },
     "metadata": {},
     "output_type": "display_data"
    },
    {
     "data": {
      "text/plain": [
       "1100"
      ]
     },
     "metadata": {},
     "output_type": "display_data"
    },
    {
     "data": {
      "text/plain": [
       "'The Big School Walkout | The Ben Shapiro Show Ep. 496'"
      ]
     },
     "metadata": {},
     "output_type": "display_data"
    },
    {
     "data": {
      "text/plain": [
       "1100"
      ]
     },
     "metadata": {},
     "output_type": "display_data"
    },
    {
     "data": {
      "text/plain": [
       "'Bad Moon Rising | The Ben Shapiro Show Ep. 495'"
      ]
     },
     "metadata": {},
     "output_type": "display_data"
    },
    {
     "data": {
      "text/plain": [
       "1100"
      ]
     },
     "metadata": {},
     "output_type": "display_data"
    },
    {
     "data": {
      "text/plain": [
       "'Hillary’s Back | The Ben Shapiro Show Ep. 494'"
      ]
     },
     "metadata": {},
     "output_type": "display_data"
    },
    {
     "data": {
      "text/plain": [
       "1100"
      ]
     },
     "metadata": {},
     "output_type": "display_data"
    },
    {
     "data": {
      "text/plain": [
       "'The Left Unleashes Its Crazy | The Ben Shapiro Show Ep. 493'"
      ]
     },
     "metadata": {},
     "output_type": "display_data"
    },
    {
     "data": {
      "text/plain": [
       "1100"
      ]
     },
     "metadata": {},
     "output_type": "display_data"
    },
    {
     "data": {
      "text/plain": [
       "'Trump’s Nobel Prize? | The Ben Shapiro Show Ep. 492'"
      ]
     },
     "metadata": {},
     "output_type": "display_data"
    },
    {
     "data": {
      "text/plain": [
       "1100"
      ]
     },
     "metadata": {},
     "output_type": "display_data"
    },
    {
     "data": {
      "text/plain": [
       "'Trump’s California Dreamin’ | The Ben Shapiro Show Ep. 491'"
      ]
     },
     "metadata": {},
     "output_type": "display_data"
    },
    {
     "data": {
      "text/plain": [
       "1100"
      ]
     },
     "metadata": {},
     "output_type": "display_data"
    },
    {
     "data": {
      "text/plain": [
       "'As The Globalists Turn | The Ben Shapiro Show Ep. Ep. 490'"
      ]
     },
     "metadata": {},
     "output_type": "display_data"
    },
    {
     "data": {
      "text/plain": [
       "1100"
      ]
     },
     "metadata": {},
     "output_type": "display_data"
    },
    {
     "data": {
      "text/plain": [
       "'Putting Crazy People On TV | The Ben Shapiro Show Ep. 489'"
      ]
     },
     "metadata": {},
     "output_type": "display_data"
    },
    {
     "data": {
      "text/plain": [
       "1100"
      ]
     },
     "metadata": {},
     "output_type": "display_data"
    },
    {
     "data": {
      "text/plain": [
       "'Hollywood’s Night Of Posturing | The Ben Shapiro Show Ep. 488'"
      ]
     },
     "metadata": {},
     "output_type": "display_data"
    },
    {
     "data": {
      "text/plain": [
       "1100"
      ]
     },
     "metadata": {},
     "output_type": "display_data"
    },
    {
     "data": {
      "text/plain": [
       "'Governance By Chaos | The Ben Shapiro Show Ep. 487'"
      ]
     },
     "metadata": {},
     "output_type": "display_data"
    },
    {
     "data": {
      "text/plain": [
       "1100"
      ]
     },
     "metadata": {},
     "output_type": "display_data"
    },
    {
     "data": {
      "text/plain": [
       "'Wait, Trump Just Said WHAT? | The Ben Shapiro Show Ep. 486'"
      ]
     },
     "metadata": {},
     "output_type": "display_data"
    },
    {
     "data": {
      "text/plain": [
       "1100"
      ]
     },
     "metadata": {},
     "output_type": "display_data"
    },
    {
     "data": {
      "text/plain": [
       "'How Late Night Went Left | The Ben Shapiro Show Ep. 485'"
      ]
     },
     "metadata": {},
     "output_type": "display_data"
    },
    {
     "data": {
      "text/plain": [
       "1100"
      ]
     },
     "metadata": {},
     "output_type": "display_data"
    },
    {
     "data": {
      "text/plain": [
       "'The Parkland Story Gets Even Worse | The Ben Shapiro Show Ep. 484'"
      ]
     },
     "metadata": {},
     "output_type": "display_data"
    },
    {
     "data": {
      "text/plain": [
       "1100"
      ]
     },
     "metadata": {},
     "output_type": "display_data"
    },
    {
     "data": {
      "text/plain": [
       "'Resign, Sheriff Israel | The Ben Shapiro Show Ep. 483'"
      ]
     },
     "metadata": {},
     "output_type": "display_data"
    },
    {
     "data": {
      "text/plain": [
       "1100"
      ]
     },
     "metadata": {},
     "output_type": "display_data"
    },
    {
     "data": {
      "text/plain": [
       "'The Most Shocking Failure In The Parkland Massacre | The Ben Shapiro Show Ep. 482'"
      ]
     },
     "metadata": {},
     "output_type": "display_data"
    },
    {
     "data": {
      "text/plain": [
       "1100"
      ]
     },
     "metadata": {},
     "output_type": "display_data"
    },
    {
     "data": {
      "text/plain": [
       "\"CNN's Hour Of Anti-Gun Hate | The Ben Shapiro Show Ep. 481\""
      ]
     },
     "metadata": {},
     "output_type": "display_data"
    },
    {
     "data": {
      "text/plain": [
       "1100"
      ]
     },
     "metadata": {},
     "output_type": "display_data"
    },
    {
     "data": {
      "text/plain": [
       "\"CNN's Hour Of Anti-Gun Hate | The Ben Shapiro Show Ep. 481\""
      ]
     },
     "metadata": {},
     "output_type": "display_data"
    },
    {
     "data": {
      "text/plain": [
       "1100"
      ]
     },
     "metadata": {},
     "output_type": "display_data"
    },
    {
     "data": {
      "text/plain": [
       "'Lies, Damned Lies, And Media Manipulation | The Ben Shapiro Show Ep. 480'"
      ]
     },
     "metadata": {},
     "output_type": "display_data"
    },
    {
     "data": {
      "text/plain": [
       "1100"
      ]
     },
     "metadata": {},
     "output_type": "display_data"
    },
    {
     "data": {
      "text/plain": [
       "'The Children’s Crusade | The Ben Shapiro Show Ep. 479'"
      ]
     },
     "metadata": {},
     "output_type": "display_data"
    },
    {
     "data": {
      "text/plain": [
       "1100"
      ]
     },
     "metadata": {},
     "output_type": "display_data"
    },
    {
     "data": {
      "text/plain": [
       "'The Gun Control Movement Ramps Up | The Ben Shapiro Show Ep. 478'"
      ]
     },
     "metadata": {},
     "output_type": "display_data"
    },
    {
     "data": {
      "text/plain": [
       "1100"
      ]
     },
     "metadata": {},
     "output_type": "display_data"
    },
    {
     "data": {
      "text/plain": [
       "'The Gun Control Movement Ramps Up | The Ben Shapiro Show Ep. 478'"
      ]
     },
     "metadata": {},
     "output_type": "display_data"
    },
    {
     "data": {
      "text/plain": [
       "1100"
      ]
     },
     "metadata": {},
     "output_type": "display_data"
    },
    {
     "data": {
      "text/plain": [
       "'Repeal the 2nd Amendment? | The Ben Shapiro Show Ep. 477'"
      ]
     },
     "metadata": {},
     "output_type": "display_data"
    },
    {
     "data": {
      "text/plain": [
       "1100"
      ]
     },
     "metadata": {},
     "output_type": "display_data"
    },
    {
     "data": {
      "text/plain": [
       "'Another Horrific Shooting | The Ben Shapiro Show Ep. 476'"
      ]
     },
     "metadata": {},
     "output_type": "display_data"
    },
    {
     "data": {
      "text/plain": [
       "1100"
      ]
     },
     "metadata": {},
     "output_type": "display_data"
    },
    {
     "data": {
      "text/plain": [
       "'Another Horrific Shooting | The Ben Shapiro Show Ep. 476'"
      ]
     },
     "metadata": {},
     "output_type": "display_data"
    },
    {
     "data": {
      "text/plain": [
       "1100"
      ]
     },
     "metadata": {},
     "output_type": "display_data"
    },
    {
     "data": {
      "text/plain": [
       "'Are We About To See War In The Middle East? | The Ben Shapiro Show Ep. 475'"
      ]
     },
     "metadata": {},
     "output_type": "display_data"
    },
    {
     "data": {
      "text/plain": [
       "1100"
      ]
     },
     "metadata": {},
     "output_type": "display_data"
    },
    {
     "data": {
      "text/plain": [
       "'Making Wakanda Great Again | The Ben Shapiro Show Ep. 474'"
      ]
     },
     "metadata": {},
     "output_type": "display_data"
    },
    {
     "data": {
      "text/plain": [
       "1100"
      ]
     },
     "metadata": {},
     "output_type": "display_data"
    },
    {
     "data": {
      "text/plain": [
       "'The Media Love Them Some North Korea | The Ben Shapiro Show Ep. 473'"
      ]
     },
     "metadata": {},
     "output_type": "display_data"
    },
    {
     "data": {
      "text/plain": [
       "1100"
      ]
     },
     "metadata": {},
     "output_type": "display_data"
    },
    {
     "data": {
      "text/plain": [
       "'Corruption, Chaos, And Cretinism | The Ben Shapiro Show Ep. 472'"
      ]
     },
     "metadata": {},
     "output_type": "display_data"
    },
    {
     "data": {
      "text/plain": [
       "1100"
      ]
     },
     "metadata": {},
     "output_type": "display_data"
    },
    {
     "data": {
      "text/plain": [
       "'A Black Eye For The Trump Administration | The Ben Shapiro Show Ep. 471'"
      ]
     },
     "metadata": {},
     "output_type": "display_data"
    },
    {
     "data": {
      "text/plain": [
       "1100"
      ]
     },
     "metadata": {},
     "output_type": "display_data"
    },
    {
     "data": {
      "text/plain": [
       "'Who’s Endangering The Republic? | The Ben Shapiro Show Ep. 470'"
      ]
     },
     "metadata": {},
     "output_type": "display_data"
    },
    {
     "data": {
      "text/plain": [
       "1100"
      ]
     },
     "metadata": {},
     "output_type": "display_data"
    },
    {
     "data": {
      "text/plain": [
       "'The Bear Market Arrives | The Ben Shapiro Show Ep. 469'"
      ]
     },
     "metadata": {},
     "output_type": "display_data"
    },
    {
     "data": {
      "text/plain": [
       "1100"
      ]
     },
     "metadata": {},
     "output_type": "display_data"
    },
    {
     "data": {
      "text/plain": [
       "'Does The Super Bowl Matter? | The Ben Shapiro Show Ep. 468'"
      ]
     },
     "metadata": {},
     "output_type": "display_data"
    },
    {
     "data": {
      "text/plain": [
       "1100"
      ]
     },
     "metadata": {},
     "output_type": "display_data"
    },
    {
     "data": {
      "text/plain": [
       "'It’s Memo Day | The Ben Shapiro Show Ep. 467'"
      ]
     },
     "metadata": {},
     "output_type": "display_data"
    },
    {
     "data": {
      "text/plain": [
       "1100"
      ]
     },
     "metadata": {},
     "output_type": "display_data"
    },
    {
     "data": {
      "text/plain": [
       "'Memo Fight 2018! | The Ben Shapiro Show Ep. 466'"
      ]
     },
     "metadata": {},
     "output_type": "display_data"
    },
    {
     "data": {
      "text/plain": [
       "1100"
      ]
     },
     "metadata": {},
     "output_type": "display_data"
    },
    {
     "data": {
      "text/plain": [
       "'Trump Drives Democrats Up A Wall | The Ben Shapiro Show Ep. 465'"
      ]
     },
     "metadata": {},
     "output_type": "display_data"
    },
    {
     "data": {
      "text/plain": [
       "1100"
      ]
     },
     "metadata": {},
     "output_type": "display_data"
    },
    {
     "data": {
      "text/plain": [
       "'McCabe And Mrs. Clinton | The Ben Shapiro Show Ep. 464'"
      ]
     },
     "metadata": {},
     "output_type": "display_data"
    },
    {
     "data": {
      "text/plain": [
       "1100"
      ]
     },
     "metadata": {},
     "output_type": "display_data"
    },
    {
     "data": {
      "text/plain": [
       "'Politics By The Grammy | The Ben Shapiro Show Ep. 463'"
      ]
     },
     "metadata": {},
     "output_type": "display_data"
    },
    {
     "data": {
      "text/plain": [
       "1100"
      ]
     },
     "metadata": {},
     "output_type": "display_data"
    },
    {
     "data": {
      "text/plain": [
       "'Mulling Over Mueller | The Ben Shapiro Show  Ep. 462'"
      ]
     },
     "metadata": {},
     "output_type": "display_data"
    },
    {
     "data": {
      "text/plain": [
       "1100"
      ]
     },
     "metadata": {},
     "output_type": "display_data"
    },
    {
     "data": {
      "text/plain": [
       "'Is Trump About To Collapse On Immigration? | The Ben Shapiro Show Ep. 461'"
      ]
     },
     "metadata": {},
     "output_type": "display_data"
    },
    {
     "data": {
      "text/plain": [
       "1100"
      ]
     },
     "metadata": {},
     "output_type": "display_data"
    },
    {
     "data": {
      "text/plain": [
       "'The Imploding Russia Probe | The Ben Shapiro Show Ep. 460'"
      ]
     },
     "metadata": {},
     "output_type": "display_data"
    },
    {
     "data": {
      "text/plain": [
       "1100"
      ]
     },
     "metadata": {},
     "output_type": "display_data"
    },
    {
     "data": {
      "text/plain": [
       "'The Day After | The Ben Shapiro Show Ep. 459'"
      ]
     },
     "metadata": {},
     "output_type": "display_data"
    },
    {
     "data": {
      "text/plain": [
       "1100"
      ]
     },
     "metadata": {},
     "output_type": "display_data"
    },
    {
     "data": {
      "text/plain": [
       "'Shutdown Showdown | The Ben Shapiro Show Ep. 458'"
      ]
     },
     "metadata": {},
     "output_type": "display_data"
    },
    {
     "data": {
      "text/plain": [
       "1100"
      ]
     },
     "metadata": {},
     "output_type": "display_data"
    },
    {
     "data": {
      "text/plain": [
       "'The Fusion GPS Scandal | The Ben Shapiro Show Ep. 457'"
      ]
     },
     "metadata": {},
     "output_type": "display_data"
    },
    {
     "data": {
      "text/plain": [
       "1100"
      ]
     },
     "metadata": {},
     "output_type": "display_data"
    },
    {
     "data": {
      "text/plain": [
       "'The Fake News Awards | The Ben Shapiro Show Ep. 456'"
      ]
     },
     "metadata": {},
     "output_type": "display_data"
    },
    {
     "data": {
      "text/plain": [
       "1100"
      ]
     },
     "metadata": {},
     "output_type": "display_data"
    },
    {
     "data": {
      "text/plain": [
       "'Weeping Toward Victory | The Ben Shapiro Show Ep. 455'"
      ]
     },
     "metadata": {},
     "output_type": "display_data"
    },
    {
     "data": {
      "text/plain": [
       "1100"
      ]
     },
     "metadata": {},
     "output_type": "display_data"
    },
    {
     "data": {
      "text/plain": [
       "'Is #MeToo Falling Apart? | The Ben Shapiro Show Ep. 454'"
      ]
     },
     "metadata": {},
     "output_type": "display_data"
    },
    {
     "data": {
      "text/plain": [
       "1100"
      ]
     },
     "metadata": {},
     "output_type": "display_data"
    },
    {
     "data": {
      "text/plain": [
       "'Is Trump Biased? | The Ben Shapiro Show Ep. 453'"
      ]
     },
     "metadata": {},
     "output_type": "display_data"
    },
    {
     "data": {
      "text/plain": [
       "1100"
      ]
     },
     "metadata": {},
     "output_type": "display_data"
    },
    {
     "data": {
      "text/plain": [
       "'Of Trump, Racism, And S***holes | The Ben Shapiro Show Ep. 452'"
      ]
     },
     "metadata": {},
     "output_type": "display_data"
    },
    {
     "data": {
      "text/plain": [
       "1100"
      ]
     },
     "metadata": {},
     "output_type": "display_data"
    },
    {
     "data": {
      "text/plain": [
       "'The Fight To Control Your News | The Ben Shapiro Show Ep. 451'"
      ]
     },
     "metadata": {},
     "output_type": "display_data"
    },
    {
     "data": {
      "text/plain": [
       "1100"
      ]
     },
     "metadata": {},
     "output_type": "display_data"
    },
    {
     "data": {
      "text/plain": [
       "'Trump’s Immigration Push | The Ben Shapiro Show Ep. 450'"
      ]
     },
     "metadata": {},
     "output_type": "display_data"
    },
    {
     "data": {
      "text/plain": [
       "1100"
      ]
     },
     "metadata": {},
     "output_type": "display_data"
    },
    {
     "data": {
      "text/plain": [
       "'Trump’s America | The Ben Shapiro Show Ep. 449'"
      ]
     },
     "metadata": {},
     "output_type": "display_data"
    },
    {
     "data": {
      "text/plain": [
       "1100"
      ]
     },
     "metadata": {},
     "output_type": "display_data"
    },
    {
     "data": {
      "text/plain": [
       "'Oprah For President? | The Ben Shapiro Show Ep. 448'"
      ]
     },
     "metadata": {},
     "output_type": "display_data"
    },
    {
     "data": {
      "text/plain": [
       "1100"
      ]
     },
     "metadata": {},
     "output_type": "display_data"
    },
    {
     "data": {
      "text/plain": [
       "'The Feds Target Weed | The Ben Shapiro Show Ep. 447'"
      ]
     },
     "metadata": {},
     "output_type": "display_data"
    },
    {
     "data": {
      "text/plain": [
       "1100"
      ]
     },
     "metadata": {},
     "output_type": "display_data"
    },
    {
     "data": {
      "text/plain": [
       "'Trump Destroys Bannon, Salts The Earth | The Ben Shapiro Show Ep. 446'"
      ]
     },
     "metadata": {},
     "output_type": "display_data"
    },
    {
     "data": {
      "text/plain": [
       "1100"
      ]
     },
     "metadata": {},
     "output_type": "display_data"
    },
    {
     "data": {
      "text/plain": [
       "'Can Somebody Please Steal Trump’s Phone? | The Ben Shapiro Show Ep. 445'"
      ]
     },
     "metadata": {},
     "output_type": "display_data"
    },
    {
     "data": {
      "text/plain": [
       "1100"
      ]
     },
     "metadata": {},
     "output_type": "display_data"
    },
    {
     "data": {
      "text/plain": [
       "\"It's a Brand New Year! | The Ben Shapiro Show Ep. 444\""
      ]
     },
     "metadata": {},
     "output_type": "display_data"
    },
    {
     "data": {
      "text/plain": [
       "1100"
      ]
     },
     "metadata": {},
     "output_type": "display_data"
    },
    {
     "data": {
      "text/plain": [
       "'Say Goodbye To 2017 | The Ben Shapiro Show Ep. 443'"
      ]
     },
     "metadata": {},
     "output_type": "display_data"
    },
    {
     "data": {
      "text/plain": [
       "1100"
      ]
     },
     "metadata": {},
     "output_type": "display_data"
    },
    {
     "data": {
      "text/plain": [
       "'A Big Leftist Myth Implodes On Taxes | The Ben Shapiro Show Ep. 442'"
      ]
     },
     "metadata": {},
     "output_type": "display_data"
    },
    {
     "data": {
      "text/plain": [
       "1100"
      ]
     },
     "metadata": {},
     "output_type": "display_data"
    },
    {
     "data": {
      "text/plain": [
       "'Everyone Just Died…AGAIN | The Ben Shapiro Show Ep. 441'"
      ]
     },
     "metadata": {},
     "output_type": "display_data"
    },
    {
     "data": {
      "text/plain": [
       "1100"
      ]
     },
     "metadata": {},
     "output_type": "display_data"
    },
    {
     "data": {
      "text/plain": [
       "'Trump’s Big Tax Day | The Ben Shapiro Show Ep. 440'"
      ]
     },
     "metadata": {},
     "output_type": "display_data"
    },
    {
     "data": {
      "text/plain": [
       "1100"
      ]
     },
     "metadata": {},
     "output_type": "display_data"
    },
    {
     "data": {
      "text/plain": [
       "'Is Trump Finally Winning? | The Ben Shapiro Show Ep. 439'"
      ]
     },
     "metadata": {},
     "output_type": "display_data"
    },
    {
     "data": {
      "text/plain": [
       "1100"
      ]
     },
     "metadata": {},
     "output_type": "display_data"
    },
    {
     "data": {
      "text/plain": [
       "'Is It The End Of The Internet? | The Ben Shapiro Show Ep. 438'"
      ]
     },
     "metadata": {},
     "output_type": "display_data"
    },
    {
     "data": {
      "text/plain": [
       "1100"
      ]
     },
     "metadata": {},
     "output_type": "display_data"
    },
    {
     "data": {
      "text/plain": [
       "'Will Sexual Allegations Cross A Line? | The Ben Shapiro Show Ep. 437'"
      ]
     },
     "metadata": {},
     "output_type": "display_data"
    },
    {
     "data": {
      "text/plain": [
       "1100"
      ]
     },
     "metadata": {},
     "output_type": "display_data"
    },
    {
     "data": {
      "text/plain": [
       "'The Tide Rolls Over Roy Moore | The Ben Shapiro Show Ep. 436'"
      ]
     },
     "metadata": {},
     "output_type": "display_data"
    },
    {
     "data": {
      "text/plain": [
       "1100"
      ]
     },
     "metadata": {},
     "output_type": "display_data"
    },
    {
     "data": {
      "text/plain": [
       "'Jimmy Kimmel Weaponizes His Baby...Again | The Ben Shapiro Show Ep. 435'"
      ]
     },
     "metadata": {},
     "output_type": "display_data"
    },
    {
     "data": {
      "text/plain": [
       "1100"
      ]
     },
     "metadata": {},
     "output_type": "display_data"
    },
    {
     "data": {
      "text/plain": [
       "'No Moral High Ground, Just Political High Ground | The Ben Shapiro Show Ep. 433'"
      ]
     },
     "metadata": {},
     "output_type": "display_data"
    },
    {
     "data": {
      "text/plain": [
       "1100"
      ]
     },
     "metadata": {},
     "output_type": "display_data"
    },
    {
     "data": {
      "text/plain": [
       "'The Democrats Move From Moore To Trump | The Ben Shapiro Show Ep. 434'"
      ]
     },
     "metadata": {},
     "output_type": "display_data"
    },
    {
     "data": {
      "text/plain": [
       "1100"
      ]
     },
     "metadata": {},
     "output_type": "display_data"
    },
    {
     "data": {
      "text/plain": [
       "'No Moral High Ground, Just Political High Ground | The Ben Shapiro Show Ep. 433'"
      ]
     },
     "metadata": {},
     "output_type": "display_data"
    },
    {
     "data": {
      "text/plain": [
       "1100"
      ]
     },
     "metadata": {},
     "output_type": "display_data"
    },
    {
     "data": {
      "text/plain": [
       "'Franken’s Frank Is Cooked | The Ben Shapiro Show Ep. 432'"
      ]
     },
     "metadata": {},
     "output_type": "display_data"
    },
    {
     "data": {
      "text/plain": [
       "1100"
      ]
     },
     "metadata": {},
     "output_type": "display_data"
    },
    {
     "data": {
      "text/plain": [
       "\"Trump's Gutsy Jerusalem Call | The Ben Shapiro Show Ep. 431\""
      ]
     },
     "metadata": {},
     "output_type": "display_data"
    },
    {
     "data": {
      "text/plain": [
       "1100"
      ]
     },
     "metadata": {},
     "output_type": "display_data"
    },
    {
     "data": {
      "text/plain": [
       "'The FBI Screw-Ups: Incompetence Or Malice? | The Ben Shapiro Show Ep. 430'"
      ]
     },
     "metadata": {},
     "output_type": "display_data"
    },
    {
     "data": {
      "text/plain": [
       "1100"
      ]
     },
     "metadata": {},
     "output_type": "display_data"
    },
    {
     "data": {
      "text/plain": [
       "'A Scandal About Lying To The FBI About…A Nothingburger? | The Ben Shapiro Show Ep. 429'"
      ]
     },
     "metadata": {},
     "output_type": "display_data"
    },
    {
     "data": {
      "text/plain": [
       "1100"
      ]
     },
     "metadata": {},
     "output_type": "display_data"
    },
    {
     "data": {
      "text/plain": [
       "'A Grave Injustice In California | The Ben Shapiro Show Ep. 428'"
      ]
     },
     "metadata": {},
     "output_type": "display_data"
    },
    {
     "data": {
      "text/plain": [
       "1100"
      ]
     },
     "metadata": {},
     "output_type": "display_data"
    },
    {
     "data": {
      "text/plain": [
       "'Trump On The Brink Of A Big Win | The Ben Shapiro Show Ep. 427'"
      ]
     },
     "metadata": {},
     "output_type": "display_data"
    },
    {
     "data": {
      "text/plain": [
       "1100"
      ]
     },
     "metadata": {},
     "output_type": "display_data"
    },
    {
     "data": {
      "text/plain": [
       "'Trump On The Brink Of A Big Win | The Ben Shapiro Show Ep. 427'"
      ]
     },
     "metadata": {},
     "output_type": "display_data"
    },
    {
     "data": {
      "text/plain": [
       "1100"
      ]
     },
     "metadata": {},
     "output_type": "display_data"
    },
    {
     "data": {
      "text/plain": [
       "\"Lauer's No Longer | The Ben Shapiro Show Ep. 426\""
      ]
     },
     "metadata": {},
     "output_type": "display_data"
    },
    {
     "data": {
      "text/plain": [
       "1100"
      ]
     },
     "metadata": {},
     "output_type": "display_data"
    },
    {
     "data": {
      "text/plain": [
       "'Can You Paint With All The Colors Of The Stupid? | The Ben Shapiro Show Ep. 425'"
      ]
     },
     "metadata": {},
     "output_type": "display_data"
    },
    {
     "data": {
      "text/plain": [
       "1100"
      ]
     },
     "metadata": {},
     "output_type": "display_data"
    },
    {
     "data": {
      "text/plain": [
       "'The Democrats Give Up The Moral High Ground | The Ben Shapiro Show Ep. 424'"
      ]
     },
     "metadata": {},
     "output_type": "display_data"
    },
    {
     "data": {
      "text/plain": [
       "1100"
      ]
     },
     "metadata": {},
     "output_type": "display_data"
    },
    {
     "data": {
      "text/plain": [
       "'So Many Turkeys, So Little Time | The Ben Shapiro Show Ep. 423'"
      ]
     },
     "metadata": {},
     "output_type": "display_data"
    },
    {
     "data": {
      "text/plain": [
       "1100"
      ]
     },
     "metadata": {},
     "output_type": "display_data"
    },
    {
     "data": {
      "text/plain": [
       "'Your Taxpayer Bucks Pay For Congress’ Sexual Kicks | The Ben Shapiro Show Ep. 422'"
      ]
     },
     "metadata": {},
     "output_type": "display_data"
    },
    {
     "data": {
      "text/plain": [
       "1100"
      ]
     },
     "metadata": {},
     "output_type": "display_data"
    },
    {
     "data": {
      "text/plain": [
       "'WARNING: Category 5 Tweetstorm | The Ben Shapiro Show Ep. 421'"
      ]
     },
     "metadata": {},
     "output_type": "display_data"
    },
    {
     "data": {
      "text/plain": [
       "1100"
      ]
     },
     "metadata": {},
     "output_type": "display_data"
    },
    {
     "data": {
      "text/plain": [
       "'The Garbage Fires To End All Garbage Fires | The Ben Shapiro Show Ep. 420'"
      ]
     },
     "metadata": {},
     "output_type": "display_data"
    },
    {
     "data": {
      "text/plain": [
       "1100"
      ]
     },
     "metadata": {},
     "output_type": "display_data"
    },
    {
     "data": {
      "text/plain": [
       "'Now We Find Out Whether The Democrats Are Full Of Crap\\xa0| The Ben Shapiro Show\\xa0Ep. 419'"
      ]
     },
     "metadata": {},
     "output_type": "display_data"
    },
    {
     "data": {
      "text/plain": [
       "1100"
      ]
     },
     "metadata": {},
     "output_type": "display_data"
    },
    {
     "data": {
      "text/plain": [
       "'How Prevalent Is Sexual Harassment? | The Ben Shapiro Show Ep. 418'"
      ]
     },
     "metadata": {},
     "output_type": "display_data"
    },
    {
     "data": {
      "text/plain": [
       "1100"
      ]
     },
     "metadata": {},
     "output_type": "display_data"
    },
    {
     "data": {
      "text/plain": [
       "'Moore Comes Unmoored | The Ben Shapiro Show Ep. 417'"
      ]
     },
     "metadata": {},
     "output_type": "display_data"
    },
    {
     "data": {
      "text/plain": [
       "1100"
      ]
     },
     "metadata": {},
     "output_type": "display_data"
    },
    {
     "data": {
      "text/plain": [
       "'The Hit On Hannity, And Much Much Moore | The Ben Shapiro Show Ep. 416'"
      ]
     },
     "metadata": {},
     "output_type": "display_data"
    },
    {
     "data": {
      "text/plain": [
       "1100"
      ]
     },
     "metadata": {},
     "output_type": "display_data"
    },
    {
     "data": {
      "text/plain": [
       "'Should Republicans Dump Moore? | The Ben Shapiro Show Ep. 415'"
      ]
     },
     "metadata": {},
     "output_type": "display_data"
    },
    {
     "data": {
      "text/plain": [
       "1100"
      ]
     },
     "metadata": {},
     "output_type": "display_data"
    },
    {
     "data": {
      "text/plain": [
       "'Another Day, Another Mass Shooting | The Ben Shapiro Show Ep. 411'"
      ]
     },
     "metadata": {},
     "output_type": "display_data"
    },
    {
     "data": {
      "text/plain": [
       "1100"
      ]
     },
     "metadata": {},
     "output_type": "display_data"
    },
    {
     "data": {
      "text/plain": [
       "'Are We All Members Of Cults?\\xa0| The Ben Shapiro Show Ep. 414'"
      ]
     },
     "metadata": {},
     "output_type": "display_data"
    },
    {
     "data": {
      "text/plain": [
       "1100"
      ]
     },
     "metadata": {},
     "output_type": "display_data"
    },
    {
     "data": {
      "text/plain": [
       "'The Democratic Tsunami, Or Just Another Ripple? | The Ben Shapiro Show Ep. 413'"
      ]
     },
     "metadata": {},
     "output_type": "display_data"
    },
    {
     "data": {
      "text/plain": [
       "1100"
      ]
     },
     "metadata": {},
     "output_type": "display_data"
    },
    {
     "data": {
      "text/plain": [
       "'A Good Man With A Gun | The Ben Shapiro Show Ep. 412'"
      ]
     },
     "metadata": {},
     "output_type": "display_data"
    },
    {
     "data": {
      "text/plain": [
       "1100"
      ]
     },
     "metadata": {},
     "output_type": "display_data"
    },
    {
     "data": {
      "text/plain": [
       "'Another Day, Another Mass Shooting | The Ben Shapiro Show Ep. 411'"
      ]
     },
     "metadata": {},
     "output_type": "display_data"
    },
    {
     "data": {
      "text/plain": [
       "1100"
      ]
     },
     "metadata": {},
     "output_type": "display_data"
    },
    {
     "data": {
      "text/plain": [
       "'It’s Bernie’s Party Now | The Ben Shapiro Show Ep. 410'"
      ]
     },
     "metadata": {},
     "output_type": "display_data"
    },
    {
     "data": {
      "text/plain": [
       "1100"
      ]
     },
     "metadata": {},
     "output_type": "display_data"
    },
    {
     "data": {
      "text/plain": [
       "'How Hillary and Obama Wrecked The Democratic Party | The Ben Shapiro Show Ep. 409'"
      ]
     },
     "metadata": {},
     "output_type": "display_data"
    },
    {
     "data": {
      "text/plain": [
       "1100"
      ]
     },
     "metadata": {},
     "output_type": "display_data"
    },
    {
     "data": {
      "text/plain": [
       "'Islamist Terror Hits New York -- Again | The Ben Shapiro Show Ep. 408'"
      ]
     },
     "metadata": {},
     "output_type": "display_data"
    },
    {
     "data": {
      "text/plain": [
       "1100"
      ]
     },
     "metadata": {},
     "output_type": "display_data"
    },
    {
     "data": {
      "text/plain": [
       "'Happy Halloween! | The Ben Shapiro Show Ep. 407'"
      ]
     },
     "metadata": {},
     "output_type": "display_data"
    },
    {
     "data": {
      "text/plain": [
       "1100"
      ]
     },
     "metadata": {},
     "output_type": "display_data"
    },
    {
     "data": {
      "text/plain": [
       "'It’s Indictment Day! | The Ben Shapiro Show Ep. 406'"
      ]
     },
     "metadata": {},
     "output_type": "display_data"
    },
    {
     "data": {
      "text/plain": [
       "1100"
      ]
     },
     "metadata": {},
     "output_type": "display_data"
    },
    {
     "data": {
      "text/plain": [
       "'The Media Sexual Harassment Scandal | The Ben Shapiro Show Ep. 405'"
      ]
     },
     "metadata": {},
     "output_type": "display_data"
    },
    {
     "data": {
      "text/plain": [
       "1100"
      ]
     },
     "metadata": {},
     "output_type": "display_data"
    },
    {
     "data": {
      "text/plain": [
       "'Is Everything Sexual Assault Now? | The Ben Shapiro Show Ep. 404'"
      ]
     },
     "metadata": {},
     "output_type": "display_data"
    },
    {
     "data": {
      "text/plain": [
       "1100"
      ]
     },
     "metadata": {},
     "output_type": "display_data"
    },
    {
     "data": {
      "text/plain": [
       "'Clintonian Lies And A Republican Flake Out | The Ben Shapiro Show Ep. 403'"
      ]
     },
     "metadata": {},
     "output_type": "display_data"
    },
    {
     "data": {
      "text/plain": [
       "1100"
      ]
     },
     "metadata": {},
     "output_type": "display_data"
    },
    {
     "data": {
      "text/plain": [
       "'Clintonian Lies And A Republican Flake Out | The Ben Shapiro Show Ep. 403'"
      ]
     },
     "metadata": {},
     "output_type": "display_data"
    },
    {
     "data": {
      "text/plain": [
       "1100"
      ]
     },
     "metadata": {},
     "output_type": "display_data"
    },
    {
     "data": {
      "text/plain": [
       "'White Girls Must Stop Dressing Like Moana | The Ben Shapiro Show Ep. 402'"
      ]
     },
     "metadata": {},
     "output_type": "display_data"
    },
    {
     "data": {
      "text/plain": [
       "1100"
      ]
     },
     "metadata": {},
     "output_type": "display_data"
    },
    {
     "data": {
      "text/plain": [
       "'Why Our Country Is In Serious Trouble | The Ben Shapiro Show Ep. 401'"
      ]
     },
     "metadata": {},
     "output_type": "display_data"
    },
    {
     "data": {
      "text/plain": [
       "1100"
      ]
     },
     "metadata": {},
     "output_type": "display_data"
    },
    {
     "data": {
      "text/plain": [
       "'General John Kelly To The Rescue | The Ben Shapiro Show Ep. 400'"
      ]
     },
     "metadata": {},
     "output_type": "display_data"
    },
    {
     "data": {
      "text/plain": [
       "1100"
      ]
     },
     "metadata": {},
     "output_type": "display_data"
    },
    {
     "data": {
      "text/plain": [
       "'Are Trump’s Wounds Self-Inflicted, Or Are They The Media’s Fault? | The Ben Shapiro Show Ep. 399'"
      ]
     },
     "metadata": {},
     "output_type": "display_data"
    },
    {
     "data": {
      "text/plain": [
       "1100"
      ]
     },
     "metadata": {},
     "output_type": "display_data"
    },
    {
     "data": {
      "text/plain": [
       "'Culture Wars Matter, Political Wars Don’t | The Ben Shapiro Show Ep. 398'"
      ]
     },
     "metadata": {},
     "output_type": "display_data"
    },
    {
     "data": {
      "text/plain": [
       "1100"
      ]
     },
     "metadata": {},
     "output_type": "display_data"
    },
    {
     "data": {
      "text/plain": [
       "'The Best Pro-Abortion Argument EVER, Debunked | The Ben Shapiro Show Ep. 397'"
      ]
     },
     "metadata": {},
     "output_type": "display_data"
    },
    {
     "data": {
      "text/plain": [
       "1100"
      ]
     },
     "metadata": {},
     "output_type": "display_data"
    },
    {
     "data": {
      "text/plain": [
       "'The Great Hollywood Collapse | The Ben Shapiro Show Ep. 396'"
      ]
     },
     "metadata": {},
     "output_type": "display_data"
    },
    {
     "data": {
      "text/plain": [
       "1100"
      ]
     },
     "metadata": {},
     "output_type": "display_data"
    },
    {
     "data": {
      "text/plain": [
       "'The Moral Preening Never Ends | The Ben Shapiro Show Ep. 395'"
      ]
     },
     "metadata": {},
     "output_type": "display_data"
    },
    {
     "data": {
      "text/plain": [
       "1100"
      ]
     },
     "metadata": {},
     "output_type": "display_data"
    },
    {
     "data": {
      "text/plain": [
       "'The Jimmy Kimmel Gun Grab | The Ben Shapiro Show Ep. 394'"
      ]
     },
     "metadata": {},
     "output_type": "display_data"
    },
    {
     "data": {
      "text/plain": [
       "1100"
      ]
     },
     "metadata": {},
     "output_type": "display_data"
    },
    {
     "data": {
      "text/plain": [
       "'Evil in Vegas | The Ben Shapiro Show Ep. 393'"
      ]
     },
     "metadata": {},
     "output_type": "display_data"
    },
    {
     "data": {
      "text/plain": [
       "1100"
      ]
     },
     "metadata": {},
     "output_type": "display_data"
    },
    {
     "data": {
      "text/plain": [
       "'Trump Wins Big On The NFL | The Ben Shapiro Show Ep. 392'"
      ]
     },
     "metadata": {},
     "output_type": "display_data"
    },
    {
     "data": {
      "text/plain": [
       "1100"
      ]
     },
     "metadata": {},
     "output_type": "display_data"
    },
    {
     "data": {
      "text/plain": [
       "'Hefner Dies, Left Mourns Their Hero | The Ben Shapiro Show Ep. 391'"
      ]
     },
     "metadata": {},
     "output_type": "display_data"
    },
    {
     "data": {
      "text/plain": [
       "1100"
      ]
     },
     "metadata": {},
     "output_type": "display_data"
    },
    {
     "data": {
      "text/plain": [
       "'That Giant Republican Sucking Sound | The Ben Shapiro Show Ep. 390'"
      ]
     },
     "metadata": {},
     "output_type": "display_data"
    },
    {
     "data": {
      "text/plain": [
       "1100"
      ]
     },
     "metadata": {},
     "output_type": "display_data"
    },
    {
     "data": {
      "text/plain": [
       "'Did Trump Just Deflate Football? | The Ben Shapiro Show Ep. 389'"
      ]
     },
     "metadata": {},
     "output_type": "display_data"
    },
    {
     "data": {
      "text/plain": [
       "1100"
      ]
     },
     "metadata": {},
     "output_type": "display_data"
    },
    {
     "data": {
      "text/plain": [
       "'Trump vs. The NFL | The Ben Shapiro Show Ep. 388'"
      ]
     },
     "metadata": {},
     "output_type": "display_data"
    },
    {
     "data": {
      "text/plain": [
       "1100"
      ]
     },
     "metadata": {},
     "output_type": "display_data"
    },
    {
     "data": {
      "text/plain": [
       "'Should Jimmy Kimmel Be Appointed King Of Health Care? | The Ben Shapiro Show Ep. 387'"
      ]
     },
     "metadata": {},
     "output_type": "display_data"
    },
    {
     "data": {
      "text/plain": [
       "1100"
      ]
     },
     "metadata": {},
     "output_type": "display_data"
    },
    {
     "data": {
      "text/plain": [
       "'Was Trump Right About Wiretapping? | The Ben Shapiro Show Ep. 386'"
      ]
     },
     "metadata": {},
     "output_type": "display_data"
    },
    {
     "data": {
      "text/plain": [
       "1100"
      ]
     },
     "metadata": {},
     "output_type": "display_data"
    },
    {
     "data": {
      "text/plain": [
       "'The Culture Wars | The Ben Shapiro Show Ep. 385'"
      ]
     },
     "metadata": {},
     "output_type": "display_data"
    },
    {
     "data": {
      "text/plain": [
       "1100"
      ]
     },
     "metadata": {},
     "output_type": "display_data"
    },
    {
     "data": {
      "text/plain": [
       "'The End Of The Berkeley Blockade | The Ben Shapiro Show Ep. 384'"
      ]
     },
     "metadata": {},
     "output_type": "display_data"
    },
    {
     "data": {
      "text/plain": [
       "1100"
      ]
     },
     "metadata": {},
     "output_type": "display_data"
    },
    {
     "data": {
      "text/plain": [
       "'Did Trump Just Give Away The Border? | The Ben Shapiro Show Ep. 383'"
      ]
     },
     "metadata": {},
     "output_type": "display_data"
    },
    {
     "data": {
      "text/plain": [
       "1100"
      ]
     },
     "metadata": {},
     "output_type": "display_data"
    },
    {
     "data": {
      "text/plain": [
       "'Hillary’s Big Blame Game | The Ben Shapiro Show Ep. 382'"
      ]
     },
     "metadata": {},
     "output_type": "display_data"
    },
    {
     "data": {
      "text/plain": [
       "1100"
      ]
     },
     "metadata": {},
     "output_type": "display_data"
    },
    {
     "data": {
      "text/plain": [
       "'Will Trump’s Turn To The Center Last? | The Ben Shapiro Show Ep. 381'"
      ]
     },
     "metadata": {},
     "output_type": "display_data"
    },
    {
     "data": {
      "text/plain": [
       "1100"
      ]
     },
     "metadata": {},
     "output_type": "display_data"
    },
    {
     "data": {
      "text/plain": [
       "'The Berkeley Hurricane | The Ben Shapiro Show Ep. 380'"
      ]
     },
     "metadata": {},
     "output_type": "display_data"
    },
    {
     "data": {
      "text/plain": [
       "1100"
      ]
     },
     "metadata": {},
     "output_type": "display_data"
    },
    {
     "data": {
      "text/plain": [
       "'When Politics Becomes Religion | The Ben Shapiro Show Ep. 379'"
      ]
     },
     "metadata": {},
     "output_type": "display_data"
    },
    {
     "data": {
      "text/plain": [
       "1100"
      ]
     },
     "metadata": {},
     "output_type": "display_data"
    },
    {
     "data": {
      "text/plain": [
       "'Trump’s Big Democratic Day | The Ben Shapiro Show Ep. 378'"
      ]
     },
     "metadata": {},
     "output_type": "display_data"
    },
    {
     "data": {
      "text/plain": [
       "1100"
      ]
     },
     "metadata": {},
     "output_type": "display_data"
    },
    {
     "data": {
      "text/plain": [
       "'Circular Firing Squad | The Ben Shapiro Show Ep. 377'"
      ]
     },
     "metadata": {},
     "output_type": "display_data"
    },
    {
     "data": {
      "text/plain": [
       "1100"
      ]
     },
     "metadata": {},
     "output_type": "display_data"
    },
    {
     "data": {
      "text/plain": [
       "'Trump Dumps Obama’s Executive Amnesty | The Ben Shapiro Show Ep. 376'"
      ]
     },
     "metadata": {},
     "output_type": "display_data"
    },
    {
     "data": {
      "text/plain": [
       "1100"
      ]
     },
     "metadata": {},
     "output_type": "display_data"
    },
    {
     "data": {
      "text/plain": [
       "'The Democrats’ Last, Best Hope | The Ben Shapiro Show Ep. 375'"
      ]
     },
     "metadata": {},
     "output_type": "display_data"
    },
    {
     "data": {
      "text/plain": [
       "1100"
      ]
     },
     "metadata": {},
     "output_type": "display_data"
    },
    {
     "data": {
      "text/plain": [
       "'The Scorn For The Heartland | The Ben Shapiro Show Ep. 374'"
      ]
     },
     "metadata": {},
     "output_type": "display_data"
    },
    {
     "data": {
      "text/plain": [
       "1100"
      ]
     },
     "metadata": {},
     "output_type": "display_data"
    },
    {
     "data": {
      "text/plain": [
       "'Does Trump Have An Empathy Problem? | The Ben Shapiro Show Ep. 373'"
      ]
     },
     "metadata": {},
     "output_type": "display_data"
    },
    {
     "data": {
      "text/plain": [
       "1100"
      ]
     },
     "metadata": {},
     "output_type": "display_data"
    },
    {
     "data": {
      "text/plain": [
       "'Does Trump Have An Empathy Problem? | The Ben Shapiro Show Ep. 373: The media pounce on Trump’s s...'"
      ]
     },
     "metadata": {},
     "output_type": "display_data"
    },
    {
     "data": {
      "text/plain": [
       "1100"
      ]
     },
     "metadata": {},
     "output_type": "display_data"
    },
    {
     "data": {
      "text/plain": [
       "'Everything Is Political, Including Hurricanes | The Ben Shapiro Show Ep. 372'"
      ]
     },
     "metadata": {},
     "output_type": "display_data"
    },
    {
     "data": {
      "text/plain": [
       "1100"
      ]
     },
     "metadata": {},
     "output_type": "display_data"
    },
    {
     "data": {
      "text/plain": [
       "'Trump’s First Crisis | The Ben Shapiro Show Ep. 371'"
      ]
     },
     "metadata": {},
     "output_type": "display_data"
    },
    {
     "data": {
      "text/plain": [
       "1100"
      ]
     },
     "metadata": {},
     "output_type": "display_data"
    },
    {
     "data": {
      "text/plain": [
       "'The War On Children | The Ben Shapiro Show Ep. 370'"
      ]
     },
     "metadata": {},
     "output_type": "display_data"
    },
    {
     "data": {
      "text/plain": [
       "1100"
      ]
     },
     "metadata": {},
     "output_type": "display_data"
    },
    {
     "data": {
      "text/plain": [
       "'How The Left Blows Itself Up, In 4 Easy Steps | The Ben Shapiro Show Ep. 369'"
      ]
     },
     "metadata": {},
     "output_type": "display_data"
    },
    {
     "data": {
      "text/plain": [
       "1100"
      ]
     },
     "metadata": {},
     "output_type": "display_data"
    },
    {
     "data": {
      "text/plain": [
       "'Like A Phoenix From The Ashes | The Ben Shapiro Show Ep. 368'"
      ]
     },
     "metadata": {},
     "output_type": "display_data"
    },
    {
     "data": {
      "text/plain": [
       "1100"
      ]
     },
     "metadata": {},
     "output_type": "display_data"
    },
    {
     "data": {
      "text/plain": [
       "'Commander-In-Chief Trump Tackles Afghanistan |  | The Ben Shapiro Show Ep. 367'"
      ]
     },
     "metadata": {},
     "output_type": "display_data"
    },
    {
     "data": {
      "text/plain": [
       "1100"
      ]
     },
     "metadata": {},
     "output_type": "display_data"
    },
    {
     "data": {
      "text/plain": [
       "'Everyone’s A Nazi Now | The Ben Shapiro Show Ep. 366'"
      ]
     },
     "metadata": {},
     "output_type": "display_data"
    },
    {
     "data": {
      "text/plain": [
       "1100"
      ]
     },
     "metadata": {},
     "output_type": "display_data"
    },
    {
     "data": {
      "text/plain": [
       "'Real Terror, Fake News | The Ben Shapiro Show Ep. 365'"
      ]
     },
     "metadata": {},
     "output_type": "display_data"
    },
    {
     "data": {
      "text/plain": [
       "1100"
      ]
     },
     "metadata": {},
     "output_type": "display_data"
    },
    {
     "data": {
      "text/plain": [
       "'The Left Defends Evil Of Its Own | The Ben Shapiro Show Ep. 364'"
      ]
     },
     "metadata": {},
     "output_type": "display_data"
    },
    {
     "data": {
      "text/plain": [
       "1100"
      ]
     },
     "metadata": {},
     "output_type": "display_data"
    },
    {
     "data": {
      "text/plain": [
       "'Trump’s Messy Presser | The Ben Shapiro Show Ep. 363'"
      ]
     },
     "metadata": {},
     "output_type": "display_data"
    },
    {
     "data": {
      "text/plain": [
       "1100"
      ]
     },
     "metadata": {},
     "output_type": "display_data"
    },
    {
     "data": {
      "text/plain": [
       "'The Aftermath Of Charlottesville | The Ben Shapiro Show Ep. 362'"
      ]
     },
     "metadata": {},
     "output_type": "display_data"
    },
    {
     "data": {
      "text/plain": [
       "1100"
      ]
     },
     "metadata": {},
     "output_type": "display_data"
    },
    {
     "data": {
      "text/plain": [
       "'Horror in Charlottesville | The Ben Shapiro Show Ep. 361'"
      ]
     },
     "metadata": {},
     "output_type": "display_data"
    },
    {
     "data": {
      "text/plain": [
       "1100"
      ]
     },
     "metadata": {},
     "output_type": "display_data"
    },
    {
     "data": {
      "text/plain": [
       "'Democrats vs. Trump vs. North Korea | The Ben Shapiro Show Ep. 360'"
      ]
     },
     "metadata": {},
     "output_type": "display_data"
    },
    {
     "data": {
      "text/plain": [
       "1100"
      ]
     },
     "metadata": {},
     "output_type": "display_data"
    },
    {
     "data": {
      "text/plain": [
       "'Ben Shapiro Interviews Google Memo Guy James Damore'"
      ]
     },
     "metadata": {},
     "output_type": "display_data"
    },
    {
     "data": {
      "text/plain": [
       "1100"
      ]
     },
     "metadata": {},
     "output_type": "display_data"
    },
    {
     "data": {
      "text/plain": [
       "'Is It The Media’s Job To Scare People? | The Ben Shapiro Show Ep. 359'"
      ]
     },
     "metadata": {},
     "output_type": "display_data"
    },
    {
     "data": {
      "text/plain": [
       "1100"
      ]
     },
     "metadata": {},
     "output_type": "display_data"
    },
    {
     "data": {
      "text/plain": [
       "'The Global Thermonuclear War Episode | The Ben Shapiro Show Ep. 358'"
      ]
     },
     "metadata": {},
     "output_type": "display_data"
    },
    {
     "data": {
      "text/plain": [
       "1100"
      ]
     },
     "metadata": {},
     "output_type": "display_data"
    },
    {
     "data": {
      "text/plain": [
       "'The Corporate Fascists Are Here | The Ben Shapiro Show Ep. 357'"
      ]
     },
     "metadata": {},
     "output_type": "display_data"
    },
    {
     "data": {
      "text/plain": [
       "1100"
      ]
     },
     "metadata": {},
     "output_type": "display_data"
    },
    {
     "data": {
      "text/plain": [
       "'Is Trump On The Brink? | The Ben Shapiro Show Ep. 356'"
      ]
     },
     "metadata": {},
     "output_type": "display_data"
    },
    {
     "data": {
      "text/plain": [
       "1100"
      ]
     },
     "metadata": {},
     "output_type": "display_data"
    },
    {
     "data": {
      "text/plain": [
       "'A Very Special Episode With A Very Special Counsel | The Ben Shapiro Show Ep. 355'"
      ]
     },
     "metadata": {},
     "output_type": "display_data"
    },
    {
     "data": {
      "text/plain": [
       "1100"
      ]
     },
     "metadata": {},
     "output_type": "display_data"
    },
    {
     "data": {
      "text/plain": [
       "'The Media Exposes Itself | The Ben Shapiro Show Ep. 354'"
      ]
     },
     "metadata": {},
     "output_type": "display_data"
    },
    {
     "data": {
      "text/plain": [
       "1100"
      ]
     },
     "metadata": {},
     "output_type": "display_data"
    },
    {
     "data": {
      "text/plain": [
       "'Venezuela Collapses, Left Panics | The Ben Shapiro Show Ep. 353'"
      ]
     },
     "metadata": {},
     "output_type": "display_data"
    },
    {
     "data": {
      "text/plain": [
       "1100"
      ]
     },
     "metadata": {},
     "output_type": "display_data"
    },
    {
     "data": {
      "text/plain": [
       "'The Legend Of The Mooch | The Ben Shapiro Show Ep. 352'"
      ]
     },
     "metadata": {},
     "output_type": "display_data"
    },
    {
     "data": {
      "text/plain": [
       "1100"
      ]
     },
     "metadata": {},
     "output_type": "display_data"
    },
    {
     "data": {
      "text/plain": [
       "'Ep. 351 - Out With the Reince, In With The Kelly'"
      ]
     },
     "metadata": {},
     "output_type": "display_data"
    },
    {
     "data": {
      "text/plain": [
       "1100"
      ]
     },
     "metadata": {},
     "output_type": "display_data"
    },
    {
     "data": {
      "text/plain": [
       "'Mr. Shapiro Goes To Washington | The Ben Shapiro Show Ep. 350'"
      ]
     },
     "metadata": {},
     "output_type": "display_data"
    },
    {
     "data": {
      "text/plain": [
       "1100"
      ]
     },
     "metadata": {},
     "output_type": "display_data"
    },
    {
     "data": {
      "text/plain": [
       "'What Do The Democrats Have To Hide? | The Ben Shapiro Show Ep. 349'"
      ]
     },
     "metadata": {},
     "output_type": "display_data"
    },
    {
     "data": {
      "text/plain": [
       "1100"
      ]
     },
     "metadata": {},
     "output_type": "display_data"
    },
    {
     "data": {
      "text/plain": [
       "'Has The Conservative Movement Hit Its Limit? | The Ben Shapiro Show Ep. 348'"
      ]
     },
     "metadata": {},
     "output_type": "display_data"
    },
    {
     "data": {
      "text/plain": [
       "1100"
      ]
     },
     "metadata": {},
     "output_type": "display_data"
    },
    {
     "data": {
      "text/plain": [
       "'Begun The Sessions War Has | The Ben Shapiro Show Ep. 347'"
      ]
     },
     "metadata": {},
     "output_type": "display_data"
    },
    {
     "data": {
      "text/plain": [
       "1100"
      ]
     },
     "metadata": {},
     "output_type": "display_data"
    },
    {
     "data": {
      "text/plain": [
       "'What True Evil Looks Like | The Ben Shapiro Show Ep. 346'"
      ]
     },
     "metadata": {},
     "output_type": "display_data"
    },
    {
     "data": {
      "text/plain": [
       "1100"
      ]
     },
     "metadata": {},
     "output_type": "display_data"
    },
    {
     "data": {
      "text/plain": [
       "'The Juice Is Loose! | The Ben Shapiro Show Ep. 345'"
      ]
     },
     "metadata": {},
     "output_type": "display_data"
    },
    {
     "data": {
      "text/plain": [
       "1100"
      ]
     },
     "metadata": {},
     "output_type": "display_data"
    },
    {
     "data": {
      "text/plain": [
       "'The Campus Left’s Fascism | The Ben Shapiro Show Ep. 344'"
      ]
     },
     "metadata": {},
     "output_type": "display_data"
    },
    {
     "data": {
      "text/plain": [
       "1100"
      ]
     },
     "metadata": {},
     "output_type": "display_data"
    },
    {
     "data": {
      "text/plain": [
       "'So, Who Owns Obamacare Now? | The Ben Shapiro Show Ep. 343'"
      ]
     },
     "metadata": {},
     "output_type": "display_data"
    },
    {
     "data": {
      "text/plain": [
       "1100"
      ]
     },
     "metadata": {},
     "output_type": "display_data"
    },
    {
     "data": {
      "text/plain": [
       "\"Trumpcare Goes Down. Who's To Blame? | The Ben Shapiro Show Ep. 342\""
      ]
     },
     "metadata": {},
     "output_type": "display_data"
    },
    {
     "data": {
      "text/plain": [
       "1100"
      ]
     },
     "metadata": {},
     "output_type": "display_data"
    },
    {
     "data": {
      "text/plain": [
       "'The Media Say Trump Is The WORST EVER. They’re Wrong. | The Ben Shapiro Show Ep. 341'"
      ]
     },
     "metadata": {},
     "output_type": "display_data"
    },
    {
     "data": {
      "text/plain": [
       "1100"
      ]
     },
     "metadata": {},
     "output_type": "display_data"
    },
    {
     "data": {
      "text/plain": [
       "'Ben Shapiro Loses It On Feminist Blogger Calling Her Sons Rapists | The Ben Shapiro Show'"
      ]
     },
     "metadata": {},
     "output_type": "display_data"
    },
    {
     "data": {
      "text/plain": [
       "1100"
      ]
     },
     "metadata": {},
     "output_type": "display_data"
    },
    {
     "data": {
      "text/plain": [
       "'Mark Levin Tells Us How To Rediscover Americanism'"
      ]
     },
     "metadata": {},
     "output_type": "display_data"
    },
    {
     "data": {
      "text/plain": [
       "1100"
      ]
     },
     "metadata": {},
     "output_type": "display_data"
    },
    {
     "data": {
      "text/plain": [
       "'Does Any Of This Stuff Matter? | The Ben Shapiro Show Ep. 340'"
      ]
     },
     "metadata": {},
     "output_type": "display_data"
    },
    {
     "data": {
      "text/plain": [
       "1100"
      ]
     },
     "metadata": {},
     "output_type": "display_data"
    },
    {
     "data": {
      "text/plain": [
       "'Collusion Confusion | The Ben Shapiro Show Ep. 339'"
      ]
     },
     "metadata": {},
     "output_type": "display_data"
    },
    {
     "data": {
      "text/plain": [
       "1100"
      ]
     },
     "metadata": {},
     "output_type": "display_data"
    },
    {
     "data": {
      "text/plain": [
       "'Carry On, My Wayward Son | The Ben Shapiro Show Ep. 338'"
      ]
     },
     "metadata": {},
     "output_type": "display_data"
    },
    {
     "data": {
      "text/plain": [
       "1100"
      ]
     },
     "metadata": {},
     "output_type": "display_data"
    },
    {
     "data": {
      "text/plain": [
       "'Trump Jr.’s Big Meeting | The Ben Shapiro Show Ep. 337'"
      ]
     },
     "metadata": {},
     "output_type": "display_data"
    },
    {
     "data": {
      "text/plain": [
       "1100"
      ]
     },
     "metadata": {},
     "output_type": "display_data"
    },
    {
     "data": {
      "text/plain": [
       "'The Russian Connection | The Ben Shapiro Show Ep. 336'"
      ]
     },
     "metadata": {},
     "output_type": "display_data"
    },
    {
     "data": {
      "text/plain": [
       "1100"
      ]
     },
     "metadata": {},
     "output_type": "display_data"
    },
    {
     "data": {
      "text/plain": [
       "'At Least I’m Not You | The Ben Shapiro Show Ep. 334'"
      ]
     },
     "metadata": {},
     "output_type": "display_data"
    },
    {
     "data": {
      "text/plain": [
       "1100"
      ]
     },
     "metadata": {},
     "output_type": "display_data"
    },
    {
     "data": {
      "text/plain": [
       "'The Soul Of The Left, Revealed | The Ben Shapiro Show Ep. 335'"
      ]
     },
     "metadata": {},
     "output_type": "display_data"
    },
    {
     "data": {
      "text/plain": [
       "1100"
      ]
     },
     "metadata": {},
     "output_type": "display_data"
    },
    {
     "data": {
      "text/plain": [
       "'CNN Lights Itself On Fire For The Fourth Of July | The Ben Shapiro Show Ep. 333'"
      ]
     },
     "metadata": {},
     "output_type": "display_data"
    },
    {
     "data": {
      "text/plain": [
       "1100"
      ]
     },
     "metadata": {},
     "output_type": "display_data"
    },
    {
     "data": {
      "text/plain": [
       "'Macho Man Donny Savage | The Ben Shapiro Show Ep. 332'"
      ]
     },
     "metadata": {},
     "output_type": "display_data"
    },
    {
     "data": {
      "text/plain": [
       "1100"
      ]
     },
     "metadata": {},
     "output_type": "display_data"
    },
    {
     "data": {
      "text/plain": [
       "'Our Politics Needs A Bloody Face-Lift | The Ben Shapiro Show Ep. 331'"
      ]
     },
     "metadata": {},
     "output_type": "display_data"
    },
    {
     "data": {
      "text/plain": [
       "1100"
      ]
     },
     "metadata": {},
     "output_type": "display_data"
    },
    {
     "data": {
      "text/plain": [
       "'Government-Run Healthcare Does Kill People | The Ben Shapiro Show Ep. 330'"
      ]
     },
     "metadata": {},
     "output_type": "display_data"
    },
    {
     "data": {
      "text/plain": [
       "1100"
      ]
     },
     "metadata": {},
     "output_type": "display_data"
    },
    {
     "data": {
      "text/plain": [
       "'Republicans Prepare To Own Obamacare | The Ben Shapiro Show Ep. 326'"
      ]
     },
     "metadata": {},
     "output_type": "display_data"
    },
    {
     "data": {
      "text/plain": [
       "1100"
      ]
     },
     "metadata": {},
     "output_type": "display_data"
    },
    {
     "data": {
      "text/plain": [
       "'Democrats Struggle For A Strategy | The Ben Shapiro Show Ep. 325'"
      ]
     },
     "metadata": {},
     "output_type": "display_data"
    },
    {
     "data": {
      "text/plain": [
       "1100"
      ]
     },
     "metadata": {},
     "output_type": "display_data"
    },
    {
     "data": {
      "text/plain": [
       "'Laughing My Ossoff | The Ben Shapiro Show Ep. 324'"
      ]
     },
     "metadata": {},
     "output_type": "display_data"
    },
    {
     "data": {
      "text/plain": [
       "1100"
      ]
     },
     "metadata": {},
     "output_type": "display_data"
    },
    {
     "data": {
      "text/plain": [
       "'True Evil Shows Its Face | The Ben Shapiro Show Ep. 323'"
      ]
     },
     "metadata": {},
     "output_type": "display_data"
    },
    {
     "data": {
      "text/plain": [
       "1100"
      ]
     },
     "metadata": {},
     "output_type": "display_data"
    },
    {
     "data": {
      "text/plain": [
       "'The Ben Shapiro Show Ep. 207 - Today Is The Day'"
      ]
     },
     "metadata": {},
     "output_type": "display_data"
    },
    {
     "data": {
      "text/plain": [
       "1100"
      ]
     },
     "metadata": {},
     "output_type": "display_data"
    },
    {
     "data": {
      "text/plain": [
       "\"All The World's A Stage, And The Play Sucks | The Ben Shapiro Show Ep. 322\""
      ]
     },
     "metadata": {},
     "output_type": "display_data"
    },
    {
     "data": {
      "text/plain": [
       "1100"
      ]
     },
     "metadata": {},
     "output_type": "display_data"
    },
    {
     "data": {
      "text/plain": [
       "'Are The Speech Police Coming? | The Ben Shapiro Show Ep. 320'"
      ]
     },
     "metadata": {},
     "output_type": "display_data"
    },
    {
     "data": {
      "text/plain": [
       "1100"
      ]
     },
     "metadata": {},
     "output_type": "display_data"
    },
    {
     "data": {
      "text/plain": [
       "\"Ep. 321 - Can't We All Just Get Along? | The Ben Shapiro Show\""
      ]
     },
     "metadata": {},
     "output_type": "display_data"
    },
    {
     "data": {
      "text/plain": [
       "1100"
      ]
     },
     "metadata": {},
     "output_type": "display_data"
    },
    {
     "data": {
      "text/plain": [
       "'Ep. 319 - Attempted Massacre on Congressman In DC - What Do We Know? | The Ben Shapiro Show'"
      ]
     },
     "metadata": {},
     "output_type": "display_data"
    },
    {
     "data": {
      "text/plain": [
       "1100"
      ]
     },
     "metadata": {},
     "output_type": "display_data"
    },
    {
     "data": {
      "text/plain": [
       "'Ep. 318 - The Get-Trump Brigade | The Ben Shapiro Show'"
      ]
     },
     "metadata": {},
     "output_type": "display_data"
    },
    {
     "data": {
      "text/plain": [
       "1100"
      ]
     },
     "metadata": {},
     "output_type": "display_data"
    },
    {
     "data": {
      "text/plain": [
       "'Ep. 317 - Is Trump On The Ropes...Or On Offense? | The Ben Shapiro Show'"
      ]
     },
     "metadata": {},
     "output_type": "display_data"
    },
    {
     "data": {
      "text/plain": [
       "1100"
      ]
     },
     "metadata": {},
     "output_type": "display_data"
    },
    {
     "data": {
      "text/plain": [
       "'Ep. 316 - The Apocalypse Has Comey'"
      ]
     },
     "metadata": {},
     "output_type": "display_data"
    },
    {
     "data": {
      "text/plain": [
       "1100"
      ]
     },
     "metadata": {},
     "output_type": "display_data"
    },
    {
     "data": {
      "text/plain": [
       "\"Ep. 315 - Comey Saves Trump's Bacon, Democrats Weep | The Ben Shapiro Show\""
      ]
     },
     "metadata": {},
     "output_type": "display_data"
    },
    {
     "data": {
      "text/plain": [
       "1100"
      ]
     },
     "metadata": {},
     "output_type": "display_data"
    },
    {
     "data": {
      "text/plain": [
       "'Ep. 314 - The Left Frets Over Comey, The Right Frets Over Radical Islam | The Ben Shapiro Show'"
      ]
     },
     "metadata": {},
     "output_type": "display_data"
    },
    {
     "data": {
      "text/plain": [
       "1100"
      ]
     },
     "metadata": {},
     "output_type": "display_data"
    },
    {
     "data": {
      "text/plain": [
       "'Ep. 313 - Did Russia Hack The Election After All? | The Ben Shapiro Show'"
      ]
     },
     "metadata": {},
     "output_type": "display_data"
    },
    {
     "data": {
      "text/plain": [
       "1100"
      ]
     },
     "metadata": {},
     "output_type": "display_data"
    },
    {
     "data": {
      "text/plain": [
       "'Ep. 312 - The Left Is More Anti-Trump Than Anti-Islamist | The Ben Shapiro Show'"
      ]
     },
     "metadata": {},
     "output_type": "display_data"
    },
    {
     "data": {
      "text/plain": [
       "1100"
      ]
     },
     "metadata": {},
     "output_type": "display_data"
    },
    {
     "data": {
      "text/plain": [
       "\"Ep. 311 - At Least We Won't Have Paris | The Ben Shapiro Show\""
      ]
     },
     "metadata": {},
     "output_type": "display_data"
    },
    {
     "data": {
      "text/plain": [
       "1100"
      ]
     },
     "metadata": {},
     "output_type": "display_data"
    },
    {
     "data": {
      "text/plain": [
       "'Ep. 310 - Can Everybody Stop Panicking For Five Minutes? | The Ben Shapiro Show'"
      ]
     },
     "metadata": {},
     "output_type": "display_data"
    },
    {
     "data": {
      "text/plain": [
       "1100"
      ]
     },
     "metadata": {},
     "output_type": "display_data"
    },
    {
     "data": {
      "text/plain": [
       "'Ep. 309 - Is It Okay To Body-Slam Reporters? | The Ben Shapiro Show'"
      ]
     },
     "metadata": {},
     "output_type": "display_data"
    },
    {
     "data": {
      "text/plain": [
       "1100"
      ]
     },
     "metadata": {},
     "output_type": "display_data"
    },
    {
     "data": {
      "text/plain": [
       "'Ep. 308 - Katy Perry Hates Walls...Except Around Her House | The Ben Shapiro Show'"
      ]
     },
     "metadata": {},
     "output_type": "display_data"
    },
    {
     "data": {
      "text/plain": [
       "1100"
      ]
     },
     "metadata": {},
     "output_type": "display_data"
    },
    {
     "data": {
      "text/plain": [
       "'Ep. 307 - Terror Rocks Britain — And The Left Exposes Itself | The Ben Shapiro Show'"
      ]
     },
     "metadata": {},
     "output_type": "display_data"
    },
    {
     "data": {
      "text/plain": [
       "1100"
      ]
     },
     "metadata": {},
     "output_type": "display_data"
    },
    {
     "data": {
      "text/plain": [
       "'Ep. 306 - Donald Of Arabia! | The Ben Shapiro Show'"
      ]
     },
     "metadata": {},
     "output_type": "display_data"
    },
    {
     "data": {
      "text/plain": [
       "1100"
      ]
     },
     "metadata": {},
     "output_type": "display_data"
    },
    {
     "data": {
      "text/plain": [
       "\"Ep. 305 - The Special Counsel Has Arrived -- But It Won't Satisfy Democrats | The Ben Shapiro Show\""
      ]
     },
     "metadata": {},
     "output_type": "display_data"
    },
    {
     "data": {
      "text/plain": [
       "1100"
      ]
     },
     "metadata": {},
     "output_type": "display_data"
    },
    {
     "data": {
      "text/plain": [
       "'Ep. 304 - Democrats Cry Impeachment, But Is It All A Setup? | The Ben Shapiro Show'"
      ]
     },
     "metadata": {},
     "output_type": "display_data"
    },
    {
     "data": {
      "text/plain": [
       "1100"
      ]
     },
     "metadata": {},
     "output_type": "display_data"
    },
    {
     "data": {
      "text/plain": [
       "'Ep. 303 - Another Day, Another Russia Scandal | The Ben Shapiro Show'"
      ]
     },
     "metadata": {},
     "output_type": "display_data"
    },
    {
     "data": {
      "text/plain": [
       "1100"
      ]
     },
     "metadata": {},
     "output_type": "display_data"
    },
    {
     "data": {
      "text/plain": [
       "'Ep. 302 - Did Trump Just Wound Himself, Or Is This All Overblown? | The Ben Shapiro Show'"
      ]
     },
     "metadata": {},
     "output_type": "display_data"
    },
    {
     "data": {
      "text/plain": [
       "1100"
      ]
     },
     "metadata": {},
     "output_type": "display_data"
    },
    {
     "data": {
      "text/plain": [
       "\"Ep. 301 - Comey's Gone, And The Russians Are Coming! Or Are They? | The Ben Shapiro Show\""
      ]
     },
     "metadata": {},
     "output_type": "display_data"
    },
    {
     "data": {
      "text/plain": [
       "1100"
      ]
     },
     "metadata": {},
     "output_type": "display_data"
    },
    {
     "data": {
      "text/plain": [
       "'Ep. 299 - This Trump-Russia Garbage Is Getting Old | The Ben Shapiro Show'"
      ]
     },
     "metadata": {},
     "output_type": "display_data"
    },
    {
     "data": {
      "text/plain": [
       "1100"
      ]
     },
     "metadata": {},
     "output_type": "display_data"
    },
    {
     "data": {
      "text/plain": [
       "'Ep. 300 - Trump FIRES Comey, All Hell Breaks Loose | The Ben Shapiro Show'"
      ]
     },
     "metadata": {},
     "output_type": "display_data"
    },
    {
     "data": {
      "text/plain": [
       "1100"
      ]
     },
     "metadata": {},
     "output_type": "display_data"
    },
    {
     "data": {
      "text/plain": [
       "\"Ep. 298 - Is Trump's Big Win In The House Actually A Win? | The Ben Shapiro Show\""
      ]
     },
     "metadata": {},
     "output_type": "display_data"
    },
    {
     "data": {
      "text/plain": [
       "1100"
      ]
     },
     "metadata": {},
     "output_type": "display_data"
    },
    {
     "data": {
      "text/plain": [
       "'The Ben Shapiro Show Ep. 297 - It’s Trumpcare Day!'"
      ]
     },
     "metadata": {},
     "output_type": "display_data"
    },
    {
     "data": {
      "text/plain": [
       "1100"
      ]
     },
     "metadata": {},
     "output_type": "display_data"
    },
    {
     "data": {
      "text/plain": [
       "\"The Ben Shapiro Show Ep. 296 - Hillary's Back!\""
      ]
     },
     "metadata": {},
     "output_type": "display_data"
    },
    {
     "data": {
      "text/plain": [
       "1100"
      ]
     },
     "metadata": {},
     "output_type": "display_data"
    },
    {
     "data": {
      "text/plain": [
       "'The Ben Shapiro Show Ep. 295 - Can Trump Focus On What Matters?'"
      ]
     },
     "metadata": {},
     "output_type": "display_data"
    },
    {
     "data": {
      "text/plain": [
       "1100"
      ]
     },
     "metadata": {},
     "output_type": "display_data"
    },
    {
     "data": {
      "text/plain": [
       "\"The Ben Shapiro Show Ep. 294 - Journalists Prove They're Smug Leftist Elites\""
      ]
     },
     "metadata": {},
     "output_type": "display_data"
    },
    {
     "data": {
      "text/plain": [
       "1100"
      ]
     },
     "metadata": {},
     "output_type": "display_data"
    },
    {
     "data": {
      "text/plain": [
       "'The Ben Shapiro Show Ep. 293 - Fascists Win In Berkeley'"
      ]
     },
     "metadata": {},
     "output_type": "display_data"
    },
    {
     "data": {
      "text/plain": [
       "1100"
      ]
     },
     "metadata": {},
     "output_type": "display_data"
    },
    {
     "data": {
      "text/plain": [
       "'The Ben Shapiro Show Ep. 292 - Should We Train Three-Year-Olds To Be Boys And Girls?'"
      ]
     },
     "metadata": {},
     "output_type": "display_data"
    },
    {
     "data": {
      "text/plain": [
       "1100"
      ]
     },
     "metadata": {},
     "output_type": "display_data"
    },
    {
     "data": {
      "text/plain": [
       "'The Ben Shapiro Show Ep. 291 - Is The Trump Wall Dying?'"
      ]
     },
     "metadata": {},
     "output_type": "display_data"
    },
    {
     "data": {
      "text/plain": [
       "1100"
      ]
     },
     "metadata": {},
     "output_type": "display_data"
    },
    {
     "data": {
      "text/plain": [
       "\"The Ben Shapiro Show Ep. 290 - Trump's First 100 Days: How Has He Done?\""
      ]
     },
     "metadata": {},
     "output_type": "display_data"
    },
    {
     "data": {
      "text/plain": [
       "1100"
      ]
     },
     "metadata": {},
     "output_type": "display_data"
    },
    {
     "data": {
      "text/plain": [
       "'The Ben Shapiro Show Ep. 289 - When The Left Says Science, They Mean ‘Shut Up’'"
      ]
     },
     "metadata": {},
     "output_type": "display_data"
    },
    {
     "data": {
      "text/plain": [
       "1100"
      ]
     },
     "metadata": {},
     "output_type": "display_data"
    },
    {
     "data": {
      "text/plain": [
       "\"The Ben Shapiro Show Ep. 288 - O'Reilly's Out -- What Does It Mean For The Right?\""
      ]
     },
     "metadata": {},
     "output_type": "display_data"
    },
    {
     "data": {
      "text/plain": [
       "1100"
      ]
     },
     "metadata": {},
     "output_type": "display_data"
    },
    {
     "data": {
      "text/plain": [
       "'The Ben Shapiro Show Ep. 287 - Is America On The Verge Of A Mental Breakdown?'"
      ]
     },
     "metadata": {},
     "output_type": "display_data"
    },
    {
     "data": {
      "text/plain": [
       "1100"
      ]
     },
     "metadata": {},
     "output_type": "display_data"
    },
    {
     "data": {
      "text/plain": [
       "'Ep. 269 - Myths And Facts About Trumpcare'"
      ]
     },
     "metadata": {},
     "output_type": "display_data"
    },
    {
     "data": {
      "text/plain": [
       "1100"
      ]
     },
     "metadata": {},
     "output_type": "display_data"
    },
    {
     "data": {
      "text/plain": [
       "'The Ben Shapiro Show Ep. 286 - Trump The Conqueror'"
      ]
     },
     "metadata": {},
     "output_type": "display_data"
    },
    {
     "data": {
      "text/plain": [
       "1100"
      ]
     },
     "metadata": {},
     "output_type": "display_data"
    },
    {
     "data": {
      "text/plain": [
       "'The Ben Shapiro Show Ep. 285 - Is Trump Growing Into The Office?'"
      ]
     },
     "metadata": {},
     "output_type": "display_data"
    },
    {
     "data": {
      "text/plain": [
       "1100"
      ]
     },
     "metadata": {},
     "output_type": "display_data"
    },
    {
     "data": {
      "text/plain": [
       "'Ep. 284 - So, Is There A Plan?'"
      ]
     },
     "metadata": {},
     "output_type": "display_data"
    },
    {
     "data": {
      "text/plain": [
       "1100"
      ]
     },
     "metadata": {},
     "output_type": "display_data"
    },
    {
     "data": {
      "text/plain": [
       "\"The Ben Shapiro Show Ep. 283 - There's A New Sheriff In Syria\""
      ]
     },
     "metadata": {},
     "output_type": "display_data"
    },
    {
     "data": {
      "text/plain": [
       "1100"
      ]
     },
     "metadata": {},
     "output_type": "display_data"
    },
    {
     "data": {
      "text/plain": [
       "\"The Ben Shapiro Show Ep. 282 - Trump's Big Syria Conundrum\""
      ]
     },
     "metadata": {},
     "output_type": "display_data"
    },
    {
     "data": {
      "text/plain": [
       "1100"
      ]
     },
     "metadata": {},
     "output_type": "display_data"
    },
    {
     "data": {
      "text/plain": [
       "'The Ben Shapiro Show Ep. 281 - Susan Rice Is Under Serious Fire -- And She Should Be'"
      ]
     },
     "metadata": {},
     "output_type": "display_data"
    },
    {
     "data": {
      "text/plain": [
       "1100"
      ]
     },
     "metadata": {},
     "output_type": "display_data"
    },
    {
     "data": {
      "text/plain": [
       "'The Ben Shapiro Show Ep. 280 - A Massive Bombshell Helps Trump'"
      ]
     },
     "metadata": {},
     "output_type": "display_data"
    },
    {
     "data": {
      "text/plain": [
       "1100"
      ]
     },
     "metadata": {},
     "output_type": "display_data"
    },
    {
     "data": {
      "text/plain": [
       "'The Ben Shapiro Show Ep. 278 - Leftists Crack Down On Free Speech'"
      ]
     },
     "metadata": {},
     "output_type": "display_data"
    },
    {
     "data": {
      "text/plain": [
       "1100"
      ]
     },
     "metadata": {},
     "output_type": "display_data"
    },
    {
     "data": {
      "text/plain": [
       "'The Ben Shapiro Show Ep. 279 - Both Parties Are Preparing To Commit Suicide'"
      ]
     },
     "metadata": {},
     "output_type": "display_data"
    },
    {
     "data": {
      "text/plain": [
       "1100"
      ]
     },
     "metadata": {},
     "output_type": "display_data"
    },
    {
     "data": {
      "text/plain": [
       "'The Ben Shapiro Show Ep. 277 - Real Controversies, and Fake Controversies'"
      ]
     },
     "metadata": {},
     "output_type": "display_data"
    },
    {
     "data": {
      "text/plain": [
       "1100"
      ]
     },
     "metadata": {},
     "output_type": "display_data"
    },
    {
     "data": {
      "text/plain": [
       "'The Ben Shapiro Show Ep. 276 - Begun, The War On Conservatives Has'"
      ]
     },
     "metadata": {},
     "output_type": "display_data"
    },
    {
     "data": {
      "text/plain": [
       "1100"
      ]
     },
     "metadata": {},
     "output_type": "display_data"
    },
    {
     "data": {
      "text/plain": [
       "'The Ben Shapiro Show Ep. 275 - Can Everybody Stop Lying For 30 Seconds, Please?'"
      ]
     },
     "metadata": {},
     "output_type": "display_data"
    },
    {
     "data": {
      "text/plain": [
       "1100"
      ]
     },
     "metadata": {},
     "output_type": "display_data"
    },
    {
     "data": {
      "text/plain": [
       "'The Ben Shapiro Show Ep. 273 - Is Trump In Trouble?'"
      ]
     },
     "metadata": {},
     "output_type": "display_data"
    },
    {
     "data": {
      "text/plain": [
       "1100"
      ]
     },
     "metadata": {},
     "output_type": "display_data"
    },
    {
     "data": {
      "text/plain": [
       "'The Ben Shapiro Show Ep. 274 - Trump’s Judicial Pick Shines'"
      ]
     },
     "metadata": {},
     "output_type": "display_data"
    },
    {
     "data": {
      "text/plain": [
       "1100"
      ]
     },
     "metadata": {},
     "output_type": "display_data"
    },
    {
     "data": {
      "text/plain": [
       "'The Ben Shapiro Show Ep. 272 - Can Trump Actually Fulfill His Promises?'"
      ]
     },
     "metadata": {},
     "output_type": "display_data"
    },
    {
     "data": {
      "text/plain": [
       "1100"
      ]
     },
     "metadata": {},
     "output_type": "display_data"
    },
    {
     "data": {
      "text/plain": [
       "'The Ben Shapiro Show Ep. 271 - Courts Go Rogue, Battle Trump on Immigration'"
      ]
     },
     "metadata": {},
     "output_type": "display_data"
    },
    {
     "data": {
      "text/plain": [
       "1100"
      ]
     },
     "metadata": {},
     "output_type": "display_data"
    },
    {
     "data": {
      "text/plain": [
       "'The Ben Shapiro Show Ep. 270 - Epic Media Fail: Trump Tax Return Edition'"
      ]
     },
     "metadata": {},
     "output_type": "display_data"
    },
    {
     "data": {
      "text/plain": [
       "1100"
      ]
     },
     "metadata": {},
     "output_type": "display_data"
    },
    {
     "data": {
      "text/plain": [
       "'The Ben Shapiro Show Ep. 268 - When The Media Alleges Racism, Do Your Research'"
      ]
     },
     "metadata": {},
     "output_type": "display_data"
    },
    {
     "data": {
      "text/plain": [
       "1100"
      ]
     },
     "metadata": {},
     "output_type": "display_data"
    },
    {
     "data": {
      "text/plain": [
       "'The Ben Shapiro Show Ep. 267 - Will Trumpcare Live or Die?'"
      ]
     },
     "metadata": {},
     "output_type": "display_data"
    },
    {
     "data": {
      "text/plain": [
       "1100"
      ]
     },
     "metadata": {},
     "output_type": "display_data"
    },
    {
     "data": {
      "text/plain": [
       "'The Ben Shapiro Show Ep. 266 - Women March For Something Or Other'"
      ]
     },
     "metadata": {},
     "output_type": "display_data"
    },
    {
     "data": {
      "text/plain": [
       "1100"
      ]
     },
     "metadata": {},
     "output_type": "display_data"
    },
    {
     "data": {
      "text/plain": [
       "'The Ben Shapiro Show Ep. 260 - Oscar Night’s Big Winner: Trump!'"
      ]
     },
     "metadata": {},
     "output_type": "display_data"
    },
    {
     "data": {
      "text/plain": [
       "1100"
      ]
     },
     "metadata": {},
     "output_type": "display_data"
    },
    {
     "data": {
      "text/plain": [
       "'The Ben Shapiro Sow Ep. 265 - Trump Tweets, The World Goes Insane'"
      ]
     },
     "metadata": {},
     "output_type": "display_data"
    },
    {
     "data": {
      "text/plain": [
       "1100"
      ]
     },
     "metadata": {},
     "output_type": "display_data"
    },
    {
     "data": {
      "text/plain": [
       "'The Ben Shapiro Show Ep. 264 - Did Democrats Get Another Scalp?'"
      ]
     },
     "metadata": {},
     "output_type": "display_data"
    },
    {
     "data": {
      "text/plain": [
       "1100"
      ]
     },
     "metadata": {},
     "output_type": "display_data"
    },
    {
     "data": {
      "text/plain": [
       "'The Ben Shapiro Show Ep. 263 - Can Oprah Be President?'"
      ]
     },
     "metadata": {},
     "output_type": "display_data"
    },
    {
     "data": {
      "text/plain": [
       "1100"
      ]
     },
     "metadata": {},
     "output_type": "display_data"
    },
    {
     "data": {
      "text/plain": [
       "'The Ben Shapiro Show Ep. 262 - Trump’s Best Moment EVER'"
      ]
     },
     "metadata": {},
     "output_type": "display_data"
    },
    {
     "data": {
      "text/plain": [
       "1100"
      ]
     },
     "metadata": {},
     "output_type": "display_data"
    },
    {
     "data": {
      "text/plain": [
       "'The Ben Shapiro Show Ep. 261 - Is Destroying Trump A Winning Strategy?'"
      ]
     },
     "metadata": {},
     "output_type": "display_data"
    },
    {
     "data": {
      "text/plain": [
       "1100"
      ]
     },
     "metadata": {},
     "output_type": "display_data"
    },
    {
     "data": {
      "text/plain": [
       "\"The Ben Shapiro Show Ep. 260 - Oscar Night's Big Winner: Trump!\""
      ]
     },
     "metadata": {},
     "output_type": "display_data"
    },
    {
     "data": {
      "text/plain": [
       "1100"
      ]
     },
     "metadata": {},
     "output_type": "display_data"
    },
    {
     "data": {
      "text/plain": [
       "'The Ben Shapiro Show Ep. 259 - Do You Get Extra Credit For Experiencing Tragedy?'"
      ]
     },
     "metadata": {},
     "output_type": "display_data"
    },
    {
     "data": {
      "text/plain": [
       "1100"
      ]
     },
     "metadata": {},
     "output_type": "display_data"
    },
    {
     "data": {
      "text/plain": [
       "'The Ben Shapiro Show Ep. 258 - Is The Enemy Of Our Enemy Our Friend?'"
      ]
     },
     "metadata": {},
     "output_type": "display_data"
    },
    {
     "data": {
      "text/plain": [
       "1100"
      ]
     },
     "metadata": {},
     "output_type": "display_data"
    },
    {
     "data": {
      "text/plain": [
       "'The Ben Shapiro Show Ep. 257 - Is Trump Actually Making The Left Insane?'"
      ]
     },
     "metadata": {},
     "output_type": "display_data"
    },
    {
     "data": {
      "text/plain": [
       "1100"
      ]
     },
     "metadata": {},
     "output_type": "display_data"
    },
    {
     "data": {
      "text/plain": [
       "'The Ben Shapiro Show Ep. 256 - What Do Conservatives Stand For?'"
      ]
     },
     "metadata": {},
     "output_type": "display_data"
    },
    {
     "data": {
      "text/plain": [
       "1100"
      ]
     },
     "metadata": {},
     "output_type": "display_data"
    },
    {
     "data": {
      "text/plain": [
       "'Ep. 255 - The Best of Trump, The Worst of Trump'"
      ]
     },
     "metadata": {},
     "output_type": "display_data"
    },
    {
     "data": {
      "text/plain": [
       "1100"
      ]
     },
     "metadata": {},
     "output_type": "display_data"
    },
    {
     "data": {
      "text/plain": [
       "'The Ben Shapiro Show Ep. 254 - Is The Intelligence Community Its Own Government?'"
      ]
     },
     "metadata": {},
     "output_type": "display_data"
    },
    {
     "data": {
      "text/plain": [
       "1100"
      ]
     },
     "metadata": {},
     "output_type": "display_data"
    },
    {
     "data": {
      "text/plain": [
       "\"The Ben Shapiro Show Ep. 253 - Flynn's Out -- What The Hell Happened?\""
      ]
     },
     "metadata": {},
     "output_type": "display_data"
    },
    {
     "data": {
      "text/plain": [
       "1100"
      ]
     },
     "metadata": {},
     "output_type": "display_data"
    },
    {
     "data": {
      "text/plain": [
       "\"The Ben Shapiro Show Ep. 252 - 'Saturday Night Live' Goes Totally Nuts On Trump\""
      ]
     },
     "metadata": {},
     "output_type": "display_data"
    },
    {
     "data": {
      "text/plain": [
       "1100"
      ]
     },
     "metadata": {},
     "output_type": "display_data"
    },
    {
     "data": {
      "text/plain": [
       "'The Ben Shapiro Show Ep. 251 - To Democrats, Everything Is Sexist and Racist'"
      ]
     },
     "metadata": {},
     "output_type": "display_data"
    },
    {
     "data": {
      "text/plain": [
       "1100"
      ]
     },
     "metadata": {},
     "output_type": "display_data"
    },
    {
     "data": {
      "text/plain": [
       "'The Ben Shapiro Show Ep. 250 - Republicans: Let The Crazy Lady Talk!'"
      ]
     },
     "metadata": {},
     "output_type": "display_data"
    },
    {
     "data": {
      "text/plain": [
       "1100"
      ]
     },
     "metadata": {},
     "output_type": "display_data"
    },
    {
     "data": {
      "text/plain": [
       "'The Ben Shapiro Show Ep. 249 - Is Donald Trump Vladimir Putin? Nope.'"
      ]
     },
     "metadata": {},
     "output_type": "display_data"
    },
    {
     "data": {
      "text/plain": [
       "1100"
      ]
     },
     "metadata": {},
     "output_type": "display_data"
    },
    {
     "data": {
      "text/plain": [
       "\"The Ben Shapiro Show Ep. 248 - Super Bowl Advertisers Won't Stop Their Leftism\""
      ]
     },
     "metadata": {},
     "output_type": "display_data"
    },
    {
     "data": {
      "text/plain": [
       "1100"
      ]
     },
     "metadata": {},
     "output_type": "display_data"
    },
    {
     "data": {
      "text/plain": [
       "'The Ben Shapiro Show Ep. 247 - The Left Gets Violent at Berkeley'"
      ]
     },
     "metadata": {},
     "output_type": "display_data"
    },
    {
     "data": {
      "text/plain": [
       "1100"
      ]
     },
     "metadata": {},
     "output_type": "display_data"
    },
    {
     "data": {
      "text/plain": [
       "'The Ben Shapiro Show Ep. 246 - Promise Kept: Trump Picks Gorsuch!'"
      ]
     },
     "metadata": {},
     "output_type": "display_data"
    },
    {
     "data": {
      "text/plain": [
       "1100"
      ]
     },
     "metadata": {},
     "output_type": "display_data"
    },
    {
     "data": {
      "text/plain": [
       "\"The Ben Shapiro Show Ep. 245 - Trump: You're Fired!\""
      ]
     },
     "metadata": {},
     "output_type": "display_data"
    },
    {
     "data": {
      "text/plain": [
       "1100"
      ]
     },
     "metadata": {},
     "output_type": "display_data"
    },
    {
     "data": {
      "text/plain": [
       "'The Ben Shapiro Show Ep. 244 - Did Trump Just Ban Muslims? No!'"
      ]
     },
     "metadata": {},
     "output_type": "display_data"
    },
    {
     "data": {
      "text/plain": [
       "1100"
      ]
     },
     "metadata": {},
     "output_type": "display_data"
    },
    {
     "data": {
      "text/plain": [
       "'The Ben Shapiro Show Ep. 238 - Obama Goes Full Traitor'"
      ]
     },
     "metadata": {},
     "output_type": "display_data"
    },
    {
     "data": {
      "text/plain": [
       "1100"
      ]
     },
     "metadata": {},
     "output_type": "display_data"
    },
    {
     "data": {
      "text/plain": [
       "'The Ben Shapiro Show Ep. 243 - Trump Keeps His Biggest Promise'"
      ]
     },
     "metadata": {},
     "output_type": "display_data"
    },
    {
     "data": {
      "text/plain": [
       "1100"
      ]
     },
     "metadata": {},
     "output_type": "display_data"
    },
    {
     "data": {
      "text/plain": [
       "'The Ben Shapiro Show Ep. 242 - Democrats: White People Need To Shut Up!'"
      ]
     },
     "metadata": {},
     "output_type": "display_data"
    },
    {
     "data": {
      "text/plain": [
       "1100"
      ]
     },
     "metadata": {},
     "output_type": "display_data"
    },
    {
     "data": {
      "text/plain": [
       "\"The Ben Shapiro Show Ep. 241 - Trump's First Monday: Great, Good, Rotten\""
      ]
     },
     "metadata": {},
     "output_type": "display_data"
    },
    {
     "data": {
      "text/plain": [
       "1100"
      ]
     },
     "metadata": {},
     "output_type": "display_data"
    },
    {
     "data": {
      "text/plain": [
       "'The Ben Shapiro Show Ep. 240 - Trump Becomes President, All Hell Breaks Loose'"
      ]
     },
     "metadata": {},
     "output_type": "display_data"
    },
    {
     "data": {
      "text/plain": [
       "1100"
      ]
     },
     "metadata": {},
     "output_type": "display_data"
    },
    {
     "data": {
      "text/plain": [
       "\"The Ben Shapiro Show Ep. 239 - Obama's Final Presser! Get Out, Dude.\""
      ]
     },
     "metadata": {},
     "output_type": "display_data"
    },
    {
     "data": {
      "text/plain": [
       "1100"
      ]
     },
     "metadata": {},
     "output_type": "display_data"
    },
    {
     "data": {
      "text/plain": [
       "'The Ben Shapiro Show Ep. 237 - Anti-Trump Racism Breaks Out All Over'"
      ]
     },
     "metadata": {},
     "output_type": "display_data"
    },
    {
     "data": {
      "text/plain": [
       "1100"
      ]
     },
     "metadata": {},
     "output_type": "display_data"
    },
    {
     "data": {
      "text/plain": [
       "'The Ben Shapiro Show Ep. 236 - Is Trump Illegitimate?'"
      ]
     },
     "metadata": {},
     "output_type": "display_data"
    },
    {
     "data": {
      "text/plain": [
       "1100"
      ]
     },
     "metadata": {},
     "output_type": "display_data"
    },
    {
     "data": {
      "text/plain": [
       "'The Ben Shapiro Show Ep. 235 - So, Does Anybody Care About The Truth Anymore?'"
      ]
     },
     "metadata": {},
     "output_type": "display_data"
    },
    {
     "data": {
      "text/plain": [
       "1100"
      ]
     },
     "metadata": {},
     "output_type": "display_data"
    },
    {
     "data": {
      "text/plain": [
       "'The Ben Shapiro Show Ep. 234 - Media Smack Themselves In The Face With Russian Urine'"
      ]
     },
     "metadata": {},
     "output_type": "display_data"
    },
    {
     "data": {
      "text/plain": [
       "1100"
      ]
     },
     "metadata": {},
     "output_type": "display_data"
    },
    {
     "data": {
      "text/plain": [
       "'The Ben Shapiro Show Ep. 233 - The Racist Left Goes On Attack'"
      ]
     },
     "metadata": {},
     "output_type": "display_data"
    },
    {
     "data": {
      "text/plain": [
       "1100"
      ]
     },
     "metadata": {},
     "output_type": "display_data"
    },
    {
     "data": {
      "text/plain": [
       "'The Ben Shapiro Show Ep. 232 - Hollywood Hates Trump. And America Hates Hollywood.'"
      ]
     },
     "metadata": {},
     "output_type": "display_data"
    },
    {
     "data": {
      "text/plain": [
       "1100"
      ]
     },
     "metadata": {},
     "output_type": "display_data"
    },
    {
     "data": {
      "text/plain": [
       "\"The Ben Shapiro Show Ep. 209 - Protesters Go Nuts, Prove President Trump's Case\""
      ]
     },
     "metadata": {},
     "output_type": "display_data"
    },
    {
     "data": {
      "text/plain": [
       "1100"
      ]
     },
     "metadata": {},
     "output_type": "display_data"
    },
    {
     "data": {
      "text/plain": [
       "'The Ben Shapiro Show Ep. 231 - 2016 Goes Out With A Nuclear Bang'"
      ]
     },
     "metadata": {},
     "output_type": "display_data"
    },
    {
     "data": {
      "text/plain": [
       "1100"
      ]
     },
     "metadata": {},
     "output_type": "display_data"
    },
    {
     "data": {
      "text/plain": [
       "'The Ben Shapiro Show Ep. 230 - Trump Derangement Syndrome Reaches Epidemic Levels'"
      ]
     },
     "metadata": {},
     "output_type": "display_data"
    },
    {
     "data": {
      "text/plain": [
       "1100"
      ]
     },
     "metadata": {},
     "output_type": "display_data"
    },
    {
     "data": {
      "text/plain": [
       "\"The Ben Shapiro Show Ep. 229 - Lena Dunham's Merry Abortionmas!\""
      ]
     },
     "metadata": {},
     "output_type": "display_data"
    },
    {
     "data": {
      "text/plain": [
       "1100"
      ]
     },
     "metadata": {},
     "output_type": "display_data"
    },
    {
     "data": {
      "text/plain": [
       "'The Ben Shapiro Show Ep. 227 - Yes, Leftists Are Completely Bats***'"
      ]
     },
     "metadata": {},
     "output_type": "display_data"
    },
    {
     "data": {
      "text/plain": [
       "1100"
      ]
     },
     "metadata": {},
     "output_type": "display_data"
    },
    {
     "data": {
      "text/plain": [
       "'The Ben Shapiro Show Ep. 226 - Trump Picks Pro-Putin Secretary of State. Does It Matter?'"
      ]
     },
     "metadata": {},
     "output_type": "display_data"
    },
    {
     "data": {
      "text/plain": [
       "1100"
      ]
     },
     "metadata": {},
     "output_type": "display_data"
    },
    {
     "data": {
      "text/plain": [
       "\"The Ben Shapiro Show Ep. 225 - Did Russia 'Hack' Our Election?\""
      ]
     },
     "metadata": {},
     "output_type": "display_data"
    },
    {
     "data": {
      "text/plain": [
       "1100"
      ]
     },
     "metadata": {},
     "output_type": "display_data"
    },
    {
     "data": {
      "text/plain": [
       "'The Ben Shapiro Show Ep. 224 - Can Democrats Recover From 2016?'"
      ]
     },
     "metadata": {},
     "output_type": "display_data"
    },
    {
     "data": {
      "text/plain": [
       "1100"
      ]
     },
     "metadata": {},
     "output_type": "display_data"
    },
    {
     "data": {
      "text/plain": [
       "'The Ben Shapiro Show Ep. 223 - Left Feels Punched In The Stomach, And They Deserve It'"
      ]
     },
     "metadata": {},
     "output_type": "display_data"
    },
    {
     "data": {
      "text/plain": [
       "1100"
      ]
     },
     "metadata": {},
     "output_type": "display_data"
    },
    {
     "data": {
      "text/plain": [
       "'The Ben Shapiro Show Ep. 222 - Trump Does Something Brilliant'"
      ]
     },
     "metadata": {},
     "output_type": "display_data"
    },
    {
     "data": {
      "text/plain": [
       "1100"
      ]
     },
     "metadata": {},
     "output_type": "display_data"
    },
    {
     "data": {
      "text/plain": [
       "\"The Ben Shapiro Show Ep. 214 - 'Hamilton' Attacks Trump, Media Go Nuts\""
      ]
     },
     "metadata": {},
     "output_type": "display_data"
    },
    {
     "data": {
      "text/plain": [
       "1100"
      ]
     },
     "metadata": {},
     "output_type": "display_data"
    },
    {
     "data": {
      "text/plain": [
       "'The Ben Shapiro Show Ep. 221 - When Trump Sins, Will Anyone Mention It?'"
      ]
     },
     "metadata": {},
     "output_type": "display_data"
    },
    {
     "data": {
      "text/plain": [
       "1100"
      ]
     },
     "metadata": {},
     "output_type": "display_data"
    },
    {
     "data": {
      "text/plain": [
       "'The Ben Shapiro Show Ep. 220 - Trump Saved Jobs! But How?'"
      ]
     },
     "metadata": {},
     "output_type": "display_data"
    },
    {
     "data": {
      "text/plain": [
       "1100"
      ]
     },
     "metadata": {},
     "output_type": "display_data"
    },
    {
     "data": {
      "text/plain": [
       "'Ep. 219 - Trump Eats Dinner With a Side of Romney'"
      ]
     },
     "metadata": {},
     "output_type": "display_data"
    },
    {
     "data": {
      "text/plain": [
       "1100"
      ]
     },
     "metadata": {},
     "output_type": "display_data"
    },
    {
     "data": {
      "text/plain": [
       "'The Ben Shapiro Show Ep. 218 - Islamist Terrorist Attacks, Left Goes Silent'"
      ]
     },
     "metadata": {},
     "output_type": "display_data"
    },
    {
     "data": {
      "text/plain": [
       "1100"
      ]
     },
     "metadata": {},
     "output_type": "display_data"
    },
    {
     "data": {
      "text/plain": [
       "'The Ben Shapiro Show Ep. 217 - Castro Dies, The Left Weeps'"
      ]
     },
     "metadata": {},
     "output_type": "display_data"
    },
    {
     "data": {
      "text/plain": [
       "1100"
      ]
     },
     "metadata": {},
     "output_type": "display_data"
    },
    {
     "data": {
      "text/plain": [
       "'The Ben Shapiro Show Ep. 216 - Democrats Collapsing, Trump Organizing'"
      ]
     },
     "metadata": {},
     "output_type": "display_data"
    },
    {
     "data": {
      "text/plain": [
       "1100"
      ]
     },
     "metadata": {},
     "output_type": "display_data"
    },
    {
     "data": {
      "text/plain": [
       "'The Ben Shapiro Show Ep. 215 - Good Trump/Bad Trump: Thanksgiving Edition'"
      ]
     },
     "metadata": {},
     "output_type": "display_data"
    },
    {
     "data": {
      "text/plain": [
       "1100"
      ]
     },
     "metadata": {},
     "output_type": "display_data"
    },
    {
     "data": {
      "text/plain": [
       "'The Ben Shapiro Show Ep. 213 - Leftists Keep Pushing Americans To Trump'"
      ]
     },
     "metadata": {},
     "output_type": "display_data"
    },
    {
     "data": {
      "text/plain": [
       "1100"
      ]
     },
     "metadata": {},
     "output_type": "display_data"
    },
    {
     "data": {
      "text/plain": [
       "'The Ben Shapiro Show Ep. 212 - Media Look To Hand Re-Election To Trump'"
      ]
     },
     "metadata": {},
     "output_type": "display_data"
    },
    {
     "data": {
      "text/plain": [
       "1100"
      ]
     },
     "metadata": {},
     "output_type": "display_data"
    },
    {
     "data": {
      "text/plain": [
       "'The Ben Shapiro Show Ep. 211 - Thanks, Obama. But Really.'"
      ]
     },
     "metadata": {},
     "output_type": "display_data"
    },
    {
     "data": {
      "text/plain": [
       "1100"
      ]
     },
     "metadata": {},
     "output_type": "display_data"
    },
    {
     "data": {
      "text/plain": [
       "'The Ben Shapiro Show Ep. 210 - Trump White House Takes Shape'"
      ]
     },
     "metadata": {},
     "output_type": "display_data"
    },
    {
     "data": {
      "text/plain": [
       "1100"
      ]
     },
     "metadata": {},
     "output_type": "display_data"
    },
    {
     "data": {
      "text/plain": [
       "'The Ben Shapiro Show Ep. 208 - President-Elect Trump'"
      ]
     },
     "metadata": {},
     "output_type": "display_data"
    },
    {
     "data": {
      "text/plain": [
       "1100"
      ]
     },
     "metadata": {},
     "output_type": "display_data"
    },
    {
     "data": {
      "text/plain": [
       "'The Ben Shapiro Show Ep. 206 - The Final Prediction: Trump vs. Clinton'"
      ]
     },
     "metadata": {},
     "output_type": "display_data"
    },
    {
     "data": {
      "text/plain": [
       "1100"
      ]
     },
     "metadata": {},
     "output_type": "display_data"
    },
    {
     "data": {
      "text/plain": [
       "'The Ben Shapiro Show Ep. 205 - The Final Countdown'"
      ]
     },
     "metadata": {},
     "output_type": "display_data"
    },
    {
     "data": {
      "text/plain": [
       "1100"
      ]
     },
     "metadata": {},
     "output_type": "display_data"
    },
    {
     "data": {
      "text/plain": [
       "\"The Ben Shapiro Show Ep. 203 - Never Trumpers, Don't Make This One Big Mistake\""
      ]
     },
     "metadata": {},
     "output_type": "display_data"
    },
    {
     "data": {
      "text/plain": [
       "1100"
      ]
     },
     "metadata": {},
     "output_type": "display_data"
    },
    {
     "data": {
      "text/plain": [
       "'The Ben Shapiro Show Ep. 202 - Hillary Receives A Halloween Surprise'"
      ]
     },
     "metadata": {},
     "output_type": "display_data"
    },
    {
     "data": {
      "text/plain": [
       "1100"
      ]
     },
     "metadata": {},
     "output_type": "display_data"
    },
    {
     "data": {
      "text/plain": [
       "'The Ben Shapiro Show Ep. 201 - The Polls Tighten...Does Trump Have A Shot?'"
      ]
     },
     "metadata": {},
     "output_type": "display_data"
    },
    {
     "data": {
      "text/plain": [
       "1100"
      ]
     },
     "metadata": {},
     "output_type": "display_data"
    },
    {
     "data": {
      "text/plain": [
       "'The Ben Shapiro Show Ep. 200 - Another Day, Another Hillary Scandal'"
      ]
     },
     "metadata": {},
     "output_type": "display_data"
    },
    {
     "data": {
      "text/plain": [
       "1100"
      ]
     },
     "metadata": {},
     "output_type": "display_data"
    },
    {
     "data": {
      "text/plain": [
       "\"The Ben Shapiro Show Ep. 199 - Hillary's Birthday Present: More Corruption!\""
      ]
     },
     "metadata": {},
     "output_type": "display_data"
    },
    {
     "data": {
      "text/plain": [
       "1100"
      ]
     },
     "metadata": {},
     "output_type": "display_data"
    },
    {
     "data": {
      "text/plain": [
       "'The Ben Shapiro Show Ep. 198 - Laughing Our Way To Doom'"
      ]
     },
     "metadata": {},
     "output_type": "display_data"
    },
    {
     "data": {
      "text/plain": [
       "1100"
      ]
     },
     "metadata": {},
     "output_type": "display_data"
    },
    {
     "data": {
      "text/plain": [
       "'The Ben Shapiro Show Ep. 197 - Final Debate: The Apocalypse Approacheth'"
      ]
     },
     "metadata": {},
     "output_type": "display_data"
    },
    {
     "data": {
      "text/plain": [
       "1100"
      ]
     },
     "metadata": {},
     "output_type": "display_data"
    },
    {
     "data": {
      "text/plain": [
       "\"The Ben Shapiro Show Ep. 196 - Yes, It's Rigged! But Not The Way Trump Thinks.\""
      ]
     },
     "metadata": {},
     "output_type": "display_data"
    },
    {
     "data": {
      "text/plain": [
       "1100"
      ]
     },
     "metadata": {},
     "output_type": "display_data"
    },
    {
     "data": {
      "text/plain": [
       "\"The Ben Shapiro Show Ep. 195 - Everybody's a Hypocrite About Sexual Assault\""
      ]
     },
     "metadata": {},
     "output_type": "display_data"
    },
    {
     "data": {
      "text/plain": [
       "1100"
      ]
     },
     "metadata": {},
     "output_type": "display_data"
    },
    {
     "data": {
      "text/plain": [
       "'The Ben Shapiro Show Ep. 194 - The Great Trumpocalypse Is Upon Us'"
      ]
     },
     "metadata": {},
     "output_type": "display_data"
    },
    {
     "data": {
      "text/plain": [
       "1100"
      ]
     },
     "metadata": {},
     "output_type": "display_data"
    },
    {
     "data": {
      "text/plain": [
       "'The Ben Shapiro Show Ep. 193 - Cage Match: Trump Hammers Hillary'"
      ]
     },
     "metadata": {},
     "output_type": "display_data"
    },
    {
     "data": {
      "text/plain": [
       "1100"
      ]
     },
     "metadata": {},
     "output_type": "display_data"
    },
    {
     "data": {
      "text/plain": [
       "'The Ben Shapiro Show Ep. 192 - Can Conservatives Unite?'"
      ]
     },
     "metadata": {},
     "output_type": "display_data"
    },
    {
     "data": {
      "text/plain": [
       "1100"
      ]
     },
     "metadata": {},
     "output_type": "display_data"
    },
    {
     "data": {
      "text/plain": [
       "'The Ben Shapiro Show Ep. 191 - Round II: Trump vs. Hillary, The Revenge'"
      ]
     },
     "metadata": {},
     "output_type": "display_data"
    },
    {
     "data": {
      "text/plain": [
       "1100"
      ]
     },
     "metadata": {},
     "output_type": "display_data"
    },
    {
     "data": {
      "text/plain": [
       "'The Ben Shapiro Show Ep. 190 - VP Debate: Pence Dominates, Kaine Loses It'"
      ]
     },
     "metadata": {},
     "output_type": "display_data"
    },
    {
     "data": {
      "text/plain": [
       "1100"
      ]
     },
     "metadata": {},
     "output_type": "display_data"
    },
    {
     "data": {
      "text/plain": [
       "\"The Ben Shapiro Show Ep. 189 - Yes, Comey's FBI Was Rigged For Hillary\""
      ]
     },
     "metadata": {},
     "output_type": "display_data"
    },
    {
     "data": {
      "text/plain": [
       "1100"
      ]
     },
     "metadata": {},
     "output_type": "display_data"
    },
    {
     "data": {
      "text/plain": [
       "\"The Ben Shapiro Show Ep. 188 - Media: Stop Trump So We Won't Be Mean To Fat People!\""
      ]
     },
     "metadata": {},
     "output_type": "display_data"
    },
    {
     "data": {
      "text/plain": [
       "1100"
      ]
     },
     "metadata": {},
     "output_type": "display_data"
    },
    {
     "data": {
      "text/plain": [
       "'The Ben Shapiro Show Ep. 187 - Fight Night: Hillary Lies, Trump Melts Down'"
      ]
     },
     "metadata": {},
     "output_type": "display_data"
    },
    {
     "data": {
      "text/plain": [
       "1100"
      ]
     },
     "metadata": {},
     "output_type": "display_data"
    },
    {
     "data": {
      "text/plain": [
       "\"The Ben Shapiro Show Ep. 186 - It's Debate Night -- And Advantage: Trump\""
      ]
     },
     "metadata": {},
     "output_type": "display_data"
    },
    {
     "data": {
      "text/plain": [
       "1100"
      ]
     },
     "metadata": {},
     "output_type": "display_data"
    },
    {
     "data": {
      "text/plain": [
       "\"Ep. 185 - Leftists: They're Not Rioters, They're Heroes!\""
      ]
     },
     "metadata": {},
     "output_type": "display_data"
    },
    {
     "data": {
      "text/plain": [
       "1100"
      ]
     },
     "metadata": {},
     "output_type": "display_data"
    },
    {
     "data": {
      "text/plain": [
       "'The Ben Shapiro Show Ep. 184 - Hillary Destroys Police To Win Black Votes'"
      ]
     },
     "metadata": {},
     "output_type": "display_data"
    },
    {
     "data": {
      "text/plain": [
       "1100"
      ]
     },
     "metadata": {},
     "output_type": "display_data"
    },
    {
     "data": {
      "text/plain": [
       "'The Ben Shapiro Show Ep. 183 - Black Man Shot, Leftists Blame America'"
      ]
     },
     "metadata": {},
     "output_type": "display_data"
    },
    {
     "data": {
      "text/plain": [
       "1100"
      ]
     },
     "metadata": {},
     "output_type": "display_data"
    },
    {
     "data": {
      "text/plain": [
       "'The Ben Shapiro Show Ep. 182 -Terrorists Hit NY, NJ, Dems Destroy Themselves'"
      ]
     },
     "metadata": {},
     "output_type": "display_data"
    },
    {
     "data": {
      "text/plain": [
       "1100"
      ]
     },
     "metadata": {},
     "output_type": "display_data"
    },
    {
     "data": {
      "text/plain": [
       "\"The Ben Shapiro Show Ep. 181 - Hillary Won't Stop Losing Until She Stops Being Hillary\""
      ]
     },
     "metadata": {},
     "output_type": "display_data"
    },
    {
     "data": {
      "text/plain": [
       "1100"
      ]
     },
     "metadata": {},
     "output_type": "display_data"
    },
    {
     "data": {
      "text/plain": [
       "'The Ben Shapiro Show Ep. 180 - Trump Frees His Inner Democrat'"
      ]
     },
     "metadata": {},
     "output_type": "display_data"
    },
    {
     "data": {
      "text/plain": [
       "1100"
      ]
     },
     "metadata": {},
     "output_type": "display_data"
    },
    {
     "data": {
      "text/plain": [
       "'The Ben Shapiro Show Ep. 179 - Hillary Lies Make Her Pathetically Ineffective'"
      ]
     },
     "metadata": {},
     "output_type": "display_data"
    },
    {
     "data": {
      "text/plain": [
       "1100"
      ]
     },
     "metadata": {},
     "output_type": "display_data"
    },
    {
     "data": {
      "text/plain": [
       "\"The Ben Shapiro Show Ep. 178 - Hillary Stars In 'The Walking Dead'\""
      ]
     },
     "metadata": {},
     "output_type": "display_data"
    },
    {
     "data": {
      "text/plain": [
       "1100"
      ]
     },
     "metadata": {},
     "output_type": "display_data"
    },
    {
     "data": {
      "text/plain": [
       "'The Ben Shapiro Ep. 177 - Hillary Coughs Up A Lung, Her Polling Lead'"
      ]
     },
     "metadata": {},
     "output_type": "display_data"
    },
    {
     "data": {
      "text/plain": [
       "1100"
      ]
     },
     "metadata": {},
     "output_type": "display_data"
    },
    {
     "data": {
      "text/plain": [
       "'The Ben Shapiro Show Ep. 176 - Trump Has His Finest Hour'"
      ]
     },
     "metadata": {},
     "output_type": "display_data"
    },
    {
     "data": {
      "text/plain": [
       "1100"
      ]
     },
     "metadata": {},
     "output_type": "display_data"
    },
    {
     "data": {
      "text/plain": [
       "'The Ben Shapiro Show Ep. 175 - Trump Goes To Mexico! Taco Bowls For Everybody!'"
      ]
     },
     "metadata": {},
     "output_type": "display_data"
    },
    {
     "data": {
      "text/plain": [
       "1100"
      ]
     },
     "metadata": {},
     "output_type": "display_data"
    },
    {
     "data": {
      "text/plain": [
       "'The Ben Shapiro Show Ep. 174 - The Left Should Sit Next To Kaepernick For The National Anthem'"
      ]
     },
     "metadata": {},
     "output_type": "display_data"
    },
    {
     "data": {
      "text/plain": [
       "1100"
      ]
     },
     "metadata": {},
     "output_type": "display_data"
    },
    {
     "data": {
      "text/plain": [
       "'The Ben Shapiro Show Ep. 173 - Hillary Should Sit For The National Anthem, Too'"
      ]
     },
     "metadata": {},
     "output_type": "display_data"
    },
    {
     "data": {
      "text/plain": [
       "1100"
      ]
     },
     "metadata": {},
     "output_type": "display_data"
    },
    {
     "data": {
      "text/plain": [
       "'The Ben Shapiro Show Ep. 172 - Hillary Pulls The KKK Card'"
      ]
     },
     "metadata": {},
     "output_type": "display_data"
    },
    {
     "data": {
      "text/plain": [
       "1100"
      ]
     },
     "metadata": {},
     "output_type": "display_data"
    },
    {
     "data": {
      "text/plain": [
       "'The Ben Shapiro Show Ep. 171 - The Government Goes Nuts For Transgenderism'"
      ]
     },
     "metadata": {},
     "output_type": "display_data"
    },
    {
     "data": {
      "text/plain": [
       "1100"
      ]
     },
     "metadata": {},
     "output_type": "display_data"
    },
    {
     "data": {
      "text/plain": [
       "'The Ben Shapiro Show Ep. 170 - Hillary Clinton Opens a Pickle Jar, and Other Miracles!'"
      ]
     },
     "metadata": {},
     "output_type": "display_data"
    },
    {
     "data": {
      "text/plain": [
       "1100"
      ]
     },
     "metadata": {},
     "output_type": "display_data"
    },
    {
     "data": {
      "text/plain": [
       "\"The Ben Shapiro Show Ep. 169 - Weekend At Hillary's\""
      ]
     },
     "metadata": {},
     "output_type": "display_data"
    },
    {
     "data": {
      "text/plain": [
       "1100"
      ]
     },
     "metadata": {},
     "output_type": "display_data"
    },
    {
     "data": {
      "text/plain": [
       "\"The Ben Shapiro Show Ep. 168 - No, I'm Not Going To Lie For Trump\""
      ]
     },
     "metadata": {},
     "output_type": "display_data"
    },
    {
     "data": {
      "text/plain": [
       "1100"
      ]
     },
     "metadata": {},
     "output_type": "display_data"
    },
    {
     "data": {
      "text/plain": [
       "'The Ben Shapiro Show Ep. 167 - Category 5 Turd Tornado Warning'"
      ]
     },
     "metadata": {},
     "output_type": "display_data"
    },
    {
     "data": {
      "text/plain": [
       "1100"
      ]
     },
     "metadata": {},
     "output_type": "display_data"
    },
    {
     "data": {
      "text/plain": [
       "'The Ben Shapiro Show Ep. 166 - Democrats Give Away Nuclear Secrets, Nobody Cares'"
      ]
     },
     "metadata": {},
     "output_type": "display_data"
    },
    {
     "data": {
      "text/plain": [
       "1100"
      ]
     },
     "metadata": {},
     "output_type": "display_data"
    },
    {
     "data": {
      "text/plain": [
       "'The Ben Shapiro Show Ep. 165 - Milwaukee Burns, The Left Celebrates'"
      ]
     },
     "metadata": {},
     "output_type": "display_data"
    },
    {
     "data": {
      "text/plain": [
       "1100"
      ]
     },
     "metadata": {},
     "output_type": "display_data"
    },
    {
     "data": {
      "text/plain": [
       "\"The Ben Shapiro Show Ep. 164 - We're All Just Climbing Trump Tower, Man\""
      ]
     },
     "metadata": {},
     "output_type": "display_data"
    },
    {
     "data": {
      "text/plain": [
       "1100"
      ]
     },
     "metadata": {},
     "output_type": "display_data"
    },
    {
     "data": {
      "text/plain": [
       "'The Ben Shapiro Show Ep. 163 - Trump Speaks Conservatism As A Second Language'"
      ]
     },
     "metadata": {},
     "output_type": "display_data"
    },
    {
     "data": {
      "text/plain": [
       "1100"
      ]
     },
     "metadata": {},
     "output_type": "display_data"
    },
    {
     "data": {
      "text/plain": [
       "'The Ben Shapiro Show Ep. 162 - Hillary Hearts Daddy Terrorist'"
      ]
     },
     "metadata": {},
     "output_type": "display_data"
    },
    {
     "data": {
      "text/plain": [
       "1100"
      ]
     },
     "metadata": {},
     "output_type": "display_data"
    },
    {
     "data": {
      "text/plain": [
       "'The Ben Shapiro Show Ep. 161 - Hillary Short-Circuits, Trump Falls Apart'"
      ]
     },
     "metadata": {},
     "output_type": "display_data"
    },
    {
     "data": {
      "text/plain": [
       "1100"
      ]
     },
     "metadata": {},
     "output_type": "display_data"
    },
    {
     "data": {
      "text/plain": [
       "'The Ben Shapiro Show Ep. 160 - Good Trump/Bad Trump: The Revenge of The Donald'"
      ]
     },
     "metadata": {},
     "output_type": "display_data"
    },
    {
     "data": {
      "text/plain": [
       "1100"
      ]
     },
     "metadata": {},
     "output_type": "display_data"
    },
    {
     "data": {
      "text/plain": [
       "\"The Ben Shapiro Show Ep. 151 - Every Time A Cop Dies, Obama's Approval Rating Goes Up\""
      ]
     },
     "metadata": {},
     "output_type": "display_data"
    },
    {
     "data": {
      "text/plain": [
       "1100"
      ]
     },
     "metadata": {},
     "output_type": "display_data"
    },
    {
     "data": {
      "text/plain": [
       "'The Ben Shapiro Show Ep. 159 - Happy Monday! Everything Is Terrible.'"
      ]
     },
     "metadata": {},
     "output_type": "display_data"
    },
    {
     "data": {
      "text/plain": [
       "1100"
      ]
     },
     "metadata": {},
     "output_type": "display_data"
    },
    {
     "data": {
      "text/plain": [
       "'The Ben Shapiro Show Ep. 158 - Arrogant Obama Tries To Hand Off To Nasty Hillary'"
      ]
     },
     "metadata": {},
     "output_type": "display_data"
    },
    {
     "data": {
      "text/plain": [
       "1100"
      ]
     },
     "metadata": {},
     "output_type": "display_data"
    },
    {
     "data": {
      "text/plain": [
       "'The Ben Shapiro Show Ep. 157 - Bill Clinton Blows It. Oops, Poor Choice Of Words.'"
      ]
     },
     "metadata": {},
     "output_type": "display_data"
    },
    {
     "data": {
      "text/plain": [
       "1100"
      ]
     },
     "metadata": {},
     "output_type": "display_data"
    },
    {
     "data": {
      "text/plain": [
       "'The Ben Shapiro Show Ep. 155 - Democrats Go Full Dumpster Fire at DNC'"
      ]
     },
     "metadata": {},
     "output_type": "display_data"
    },
    {
     "data": {
      "text/plain": [
       "1100"
      ]
     },
     "metadata": {},
     "output_type": "display_data"
    },
    {
     "data": {
      "text/plain": [
       "'The Ben Shapiro Show Ep. 156 - Democrats Lose Their Minds, Maybe The Election'"
      ]
     },
     "metadata": {},
     "output_type": "display_data"
    },
    {
     "data": {
      "text/plain": [
       "1100"
      ]
     },
     "metadata": {},
     "output_type": "display_data"
    },
    {
     "data": {
      "text/plain": [
       "'The Ben Shapiro Show Ep. 154 - Cruz vs. Trump: The Ultimate Showdown'"
      ]
     },
     "metadata": {},
     "output_type": "display_data"
    },
    {
     "data": {
      "text/plain": [
       "1100"
      ]
     },
     "metadata": {},
     "output_type": "display_data"
    },
    {
     "data": {
      "text/plain": [
       "'The Ben Shapiro Show Ep. 153 - Media Hear True Things About Hillary, Lose Their Minds'"
      ]
     },
     "metadata": {},
     "output_type": "display_data"
    },
    {
     "data": {
      "text/plain": [
       "1100"
      ]
     },
     "metadata": {},
     "output_type": "display_data"
    },
    {
     "data": {
      "text/plain": [
       "'The Ben Shapiro Show Ep. 152 - Glitz, Glamor, Chaos — It’s RNC Time!'"
      ]
     },
     "metadata": {},
     "output_type": "display_data"
    },
    {
     "data": {
      "text/plain": [
       "1100"
      ]
     },
     "metadata": {},
     "output_type": "display_data"
    },
    {
     "data": {
      "text/plain": [
       "\"The Ben Shapiro Show Ep. 151 - Every Time A Cop Dies, Obama's Approval Rating Goes Up\""
      ]
     },
     "metadata": {},
     "output_type": "display_data"
    },
    {
     "data": {
      "text/plain": [
       "1100"
      ]
     },
     "metadata": {},
     "output_type": "display_data"
    },
    {
     "data": {
      "text/plain": [
       "'The Ben Shapiro Show Ep. 150 - President Uniter Meets With Race Riot Fans!'"
      ]
     },
     "metadata": {},
     "output_type": "display_data"
    },
    {
     "data": {
      "text/plain": [
       "1100"
      ]
     },
     "metadata": {},
     "output_type": "display_data"
    },
    {
     "data": {
      "text/plain": [
       "'The Ben Shapiro Show Ep. 149 - Obama Speaks in Dallas, Is a Terrible Person'"
      ]
     },
     "metadata": {},
     "output_type": "display_data"
    },
    {
     "data": {
      "text/plain": [
       "1100"
      ]
     },
     "metadata": {},
     "output_type": "display_data"
    },
    {
     "data": {
      "text/plain": [
       "'The Ben Shapiro Show Ep. 147 - Racist, Lawless Obama Lies About Racism, Cops'"
      ]
     },
     "metadata": {},
     "output_type": "display_data"
    },
    {
     "data": {
      "text/plain": [
       "1100"
      ]
     },
     "metadata": {},
     "output_type": "display_data"
    },
    {
     "data": {
      "text/plain": [
       "'The Ben Shapiro Show Ep. 148 - Obama Blackmails Cops, Then Stands On Their Graves'"
      ]
     },
     "metadata": {},
     "output_type": "display_data"
    },
    {
     "data": {
      "text/plain": [
       "1100"
      ]
     },
     "metadata": {},
     "output_type": "display_data"
    },
    {
     "data": {
      "text/plain": [
       "'The Ben Shapiro Show Ep. 146 - The FBI Defended Hillary By Destroying The Law'"
      ]
     },
     "metadata": {},
     "output_type": "display_data"
    },
    {
     "data": {
      "text/plain": [
       "1100"
      ]
     },
     "metadata": {},
     "output_type": "display_data"
    },
    {
     "data": {
      "text/plain": [
       "'The Ben Shapiro Show Ep. 145 - Hillary Lied, Media Focus on Trump'"
      ]
     },
     "metadata": {},
     "output_type": "display_data"
    },
    {
     "data": {
      "text/plain": [
       "1100"
      ]
     },
     "metadata": {},
     "output_type": "display_data"
    },
    {
     "data": {
      "text/plain": [
       "\"The Ben Shapiro Show Ep. 144 - Hillary's Not Going To Jail, Because America Is Toast\""
      ]
     },
     "metadata": {},
     "output_type": "display_data"
    },
    {
     "data": {
      "text/plain": [
       "1100"
      ]
     },
     "metadata": {},
     "output_type": "display_data"
    },
    {
     "data": {
      "text/plain": [
       "\"The Ben Shapiro Show Ep. 143 - Hillary Won't Be Indicted, The Fix Is In\""
      ]
     },
     "metadata": {},
     "output_type": "display_data"
    },
    {
     "data": {
      "text/plain": [
       "1100"
      ]
     },
     "metadata": {},
     "output_type": "display_data"
    }
   ],
   "source": [
    "import csv\n",
    "video =1\n",
    "comment =0\n",
    "reply =0\n",
    "comment_op=''\n",
    "reply_op=''\n",
    "transcript = ''\n",
    "date_scrape = datetime.datetime.now(new_timezone).strftime(\"%Y_%m_%d_%H_%M_%S\")       \n",
    "cutoff_date = datetime.datetime(2018, 12, 2, 0, 0, 0, tzinfo=new_timezone)\n",
    "nextPageToken=''\n",
    "max_results=50\n",
    "#  delimiter=',', quotechar='\"', quoting=csv.QUOTE_ALL)\n",
    "with open('batch1_shapiro.csv', 'w', newline='') as csvfile:\n",
    "    fieldnames = ['index', 'video_id','video_url',\n",
    "                 'video_title',\"channel\",'series','video_snippet',\n",
    "                 'video','comment','reply','video_op',\n",
    "                 'comment_op','reply_op','date_posted',\n",
    "                 'content','date_scrape']\n",
    "    writer = csv.DictWriter(csvfile, fieldnames=fieldnames,\n",
    "            delimiter=',', quotechar='\"', quoting=csv.QUOTE_ALL)\n",
    "    writer.writeheader()\n",
    "    for i in range(int(video_count/max_results) +1):\n",
    "        result_vids = service.playlistItems().list(\n",
    "            playlistId=playlist_id,part='snippet,contentDetails',\n",
    "            maxResults=max_results,pageToken=nextPageToken).execute()\n",
    "        for result_item in result_vids['items'] :\n",
    "            video_date_posted = result_item['contentDetails']['videoPublishedAt']\n",
    "            video_date_posted_iso = dateutil.parser.parse(video_date_posted).astimezone(new_timezone)\n",
    "            if(cutoff_date<video_date_posted_iso):\n",
    "                continue\n",
    "            video_date_posted = video_date_posted_iso.strftime(\"%Y_%m_%d_%H_%M_%S\")\n",
    "            video_id = result_item['contentDetails']['videoId']\n",
    "            #     video_index = \n",
    "            video_index = result_item['snippet']['position']\n",
    "            video_title = result_item['snippet']['title']\n",
    "            video_snippet = result_item['snippet']['description']    \n",
    "            video_op =result_item['snippet']['channelTitle']\n",
    "            my_url='https://www.youtube.com/watch?v=%s' %(video_id)\n",
    "#             vid_idx=i*max_results + int(video_index)\n",
    "            display(video_title,vid_idx)\n",
    "\n",
    "            x =  { \"index\": video_index,\"video_id\": video_id, \"video_url\":my_url,\n",
    "                \"video_title\":video_title, \"channel\":channel_title,\n",
    "                \"series\":series, \"video_snippet\":video_snippet,\n",
    "                \"video\":video,\"comment\":comment,\"reply\":reply,\n",
    "                \"video_op\":video_op, \"comment_op\":comment_op,\n",
    "                \"reply_op\":reply_op,\"date_posted\":video_date_posted,\n",
    "                \"content\":transcript,\"date_scrape\":date_scrape}   \n",
    "            writer.writerow(x)\n",
    "            try:\n",
    "                nextPageToken = result_vids['nextPageToken']\n",
    "            \n",
    "            except:\n",
    "                \"End of list\"\n",
    "\n",
    "\n",
    "        "
   ]
  },
  {
   "cell_type": "code",
   "execution_count": 292,
   "metadata": {},
   "outputs": [
    {
     "data": {
      "text/plain": [
       "'2018_12_10_15_07_09'"
      ]
     },
     "metadata": {},
     "output_type": "display_data"
    },
    {
     "data": {
      "text/plain": [
       "False"
      ]
     },
     "metadata": {},
     "output_type": "display_data"
    }
   ],
   "source": [
    "video =1\n",
    "comment =0\n",
    "reply =0\n",
    "comment_op=''\n",
    "reply_op=''\n",
    "transcript = ''\n",
    "cutoff_date = datetime.datetime(2018, 12, 2, 0, 0, 0, tzinfo=new_timezone)\n",
    "date_scrape = datetime.datetime.now(new_timezone).strftime(\"%Y_%m_%d_%H_%M_%S\")       \n",
    "result_vids = service.playlistItems().list(\n",
    "    playlistId=playlist_id,part='snippet,contentDetails',\n",
    "    maxResults=1).execute()\n",
    "for result_item in result_vids['items'] :\n",
    "    video_id = result_item['contentDetails']['videoId']\n",
    "    #     video_index = \n",
    "    video_index = result_item['snippet']['position']\n",
    "    video_title = result_item['snippet']['title']\n",
    "    video_snippet = result_item['snippet']['description']    \n",
    "    video_op =result_item['snippet']['channelTitle']\n",
    "    video_date_posted = result_item['contentDetails']['videoPublishedAt']\n",
    "    video_date_posted_iso = dateutil.parser.parse(video_date_posted).astimezone(new_timezone)\n",
    "    video_date_posted = video_date_posted_iso.strftime(\"%Y_%m_%d_%H_%M_%S\")\n",
    "    display(video_date_posted)\n",
    "    display(video_date_posted_iso<cutoff_date)\n",
    "    my_url='https://www.youtube.com/watch?v=%s' %(video_id)\n",
    "# nextPageToken = result_vids['nextPageToken']\n",
    "    x =  { \"video_id\": video_id, \"video_url\":my_url,\n",
    "        \"video_title\":video_title, \"channel\":channel_title,\n",
    "        \"series\":series, \"video_snippet\":video_snippet,\n",
    "        \"video\":video,\"comment\":comment,\"reply\":reply,\n",
    "        \"video_op\":video_op, \"comment_op\":comment_op,\n",
    "        \"reply_op\":reply_op,\"date_posted\":video_date_posted,\n",
    "        \"content\":transcript,\"date_scrape\":date_scrape}        "
   ]
  },
  {
   "cell_type": "code",
   "execution_count": 286,
   "metadata": {},
   "outputs": [],
   "source": [
    "video_date_posted = dateutil.parser.parse(video_date_posted)\n"
   ]
  },
  {
   "cell_type": "code",
   "execution_count": 287,
   "metadata": {},
   "outputs": [
    {
     "data": {
      "text/plain": [
       "datetime.datetime(2018, 12, 10, 20, 7, 9, tzinfo=tzlocal())"
      ]
     },
     "execution_count": 287,
     "metadata": {},
     "output_type": "execute_result"
    }
   ],
   "source": [
    "video_date_posted"
   ]
  },
  {
   "cell_type": "code",
   "execution_count": 289,
   "metadata": {},
   "outputs": [],
   "source": []
  },
  {
   "cell_type": "code",
   "execution_count": 290,
   "metadata": {},
   "outputs": [
    {
     "data": {
      "text/plain": [
       "False"
      ]
     },
     "execution_count": 290,
     "metadata": {},
     "output_type": "execute_result"
    }
   ],
   "source": [
    "video_date_posted<cutoff_date"
   ]
  },
  {
   "cell_type": "code",
   "execution_count": null,
   "metadata": {},
   "outputs": [],
   "source": []
  },
  {
   "cell_type": "code",
   "execution_count": 274,
   "metadata": {},
   "outputs": [],
   "source": [
    "# type(video_date_posted)\n",
    "\n"
   ]
  },
  {
   "cell_type": "code",
   "execution_count": 275,
   "metadata": {},
   "outputs": [],
   "source": []
  },
  {
   "cell_type": "code",
   "execution_count": 267,
   "metadata": {},
   "outputs": [
    {
     "data": {
      "text/plain": [
       "datetime.datetime(2018, 12, 7, 19, 40, 22, tzinfo=tzlocal())"
      ]
     },
     "execution_count": 267,
     "metadata": {},
     "output_type": "execute_result"
    }
   ],
   "source": [
    "yourdate"
   ]
  },
  {
   "cell_type": "code",
   "execution_count": 243,
   "metadata": {},
   "outputs": [
    {
     "data": {
      "text/plain": [
       "{'kind': 'youtube#videoListResponse',\n",
       " 'etag': '\"XI7nbFXulYBIpL0ayR_gDh3eu1k/d8rII-DZCoK_gwLHvKam-IiO3KA\"',\n",
       " 'pageInfo': {'totalResults': 1, 'resultsPerPage': 1},\n",
       " 'items': [{'kind': 'youtube#video',\n",
       "   'etag': '\"XI7nbFXulYBIpL0ayR_gDh3eu1k/Oszfegy23xOCl9KB4FqTqpvoCjs\"',\n",
       "   'id': 'CjO_RFABRPY',\n",
       "   'snippet': {'publishedAt': '2018-12-07T19:40:22.000Z',\n",
       "    'channelId': 'UCaeO5vkdj5xOQHp4UmIN6dw',\n",
       "    'title': 'Shot Through The Hart | The Ben Shapiro Show Ep. 675',\n",
       "    'description': 'Kevin Hart loses his Oscar gig, Democrats fulminate over voter fraud in North Carolina, and we check the mailbag.\\n\\nTo watch the full show live, become a premium subscriber. Join the team!\\xa0https://www.dailywire.com/subscribe\\nLike this video?\\xa0For more Ben Shapiro and Daily Wire content, subscribe to this channel and the Ben Shapiro YouTube channel\\xa0youtube.com/c/benshapiro\\xa0and ring the bell for notifications so you never miss a story!',\n",
       "    'thumbnails': {'default': {'url': 'https://i.ytimg.com/vi/CjO_RFABRPY/default.jpg',\n",
       "      'width': 120,\n",
       "      'height': 90},\n",
       "     'medium': {'url': 'https://i.ytimg.com/vi/CjO_RFABRPY/mqdefault.jpg',\n",
       "      'width': 320,\n",
       "      'height': 180},\n",
       "     'high': {'url': 'https://i.ytimg.com/vi/CjO_RFABRPY/hqdefault.jpg',\n",
       "      'width': 480,\n",
       "      'height': 360},\n",
       "     'standard': {'url': 'https://i.ytimg.com/vi/CjO_RFABRPY/sddefault.jpg',\n",
       "      'width': 640,\n",
       "      'height': 480},\n",
       "     'maxres': {'url': 'https://i.ytimg.com/vi/CjO_RFABRPY/maxresdefault.jpg',\n",
       "      'width': 1280,\n",
       "      'height': 720}},\n",
       "    'channelTitle': 'The Daily Wire',\n",
       "    'tags': ['Democrats',\n",
       "     'Republicans',\n",
       "     'Politics',\n",
       "     'Left-Wing',\n",
       "     'Right-Wing',\n",
       "     'The Ben Shapiro Show',\n",
       "     'Ben Shapiro',\n",
       "     'Andrew Klavan',\n",
       "     'Michael Knowles',\n",
       "     'The Daily Wire',\n",
       "     'Trump',\n",
       "     'Donald Trump',\n",
       "     'CNN',\n",
       "     'Kevin Hart',\n",
       "     'Academy Awards',\n",
       "     'Nancy Pelosi',\n",
       "     'Charles Schumer',\n",
       "     'Joe Biden'],\n",
       "    'categoryId': '24',\n",
       "    'liveBroadcastContent': 'none',\n",
       "    'localized': {'title': 'Shot Through The Hart | The Ben Shapiro Show Ep. 675',\n",
       "     'description': 'Kevin Hart loses his Oscar gig, Democrats fulminate over voter fraud in North Carolina, and we check the mailbag.\\n\\nTo watch the full show live, become a premium subscriber. Join the team!\\xa0https://www.dailywire.com/subscribe\\nLike this video?\\xa0For more Ben Shapiro and Daily Wire content, subscribe to this channel and the Ben Shapiro YouTube channel\\xa0youtube.com/c/benshapiro\\xa0and ring the bell for notifications so you never miss a story!'},\n",
       "    'defaultAudioLanguage': 'en'},\n",
       "   'contentDetails': {'duration': 'PT1H1M31S',\n",
       "    'dimension': '2d',\n",
       "    'definition': 'hd',\n",
       "    'caption': 'false',\n",
       "    'licensedContent': True,\n",
       "    'projection': 'rectangular'}}]}"
      ]
     },
     "execution_count": 243,
     "metadata": {},
     "output_type": "execute_result"
    }
   ],
   "source": [
    "result_vid"
   ]
  },
  {
   "cell_type": "code",
   "execution_count": 21,
   "metadata": {},
   "outputs": [
    {
     "data": {
      "text/plain": [
       "{'kind': 'youtube#playlistItemListResponse',\n",
       " 'etag': '\"XI7nbFXulYBIpL0ayR_gDh3eu1k/ymhVcnnVlQUYcNQg2V_FzWjbwx4\"',\n",
       " 'nextPageToken': 'CAEQAA',\n",
       " 'pageInfo': {'totalResults': 682, 'resultsPerPage': 1},\n",
       " 'items': [{'kind': 'youtube#playlistItem',\n",
       "   'etag': '\"XI7nbFXulYBIpL0ayR_gDh3eu1k/XfnVfGIj0u8fnx6PjuEvndyvgPM\"',\n",
       "   'id': 'VVVuUUNfRzVYc2pocDlmRUpLdUljclN3LnNLN2V1T09RSy00',\n",
       "   'snippet': {'publishedAt': '2018-12-09T13:00:05.000Z',\n",
       "    'channelId': 'UCnQC_G5Xsjhp9fEJKuIcrSw',\n",
       "    'title': 'Sunday Special Ep 30: David Limbaugh',\n",
       "    'description': 'Author and columnist David Limbaugh joins Ben to discuss how Christianity and Judaism have shaped America, how his thinking on Donald Trump has changed since 2016, and whether 2020 will be better than 2018 for Republicans.\\n\\nSubscribe to the Daily Wire to watch the bonus question! https://bit.ly/2q0wopL\\n\\nCheck Ben out on:\\nDaily Wire website: www.dailywire.com\\nFacebook: https://www.facebook.com/officialbenshapiro\\nTwitter: https://twitter.com/benshapiro\\nInstagram: @officialbenshapiro\\n \\nCheck David Limbaugh out on:\\nTwitter: https://twitter.com/davidlimbaugh',\n",
       "    'thumbnails': {'default': {'url': 'https://i.ytimg.com/vi/sK7euOOQK-4/default.jpg',\n",
       "      'width': 120,\n",
       "      'height': 90},\n",
       "     'medium': {'url': 'https://i.ytimg.com/vi/sK7euOOQK-4/mqdefault.jpg',\n",
       "      'width': 320,\n",
       "      'height': 180},\n",
       "     'high': {'url': 'https://i.ytimg.com/vi/sK7euOOQK-4/hqdefault.jpg',\n",
       "      'width': 480,\n",
       "      'height': 360},\n",
       "     'standard': {'url': 'https://i.ytimg.com/vi/sK7euOOQK-4/sddefault.jpg',\n",
       "      'width': 640,\n",
       "      'height': 480},\n",
       "     'maxres': {'url': 'https://i.ytimg.com/vi/sK7euOOQK-4/maxresdefault.jpg',\n",
       "      'width': 1280,\n",
       "      'height': 720}},\n",
       "    'channelTitle': 'Ben Shapiro',\n",
       "    'playlistId': 'UUnQC_G5Xsjhp9fEJKuIcrSw',\n",
       "    'position': 0,\n",
       "    'resourceId': {'kind': 'youtube#video', 'videoId': 'sK7euOOQK-4'}},\n",
       "   'contentDetails': {'videoId': 'sK7euOOQK-4',\n",
       "    'videoPublishedAt': '2018-12-09T13:00:05.000Z'}}]}"
      ]
     },
     "execution_count": 21,
     "metadata": {},
     "output_type": "execute_result"
    }
   ],
   "source": [
    "# video_id\n",
    "result_vids"
   ]
  },
  {
   "cell_type": "code",
   "execution_count": 30,
   "metadata": {},
   "outputs": [],
   "source": [
    "total_vids = result_vids['pageInfo']['totalResults']"
   ]
  },
  {
   "cell_type": "code",
   "execution_count": 44,
   "metadata": {},
   "outputs": [],
   "source": [
    "max_results=50"
   ]
  },
  {
   "cell_type": "code",
   "execution_count": 46,
   "metadata": {},
   "outputs": [
    {
     "name": "stdout",
     "output_type": "stream",
     "text": [
      "0 to 50\n"
     ]
    }
   ],
   "source": [
    "for i_page in range(int(total_vids/max_results)):\n",
    "    print(str(i_page * max_results) + ' to ' + str((i_page+1)*max_results))"
   ]
  },
  {
   "cell_type": "code",
   "execution_count": 20,
   "metadata": {},
   "outputs": [
    {
     "data": {
      "text/plain": [
       "'sK7euOOQK-4'"
      ]
     },
     "execution_count": 20,
     "metadata": {},
     "output_type": "execute_result"
    }
   ],
   "source": []
  },
  {
   "cell_type": "markdown",
   "metadata": {},
   "source": [
    "# Parse a single Video"
   ]
  },
  {
   "cell_type": "code",
   "execution_count": 11,
   "metadata": {},
   "outputs": [],
   "source": [
    "video_id = 'sK7euOOQK-4'\n",
    "my_url='https://www.youtube.com/watch?v=%s' %(video_id)"
   ]
  },
  {
   "cell_type": "code",
   "execution_count": 12,
   "metadata": {},
   "outputs": [
    {
     "data": {
      "text/plain": [
       "'https://www.youtube.com/watch?v=sK7euOOQK-4'"
      ]
     },
     "execution_count": 12,
     "metadata": {},
     "output_type": "execute_result"
    }
   ],
   "source": [
    "my_url"
   ]
  },
  {
   "cell_type": "code",
   "execution_count": 14,
   "metadata": {},
   "outputs": [],
   "source": [
    "individual_vid = service.videos().list(\\\n",
    "id='sK7euOOQK-4',part='snippet,contentDetails').execute()\n",
    "                                           "
   ]
  },
  {
   "cell_type": "code",
   "execution_count": 15,
   "metadata": {},
   "outputs": [
    {
     "data": {
      "text/plain": [
       "{'kind': 'youtube#videoListResponse',\n",
       " 'etag': '\"XI7nbFXulYBIpL0ayR_gDh3eu1k/iTZaw3UujcGDtlci2Y2JsYTt82M\"',\n",
       " 'pageInfo': {'totalResults': 1, 'resultsPerPage': 1},\n",
       " 'items': [{'kind': 'youtube#video',\n",
       "   'etag': '\"XI7nbFXulYBIpL0ayR_gDh3eu1k/2DQo9D-gAQH3P_sbRk6K6ltZXSo\"',\n",
       "   'id': 'sK7euOOQK-4',\n",
       "   'snippet': {'publishedAt': '2018-12-09T13:00:05.000Z',\n",
       "    'channelId': 'UCnQC_G5Xsjhp9fEJKuIcrSw',\n",
       "    'title': 'Sunday Special Ep 30: David Limbaugh',\n",
       "    'description': 'Author and columnist David Limbaugh joins Ben to discuss how Christianity and Judaism have shaped America, how his thinking on Donald Trump has changed since 2016, and whether 2020 will be better than 2018 for Republicans.\\n\\nSubscribe to the Daily Wire to watch the bonus question! https://bit.ly/2q0wopL\\n\\nCheck Ben out on:\\nDaily Wire website: www.dailywire.com\\nFacebook: https://www.facebook.com/officialbenshapiro\\nTwitter: https://twitter.com/benshapiro\\nInstagram: @officialbenshapiro\\n \\nCheck David Limbaugh out on:\\nTwitter: https://twitter.com/davidlimbaugh',\n",
       "    'thumbnails': {'default': {'url': 'https://i.ytimg.com/vi/sK7euOOQK-4/default.jpg',\n",
       "      'width': 120,\n",
       "      'height': 90},\n",
       "     'medium': {'url': 'https://i.ytimg.com/vi/sK7euOOQK-4/mqdefault.jpg',\n",
       "      'width': 320,\n",
       "      'height': 180},\n",
       "     'high': {'url': 'https://i.ytimg.com/vi/sK7euOOQK-4/hqdefault.jpg',\n",
       "      'width': 480,\n",
       "      'height': 360},\n",
       "     'standard': {'url': 'https://i.ytimg.com/vi/sK7euOOQK-4/sddefault.jpg',\n",
       "      'width': 640,\n",
       "      'height': 480},\n",
       "     'maxres': {'url': 'https://i.ytimg.com/vi/sK7euOOQK-4/maxresdefault.jpg',\n",
       "      'width': 1280,\n",
       "      'height': 720}},\n",
       "    'channelTitle': 'Ben Shapiro',\n",
       "    'tags': ['ben shapiro',\n",
       "     'the ben shapiro show',\n",
       "     'sunday special',\n",
       "     'david limbaugh',\n",
       "     'christianity',\n",
       "     'judaism',\n",
       "     'america',\n",
       "     'donald trump',\n",
       "     'democrats',\n",
       "     'republicans',\n",
       "     'the daily wire',\n",
       "     'daily wire',\n",
       "     'David Limbaugh',\n",
       "     'Ben Shapiro',\n",
       "     'The Ben Shapiro Show',\n",
       "     'Daily Wire',\n",
       "     'Sunday Special',\n",
       "     'morality',\n",
       "     'word of God',\n",
       "     'church',\n",
       "     'conversion',\n",
       "     'Israel',\n",
       "     'saint',\n",
       "     'sinner',\n",
       "     'politics',\n",
       "     'Trump',\n",
       "     'Trump 2020',\n",
       "     'Leftism',\n",
       "     'the Left',\n",
       "     'theocracy'],\n",
       "    'categoryId': '25',\n",
       "    'liveBroadcastContent': 'none',\n",
       "    'localized': {'title': 'Sunday Special Ep 30: David Limbaugh',\n",
       "     'description': 'Author and columnist David Limbaugh joins Ben to discuss how Christianity and Judaism have shaped America, how his thinking on Donald Trump has changed since 2016, and whether 2020 will be better than 2018 for Republicans.\\n\\nSubscribe to the Daily Wire to watch the bonus question! https://bit.ly/2q0wopL\\n\\nCheck Ben out on:\\nDaily Wire website: www.dailywire.com\\nFacebook: https://www.facebook.com/officialbenshapiro\\nTwitter: https://twitter.com/benshapiro\\nInstagram: @officialbenshapiro\\n \\nCheck David Limbaugh out on:\\nTwitter: https://twitter.com/davidlimbaugh'},\n",
       "    'defaultAudioLanguage': 'en'},\n",
       "   'contentDetails': {'duration': 'PT51M18S',\n",
       "    'dimension': '2d',\n",
       "    'definition': 'hd',\n",
       "    'caption': 'false',\n",
       "    'licensedContent': False,\n",
       "    'projection': 'rectangular'}}]}"
      ]
     },
     "execution_count": 15,
     "metadata": {},
     "output_type": "execute_result"
    }
   ],
   "source": [
    "individual_vid"
   ]
  },
  {
   "cell_type": "code",
   "execution_count": 23,
   "metadata": {},
   "outputs": [
    {
     "data": {
      "text/plain": [
       "'Sunday Special Ep 30: David Limbaugh'"
      ]
     },
     "execution_count": 23,
     "metadata": {},
     "output_type": "execute_result"
    }
   ],
   "source": [
    "video_title =individual_vid['items'][0]['snippet']['title']\n",
    "video_title"
   ]
  },
  {
   "cell_type": "code",
   "execution_count": 31,
   "metadata": {},
   "outputs": [],
   "source": [
    "video =1\n",
    "comment=0\n",
    "reply=0"
   ]
  },
  {
   "cell_type": "code",
   "execution_count": 27,
   "metadata": {},
   "outputs": [
    {
     "data": {
      "text/plain": [
       "'2018-12-09T13:00:05.000Z'"
      ]
     },
     "execution_count": 27,
     "metadata": {},
     "output_type": "execute_result"
    }
   ],
   "source": [
    "video_date_posted =individual_vid['items'][0]['snippet']['publishedAt']\n",
    "video_date_posted"
   ]
  },
  {
   "cell_type": "code",
   "execution_count": null,
   "metadata": {},
   "outputs": [],
   "source": [
    "video_date_posted =individual_vid['items'][0]['snippet']['publishedAt']\n",
    "video_date_posted"
   ]
  },
  {
   "cell_type": "code",
   "execution_count": 47,
   "metadata": {},
   "outputs": [],
   "source": [
    "date_scrape = datetime.datetime.now(new_timezone).strftime(\"%Y_%m_%d_%H_%M_%S\")"
   ]
  },
  {
   "cell_type": "code",
   "execution_count": 46,
   "metadata": {},
   "outputs": [
    {
     "data": {
      "text/plain": [
       "'Ben Shapiro'"
      ]
     },
     "execution_count": 46,
     "metadata": {},
     "output_type": "execute_result"
    }
   ],
   "source": [
    "video_op =individual_vid['items'][0]['snippet']['channelTitle']\n",
    "comment_op=''\n",
    "reply_op=''\n",
    "video_op"
   ]
  },
  {
   "cell_type": "code",
   "execution_count": 45,
   "metadata": {},
   "outputs": [
    {
     "data": {
      "text/plain": [
       "'Author and columnist David Limbaugh joins Ben to discuss how Christianity and Judaism have shaped America, how his thinking on Donald Trump has changed since 2016, and whether 2020 will be better than 2018 for Republicans.\\n\\nSubscribe to the Daily Wire to watch the bonus question! https://bit.ly/2q0wopL\\n\\nCheck Ben out on:\\nDaily Wire website: www.dailywire.com\\nFacebook: https://www.facebook.com/officialbenshapiro\\nTwitter: https://twitter.com/benshapiro\\nInstagram: @officialbenshapiro\\n \\nCheck David Limbaugh out on:\\nTwitter: https://twitter.com/davidlimbaugh'"
      ]
     },
     "execution_count": 45,
     "metadata": {},
     "output_type": "execute_result"
    }
   ],
   "source": [
    "video_snippet = individual_vid['items'][0]['snippet']['description']\n",
    "video_snippet"
   ]
  },
  {
   "cell_type": "code",
   "execution_count": 51,
   "metadata": {},
   "outputs": [],
   "source": [
    "x =  { \"video_id\": video_id, \"video_url\":my_url,\\\n",
    "      \"video_title\":video_title, \\\n",
    "#       \"channel\":channel,\\\n",
    "#      \"series\":series, \\\n",
    "     \"video_snippet\":video_snippet,\\\n",
    "     \"video\":video,\"comment\":comment,\"reply\":reply,\\\n",
    "     \"video_op\":video_op, \"comment_op\":comment_op,\\\n",
    "     \"reply_op\":reply_op,\"date_posted\":video_date_posted,\\\n",
    "#      \"content\":transcript,\\\n",
    "      \"date_scrape\":date_scrape}"
   ]
  },
  {
   "cell_type": "code",
   "execution_count": 52,
   "metadata": {},
   "outputs": [
    {
     "data": {
      "text/plain": [
       "{'video_id': 'sK7euOOQK-4',\n",
       " 'video_url': 'https://www.youtube.com/watch?v=sK7euOOQK-4',\n",
       " 'video_title': 'Sunday Special Ep 30: David Limbaugh',\n",
       " 'video_snippet': 'Author and columnist David Limbaugh joins Ben to discuss how Christianity and Judaism have shaped America, how his thinking on Donald Trump has changed since 2016, and whether 2020 will be better than 2018 for Republicans.\\n\\nSubscribe to the Daily Wire to watch the bonus question! https://bit.ly/2q0wopL\\n\\nCheck Ben out on:\\nDaily Wire website: www.dailywire.com\\nFacebook: https://www.facebook.com/officialbenshapiro\\nTwitter: https://twitter.com/benshapiro\\nInstagram: @officialbenshapiro\\n \\nCheck David Limbaugh out on:\\nTwitter: https://twitter.com/davidlimbaugh',\n",
       " 'video': 1,\n",
       " 'comment': 0,\n",
       " 'reply': 0,\n",
       " 'video_op': 'Ben Shapiro',\n",
       " 'comment_op': '',\n",
       " 'reply_op': '',\n",
       " 'date_posted': '2018-12-09T13:00:05.000Z',\n",
       " 'date_scrape': '2018_12_10_07_14_17'}"
      ]
     },
     "execution_count": 52,
     "metadata": {},
     "output_type": "execute_result"
    }
   ],
   "source": [
    "x"
   ]
  },
  {
   "cell_type": "code",
   "execution_count": null,
   "metadata": {},
   "outputs": [],
   "source": []
  },
  {
   "cell_type": "code",
   "execution_count": null,
   "metadata": {},
   "outputs": [],
   "source": []
  },
  {
   "cell_type": "markdown",
   "metadata": {},
   "source": [
    "## Extract Comments"
   ]
  },
  {
   "cell_type": "code",
   "execution_count": 95,
   "metadata": {},
   "outputs": [],
   "source": [
    "result_comments= service.commentThreads().list(\n",
    "    part=\"snippet,replies\",\n",
    "    videoId=video_id,\n",
    "    textFormat=\"plainText\",\n",
    "    maxResults=100\n",
    "  ).execute()"
   ]
  },
  {
   "cell_type": "code",
   "execution_count": 54,
   "metadata": {},
   "outputs": [
    {
     "data": {
      "text/plain": [
       "1"
      ]
     },
     "execution_count": 54,
     "metadata": {},
     "output_type": "execute_result"
    }
   ],
   "source": [
    "result_comments['pageInfo']['totalResults']"
   ]
  },
  {
   "cell_type": "code",
   "execution_count": 55,
   "metadata": {},
   "outputs": [
    {
     "data": {
      "text/plain": [
       "{'kind': 'youtube#commentThreadListResponse',\n",
       " 'etag': '\"XI7nbFXulYBIpL0ayR_gDh3eu1k/R6US-T41ng5wGiw4-z4SvQo906U\"',\n",
       " 'nextPageToken': 'QURTSl9pMUJSNGI1clJmNVhlNEh4RFl3TlQ3T3RnVkVLaGlrd3hpcDI5TDQ3X2JfWF9Eemg2cnlkWmpkSEtaaDdGa05ENTdrZDJqaktic1dLRmVOd0NrT1RyN19xTEtLb0JORXF5UHN5Nk16bzVybGJTWUthMjR0bHROWU5XTlF1SXM=',\n",
       " 'pageInfo': {'totalResults': 1, 'resultsPerPage': 1},\n",
       " 'items': [{'kind': 'youtube#commentThread',\n",
       "   'etag': '\"XI7nbFXulYBIpL0ayR_gDh3eu1k/j2wr-NGhrxTtlJV8g8w6EuJCKWQ\"',\n",
       "   'id': 'Ugxs4x23BQyM4_bKaWh4AaABAg',\n",
       "   'snippet': {'videoId': 'sK7euOOQK-4',\n",
       "    'topLevelComment': {'kind': 'youtube#comment',\n",
       "     'etag': '\"XI7nbFXulYBIpL0ayR_gDh3eu1k/K_ZyBbCbe4Z5ER-UgE4XM0DtKSA\"',\n",
       "     'id': 'Ugxs4x23BQyM4_bKaWh4AaABAg',\n",
       "     'snippet': {'authorDisplayName': 'DomManInT1',\n",
       "      'authorProfileImageUrl': 'https://yt3.ggpht.com/-UeLVQy7FA-o/AAAAAAAAAAI/AAAAAAAAAAA/Ylc24g47Z3M/s28-c-k-no-mo-rj-c0xffffff/photo.jpg',\n",
       "      'authorChannelUrl': 'http://www.youtube.com/channel/UCXVjqsEe5M-W7Rh7sVQESwg',\n",
       "      'authorChannelId': {'value': 'UCXVjqsEe5M-W7Rh7sVQESwg'},\n",
       "      'videoId': 'sK7euOOQK-4',\n",
       "      'textDisplay': 'A lot of chattering, stuttering, and broken sentences from the guest. Not very persuasive.',\n",
       "      'textOriginal': 'A lot of chattering, stuttering, and broken sentences from the guest. Not very persuasive.',\n",
       "      'canRate': True,\n",
       "      'viewerRating': 'none',\n",
       "      'likeCount': 0,\n",
       "      'publishedAt': '2018-12-10T06:12:31.000Z',\n",
       "      'updatedAt': '2018-12-10T06:12:31.000Z'}},\n",
       "    'canReply': True,\n",
       "    'totalReplyCount': 0,\n",
       "    'isPublic': True}}]}"
      ]
     },
     "execution_count": 55,
     "metadata": {},
     "output_type": "execute_result"
    }
   ],
   "source": [
    "result_comments"
   ]
  },
  {
   "cell_type": "code",
   "execution_count": null,
   "metadata": {},
   "outputs": [],
   "source": [
    "result_comments"
   ]
  },
  {
   "cell_type": "code",
   "execution_count": 57,
   "metadata": {},
   "outputs": [],
   "source": [
    "video =0\n",
    "comment=1\n",
    "reply=0"
   ]
  },
  {
   "cell_type": "code",
   "execution_count": 70,
   "metadata": {},
   "outputs": [
    {
     "data": {
      "text/plain": [
       "'Ben Shapiro'"
      ]
     },
     "metadata": {},
     "output_type": "display_data"
    },
    {
     "data": {
      "text/plain": [
       "'DomManInT1'"
      ]
     },
     "metadata": {},
     "output_type": "display_data"
    }
   ],
   "source": [
    "video_op =video_op\n",
    "comment_op=result_comments['items'][0]['snippet']['topLevelComment']['snippet']['authorDisplayName']\n",
    "reply_op=''\n",
    "display(video_op)\n",
    "display(comment_op)"
   ]
  },
  {
   "cell_type": "code",
   "execution_count": 82,
   "metadata": {},
   "outputs": [],
   "source": [
    "comment_date_posted =result_comments['items'][0]['snippet']['topLevelComment']['snippet']['publishedAt']"
   ]
  },
  {
   "cell_type": "code",
   "execution_count": 89,
   "metadata": {},
   "outputs": [
    {
     "data": {
      "text/plain": [
       "'A lot of chattering, stuttering, and broken sentences from the guest. Not very persuasive.'"
      ]
     },
     "execution_count": 89,
     "metadata": {},
     "output_type": "execute_result"
    }
   ],
   "source": [
    "comment_content = result_comments['items'][0]['snippet']['topLevelComment']['snippet']['textOriginal']\n",
    "comment_content"
   ]
  },
  {
   "cell_type": "code",
   "execution_count": 90,
   "metadata": {},
   "outputs": [
    {
     "data": {
      "text/plain": [
       "{'video_id': 'sK7euOOQK-4',\n",
       " 'video_url': 'https://www.youtube.com/watch?v=sK7euOOQK-4',\n",
       " 'video_title': 'Sunday Special Ep 30: David Limbaugh',\n",
       " 'video_snippet': 'Author and columnist David Limbaugh joins Ben to discuss how Christianity and Judaism have shaped America, how his thinking on Donald Trump has changed since 2016, and whether 2020 will be better than 2018 for Republicans.\\n\\nSubscribe to the Daily Wire to watch the bonus question! https://bit.ly/2q0wopL\\n\\nCheck Ben out on:\\nDaily Wire website: www.dailywire.com\\nFacebook: https://www.facebook.com/officialbenshapiro\\nTwitter: https://twitter.com/benshapiro\\nInstagram: @officialbenshapiro\\n \\nCheck David Limbaugh out on:\\nTwitter: https://twitter.com/davidlimbaugh',\n",
       " 'video': 0,\n",
       " 'comment': 1,\n",
       " 'reply': 0,\n",
       " 'video_op': 'Ben Shapiro',\n",
       " 'comment_op': 'DomManInT1',\n",
       " 'reply_op': '',\n",
       " 'date_posted': '2018-12-10T06:12:31.000Z',\n",
       " 'content': 'A lot of chattering, stuttering, and broken sentences from the guest. Not very persuasive.',\n",
       " 'date_scrape': '2018_12_10_07_14_17'}"
      ]
     },
     "execution_count": 90,
     "metadata": {},
     "output_type": "execute_result"
    }
   ],
   "source": [
    "x =  { \"video_id\": video_id, \"video_url\":my_url,\\\n",
    "      \"video_title\":video_title, \\\n",
    "#       \"channel\":channel,\\\n",
    "#      \"series\":series, \\\n",
    "     \"video_snippet\":video_snippet,\\\n",
    "     \"video\":video,\"comment\":comment,\"reply\":reply,\\\n",
    "     \"video_op\":video_op, \"comment_op\":comment_op,\\\n",
    "     \"reply_op\":reply_op,\"date_posted\":comment_date_posted,\\\n",
    "     \"content\":comment_content,\\\n",
    "      \"date_scrape\":date_scrape}\n",
    "x"
   ]
  },
  {
   "cell_type": "code",
   "execution_count": null,
   "metadata": {},
   "outputs": [],
   "source": []
  },
  {
   "cell_type": "markdown",
   "metadata": {},
   "source": [
    "## Extract Reply"
   ]
  },
  {
   "cell_type": "code",
   "execution_count": null,
   "metadata": {},
   "outputs": [],
   "source": [
    "# result_comments['items'][0]['snippet']['totalReplyCount']"
   ]
  },
  {
   "cell_type": "code",
   "execution_count": 138,
   "metadata": {},
   "outputs": [
    {
     "data": {
      "text/plain": [
       "{'kind': 'youtube#commentThread',\n",
       " 'etag': '\"XI7nbFXulYBIpL0ayR_gDh3eu1k/FH1ujImpbefhkzjc2bVMiZfpabE\"',\n",
       " 'id': 'Ugwr8aTKL2Ac4B7szNV4AaABAg',\n",
       " 'snippet': {'videoId': 'sK7euOOQK-4',\n",
       "  'topLevelComment': {'kind': 'youtube#comment',\n",
       "   'etag': '\"XI7nbFXulYBIpL0ayR_gDh3eu1k/7zz--rViwwzKXfzl-auWtiMMTf8\"',\n",
       "   'id': 'Ugwr8aTKL2Ac4B7szNV4AaABAg',\n",
       "   'snippet': {'authorDisplayName': 'Devorah BatMiriamGoldaVMordecai Bayer',\n",
       "    'authorProfileImageUrl': 'https://yt3.ggpht.com/-eHEQ1TjpZ60/AAAAAAAAAAI/AAAAAAAAAAA/QmMPDTLj7ZA/s28-c-k-no-mo-rj-c0xffffff/photo.jpg',\n",
       "    'authorChannelUrl': 'http://www.youtube.com/channel/UCpGCxjLA9RBVi1vGT9vC2KQ',\n",
       "    'authorChannelId': {'value': 'UCpGCxjLA9RBVi1vGT9vC2KQ'},\n",
       "    'videoId': 'sK7euOOQK-4',\n",
       "    'textDisplay': 'Ben, sorry, I as a Torah observant Jew, can’t hold by followers of Yesha.',\n",
       "    'textOriginal': 'Ben, sorry, I as a Torah observant Jew, can’t hold by followers of Yesha.',\n",
       "    'canRate': True,\n",
       "    'viewerRating': 'none',\n",
       "    'likeCount': 2,\n",
       "    'publishedAt': '2018-12-09T15:20:31.000Z',\n",
       "    'updatedAt': '2018-12-09T15:20:31.000Z'}},\n",
       "  'canReply': True,\n",
       "  'totalReplyCount': 2,\n",
       "  'isPublic': True},\n",
       " 'replies': {'comments': [{'kind': 'youtube#comment',\n",
       "    'etag': '\"XI7nbFXulYBIpL0ayR_gDh3eu1k/WhiNROpnl-hMEwTuGsB9jp6ZteA\"',\n",
       "    'id': 'Ugwr8aTKL2Ac4B7szNV4AaABAg.8odTt8FaUJd8ofiluGyoh5',\n",
       "    'snippet': {'authorDisplayName': 'Jeh Jeh',\n",
       "     'authorProfileImageUrl': 'https://yt3.ggpht.com/-ervT61WBT-s/AAAAAAAAAAI/AAAAAAAAAAA/7iuVkptun2Q/s28-c-k-no-mo-rj-c0xffffff/photo.jpg',\n",
       "     'authorChannelUrl': 'http://www.youtube.com/channel/UCLQGSA8qFWY7KyoIk3qczew',\n",
       "     'authorChannelId': {'value': 'UCLQGSA8qFWY7KyoIk3qczew'},\n",
       "     'videoId': 'sK7euOOQK-4',\n",
       "     'textDisplay': \"Why? Yeshua was a Jew and went to temple. He never put down the Jews and came to take their sins upon him. I'm curious as to why the Jews stopped sacrificing live animals.\",\n",
       "     'textOriginal': \"Why? Yeshua was a Jew and went to temple. He never put down the Jews and came to take their sins upon him. I'm curious as to why the Jews stopped sacrificing live animals.\",\n",
       "     'parentId': 'Ugwr8aTKL2Ac4B7szNV4AaABAg',\n",
       "     'canRate': True,\n",
       "     'viewerRating': 'none',\n",
       "     'likeCount': 0,\n",
       "     'publishedAt': '2018-12-10T12:17:49.000Z',\n",
       "     'updatedAt': '2018-12-10T12:19:14.000Z'}},\n",
       "   {'kind': 'youtube#comment',\n",
       "    'etag': '\"XI7nbFXulYBIpL0ayR_gDh3eu1k/ivZkfQIa50gvhqmpB3yH3NhbCo8\"',\n",
       "    'id': 'Ugwr8aTKL2Ac4B7szNV4AaABAg.8odTt8FaUJd8oe7JJzmyJf',\n",
       "    'snippet': {'authorDisplayName': 'Mr Incognito',\n",
       "     'authorProfileImageUrl': 'https://yt3.ggpht.com/-fIFea80xnCU/AAAAAAAAAAI/AAAAAAAAAAA/PlGvINTOQpA/s28-c-k-no-mo-rj-c0xffffff/photo.jpg',\n",
       "     'authorChannelUrl': 'http://www.youtube.com/channel/UCTzg_LZdxvu3ZxweOVmykNQ',\n",
       "     'authorChannelId': {'value': 'UCTzg_LZdxvu3ZxweOVmykNQ'},\n",
       "     'videoId': 'sK7euOOQK-4',\n",
       "     'textDisplay': 'That just shows your inability to perform due diligence.',\n",
       "     'textOriginal': 'That just shows your inability to perform due diligence.',\n",
       "     'parentId': 'Ugwr8aTKL2Ac4B7szNV4AaABAg',\n",
       "     'canRate': True,\n",
       "     'viewerRating': 'none',\n",
       "     'likeCount': 1,\n",
       "     'publishedAt': '2018-12-09T21:22:29.000Z',\n",
       "     'updatedAt': '2018-12-09T21:22:29.000Z'}}]}}"
      ]
     },
     "metadata": {},
     "output_type": "display_data"
    }
   ],
   "source": [
    "for x in result_comments['items']:\n",
    "    if (x['snippet']['totalReplyCount']>1):\n",
    "#     'dfdf'.\n",
    "#         print(x)\n",
    "        display(x)\n",
    "        test=x\n",
    "        break\n",
    "# result_comments['items'][0]['id']"
   ]
  },
  {
   "cell_type": "code",
   "execution_count": 139,
   "metadata": {},
   "outputs": [
    {
     "data": {
      "text/plain": [
       "'Jeh Jeh'"
      ]
     },
     "execution_count": 139,
     "metadata": {},
     "output_type": "execute_result"
    }
   ],
   "source": [
    "reply_op = x['replies']['comments'][0]['snippet']['authorDisplayName']\n",
    "reply_op"
   ]
  },
  {
   "cell_type": "code",
   "execution_count": 140,
   "metadata": {},
   "outputs": [
    {
     "data": {
      "text/plain": [
       "\"Why? Yeshua was a Jew and went to temple. He never put down the Jews and came to take their sins upon him. I'm curious as to why the Jews stopped sacrificing live animals.\""
      ]
     },
     "execution_count": 140,
     "metadata": {},
     "output_type": "execute_result"
    }
   ],
   "source": [
    "reply_content = x['replies']['comments'][0]['snippet']['textOriginal']\n",
    "reply_content"
   ]
  },
  {
   "cell_type": "code",
   "execution_count": 141,
   "metadata": {},
   "outputs": [
    {
     "data": {
      "text/plain": [
       "'2018-12-10T12:17:49.000Z'"
      ]
     },
     "execution_count": 141,
     "metadata": {},
     "output_type": "execute_result"
    }
   ],
   "source": [
    "reply_date_posted = x['replies']['comments'][0]['snippet']['publishedAt']\n",
    "reply_date_posted"
   ]
  },
  {
   "cell_type": "code",
   "execution_count": 142,
   "metadata": {},
   "outputs": [],
   "source": [
    "video =0\n",
    "comment=0\n",
    "reply=1"
   ]
  },
  {
   "cell_type": "code",
   "execution_count": 143,
   "metadata": {},
   "outputs": [
    {
     "data": {
      "text/plain": [
       "{'video_id': 'sK7euOOQK-4',\n",
       " 'video_url': 'https://www.youtube.com/watch?v=sK7euOOQK-4',\n",
       " 'video_title': 'Sunday Special Ep 30: David Limbaugh',\n",
       " 'video_snippet': 'Author and columnist David Limbaugh joins Ben to discuss how Christianity and Judaism have shaped America, how his thinking on Donald Trump has changed since 2016, and whether 2020 will be better than 2018 for Republicans.\\n\\nSubscribe to the Daily Wire to watch the bonus question! https://bit.ly/2q0wopL\\n\\nCheck Ben out on:\\nDaily Wire website: www.dailywire.com\\nFacebook: https://www.facebook.com/officialbenshapiro\\nTwitter: https://twitter.com/benshapiro\\nInstagram: @officialbenshapiro\\n \\nCheck David Limbaugh out on:\\nTwitter: https://twitter.com/davidlimbaugh',\n",
       " 'video': 0,\n",
       " 'comment': 0,\n",
       " 'reply': 1,\n",
       " 'video_op': 'Ben Shapiro',\n",
       " 'comment_op': 'DomManInT1',\n",
       " 'reply_op': 'Jeh Jeh',\n",
       " 'date_posted': '2018-12-10T12:17:49.000Z',\n",
       " 'content': '2018-12-10T12:17:49.000Z',\n",
       " 'date_scrape': '2018_12_10_07_14_17'}"
      ]
     },
     "execution_count": 143,
     "metadata": {},
     "output_type": "execute_result"
    }
   ],
   "source": [
    "x =  { \"video_id\": video_id, \"video_url\":my_url,\\\n",
    "      \"video_title\":video_title, \\\n",
    "#       \"channel\":channel,\\\n",
    "#      \"series\":series, \\\n",
    "     \"video_snippet\":video_snippet,\\\n",
    "     \"video\":video,\"comment\":comment,\"reply\":reply,\\\n",
    "     \"video_op\":video_op, \"comment_op\":comment_op,\\\n",
    "     \"reply_op\":reply_op,\"date_posted\":reply_date_posted,\\\n",
    "     \"content\":reply_content,\\\n",
    "      \"date_scrape\":date_scrape}\n",
    "x"
   ]
  },
  {
   "cell_type": "code",
   "execution_count": 166,
   "metadata": {},
   "outputs": [
    {
     "data": {
      "text/plain": [
       "{'authorDisplayName': 'Firenze 64',\n",
       " 'authorProfileImageUrl': 'https://yt3.ggpht.com/-KjHNkwHdaoY/AAAAAAAAAAI/AAAAAAAAAAA/N09yThjvOYg/s28-c-k-no-mo-rj-c0xffffff/photo.jpg',\n",
       " 'authorChannelUrl': 'http://www.youtube.com/channel/UCQJLqOsy7dx7cMVHA-vozfA',\n",
       " 'authorChannelId': {'value': 'UCQJLqOsy7dx7cMVHA-vozfA'},\n",
       " 'videoId': 'A1tqTQkC36A',\n",
       " 'textDisplay': 'They weren’t hooray',\n",
       " 'textOriginal': 'They weren’t hooray',\n",
       " 'parentId': 'UgwQTQvknQyoCTRAkUp4AaABAg',\n",
       " 'canRate': True,\n",
       " 'viewerRating': 'none',\n",
       " 'likeCount': 0,\n",
       " 'publishedAt': '2018-11-07T10:50:15.000Z',\n",
       " 'updatedAt': '2018-11-07T10:50:15.000Z'}"
      ]
     },
     "metadata": {},
     "output_type": "display_data"
    },
    {
     "data": {
      "text/plain": [
       "'Firenze 64'"
      ]
     },
     "metadata": {},
     "output_type": "display_data"
    },
    {
     "data": {
      "text/plain": [
       "'They weren’t hooray'"
      ]
     },
     "metadata": {},
     "output_type": "display_data"
    },
    {
     "data": {
      "text/plain": [
       "'jdski 892'"
      ]
     },
     "metadata": {},
     "output_type": "display_data"
    }
   ],
   "source": [
    "display(test['replies']['comments'][0]['snippet'])\n",
    "#author\n",
    "display(test['replies']['comments'][0]['snippet']['authorDisplayName'])\n",
    "#text\n",
    "display(test['replies']['comments'][0]['snippet']['textOriginal'])\n",
    "#replies to\n",
    "\n",
    "display(test['snippet']['topLevelComment']['snippet']['authorDisplayName'])"
   ]
  },
  {
   "cell_type": "code",
   "execution_count": 165,
   "metadata": {},
   "outputs": [
    {
     "data": {
      "text/plain": [
       "'jdski 892'"
      ]
     },
     "metadata": {},
     "output_type": "display_data"
    }
   ],
   "source": []
  },
  {
   "cell_type": "code",
   "execution_count": 131,
   "metadata": {},
   "outputs": [],
   "source": [
    "test = 'dfdf'"
   ]
  },
  {
   "cell_type": "code",
   "execution_count": null,
   "metadata": {},
   "outputs": [],
   "source": [
    "test.s"
   ]
  },
  {
   "cell_type": "code",
   "execution_count": 283,
   "metadata": {},
   "outputs": [],
   "source": [
    "result_comments_few= service.commentThreads().list(\n",
    "    part=\"snippet,replies\",\n",
    "    videoId='mJxcNiyWd8Q',\n",
    "    textFormat=\"plainText\",\n",
    "    maxResults=2\n",
    "  ).execute()"
   ]
  },
  {
   "cell_type": "code",
   "execution_count": 284,
   "metadata": {},
   "outputs": [
    {
     "data": {
      "text/plain": [
       "{'kind': 'youtube#commentThreadListResponse',\n",
       " 'etag': '\"XI7nbFXulYBIpL0ayR_gDh3eu1k/iOw6nirNiAyVoYcvAedB3INpQS8\"',\n",
       " 'pageInfo': {'totalResults': 2, 'resultsPerPage': 2},\n",
       " 'items': [{'kind': 'youtube#commentThread',\n",
       "   'etag': '\"XI7nbFXulYBIpL0ayR_gDh3eu1k/VrmbgIMKDIbsCF73fKshmMornZ8\"',\n",
       "   'id': 'UgwMdxC3HCxeIh70Vmd4AaABAg',\n",
       "   'snippet': {'videoId': 'mJxcNiyWd8Q',\n",
       "    'topLevelComment': {'kind': 'youtube#comment',\n",
       "     'etag': '\"XI7nbFXulYBIpL0ayR_gDh3eu1k/KvRJpKp6V0ULnY3TAbU7Avkn5Ag\"',\n",
       "     'id': 'UgwMdxC3HCxeIh70Vmd4AaABAg',\n",
       "     'snippet': {'authorDisplayName': 'Maribelle Cual',\n",
       "      'authorProfileImageUrl': 'https://yt3.ggpht.com/-P3AC-PdHzw8/AAAAAAAAAAI/AAAAAAAAAAA/EbJl_ea-Mmo/s28-c-k-no-mo-rj-c0xffffff/photo.jpg',\n",
       "      'authorChannelUrl': 'http://www.youtube.com/channel/UCnJrRJehfcW4vSJMI3MtJAA',\n",
       "      'authorChannelId': {'value': 'UCnJrRJehfcW4vSJMI3MtJAA'},\n",
       "      'videoId': 'mJxcNiyWd8Q',\n",
       "      'textDisplay': 'U dont know how to hurt me😭😭',\n",
       "      'textOriginal': 'U dont know how to hurt me😭😭',\n",
       "      'canRate': True,\n",
       "      'viewerRating': 'none',\n",
       "      'likeCount': 0,\n",
       "      'publishedAt': '2018-12-10T10:49:37.000Z',\n",
       "      'updatedAt': '2018-12-10T10:49:37.000Z'}},\n",
       "    'canReply': True,\n",
       "    'totalReplyCount': 0,\n",
       "    'isPublic': True}},\n",
       "  {'kind': 'youtube#commentThread',\n",
       "   'etag': '\"XI7nbFXulYBIpL0ayR_gDh3eu1k/kk35SjLBLDufX88heBcozO_R-QE\"',\n",
       "   'id': 'Ugy8p74MxrNmAuc-bDt4AaABAg',\n",
       "   'snippet': {'videoId': 'mJxcNiyWd8Q',\n",
       "    'topLevelComment': {'kind': 'youtube#comment',\n",
       "     'etag': '\"XI7nbFXulYBIpL0ayR_gDh3eu1k/l1FkJV0HbGh-MV1YXGiDtpFF90A\"',\n",
       "     'id': 'Ugy8p74MxrNmAuc-bDt4AaABAg',\n",
       "     'snippet': {'authorDisplayName': 'Rogelio Suy',\n",
       "      'authorProfileImageUrl': 'https://yt3.ggpht.com/-Qv1MAzjHUUA/AAAAAAAAAAI/AAAAAAAAAAA/y7Lis1LMuts/s28-c-k-no-mo-rj-c0xffffff/photo.jpg',\n",
       "      'authorChannelUrl': 'http://www.youtube.com/channel/UCvjzL0gqxWhvcW1P3HcvSiQ',\n",
       "      'authorChannelId': {'value': 'UCvjzL0gqxWhvcW1P3HcvSiQ'},\n",
       "      'videoId': 'mJxcNiyWd8Q',\n",
       "      'textDisplay': 'Ganda ang mga song\\'s Lalong-lalo na tong \" Ikaw Ang Iibigin Ko\" ....at \"Forevermore\".....',\n",
       "      'textOriginal': 'Ganda ang mga song\\'s Lalong-lalo na tong \" Ikaw Ang Iibigin Ko\" ....at \"Forevermore\".....',\n",
       "      'canRate': True,\n",
       "      'viewerRating': 'none',\n",
       "      'likeCount': 1,\n",
       "      'publishedAt': '2018-12-09T17:01:46.000Z',\n",
       "      'updatedAt': '2018-12-09T17:01:46.000Z'}},\n",
       "    'canReply': True,\n",
       "    'totalReplyCount': 0,\n",
       "    'isPublic': True}}]}"
      ]
     },
     "execution_count": 284,
     "metadata": {},
     "output_type": "execute_result"
    }
   ],
   "source": [
    "result_comments_few"
   ]
  },
  {
   "cell_type": "code",
   "execution_count": 77,
   "metadata": {},
   "outputs": [
    {
     "data": {
      "text/plain": [
       "{'videoId': 'sK7euOOQK-4',\n",
       " 'topLevelComment': {'kind': 'youtube#comment',\n",
       "  'etag': '\"XI7nbFXulYBIpL0ayR_gDh3eu1k/3ZtV8-2TTVaaXlxn8pHyzAYSkpA\"',\n",
       "  'id': 'UgyO1EYSuRR3VoBekHd4AaABAg',\n",
       "  'snippet': {'authorDisplayName': 'The Poser Podcast',\n",
       "   'authorProfileImageUrl': 'https://yt3.ggpht.com/-XksVdHtfb_k/AAAAAAAAAAI/AAAAAAAAAAA/58FRXDO6NMg/s28-c-k-no-mo-rj-c0xffffff/photo.jpg',\n",
       "   'authorChannelUrl': 'http://www.youtube.com/channel/UCNoq4F8Z66onlLtMB6ilCKA',\n",
       "   'authorChannelId': {'value': 'UCNoq4F8Z66onlLtMB6ilCKA'},\n",
       "   'videoId': 'sK7euOOQK-4',\n",
       "   'textDisplay': 'This guy is piss weak',\n",
       "   'textOriginal': 'This guy is piss weak',\n",
       "   'canRate': True,\n",
       "   'viewerRating': 'none',\n",
       "   'likeCount': 0,\n",
       "   'publishedAt': '2018-12-10T05:50:01.000Z',\n",
       "   'updatedAt': '2018-12-10T05:50:01.000Z'}},\n",
       " 'canReply': True,\n",
       " 'totalReplyCount': 0,\n",
       " 'isPublic': True}"
      ]
     },
     "execution_count": 77,
     "metadata": {},
     "output_type": "execute_result"
    }
   ],
   "source": [
    "result_comments['items'][0]['snippet']"
   ]
  },
  {
   "cell_type": "code",
   "execution_count": null,
   "metadata": {},
   "outputs": [],
   "source": [
    "result"
   ]
  },
  {
   "cell_type": "code",
   "execution_count": 113,
   "metadata": {},
   "outputs": [],
   "source": [
    "result_com = service.comments().list(\n",
    "  part=\"snippet\",\n",
    "  parentId='UgwQTQvknQyoCTRAkUp4AaABAg',\n",
    "  textFormat=\"plainText\"\n",
    ").execute()"
   ]
  },
  {
   "cell_type": "code",
   "execution_count": 110,
   "metadata": {},
   "outputs": [
    {
     "data": {
      "text/plain": [
       "{'kind': 'youtube#commentListResponse',\n",
       " 'etag': '\"XI7nbFXulYBIpL0ayR_gDh3eu1k/6nUGxaj7vAVtBKWheQdcDliTN-0\"',\n",
       " 'pageInfo': {'resultsPerPage': 20},\n",
       " 'items': [{'kind': 'youtube#comment',\n",
       "   'etag': '\"XI7nbFXulYBIpL0ayR_gDh3eu1k/29SGnIYALXlm7Z0TrbsHeFx-jzQ\"',\n",
       "   'id': 'UgwQTQvknQyoCTRAkUp4AaABAg.8nK74henT5a8nLaWiger9N',\n",
       "   'snippet': {'authorDisplayName': 'Firenze 64',\n",
       "    'authorProfileImageUrl': 'https://yt3.ggpht.com/-KjHNkwHdaoY/AAAAAAAAAAI/AAAAAAAAAAA/N09yThjvOYg/s28-c-k-no-mo-rj-c0xffffff/photo.jpg',\n",
       "    'authorChannelUrl': 'http://www.youtube.com/channel/UCQJLqOsy7dx7cMVHA-vozfA',\n",
       "    'authorChannelId': {'value': 'UCQJLqOsy7dx7cMVHA-vozfA'},\n",
       "    'textDisplay': 'They weren’t hooray',\n",
       "    'textOriginal': 'They weren’t hooray',\n",
       "    'parentId': 'UgwQTQvknQyoCTRAkUp4AaABAg',\n",
       "    'canRate': True,\n",
       "    'viewerRating': 'none',\n",
       "    'likeCount': 0,\n",
       "    'publishedAt': '2018-11-07T10:50:15.000Z',\n",
       "    'updatedAt': '2018-11-07T10:50:15.000Z'}}]}"
      ]
     },
     "execution_count": 110,
     "metadata": {},
     "output_type": "execute_result"
    }
   ],
   "source": [
    "result_com"
   ]
  },
  {
   "cell_type": "code",
   "execution_count": null,
   "metadata": {},
   "outputs": [],
   "source": [
    "x =  { \"video_id\": video_id, \"video_url\":my_url,\\\n",
    "      \"video_title\":video_title, \"channel\":channel,\\\n",
    "     \"series\":series, \"video_snippet\":description,\\\n",
    "     \"video\":video,\"comment\":comment,\"reply\":reply,\\\n",
    "     \"video_op\":video_op, \"comment_op\":comment_op,\\\n",
    "     \"reply_op\":reply_op,\"date_posted\":date_posted,\\\n",
    "     \"content\":transcript,\"date_scrape\":date_scrape}"
   ]
  }
 ],
 "metadata": {
  "kernelspec": {
   "display_name": "Python 3",
   "language": "python",
   "name": "python3"
  },
  "language_info": {
   "codemirror_mode": {
    "name": "ipython",
    "version": 3
   },
   "file_extension": ".py",
   "mimetype": "text/x-python",
   "name": "python",
   "nbconvert_exporter": "python",
   "pygments_lexer": "ipython3",
   "version": "3.7.0"
  }
 },
 "nbformat": 4,
 "nbformat_minor": 2
}
