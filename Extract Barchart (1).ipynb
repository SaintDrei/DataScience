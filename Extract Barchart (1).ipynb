{
 "cells": [
  {
   "cell_type": "code",
   "execution_count": 1,
   "metadata": {},
   "outputs": [
    {
     "name": "stderr",
     "output_type": "stream",
     "text": [
      "/home/mirroraidev/anaconda3/lib/python3.7/site-packages/weasyprint/document.py:34: UserWarning: There are known rendering problems and missing features with cairo < 1.15.4. WeasyPrint may work with older versions, but please read the note about the needed cairo version on the \"Install\" page of the documentation before reporting bugs. http://weasyprint.readthedocs.io/en/latest/install.html\n",
      "  'There are known rendering problems and missing features with '\n"
     ]
    }
   ],
   "source": [
    "from selenium import webdriver\n",
    "from selenium.webdriver.common.by import By\n",
    "from selenium.webdriver.support.ui import WebDriverWait\n",
    "from selenium.webdriver.support import expected_conditions as EC\n",
    "from selenium.webdriver.common.keys import Keys\n",
    "from selenium.webdriver.support.ui import Select\n",
    "from selenium.webdriver.common.action_chains import ActionChains\n",
    "import re, json ,pprint\n",
    "from bs4 import BeautifulSoup\n",
    "import pandas as pd\n",
    "import urllib\n",
    "import urllib.request\n",
    "from selenium.webdriver.common.keys import Keys\n",
    "from IPython.display import Image\n",
    "from urllib.parse import urlparse\n",
    "from time import sleep\n",
    "import datetime\n",
    "import pytz # new import\n",
    "import csv\n",
    "\n",
    "from dateparser.search import search_dates\n",
    "import arrow\n",
    "import datetime\n",
    "from dateutil.parser import parse\n",
    "import weasyprint "
   ]
  },
  {
   "cell_type": "code",
   "execution_count": 22,
   "metadata": {},
   "outputs": [],
   "source": [
    "def get_capture_timestamp():\n",
    "    return datetime.datetime.now()\n",
    "def get_capture_date(timestamp):\n",
    "    return timestamp.strftime(\"%a %b %d, %Y\")\n",
    "def get_capture_time(timestamp,timezone=pytz.UTC):\n",
    "    return timestamp.astimezone(pytz.UTC).strftime(\"%H:%M:%S %Z\")\n",
    "def get_capture_time_filename(timestamp,timezone=pytz.UTC):\n",
    "    return timestamp.astimezone(pytz.UTC).strftime(\"%Y-%m-%d_%H-%M-%S-%Z\")\n",
    "\n",
    "def extract_last(webdriver):\n",
    "    iv = webdriver.find_element_by_class_name(name='pricechangerow')\n",
    "    return iv.find_element_by_xpath(\"//span[@class='last-change']\").text\n",
    "\n",
    "def extract_days_to_expiration(webdriver):\n",
    "    dt_expiration = webdriver.find_element_by_class_name(name='bc-options-toolbar__second-row')\n",
    "    a = dt_expiration.find_element_by_xpath(\"//strong[contains(text(), 'Days')]\")\n",
    "    \n",
    "    out = re.match(string=a.text,pattern='^([0-9]+)')\n",
    "    return out.group(1)\n",
    "\n",
    "def screenshot_page(webdriver,output_file='out.pdf'):\n",
    "    page = webdriver.page_source\n",
    "    weasyprint.HTML(file_obj=page).write_pdf(output_file)\n",
    "    \n",
    "def load_site(driver_path='./chromedriver',input_url= 'https://www.barchart.com/futures/quotes/ZW*0/options?futuresOptionsView=split'):\n",
    "    options = webdriver.ChromeOptions()\n",
    "    options.add_argument('headless')   \n",
    "    driver = webdriver.Chrome(driver_path,options=options)\n",
    "    driver.implicitly_wait(10)    \n",
    "    driver.get(input_url)\n",
    "    sleep(1)\n",
    "    return driver\n",
    "\n",
    "def extract_left_strike(webdriver):\n",
    "    lp_left = webdriver.find_elements_by_xpath(\"//td[@class='lastPrice_left']\")\n",
    "    strike_price = webdriver.find_elements_by_xpath(\"//td[@class='strikePrice']\")\n",
    "    lp_right = webdriver.find_elements_by_xpath(\"//td[@class='lastPrice_right']\")\n",
    "    out_list = []\n",
    "    for i in range(len(lp_left)):\n",
    "        out_list.append([lp_left[i].text,strike_price[i].text,lp_right[i].text])\n",
    "    return out_list\n",
    "def extract_iv(webdriver):\n",
    "    iv = webdriver.find_element_by_class_name(name='bc-options-toolbar__second-row')\n",
    "    a = iv.find_element_by_xpath(\"//div[contains(text(), 'Implied Volatility')]/strong\")\n",
    "    return a.text\n",
    "\n",
    "def extract_barchart_site(input_url='https://www.barchart.com/futures/quotes/ZW*0/options?futuresOptionsView=split'\\\n",
    "                         ,name='wheat',write_option='a'):\n",
    "    capture_timestamp = get_capture_timestamp()\n",
    "    capture_date = get_capture_date(timestamp=capture_timestamp)\n",
    "    capture_time = get_capture_time(timestamp=capture_timestamp)\n",
    "    capture_stamp = get_capture_time_filename(timestamp=capture_timestamp)    \n",
    "    driver = load_site(input_url=input_url)\n",
    "    output_file = name + \".csv\"    \n",
    "    test_out = extract_left_strike(webdriver=driver)\n",
    "    with open(output_file, write_option) as csvfile:\n",
    "        writer = csv.writer(csvfile,delimiter=',',quotechar='\"',quoting=csv.QUOTE_NONNUMERIC)\n",
    "        writer.writerow([\"Date\",capture_date])\n",
    "        writer.writerow([\"Last\",extract_last(webdriver=driver)])\n",
    "        writer.writerow([\"Days to expiration\",extract_days_to_expiration(webdriver=driver)])\n",
    "        writer.writerow([\"IV\",extract_iv(webdriver=driver)])\n",
    "        writer.writerow([\"Time\",capture_time])\n",
    "        writer.writerow([])\n",
    "        writer.writerow([\"Last\",\"Strike\",\"Last\"])\n",
    "        for i in test_out:\n",
    "            if(i[0]=='Last'):\n",
    "                continue\n",
    "            writer.writerow(i)\n",
    "            \n",
    "        writer.writerow([])\n",
    "        screenshot_page(webdriver=driver,output_file=name+'_'+capture_stamp+'.pdf')\n"
   ]
  },
  {
   "cell_type": "code",
   "execution_count": 24,
   "metadata": {},
   "outputs": [],
   "source": [
    "# extract_barchart_site(write_option='w')\n",
    "extract_barchart_site(write_option='a')"
   ]
  },
  {
   "cell_type": "code",
   "execution_count": 26,
   "metadata": {},
   "outputs": [],
   "source": [
    "import importlib\n",
    "from importlib.machinery import SourceFileLoader"
   ]
  },
  {
   "cell_type": "code",
   "execution_count": 27,
   "metadata": {},
   "outputs": [],
   "source": [
    "foo = SourceFileLoader(\"module.name\", \"./barchart_extraction.py\").load_module()\n"
   ]
  },
  {
   "cell_type": "code",
   "execution_count": 28,
   "metadata": {},
   "outputs": [],
   "source": [
    "import importlib.util\n",
    "spec = importlib.util.spec_from_file_location(\"module.name\",  \"./barchart_extraction.py\")\n",
    "foo = importlib.util.module_from_spec(spec)\n",
    "# spec.loader.exec_module(foo)\n",
    "# foo.MyClass()"
   ]
  },
  {
   "cell_type": "code",
   "execution_count": null,
   "metadata": {},
   "outputs": [],
   "source": [
    "spec.submodule_search_locations"
   ]
  }
 ],
 "metadata": {
  "kernelspec": {
   "display_name": "Python 3",
   "language": "python",
   "name": "python3"
  },
  "language_info": {
   "codemirror_mode": {
    "name": "ipython",
    "version": 3
   },
   "file_extension": ".py",
   "mimetype": "text/x-python",
   "name": "python",
   "nbconvert_exporter": "python",
   "pygments_lexer": "ipython3",
   "version": "3.7.0"
  },
  "widgets": {
   "state": {},
   "version": "1.1.2"
  }
 },
 "nbformat": 4,
 "nbformat_minor": 2
}
