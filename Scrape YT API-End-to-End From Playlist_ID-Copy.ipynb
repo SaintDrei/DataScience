{
 "cells": [
  {
   "cell_type": "code",
   "execution_count": 36,
   "metadata": {},
   "outputs": [],
   "source": [
    "# Sample Python code for user authorization\n",
    "import os\n",
    "import google.oauth2.credentials\n",
    "from googleapiclient.discovery import build\n",
    "from googleapiclient.errors import HttpError\n",
    "from google_auth_oauthlib.flow import InstalledAppFlow\n",
    "from selenium import webdriver\n",
    "from selenium.webdriver.common.by import By\n",
    "from selenium.webdriver.support.ui import WebDriverWait\n",
    "from selenium.webdriver.support import expected_conditions as EC\n",
    "from selenium.webdriver.common.keys import Keys\n",
    "from selenium.webdriver.support.ui import Select\n",
    "from selenium.webdriver.common.action_chains import ActionChains\n",
    "import requests, re, json ,pprint\n",
    "from bs4 import BeautifulSoup\n",
    "import pandas as pd\n",
    "import urllib\n",
    "import urllib.request\n",
    "from selenium.webdriver.common.keys import Keys\n",
    "from IPython.display import Image\n",
    "from urllib.parse import urlparse\n",
    "from time import sleep\n",
    "import datetime\n",
    "import pytz # new import\n",
    "new_timezone = pytz.timezone(\"US/Eastern\")\n",
    "import spacy\n",
    "import en_core_web_sm\n",
    "import en_core_web_lg\n",
    "import en_vectors_web_lg\n",
    "import en_core_web_md\n",
    "\n",
    "from dateparser.search import search_dates\n",
    "import arrow\n",
    "import datetime\n",
    "import dateutil.parser\n",
    "import csv\n"
   ]
  },
  {
   "cell_type": "code",
   "execution_count": 37,
   "metadata": {},
   "outputs": [],
   "source": [
    "# The CLIENT_SECRETS_FILE variable specifies the name of a file that contains\n",
    "# the OAuth 2.0 information for this application, including its client_id and\n",
    "# client_secret.\n",
    "CLIENT_SECRETS_FILE = \"client_secret2.json\"\n",
    "\n",
    "# This OAuth 2.0 access scope allows for full read/write access to the\n",
    "# authenticated user's account and requires requests to use an SSL connection.\n",
    "SCOPES = ['https://www.googleapis.com/auth/youtube.force-ssl']\n",
    "API_SERVICE_NAME = 'youtube'\n",
    "API_VERSION = 'v3'\n",
    "\n",
    "def get_authenticated_service():\n",
    "    flow = InstalledAppFlow.from_client_secrets_file(CLIENT_SECRETS_FILE, SCOPES)\n",
    "    credentials = flow.run_console()\n",
    "    return build(API_SERVICE_NAME, API_VERSION, credentials = credentials)"
   ]
  },
  {
   "cell_type": "code",
   "execution_count": 38,
   "metadata": {},
   "outputs": [
    {
     "name": "stdout",
     "output_type": "stream",
     "text": [
      "Please visit this URL to authorize this application: https://accounts.google.com/o/oauth2/auth?response_type=code&client_id=802025607717-0mj0rii4j0s7hiki3b34n7t8iue1amkg.apps.googleusercontent.com&redirect_uri=urn%3Aietf%3Awg%3Aoauth%3A2.0%3Aoob&scope=https%3A%2F%2Fwww.googleapis.com%2Fauth%2Fyoutube.force-ssl&state=mUephZ5F881Z6GtfCJu0hDC3eJHdgk&prompt=consent&access_type=offline\n",
      "Enter the authorization code: 4/5QDDcFEkr7Dm1-vPlrqT4AFFhnvdUotZAnHP-DqeTzmkXr_9ifR7ZAg\n"
     ]
    }
   ],
   "source": [
    "os.environ['OAUTHLIB_INSECURE_TRANSPORT'] = '1'\n",
    "service = get_authenticated_service()"
   ]
  },
  {
   "cell_type": "markdown",
   "metadata": {},
   "source": [
    "## Initialize Variables from Codebook"
   ]
  },
  {
   "cell_type": "code",
   "execution_count": 39,
   "metadata": {},
   "outputs": [],
   "source": [
    "# Get the channel title from pdf on the column \"Channel Name\"\n",
    "channel_title='BuzzFeedVideo'\n",
    "influencer_name='Try Guys'"
   ]
  },
  {
   "cell_type": "code",
   "execution_count": 40,
   "metadata": {},
   "outputs": [],
   "source": [
    "# Get the series title from pdf on the column \"Series Name\"\n",
    "series = ''    "
   ]
  },
  {
   "cell_type": "code",
   "execution_count": 66,
   "metadata": {},
   "outputs": [],
   "source": [
    "# Input the filename \n",
    "#csv_output = \"batch86_sellner.csv\"\n",
    "# batch38_paulwatson.csv\n",
    "csv_output = \"tryguys_pants.csv\""
   ]
  },
  {
   "cell_type": "code",
   "execution_count": 49,
   "metadata": {},
   "outputs": [],
   "source": [
    "playlist_id = 'PLCrHLhC-zBIoWPh3HgoZwoDdqYWluSA0Z'"
   ]
  },
  {
   "cell_type": "markdown",
   "metadata": {},
   "source": [
    "## Get Channel Playlists"
   ]
  },
  {
   "cell_type": "code",
   "execution_count": 50,
   "metadata": {},
   "outputs": [],
   "source": [
    "# channel_title='The Daily Wire'"
   ]
  },
  {
   "cell_type": "code",
   "execution_count": 51,
   "metadata": {},
   "outputs": [],
   "source": [
    "# result = service.search().list(\\\n",
    "# q=channel_title,part='snippet',\n",
    "# maxResults=5).execute()\n"
   ]
  },
  {
   "cell_type": "code",
   "execution_count": 52,
   "metadata": {},
   "outputs": [],
   "source": [
    "def get_channel_id (channel_title='The Daily Wire'):\n",
    "    result = service.search().list(\n",
    "        q=channel_title,part='snippet',\n",
    "        maxResults=5).execute()\n",
    "    for res in result['items']:\n",
    "        if(res['snippet']['title']==channel_title):\n",
    "            print(res['id']['channelId'])\n",
    "            channel_id = res['id']['channelId'] \n",
    "            break\n",
    "    return channel_id\n",
    "    "
   ]
  },
  {
   "cell_type": "code",
   "execution_count": 53,
   "metadata": {},
   "outputs": [],
   "source": [
    "def transform_date(input_date_str,new_timezone=new_timezone):\n",
    "    video_date_posted_iso = dateutil.parser.parse(input_date_str).astimezone(new_timezone)\n",
    "    video_date_posted = video_date_posted_iso.strftime(\"%Y_%m_%d_%H_%M_%S\")\n",
    "    return video_date_posted,video_date_posted_iso\n",
    "def transform_date_custom(input_date_str,new_timezone=new_timezone):\n",
    "    video_date_posted_iso = dateutil.parser.parse(input_date_str).astimezone(new_timezone)\n",
    "    video_date_posted = video_date_posted_iso.strftime(\"%Y_%m_%d_%H_%M_%S\")\n",
    "    return video_date_posted\n",
    "def transform_date_iso(input_date_str,new_timezone=new_timezone):\n",
    "    video_date_posted_iso = dateutil.parser.parse(input_date_str).astimezone(new_timezone)\n",
    "    return video_date_posted_iso"
   ]
  },
  {
   "cell_type": "code",
   "execution_count": 54,
   "metadata": {},
   "outputs": [],
   "source": [
    "def set_flags (flag):\n",
    "    video=0\n",
    "    comment=0\n",
    "    reply=0\n",
    "    if flag=='video':\n",
    "        video=1\n",
    "    elif flag=='comment':\n",
    "        comment=1\n",
    "    elif flag=='reply':\n",
    "        reply=1\n",
    "    return video,comment,reply"
   ]
  },
  {
   "cell_type": "markdown",
   "metadata": {},
   "source": [
    "## End-to-end Playlist to Comments"
   ]
  },
  {
   "cell_type": "code",
   "execution_count": 67,
   "metadata": {
    "scrolled": true
   },
   "outputs": [
    {
     "data": {
      "text/plain": [
       "'The Try Guys Wear Women’s Pants (feat. Safiya Nygaard)'"
      ]
     },
     "metadata": {},
     "output_type": "display_data"
    },
    {
     "data": {
      "text/plain": [
       "0"
      ]
     },
     "metadata": {},
     "output_type": "display_data"
    }
   ],
   "source": [
    "comment_op=''\n",
    "reply_op=''\n",
    "transcript=''\n",
    "date_scrape = datetime.datetime.now(new_timezone).strftime(\"%Y_%m_%d_%H_%M_%S\")       \n",
    "cutoff_date = datetime.datetime(2018, 12, 2, 0, 0, 0, tzinfo=new_timezone)\n",
    "nextPageToken=''\n",
    "max_results=50\n",
    "# csv_output = 'batch3_warski.csv'\n",
    "#  delimiter=',', quotechar='\"', quoting=csv.QUOTE_ALL)\n",
    "with open(csv_output, 'w', newline='') as csvfile:\n",
    "    fieldnames = ['index', 'video_id','video_url',\n",
    "                 'video_title',\"channel\",'series','video_snippet',\n",
    "                 'video','comment','reply','video_op',\n",
    "                 'comment_op','reply_op','date_posted',\n",
    "                 'content','date_scrape']\n",
    "    writer = csv.DictWriter(csvfile, fieldnames=fieldnames,\n",
    "            delimiter=',', quotechar='\"', quoting=csv.QUOTE_ALL)\n",
    "    writer.writeheader()\n",
    "#     for i in range(int(video_count/max_results) +1):\n",
    "    while True:\n",
    "        sleep(1)\n",
    "        try:\n",
    "            result_vids = service.playlistItems().list(\n",
    "                playlistId=playlist_id,part='snippet,contentDetails',\n",
    "                maxResults=max_results,pageToken=nextPageToken).execute()\n",
    "        except:\n",
    "            break\n",
    "        for result_item in result_vids['items'] :\n",
    "            try:    \n",
    "                video_date_posted = result_item['contentDetails']['videoPublishedAt']\n",
    "            except:\n",
    "                video_date_posted = result_item['snippet']['publishedAt']\n",
    "\n",
    "            video_date_posted_iso = dateutil.parser.parse(video_date_posted).astimezone(new_timezone)\n",
    "            if(cutoff_date<video_date_posted_iso):\n",
    "                continue\n",
    "            video_date_posted = transform_date_custom(video_date_posted)\n",
    "            video_id = result_item['contentDetails']['videoId']\n",
    "            #     video_index = \n",
    "            video_index = result_item['snippet']['position']\n",
    "            video_title = result_item['snippet']['title']\n",
    "            video_snippet = result_item['snippet']['description']    \n",
    "            video_op =result_item['snippet']['channelTitle']\n",
    "            my_url='https://www.youtube.com/watch?v=%s' %(video_id)\n",
    "#             vid_idx=i*max_results + int(video_index)\n",
    "            display(video_title,video_index)\n",
    "            \n",
    "            video,comment,reply=set_flags(flag='video')\n",
    "            x =  { \"index\": video_id,\"video_id\": video_id, \"video_url\":my_url,\n",
    "                \"video_title\":video_title, \"channel\":channel_title,\n",
    "                \"series\":series, \"video_snippet\":video_snippet,\n",
    "                \"video\":video,\"comment\":comment,\"reply\":reply,\n",
    "                \"video_op\":influencer_name, \"comment_op\":comment_op,\n",
    "                \"reply_op\":reply_op,\"date_posted\":video_date_posted,\n",
    "                \"content\":transcript,\"date_scrape\":date_scrape}   \n",
    "            writer.writerow(x)\n",
    "            \n",
    "# START COMMENT EXTRACTION\n",
    "            comment_nextPageToken = ''\n",
    "            while True:\n",
    "                try:\n",
    "                    result_comments= service.commentThreads().list(\n",
    "                        part=\"snippet,replies\",\n",
    "                        videoId=video_id,\n",
    "                        textFormat=\"plainText\",\n",
    "                        maxResults=100,\n",
    "                        pageToken = comment_nextPageToken\n",
    "                      ).execute()\n",
    "                except:\n",
    "                    break\n",
    "                    \n",
    "                for comment_ind in result_comments['items']:\n",
    "                    try:\n",
    "                        reply_op=''\n",
    "                        comment_op = comment_ind['snippet']['topLevelComment']['snippet']['authorDisplayName']\n",
    "    #                     display(comment_op)\n",
    "                        comment_date_posted = comment_ind['snippet']['topLevelComment']['snippet']['publishedAt']\n",
    "                    #     display(comment_ind['snippet']['topLevelComment']['snippet']['publishedAt'])\n",
    "                        comment_date_posted=transform_date_custom(comment_date_posted)\n",
    "                        comment_index = comment_ind['snippet']['topLevelComment']['id']\n",
    "                        comment_content = comment_ind['snippet']['topLevelComment']['snippet']['textOriginal']\n",
    "                        video,comment,reply=set_flags(flag='comment')\n",
    "                #         x =  { \"video_id\": video_id, \n",
    "                #             \"video\":video,\"comment\":comment,\"reply\":reply,\n",
    "                #             \"comment_op\":comment_op,\n",
    "                #             \"reply_op\":reply_op,\"date_posted\":comment_date_posted,\n",
    "                #             \"content\":comment_content,\"date_scrape\":date_scrape}  \n",
    "                        x =  { \"index\": comment_index,\"video_id\": video_id, \"video_url\":my_url,\n",
    "                            \"video_title\":video_title, \"channel\":channel_title,\n",
    "                            \"series\":series, \"video_snippet\":video_snippet,\n",
    "                            \"video\":video,\"comment\":comment,\"reply\":reply,\n",
    "                            \"video_op\":influencer_name,\"comment_op\":comment_op,\n",
    "                            \"reply_op\":reply_op,\"date_posted\":comment_date_posted,\n",
    "                            \"content\":comment_content,\"date_scrape\":date_scrape}          \n",
    "\n",
    "                        writer.writerow(x)      \n",
    "\n",
    "                    except:\n",
    "                        continue\n",
    "                    if comment_ind['snippet']['totalReplyCount']>0:\n",
    "#                         display('True')\n",
    "#                         display(comment_ind['snippet']['totalReplyCount'])\n",
    "                        try:\n",
    "                            for reply_result in comment_ind['replies']['comments']:\n",
    "                                reply_index=reply_result['id']\n",
    "                                reply_op = reply_result['snippet']['authorDisplayName']\n",
    "                                reply_content = reply_result['snippet']['textOriginal']\n",
    "                                reply_date_posted = transform_date_custom(reply_result['snippet']['publishedAt'])\n",
    "                                video,comment,reply=set_flags(flag='reply')\n",
    "                #                 x =  { \"video_id\": video_id, \n",
    "                #                     \"video\":video,\"comment\":comment,\"reply\":reply,\n",
    "                #                     \"comment_op\":comment_op,\n",
    "                #                     \"reply_op\":reply_op,\"date_posted\":reply_date_posted,\n",
    "                #                     \"content\":reply_content,\"date_scrape\":date_scrape}  \n",
    "                #                 display(x)   \n",
    "                                x =  {\"index\": reply_index,\"video_id\": video_id, \"video_url\":my_url,\n",
    "                                    \"video_title\":video_title, \"channel\":channel_title,\n",
    "                                    \"series\":series, \"video_snippet\":video_snippet,\n",
    "                                    \"video\":video,\"comment\":comment,\"reply\":reply,\n",
    "                                    \"video_op\":influencer_name, \"comment_op\":comment_op,\n",
    "                                    \"reply_op\":reply_op,\"date_posted\":reply_date_posted,\n",
    "                                    \"content\":reply_content,\"date_scrape\":date_scrape} \n",
    "                                writer.writerow(x)      \n",
    "                        except:\n",
    "                            pass\n",
    "\n",
    "                try:\n",
    "                    comment_nextPageToken = result_comments['nextPageToken']\n",
    "                except:\n",
    "                    break\n",
    "            \n",
    "        try:\n",
    "            nextPageToken = result_vids['nextPageToken']\n",
    "            \n",
    "        except:\n",
    "            break\n",
    "            print('no more vids')"
   ]
  },
  {
   "cell_type": "code",
   "execution_count": null,
   "metadata": {},
   "outputs": [],
   "source": []
  }
 ],
 "metadata": {
  "kernelspec": {
   "display_name": "Python 3",
   "language": "python",
   "name": "python3"
  },
  "language_info": {
   "codemirror_mode": {
    "name": "ipython",
    "version": 3
   },
   "file_extension": ".py",
   "mimetype": "text/x-python",
   "name": "python",
   "nbconvert_exporter": "python",
   "pygments_lexer": "ipython3",
   "version": "3.7.0"
  }
 },
 "nbformat": 4,
 "nbformat_minor": 2
}
